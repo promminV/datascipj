{
 "cells": [
  {
   "cell_type": "code",
   "execution_count": 1,
   "id": "4f4b008f",
   "metadata": {
    "_cell_guid": "b1076dfc-b9ad-4769-8c92-a6c4dae69d19",
    "_uuid": "8f2839f25d086af736a60e9eeb907d3b93b6e0e5",
    "execution": {
     "iopub.execute_input": "2024-08-01T09:19:50.837493Z",
     "iopub.status.busy": "2024-08-01T09:19:50.837015Z",
     "iopub.status.idle": "2024-08-01T09:19:51.957920Z",
     "shell.execute_reply": "2024-08-01T09:19:51.956612Z"
    },
    "papermill": {
     "duration": 1.156418,
     "end_time": "2024-08-01T09:19:51.960830",
     "exception": false,
     "start_time": "2024-08-01T09:19:50.804412",
     "status": "completed"
    },
    "tags": []
   },
   "outputs": [
    {
     "name": "stdout",
     "output_type": "stream",
     "text": [
      "/kaggle/input/digit-recognizer/sample_submission.csv\n",
      "/kaggle/input/digit-recognizer/train.csv\n",
      "/kaggle/input/digit-recognizer/test.csv\n"
     ]
    }
   ],
   "source": [
    "# This Python 3 environment comes with many helpful analytics libraries installed\n",
    "# It is defined by the kaggle/python Docker image: https://github.com/kaggle/docker-python\n",
    "# For example, here's several helpful packages to load\n",
    "\n",
    "import numpy as np # linear algebra\n",
    "import pandas as pd # data processing, CSV file I/O (e.g. pd.read_csv)\n",
    "\n",
    "# Input data files are available in the read-only \"../input/\" directory\n",
    "# For example, running this (by clicking run or pressing Shift+Enter) will list all files under the input directory\n",
    "\n",
    "import os\n",
    "for dirname, _, filenames in os.walk('/kaggle/input'):\n",
    "    for filename in filenames:\n",
    "        print(os.path.join(dirname, filename))\n",
    "\n",
    "# You can write up to 20GB to the current directory (/kaggle/working/) that gets preserved as output when you create a version using \"Save & Run All\" \n",
    "# You can also write temporary files to /kaggle/temp/, but they won't be saved outside of the current session"
   ]
  },
  {
   "cell_type": "code",
   "execution_count": 2,
   "id": "e9282c52",
   "metadata": {
    "execution": {
     "iopub.execute_input": "2024-08-01T09:19:52.023021Z",
     "iopub.status.busy": "2024-08-01T09:19:52.022474Z",
     "iopub.status.idle": "2024-08-01T09:19:54.092869Z",
     "shell.execute_reply": "2024-08-01T09:19:54.091757Z"
    },
    "papermill": {
     "duration": 2.103832,
     "end_time": "2024-08-01T09:19:54.095752",
     "exception": false,
     "start_time": "2024-08-01T09:19:51.991920",
     "status": "completed"
    },
    "tags": []
   },
   "outputs": [],
   "source": [
    "from warnings import simplefilter\n",
    "from sklearn.exceptions import ConvergenceWarning\n",
    "simplefilter(\"ignore\", category=ConvergenceWarning)\n",
    "\n",
    "from sklearn.linear_model import SGDClassifier\n",
    "from sklearn.ensemble import RandomForestClassifier\n",
    "from sklearn.linear_model import LogisticRegression\n",
    "from sklearn.dummy import DummyClassifier\n",
    "from sklearn.svm import SVC\n",
    "\n",
    "\n",
    "from sklearn.model_selection import cross_val_score\n",
    "from sklearn.model_selection import cross_val_predict\n",
    "from sklearn.metrics import confusion_matrix\n",
    "from sklearn.metrics import ConfusionMatrixDisplay\n",
    "from sklearn.metrics import precision_score, recall_score, f1_score\n",
    "\n",
    "from sklearn.preprocessing import StandardScaler\n",
    "\n"
   ]
  },
  {
   "cell_type": "code",
   "execution_count": 3,
   "id": "9f90e5a4",
   "metadata": {
    "execution": {
     "iopub.execute_input": "2024-08-01T09:19:54.158283Z",
     "iopub.status.busy": "2024-08-01T09:19:54.157870Z",
     "iopub.status.idle": "2024-08-01T09:19:58.510813Z",
     "shell.execute_reply": "2024-08-01T09:19:58.509702Z"
    },
    "papermill": {
     "duration": 4.388468,
     "end_time": "2024-08-01T09:19:58.513776",
     "exception": false,
     "start_time": "2024-08-01T09:19:54.125308",
     "status": "completed"
    },
    "tags": []
   },
   "outputs": [],
   "source": [
    "train = pd.read_csv('/kaggle/input/digit-recognizer/train.csv')"
   ]
  },
  {
   "cell_type": "code",
   "execution_count": 4,
   "id": "7c80dca0",
   "metadata": {
    "execution": {
     "iopub.execute_input": "2024-08-01T09:19:58.574343Z",
     "iopub.status.busy": "2024-08-01T09:19:58.573951Z",
     "iopub.status.idle": "2024-08-01T09:19:58.608201Z",
     "shell.execute_reply": "2024-08-01T09:19:58.606739Z"
    },
    "papermill": {
     "duration": 0.067292,
     "end_time": "2024-08-01T09:19:58.610879",
     "exception": false,
     "start_time": "2024-08-01T09:19:58.543587",
     "status": "completed"
    },
    "tags": []
   },
   "outputs": [
    {
     "data": {
      "text/html": [
       "<div>\n",
       "<style scoped>\n",
       "    .dataframe tbody tr th:only-of-type {\n",
       "        vertical-align: middle;\n",
       "    }\n",
       "\n",
       "    .dataframe tbody tr th {\n",
       "        vertical-align: top;\n",
       "    }\n",
       "\n",
       "    .dataframe thead th {\n",
       "        text-align: right;\n",
       "    }\n",
       "</style>\n",
       "<table border=\"1\" class=\"dataframe\">\n",
       "  <thead>\n",
       "    <tr style=\"text-align: right;\">\n",
       "      <th></th>\n",
       "      <th>label</th>\n",
       "      <th>pixel0</th>\n",
       "      <th>pixel1</th>\n",
       "      <th>pixel2</th>\n",
       "      <th>pixel3</th>\n",
       "      <th>pixel4</th>\n",
       "      <th>pixel5</th>\n",
       "      <th>pixel6</th>\n",
       "      <th>pixel7</th>\n",
       "      <th>pixel8</th>\n",
       "      <th>...</th>\n",
       "      <th>pixel774</th>\n",
       "      <th>pixel775</th>\n",
       "      <th>pixel776</th>\n",
       "      <th>pixel777</th>\n",
       "      <th>pixel778</th>\n",
       "      <th>pixel779</th>\n",
       "      <th>pixel780</th>\n",
       "      <th>pixel781</th>\n",
       "      <th>pixel782</th>\n",
       "      <th>pixel783</th>\n",
       "    </tr>\n",
       "  </thead>\n",
       "  <tbody>\n",
       "    <tr>\n",
       "      <th>0</th>\n",
       "      <td>1</td>\n",
       "      <td>0</td>\n",
       "      <td>0</td>\n",
       "      <td>0</td>\n",
       "      <td>0</td>\n",
       "      <td>0</td>\n",
       "      <td>0</td>\n",
       "      <td>0</td>\n",
       "      <td>0</td>\n",
       "      <td>0</td>\n",
       "      <td>...</td>\n",
       "      <td>0</td>\n",
       "      <td>0</td>\n",
       "      <td>0</td>\n",
       "      <td>0</td>\n",
       "      <td>0</td>\n",
       "      <td>0</td>\n",
       "      <td>0</td>\n",
       "      <td>0</td>\n",
       "      <td>0</td>\n",
       "      <td>0</td>\n",
       "    </tr>\n",
       "    <tr>\n",
       "      <th>1</th>\n",
       "      <td>0</td>\n",
       "      <td>0</td>\n",
       "      <td>0</td>\n",
       "      <td>0</td>\n",
       "      <td>0</td>\n",
       "      <td>0</td>\n",
       "      <td>0</td>\n",
       "      <td>0</td>\n",
       "      <td>0</td>\n",
       "      <td>0</td>\n",
       "      <td>...</td>\n",
       "      <td>0</td>\n",
       "      <td>0</td>\n",
       "      <td>0</td>\n",
       "      <td>0</td>\n",
       "      <td>0</td>\n",
       "      <td>0</td>\n",
       "      <td>0</td>\n",
       "      <td>0</td>\n",
       "      <td>0</td>\n",
       "      <td>0</td>\n",
       "    </tr>\n",
       "    <tr>\n",
       "      <th>2</th>\n",
       "      <td>1</td>\n",
       "      <td>0</td>\n",
       "      <td>0</td>\n",
       "      <td>0</td>\n",
       "      <td>0</td>\n",
       "      <td>0</td>\n",
       "      <td>0</td>\n",
       "      <td>0</td>\n",
       "      <td>0</td>\n",
       "      <td>0</td>\n",
       "      <td>...</td>\n",
       "      <td>0</td>\n",
       "      <td>0</td>\n",
       "      <td>0</td>\n",
       "      <td>0</td>\n",
       "      <td>0</td>\n",
       "      <td>0</td>\n",
       "      <td>0</td>\n",
       "      <td>0</td>\n",
       "      <td>0</td>\n",
       "      <td>0</td>\n",
       "    </tr>\n",
       "    <tr>\n",
       "      <th>3</th>\n",
       "      <td>4</td>\n",
       "      <td>0</td>\n",
       "      <td>0</td>\n",
       "      <td>0</td>\n",
       "      <td>0</td>\n",
       "      <td>0</td>\n",
       "      <td>0</td>\n",
       "      <td>0</td>\n",
       "      <td>0</td>\n",
       "      <td>0</td>\n",
       "      <td>...</td>\n",
       "      <td>0</td>\n",
       "      <td>0</td>\n",
       "      <td>0</td>\n",
       "      <td>0</td>\n",
       "      <td>0</td>\n",
       "      <td>0</td>\n",
       "      <td>0</td>\n",
       "      <td>0</td>\n",
       "      <td>0</td>\n",
       "      <td>0</td>\n",
       "    </tr>\n",
       "    <tr>\n",
       "      <th>4</th>\n",
       "      <td>0</td>\n",
       "      <td>0</td>\n",
       "      <td>0</td>\n",
       "      <td>0</td>\n",
       "      <td>0</td>\n",
       "      <td>0</td>\n",
       "      <td>0</td>\n",
       "      <td>0</td>\n",
       "      <td>0</td>\n",
       "      <td>0</td>\n",
       "      <td>...</td>\n",
       "      <td>0</td>\n",
       "      <td>0</td>\n",
       "      <td>0</td>\n",
       "      <td>0</td>\n",
       "      <td>0</td>\n",
       "      <td>0</td>\n",
       "      <td>0</td>\n",
       "      <td>0</td>\n",
       "      <td>0</td>\n",
       "      <td>0</td>\n",
       "    </tr>\n",
       "  </tbody>\n",
       "</table>\n",
       "<p>5 rows × 785 columns</p>\n",
       "</div>"
      ],
      "text/plain": [
       "   label  pixel0  pixel1  pixel2  pixel3  pixel4  pixel5  pixel6  pixel7  \\\n",
       "0      1       0       0       0       0       0       0       0       0   \n",
       "1      0       0       0       0       0       0       0       0       0   \n",
       "2      1       0       0       0       0       0       0       0       0   \n",
       "3      4       0       0       0       0       0       0       0       0   \n",
       "4      0       0       0       0       0       0       0       0       0   \n",
       "\n",
       "   pixel8  ...  pixel774  pixel775  pixel776  pixel777  pixel778  pixel779  \\\n",
       "0       0  ...         0         0         0         0         0         0   \n",
       "1       0  ...         0         0         0         0         0         0   \n",
       "2       0  ...         0         0         0         0         0         0   \n",
       "3       0  ...         0         0         0         0         0         0   \n",
       "4       0  ...         0         0         0         0         0         0   \n",
       "\n",
       "   pixel780  pixel781  pixel782  pixel783  \n",
       "0         0         0         0         0  \n",
       "1         0         0         0         0  \n",
       "2         0         0         0         0  \n",
       "3         0         0         0         0  \n",
       "4         0         0         0         0  \n",
       "\n",
       "[5 rows x 785 columns]"
      ]
     },
     "execution_count": 4,
     "metadata": {},
     "output_type": "execute_result"
    }
   ],
   "source": [
    "train.head(5)"
   ]
  },
  {
   "cell_type": "code",
   "execution_count": 5,
   "id": "8db2827b",
   "metadata": {
    "execution": {
     "iopub.execute_input": "2024-08-01T09:19:58.672887Z",
     "iopub.status.busy": "2024-08-01T09:19:58.672406Z",
     "iopub.status.idle": "2024-08-01T09:19:58.678837Z",
     "shell.execute_reply": "2024-08-01T09:19:58.677637Z"
    },
    "papermill": {
     "duration": 0.040774,
     "end_time": "2024-08-01T09:19:58.681406",
     "exception": false,
     "start_time": "2024-08-01T09:19:58.640632",
     "status": "completed"
    },
    "tags": []
   },
   "outputs": [],
   "source": [
    "y = train['label']\n",
    "X = train.iloc[:, 1:]"
   ]
  },
  {
   "cell_type": "code",
   "execution_count": 6,
   "id": "f4f77a26",
   "metadata": {
    "execution": {
     "iopub.execute_input": "2024-08-01T09:19:58.744433Z",
     "iopub.status.busy": "2024-08-01T09:19:58.744029Z",
     "iopub.status.idle": "2024-08-01T09:19:58.751756Z",
     "shell.execute_reply": "2024-08-01T09:19:58.750348Z"
    },
    "papermill": {
     "duration": 0.042519,
     "end_time": "2024-08-01T09:19:58.754654",
     "exception": false,
     "start_time": "2024-08-01T09:19:58.712135",
     "status": "completed"
    },
    "tags": []
   },
   "outputs": [
    {
     "data": {
      "text/plain": [
       "(42000, 784)"
      ]
     },
     "execution_count": 6,
     "metadata": {},
     "output_type": "execute_result"
    }
   ],
   "source": [
    "X.shape"
   ]
  },
  {
   "cell_type": "code",
   "execution_count": 7,
   "id": "866e5bc6",
   "metadata": {
    "execution": {
     "iopub.execute_input": "2024-08-01T09:19:58.817382Z",
     "iopub.status.busy": "2024-08-01T09:19:58.816973Z",
     "iopub.status.idle": "2024-08-01T09:19:58.826282Z",
     "shell.execute_reply": "2024-08-01T09:19:58.825121Z"
    },
    "papermill": {
     "duration": 0.043428,
     "end_time": "2024-08-01T09:19:58.829095",
     "exception": false,
     "start_time": "2024-08-01T09:19:58.785667",
     "status": "completed"
    },
    "tags": []
   },
   "outputs": [
    {
     "data": {
      "text/plain": [
       "pixel0      0\n",
       "pixel1      0\n",
       "pixel2      0\n",
       "pixel3      0\n",
       "pixel4      0\n",
       "           ..\n",
       "pixel779    0\n",
       "pixel780    0\n",
       "pixel781    0\n",
       "pixel782    0\n",
       "pixel783    0\n",
       "Name: 0, Length: 784, dtype: int64"
      ]
     },
     "execution_count": 7,
     "metadata": {},
     "output_type": "execute_result"
    }
   ],
   "source": [
    "X.iloc[0,:]"
   ]
  },
  {
   "cell_type": "code",
   "execution_count": 8,
   "id": "03048f4e",
   "metadata": {
    "execution": {
     "iopub.execute_input": "2024-08-01T09:19:58.892221Z",
     "iopub.status.busy": "2024-08-01T09:19:58.891821Z",
     "iopub.status.idle": "2024-08-01T09:19:58.994209Z",
     "shell.execute_reply": "2024-08-01T09:19:58.992886Z"
    },
    "papermill": {
     "duration": 0.137635,
     "end_time": "2024-08-01T09:19:58.997859",
     "exception": false,
     "start_time": "2024-08-01T09:19:58.860224",
     "status": "completed"
    },
    "tags": []
   },
   "outputs": [
    {
     "data": {
      "image/png": "[encoded data removed]",
      "text/plain": [
       "<Figure size 640x480 with 1 Axes>"
      ]
     },
     "metadata": {},
     "output_type": "display_data"
    }
   ],
   "source": [
    "import matplotlib.pyplot as plt\n",
    "\n",
    "def visualizeNum(pixeldata):\n",
    "        # convert 784 pixel to 28*28 squared matrix\n",
    "    number_pixel = pixeldata.to_numpy().reshape(28,28)\n",
    "    plt.imshow(number_pixel, cmap='binary') # cmap = coloring, binary = black white\n",
    "    plt.axis('off')\n",
    "\n",
    "# example : \n",
    "visualizeNum(X.iloc[2,:])"
   ]
  },
  {
   "cell_type": "code",
   "execution_count": 9,
   "id": "8ec247ab",
   "metadata": {
    "execution": {
     "iopub.execute_input": "2024-08-01T09:19:59.064179Z",
     "iopub.status.busy": "2024-08-01T09:19:59.062937Z",
     "iopub.status.idle": "2024-08-01T09:20:00.003315Z",
     "shell.execute_reply": "2024-08-01T09:20:00.001773Z"
    },
    "papermill": {
     "duration": 0.978057,
     "end_time": "2024-08-01T09:20:00.007096",
     "exception": false,
     "start_time": "2024-08-01T09:19:59.029039",
     "status": "completed"
    },
    "tags": []
   },
   "outputs": [
    {
     "data": {
      "image/png": "[encoded data removed]",
      "text/plain": [
       "<Figure size 300x300 with 25 Axes>"
      ]
     },
     "metadata": {},
     "output_type": "display_data"
    }
   ],
   "source": [
    "plt.figure(figsize=(3,3))\n",
    "count = 0\n",
    "for i in range(25):\n",
    "    plt.subplot(5,5,i+1) # ex. subplot(5,5,1) -> layout 5*5, place current img to 1st position , ...., subplot (5,5,26) = place 25th picture\n",
    "    plt.subplots_adjust(wspace=0, hspace=0)\n",
    "    visualizeNum(X.iloc[i,:])"
   ]
  },
  {
   "cell_type": "code",
   "execution_count": 10,
   "id": "41b9cbcc",
   "metadata": {
    "execution": {
     "iopub.execute_input": "2024-08-01T09:20:00.075324Z",
     "iopub.status.busy": "2024-08-01T09:20:00.074870Z",
     "iopub.status.idle": "2024-08-01T09:20:00.113731Z",
     "shell.execute_reply": "2024-08-01T09:20:00.111963Z"
    },
    "papermill": {
     "duration": 0.076523,
     "end_time": "2024-08-01T09:20:00.117139",
     "exception": false,
     "start_time": "2024-08-01T09:20:00.040616",
     "status": "completed"
    },
    "tags": []
   },
   "outputs": [
    {
     "data": {
      "text/plain": [
       "Series([], dtype: int64)"
      ]
     },
     "execution_count": 10,
     "metadata": {},
     "output_type": "execute_result"
    }
   ],
   "source": [
    "check_na = X.isna().sum()\n",
    "check_na[check_na!=0]\n",
    "# none of null value in every attribute"
   ]
  },
  {
   "cell_type": "code",
   "execution_count": 11,
   "id": "4cd34d4b",
   "metadata": {
    "execution": {
     "iopub.execute_input": "2024-08-01T09:20:00.263601Z",
     "iopub.status.busy": "2024-08-01T09:20:00.262822Z",
     "iopub.status.idle": "2024-08-01T09:20:00.579175Z",
     "shell.execute_reply": "2024-08-01T09:20:00.576798Z"
    },
    "papermill": {
     "duration": 0.431392,
     "end_time": "2024-08-01T09:20:00.582943",
     "exception": false,
     "start_time": "2024-08-01T09:20:00.151551",
     "status": "completed"
    },
    "tags": []
   },
   "outputs": [],
   "source": [
    "from sklearn.model_selection import train_test_split\n",
    "X_train, X_test, y_train, y_test = train_test_split(X, y, random_state=42, test_size=0.33)"
   ]
  },
  {
   "cell_type": "markdown",
   "id": "e0cc83d1",
   "metadata": {
    "papermill": {
     "duration": 0.037583,
     "end_time": "2024-08-01T09:20:00.659252",
     "exception": false,
     "start_time": "2024-08-01T09:20:00.621669",
     "status": "completed"
    },
    "tags": []
   },
   "source": [
    "# Trying simple classification \n",
    "- Binary classification ('5' or not)\n"
   ]
  },
  {
   "cell_type": "code",
   "execution_count": 12,
   "id": "a6a5f736",
   "metadata": {
    "execution": {
     "iopub.execute_input": "2024-08-01T09:20:00.734665Z",
     "iopub.status.busy": "2024-08-01T09:20:00.734217Z",
     "iopub.status.idle": "2024-08-01T09:20:00.748901Z",
     "shell.execute_reply": "2024-08-01T09:20:00.747016Z"
    },
    "papermill": {
     "duration": 0.058004,
     "end_time": "2024-08-01T09:20:00.752051",
     "exception": false,
     "start_time": "2024-08-01T09:20:00.694047",
     "status": "completed"
    },
    "tags": []
   },
   "outputs": [
    {
     "data": {
      "text/plain": [
       "38060    False\n",
       "22672    False\n",
       "14625    False\n",
       "1475     False\n",
       "Name: label, dtype: bool"
      ]
     },
     "execution_count": 12,
     "metadata": {},
     "output_type": "execute_result"
    }
   ],
   "source": [
    "y_train_5 = (y_train == 5)\n",
    "y_test_5 = (y_test == 5)\n",
    "y_train_5[:4]"
   ]
  },
  {
   "cell_type": "code",
   "execution_count": 13,
   "id": "e9d4915b",
   "metadata": {
    "execution": {
     "iopub.execute_input": "2024-08-01T09:20:00.832306Z",
     "iopub.status.busy": "2024-08-01T09:20:00.831857Z",
     "iopub.status.idle": "2024-08-01T09:20:03.598109Z",
     "shell.execute_reply": "2024-08-01T09:20:03.596553Z"
    },
    "papermill": {
     "duration": 2.811881,
     "end_time": "2024-08-01T09:20:03.602536",
     "exception": false,
     "start_time": "2024-08-01T09:20:00.790655",
     "status": "completed"
    },
    "tags": []
   },
   "outputs": [],
   "source": [
    "\n",
    "log_model1 = LogisticRegression(random_state=42).fit(X_train, y_train_5)\n"
   ]
  },
  {
   "cell_type": "code",
   "execution_count": 14,
   "id": "6e77d044",
   "metadata": {
    "execution": {
     "iopub.execute_input": "2024-08-01T09:20:03.728638Z",
     "iopub.status.busy": "2024-08-01T09:20:03.728163Z",
     "iopub.status.idle": "2024-08-01T09:20:03.833052Z",
     "shell.execute_reply": "2024-08-01T09:20:03.831521Z"
    },
    "papermill": {
     "duration": 0.1651,
     "end_time": "2024-08-01T09:20:03.837399",
     "exception": false,
     "start_time": "2024-08-01T09:20:03.672299",
     "status": "completed"
    },
    "tags": []
   },
   "outputs": [
    {
     "name": "stderr",
     "output_type": "stream",
     "text": [
      "/opt/conda/lib/python3.10/site-packages/sklearn/base.py:439: UserWarning: X does not have valid feature names, but LogisticRegression was fitted with feature names\n",
      "  warnings.warn(\n"
     ]
    },
    {
     "data": {
      "text/plain": [
       "array([ True])"
      ]
     },
     "execution_count": 14,
     "metadata": {},
     "output_type": "execute_result"
    },
    {
     "data": {
      "image/png": "[encoded data removed]",
      "text/plain": [
       "<Figure size 640x480 with 1 Axes>"
      ]
     },
     "metadata": {},
     "output_type": "display_data"
    }
   ],
   "source": [
    "visualizeNum(X.iloc[8,:])\n",
    "log_model1.predict([X.iloc[8,:]])"
   ]
  },
  {
   "cell_type": "code",
   "execution_count": 15,
   "id": "804cad9d",
   "metadata": {
    "execution": {
     "iopub.execute_input": "2024-08-01T09:20:03.944903Z",
     "iopub.status.busy": "2024-08-01T09:20:03.944462Z",
     "iopub.status.idle": "2024-08-01T09:20:04.026522Z",
     "shell.execute_reply": "2024-08-01T09:20:04.025361Z"
    },
    "papermill": {
     "duration": 0.122171,
     "end_time": "2024-08-01T09:20:04.031051",
     "exception": false,
     "start_time": "2024-08-01T09:20:03.908880",
     "status": "completed"
    },
    "tags": []
   },
   "outputs": [
    {
     "name": "stderr",
     "output_type": "stream",
     "text": [
      "/opt/conda/lib/python3.10/site-packages/sklearn/base.py:439: UserWarning: X does not have valid feature names, but LogisticRegression was fitted with feature names\n",
      "  warnings.warn(\n"
     ]
    },
    {
     "data": {
      "text/plain": [
       "array([False])"
      ]
     },
     "execution_count": 15,
     "metadata": {},
     "output_type": "execute_result"
    },
    {
     "data": {
      "image/png": "[encoded data removed]",
      "text/plain": [
       "<Figure size 640x480 with 1 Axes>"
      ]
     },
     "metadata": {},
     "output_type": "display_data"
    }
   ],
   "source": [
    "visualizeNum(X.iloc[0,:])\n",
    "log_model1.predict([X.iloc[0,:]])"
   ]
  },
  {
   "cell_type": "markdown",
   "id": "02004d7c",
   "metadata": {
    "papermill": {
     "duration": 0.046383,
     "end_time": "2024-08-01T09:20:04.144436",
     "exception": false,
     "start_time": "2024-08-01T09:20:04.098053",
     "status": "completed"
    },
    "tags": []
   },
   "source": [
    "# Performance Measures\n"
   ]
  },
  {
   "cell_type": "code",
   "execution_count": 16,
   "id": "f636cef6",
   "metadata": {
    "execution": {
     "iopub.execute_input": "2024-08-01T09:20:04.210770Z",
     "iopub.status.busy": "2024-08-01T09:20:04.210345Z",
     "iopub.status.idle": "2024-08-01T09:20:16.325652Z",
     "shell.execute_reply": "2024-08-01T09:20:16.324043Z"
    },
    "papermill": {
     "duration": 12.154544,
     "end_time": "2024-08-01T09:20:16.331093",
     "exception": false,
     "start_time": "2024-08-01T09:20:04.176549",
     "status": "completed"
    },
    "tags": []
   },
   "outputs": [
    {
     "data": {
      "text/plain": [
       "array([0.97423596, 0.97263682, 0.96997157, 0.96997157, 0.97157072])"
      ]
     },
     "execution_count": 16,
     "metadata": {},
     "output_type": "execute_result"
    }
   ],
   "source": [
    "cross_val_score(log_model1, X_train, y_train_5, cv=5, scoring='accuracy')"
   ]
  },
  {
   "cell_type": "markdown",
   "id": "b9113354",
   "metadata": {
    "papermill": {
     "duration": 0.047902,
     "end_time": "2024-08-01T09:20:16.450040",
     "exception": false,
     "start_time": "2024-08-01T09:20:16.402138",
     "status": "completed"
    },
    "tags": []
   },
   "source": [
    "- Getting high accuracy because the number of 'not 5' labels are larger than '5' labels.\n",
    "- Next, testing with dummy classifier (baseline classifier) that is a simplest machine learning classifier, and then compare to previous logistic regression model"
   ]
  },
  {
   "cell_type": "code",
   "execution_count": 17,
   "id": "6c3927f1",
   "metadata": {
    "execution": {
     "iopub.execute_input": "2024-08-01T09:20:16.522529Z",
     "iopub.status.busy": "2024-08-01T09:20:16.521363Z",
     "iopub.status.idle": "2024-08-01T09:20:16.904826Z",
     "shell.execute_reply": "2024-08-01T09:20:16.903542Z"
    },
    "papermill": {
     "duration": 0.42493,
     "end_time": "2024-08-01T09:20:16.907791",
     "exception": false,
     "start_time": "2024-08-01T09:20:16.482861",
     "status": "completed"
    },
    "tags": []
   },
   "outputs": [
    {
     "data": {
      "text/plain": [
       "array([0.9079602, 0.9079602, 0.9079602, 0.9079602, 0.9079602])"
      ]
     },
     "execution_count": 17,
     "metadata": {},
     "output_type": "execute_result"
    }
   ],
   "source": [
    "\n",
    "\n",
    "dummy_clf = DummyClassifier(random_state=42).fit(X_train, y_train_5)\n",
    "cross_val_score(dummy_clf, X_train, y_train_5, cv=5, scoring=\"accuracy\")"
   ]
  },
  {
   "cell_type": "markdown",
   "id": "fa733933",
   "metadata": {
    "papermill": {
     "duration": 0.031961,
     "end_time": "2024-08-01T09:20:16.972961",
     "exception": false,
     "start_time": "2024-08-01T09:20:16.941000",
     "status": "completed"
    },
    "tags": []
   },
   "source": [
    "- Dummy classifier gives 90.xx% of accuracy score.\n",
    "- Imply that we can get 90% accuracy score without logistic regression model.\n",
    "- Imply that measuring performance by accuracy score may be not good metric for classification model because the probability of occurring '5' is very low. The model can predict 'not 5' labels easily. \n",
    "- Insteadly, using of confusion matrix is more prefered."
   ]
  },
  {
   "cell_type": "markdown",
   "id": "c22975ea",
   "metadata": {
    "papermill": {
     "duration": 0.032496,
     "end_time": "2024-08-01T09:20:17.038653",
     "exception": false,
     "start_time": "2024-08-01T09:20:17.006157",
     "status": "completed"
    },
    "tags": []
   },
   "source": []
  },
  {
   "cell_type": "markdown",
   "id": "0c811747",
   "metadata": {
    "papermill": {
     "duration": 0.032553,
     "end_time": "2024-08-01T09:20:17.103419",
     "exception": false,
     "start_time": "2024-08-01T09:20:17.070866",
     "status": "completed"
    },
    "tags": []
   },
   "source": [
    "# Confusion Matrix"
   ]
  },
  {
   "cell_type": "markdown",
   "id": "48cbc54a",
   "metadata": {
    "papermill": {
     "duration": 0.033785,
     "end_time": "2024-08-01T09:20:17.170321",
     "exception": false,
     "start_time": "2024-08-01T09:20:17.136536",
     "status": "completed"
    },
    "tags": []
   },
   "source": [
    "## Cross Validation Prediction (using library)"
   ]
  },
  {
   "cell_type": "code",
   "execution_count": 18,
   "id": "4287c817",
   "metadata": {
    "execution": {
     "iopub.execute_input": "2024-08-01T09:20:17.238441Z",
     "iopub.status.busy": "2024-08-01T09:20:17.238057Z",
     "iopub.status.idle": "2024-08-01T09:20:28.111002Z",
     "shell.execute_reply": "2024-08-01T09:20:28.109368Z"
    },
    "papermill": {
     "duration": 10.912099,
     "end_time": "2024-08-01T09:20:28.116125",
     "exception": false,
     "start_time": "2024-08-01T09:20:17.204026",
     "status": "completed"
    },
    "tags": []
   },
   "outputs": [
    {
     "name": "stdout",
     "output_type": "stream",
     "text": [
      "y_train_pred =  [False False False ... False False False]\n",
      "total of prediction points =  28140\n"
     ]
    }
   ],
   "source": [
    "\n",
    "y_train_pred = cross_val_predict(log_model1, X_train, y_train_5, cv=5)\n",
    "print('y_train_pred = ', y_train_pred)\n",
    "print('total of prediction points = ', len(y_train_pred))\n"
   ]
  },
  {
   "cell_type": "markdown",
   "id": "3f642076",
   "metadata": {
    "papermill": {
     "duration": 0.049418,
     "end_time": "2024-08-01T09:20:28.236137",
     "exception": false,
     "start_time": "2024-08-01T09:20:28.186719",
     "status": "completed"
    },
    "tags": []
   },
   "source": [
    "- cross validation prediction divides train set into 5 folds , and test set in each fold used for model prediction.\n",
    "- we can implement cross validation prediction manuallt to inspect the result."
   ]
  },
  {
   "cell_type": "markdown",
   "id": "c29d6598",
   "metadata": {
    "papermill": {
     "duration": 0.032151,
     "end_time": "2024-08-01T09:20:28.301295",
     "exception": false,
     "start_time": "2024-08-01T09:20:28.269144",
     "status": "completed"
    },
    "tags": []
   },
   "source": []
  },
  {
   "cell_type": "markdown",
   "id": "25dac59a",
   "metadata": {
    "papermill": {
     "duration": 0.032933,
     "end_time": "2024-08-01T09:20:28.366941",
     "exception": false,
     "start_time": "2024-08-01T09:20:28.334008",
     "status": "completed"
    },
    "tags": []
   },
   "source": [
    "## Cross Validation Prediction (Alternative)"
   ]
  },
  {
   "cell_type": "code",
   "execution_count": 19,
   "id": "c2ccb484",
   "metadata": {
    "execution": {
     "iopub.execute_input": "2024-08-01T09:20:28.434295Z",
     "iopub.status.busy": "2024-08-01T09:20:28.433916Z",
     "iopub.status.idle": "2024-08-01T09:20:28.439584Z",
     "shell.execute_reply": "2024-08-01T09:20:28.438371Z"
    },
    "papermill": {
     "duration": 0.042961,
     "end_time": "2024-08-01T09:20:28.442440",
     "exception": false,
     "start_time": "2024-08-01T09:20:28.399479",
     "status": "completed"
    },
    "tags": []
   },
   "outputs": [],
   "source": [
    "from sklearn.model_selection import StratifiedKFold # provides train/test indices to split data in train/test sets.\n",
    "from sklearn.base import clone # copy the model without attached data (unfitted model)"
   ]
  },
  {
   "cell_type": "code",
   "execution_count": 20,
   "id": "ab608ae1",
   "metadata": {
    "execution": {
     "iopub.execute_input": "2024-08-01T09:20:28.510663Z",
     "iopub.status.busy": "2024-08-01T09:20:28.509612Z",
     "iopub.status.idle": "2024-08-01T09:20:28.517239Z",
     "shell.execute_reply": "2024-08-01T09:20:28.516013Z"
    },
    "papermill": {
     "duration": 0.044722,
     "end_time": "2024-08-01T09:20:28.519951",
     "exception": false,
     "start_time": "2024-08-01T09:20:28.475229",
     "status": "completed"
    },
    "tags": []
   },
   "outputs": [
    {
     "data": {
      "text/plain": [
       "pandas.core.series.Series"
      ]
     },
     "execution_count": 20,
     "metadata": {},
     "output_type": "execute_result"
    }
   ],
   "source": [
    "type(y_train_5)"
   ]
  },
  {
   "cell_type": "code",
   "execution_count": 21,
   "id": "8331b7dd",
   "metadata": {
    "execution": {
     "iopub.execute_input": "2024-08-01T09:20:28.587548Z",
     "iopub.status.busy": "2024-08-01T09:20:28.587150Z",
     "iopub.status.idle": "2024-08-01T09:20:28.592994Z",
     "shell.execute_reply": "2024-08-01T09:20:28.591805Z"
    },
    "papermill": {
     "duration": 0.04243,
     "end_time": "2024-08-01T09:20:28.595482",
     "exception": false,
     "start_time": "2024-08-01T09:20:28.553052",
     "status": "completed"
    },
    "tags": []
   },
   "outputs": [],
   "source": [
    "# Because of train_test_split , some index may not be in train set -> lead to index error when implementing K-Fold below\n",
    " # reset index or convert dataframe/serie to numpy array to resolve this error.\n",
    "X_train = X_train.to_numpy() \n",
    "y_train_5 = y_train_5.to_numpy()"
   ]
  },
  {
   "cell_type": "code",
   "execution_count": 22,
   "id": "3c03ac4e",
   "metadata": {
    "execution": {
     "iopub.execute_input": "2024-08-01T09:20:28.666576Z",
     "iopub.status.busy": "2024-08-01T09:20:28.666171Z",
     "iopub.status.idle": "2024-08-01T09:20:39.082342Z",
     "shell.execute_reply": "2024-08-01T09:20:39.080772Z"
    },
    "papermill": {
     "duration": 10.454514,
     "end_time": "2024-08-01T09:20:39.085914",
     "exception": false,
     "start_time": "2024-08-01T09:20:28.631400",
     "status": "completed"
    },
    "tags": []
   },
   "outputs": [
    {
     "name": "stdout",
     "output_type": "stream",
     "text": [
      "[False False False ...  True  True  True]\n",
      "n_sample =  5628\n",
      "n_corrects =  5483\n",
      "accuracy =  0.9742359630419332\n",
      "finish fold_no =  1 , n_tested =  5628\n",
      "----------------------------------------------\n",
      "[False False False ...  True  True  True]\n",
      "n_sample =  5628\n",
      "n_corrects =  5474\n",
      "accuracy =  0.972636815920398\n",
      "finish fold_no =  2 , n_tested =  11256\n",
      "----------------------------------------------\n",
      "[False False False ...  True False False]\n",
      "n_sample =  5628\n",
      "n_corrects =  5459\n",
      "accuracy =  0.9699715707178393\n",
      "finish fold_no =  3 , n_tested =  16884\n",
      "----------------------------------------------\n",
      "[False False False ... False False False]\n",
      "n_sample =  5628\n",
      "n_corrects =  5459\n",
      "accuracy =  0.9699715707178393\n",
      "finish fold_no =  4 , n_tested =  22512\n",
      "----------------------------------------------\n",
      "[ True False  True ... False False False]\n",
      "n_sample =  5628\n",
      "n_corrects =  5468\n",
      "accuracy =  0.9715707178393745\n",
      "finish fold_no =  5 , n_tested =  28140\n",
      "----------------------------------------------\n"
     ]
    }
   ],
   "source": [
    "\n",
    "skfolds = StratifiedKFold(n_splits=5) # This data is already shuffled, if not, we can set shuffle=True and random_state=42.\n",
    "fold = 0\n",
    "n_tested = 0\n",
    "for train_index, test_index in skfolds.split(X_train, y_train_5):\n",
    "    #print(train_index, test_index)\n",
    "    fold += 1\n",
    "    clone_clf = clone(log_model1) # copy of logistic model without fitting data (in each fold)\n",
    "    X_train_folds = X_train[train_index,:]\n",
    "    X_test_folds = X_train[test_index,:]\n",
    "    y_train_folds = y_train_5[train_index]\n",
    "    y_test_folds = y_train_5[test_index]\n",
    "    \n",
    "    clone_clf.fit(X_train_folds, y_train_folds)\n",
    "    y_pred = clone_clf.predict(X_test_folds) # predicted y value in each fold\n",
    "    print(y_pred)\n",
    "    print('n_sample = ', len(y_pred))\n",
    "    n_corrects = sum(y_pred == y_test_folds)\n",
    "    print('n_corrects = ', n_corrects)\n",
    "    print('accuracy = ', n_corrects/len(y_pred))\n",
    "    n_tested += len(y_pred)\n",
    "    print('finish fold_no = ', fold, ', n_tested = ', n_tested)\n",
    "\n",
    "    print('----------------------------------------------')\n",
    "\n"
   ]
  },
  {
   "cell_type": "markdown",
   "id": "09c68c8e",
   "metadata": {
    "papermill": {
     "duration": 0.048016,
     "end_time": "2024-08-01T09:20:39.224618",
     "exception": false,
     "start_time": "2024-08-01T09:20:39.176602",
     "status": "completed"
    },
    "tags": []
   },
   "source": [
    "- Noted that there are 5 results from 5 folds, 5628 samples for each fold\n",
    "- Noted that each validation set in each fold is not repeated.\n",
    "- When combining every result sets, we will get prediction for all of training dataset.\n"
   ]
  },
  {
   "cell_type": "markdown",
   "id": "e0353eec",
   "metadata": {
    "papermill": {
     "duration": 0.033714,
     "end_time": "2024-08-01T09:20:39.297370",
     "exception": false,
     "start_time": "2024-08-01T09:20:39.263656",
     "status": "completed"
    },
    "tags": []
   },
   "source": [
    "** We will use y_train_pred prediction result from cross_val_predict() to build a confusion matrix\n",
    "**"
   ]
  },
  {
   "cell_type": "code",
   "execution_count": 23,
   "id": "6b5d630c",
   "metadata": {
    "execution": {
     "iopub.execute_input": "2024-08-01T09:20:39.370837Z",
     "iopub.status.busy": "2024-08-01T09:20:39.369539Z",
     "iopub.status.idle": "2024-08-01T09:20:39.382853Z",
     "shell.execute_reply": "2024-08-01T09:20:39.381593Z"
    },
    "papermill": {
     "duration": 0.053728,
     "end_time": "2024-08-01T09:20:39.385888",
     "exception": false,
     "start_time": "2024-08-01T09:20:39.332160",
     "status": "completed"
    },
    "tags": []
   },
   "outputs": [],
   "source": [
    "cm = confusion_matrix(y_train_5, y_train_pred)"
   ]
  },
  {
   "cell_type": "code",
   "execution_count": 24,
   "id": "2916d02b",
   "metadata": {
    "execution": {
     "iopub.execute_input": "2024-08-01T09:20:39.476353Z",
     "iopub.status.busy": "2024-08-01T09:20:39.475729Z",
     "iopub.status.idle": "2024-08-01T09:20:39.482952Z",
     "shell.execute_reply": "2024-08-01T09:20:39.481473Z"
    },
    "papermill": {
     "duration": 0.057782,
     "end_time": "2024-08-01T09:20:39.490665",
     "exception": false,
     "start_time": "2024-08-01T09:20:39.432883",
     "status": "completed"
    },
    "tags": []
   },
   "outputs": [
    {
     "name": "stdout",
     "output_type": "stream",
     "text": [
      "[[25244   306]\n",
      " [  491  2099]]\n"
     ]
    }
   ],
   "source": [
    "print(cm)\n",
    "# positive = '5'\n",
    "# negative  = not '5'"
   ]
  },
  {
   "cell_type": "code",
   "execution_count": 25,
   "id": "fe24b15f",
   "metadata": {
    "execution": {
     "iopub.execute_input": "2024-08-01T09:20:39.567154Z",
     "iopub.status.busy": "2024-08-01T09:20:39.566749Z",
     "iopub.status.idle": "2024-08-01T09:20:39.574717Z",
     "shell.execute_reply": "2024-08-01T09:20:39.573401Z"
    },
    "papermill": {
     "duration": 0.046471,
     "end_time": "2024-08-01T09:20:39.577439",
     "exception": false,
     "start_time": "2024-08-01T09:20:39.530968",
     "status": "completed"
    },
    "tags": []
   },
   "outputs": [
    {
     "data": {
      "text/plain": [
       "25244"
      ]
     },
     "execution_count": 25,
     "metadata": {},
     "output_type": "execute_result"
    }
   ],
   "source": [
    "cm[0][0]"
   ]
  },
  {
   "cell_type": "code",
   "execution_count": 26,
   "id": "7ba73235",
   "metadata": {
    "execution": {
     "iopub.execute_input": "2024-08-01T09:20:39.650428Z",
     "iopub.status.busy": "2024-08-01T09:20:39.649799Z",
     "iopub.status.idle": "2024-08-01T09:20:39.993987Z",
     "shell.execute_reply": "2024-08-01T09:20:39.992768Z"
    },
    "papermill": {
     "duration": 0.384912,
     "end_time": "2024-08-01T09:20:39.997137",
     "exception": false,
     "start_time": "2024-08-01T09:20:39.612225",
     "status": "completed"
    },
    "tags": []
   },
   "outputs": [
    {
     "data": {
      "text/plain": [
       "<sklearn.metrics._plot.confusion_matrix.ConfusionMatrixDisplay at 0x7945868b90f0>"
      ]
     },
     "execution_count": 26,
     "metadata": {},
     "output_type": "execute_result"
    },
    {
     "data": {
      "image/png": "[encoded data removed]",
      "text/plain": [
       "<Figure size 640x480 with 2 Axes>"
      ]
     },
     "metadata": {},
     "output_type": "display_data"
    }
   ],
   "source": [
    "cm_disp = ConfusionMatrixDisplay(cm)\n",
    "cm_disp.plot()"
   ]
  },
  {
   "cell_type": "markdown",
   "id": "7f85d91e",
   "metadata": {
    "papermill": {
     "duration": 0.035084,
     "end_time": "2024-08-01T09:20:40.066809",
     "exception": false,
     "start_time": "2024-08-01T09:20:40.031725",
     "status": "completed"
    },
    "tags": []
   },
   "source": [
    "- True label (aka. Actual label)\n",
    "- 0 = Negative = 'not 5', 1 = Positive = '5'\n",
    "- [Actual Negative-Predicted Negative (True Negative -TN), Actual Negative-Predicted Positive (False Positive -FP)\n",
    "-   Actual Positive-Predicted Negative (False Negative -FN), Actual Positive-Predicted Positive (True Positive -TP)]\n"
   ]
  },
  {
   "cell_type": "markdown",
   "id": "d36c52c4",
   "metadata": {
    "papermill": {
     "duration": 0.034629,
     "end_time": "2024-08-01T09:20:40.135641",
     "exception": false,
     "start_time": "2024-08-01T09:20:40.101012",
     "status": "completed"
    },
    "tags": []
   },
   "source": [
    "## Precision/ Recall/ F1-score"
   ]
  },
  {
   "cell_type": "code",
   "execution_count": 27,
   "id": "83e621ca",
   "metadata": {
    "execution": {
     "iopub.execute_input": "2024-08-01T09:20:40.207893Z",
     "iopub.status.busy": "2024-08-01T09:20:40.207439Z",
     "iopub.status.idle": "2024-08-01T09:20:40.216425Z",
     "shell.execute_reply": "2024-08-01T09:20:40.214759Z"
    },
    "papermill": {
     "duration": 0.049187,
     "end_time": "2024-08-01T09:20:40.219304",
     "exception": false,
     "start_time": "2024-08-01T09:20:40.170117",
     "status": "completed"
    },
    "tags": []
   },
   "outputs": [
    {
     "name": "stdout",
     "output_type": "stream",
     "text": [
      "Precision = 0.8727650727650728\n",
      "Recall =  0.8104247104247104\n",
      "F1 score =  0.8404404404404403\n"
     ]
    }
   ],
   "source": [
    "# manual calculation\n",
    "TN, FP, FN, TP = cm[0][0], cm[0][1], cm[1][0], cm[1][1]\n",
    "precision = TP/(TP+FP) # precision = Success Positive Predicted / (Success Positive Predicted + Failed Positive Predicted)\n",
    "recall = TP/(TP+FN)  # False Negative = Predicted Negative, but Actual Positive, so recall = true positive predicted / total actual positive\n",
    "F1 = 2*((precision*recall)/(precision+recall))\n",
    "print('Precision =', precision)\n",
    "print('Recall = ', recall)\n",
    "print('F1 score = ', F1)"
   ]
  },
  {
   "cell_type": "code",
   "execution_count": 28,
   "id": "7412d874",
   "metadata": {
    "execution": {
     "iopub.execute_input": "2024-08-01T09:20:40.292450Z",
     "iopub.status.busy": "2024-08-01T09:20:40.292072Z",
     "iopub.status.idle": "2024-08-01T09:20:40.332598Z",
     "shell.execute_reply": "2024-08-01T09:20:40.331279Z"
    },
    "papermill": {
     "duration": 0.080968,
     "end_time": "2024-08-01T09:20:40.335238",
     "exception": false,
     "start_time": "2024-08-01T09:20:40.254270",
     "status": "completed"
    },
    "tags": []
   },
   "outputs": [
    {
     "name": "stdout",
     "output_type": "stream",
     "text": [
      "Precision (sklearn) =  0.8727650727650728\n",
      "Recall (sklearn) =  0.8104247104247104\n",
      "F1 score (sklearn) =  0.8404404404404403\n"
     ]
    }
   ],
   "source": [
    "# from sklearn\n",
    "precision_lib = precision_score(y_train_5, y_train_pred)\n",
    "recall_lib = recall_score(y_train_5, y_train_pred)\n",
    "f1_lib = f1_score(y_train_5, y_train_pred)\n",
    "print('Precision (sklearn) = ', precision_lib)\n",
    "print('Recall (sklearn) = ', recall_lib)\n",
    "print('F1 score (sklearn) = ', f1_lib)"
   ]
  },
  {
   "cell_type": "markdown",
   "id": "63478727",
   "metadata": {
    "papermill": {
     "duration": 0.034168,
     "end_time": "2024-08-01T09:20:40.403892",
     "exception": false,
     "start_time": "2024-08-01T09:20:40.369724",
     "status": "completed"
    },
    "tags": []
   },
   "source": [
    "Precision = 0.87 \n",
    "Recall = 0.81\n",
    "F1-score = 0.84 (average of precision and recall)"
   ]
  },
  {
   "cell_type": "markdown",
   "id": "53064365",
   "metadata": {
    "papermill": {
     "duration": 0.03503,
     "end_time": "2024-08-01T09:20:40.474287",
     "exception": false,
     "start_time": "2024-08-01T09:20:40.439257",
     "status": "completed"
    },
    "tags": []
   },
   "source": [
    "# Precision/ Recall Tuning"
   ]
  },
  {
   "cell_type": "code",
   "execution_count": 29,
   "id": "3ba62c00",
   "metadata": {
    "execution": {
     "iopub.execute_input": "2024-08-01T09:20:40.545500Z",
     "iopub.status.busy": "2024-08-01T09:20:40.545117Z",
     "iopub.status.idle": "2024-08-01T09:20:50.927392Z",
     "shell.execute_reply": "2024-08-01T09:20:50.926236Z"
    },
    "papermill": {
     "duration": 10.423538,
     "end_time": "2024-08-01T09:20:50.932372",
     "exception": false,
     "start_time": "2024-08-01T09:20:40.508834",
     "status": "completed"
    },
    "tags": []
   },
   "outputs": [
    {
     "name": "stdout",
     "output_type": "stream",
     "text": [
      "[[8.99562224e-01 1.00437776e-01]\n",
      " [9.99999203e-01 7.96854442e-07]\n",
      " [9.99524551e-01 4.75449045e-04]\n",
      " ...\n",
      " [9.99998617e-01 1.38312204e-06]\n",
      " [9.99263997e-01 7.36002804e-04]\n",
      " [9.99086689e-01 9.13311469e-04]]\n"
     ]
    }
   ],
   "source": [
    "y_score = cross_val_predict(log_model1, X_train, y_train_5, cv=5, method='predict_proba') # logistic regression -> using proability score to decide, sgd -> using decision score (from decision function)\n",
    "print(y_score) # y_score column 0 -> probability decision for class 0 (False) , column 1 -> prob for class 1 (True) \n",
    "\n",
    "# note: check order of class by log_model1.classes_"
   ]
  },
  {
   "cell_type": "code",
   "execution_count": 30,
   "id": "5dfbf423",
   "metadata": {
    "execution": {
     "iopub.execute_input": "2024-08-01T09:20:51.053057Z",
     "iopub.status.busy": "2024-08-01T09:20:51.052628Z",
     "iopub.status.idle": "2024-08-01T09:20:51.060181Z",
     "shell.execute_reply": "2024-08-01T09:20:51.059000Z"
    },
    "papermill": {
     "duration": 0.057621,
     "end_time": "2024-08-01T09:20:51.062893",
     "exception": false,
     "start_time": "2024-08-01T09:20:51.005272",
     "status": "completed"
    },
    "tags": []
   },
   "outputs": [
    {
     "data": {
      "text/plain": [
       "array([1.00437776e-01, 7.96854442e-07, 4.75449045e-04, ...,\n",
       "       1.38312204e-06, 7.36002804e-04, 9.13311469e-04])"
      ]
     },
     "execution_count": 30,
     "metadata": {},
     "output_type": "execute_result"
    }
   ],
   "source": [
    "y_score[:,1] # probability for class 1 (True)"
   ]
  },
  {
   "cell_type": "markdown",
   "id": "a3d928d3",
   "metadata": {
    "papermill": {
     "duration": 0.034386,
     "end_time": "2024-08-01T09:20:51.132314",
     "exception": false,
     "start_time": "2024-08-01T09:20:51.097928",
     "status": "completed"
    },
    "tags": []
   },
   "source": [
    "### Precision-Recall Curve"
   ]
  },
  {
   "cell_type": "code",
   "execution_count": 31,
   "id": "9db0578f",
   "metadata": {
    "execution": {
     "iopub.execute_input": "2024-08-01T09:20:51.203557Z",
     "iopub.status.busy": "2024-08-01T09:20:51.203128Z",
     "iopub.status.idle": "2024-08-01T09:20:51.656616Z",
     "shell.execute_reply": "2024-08-01T09:20:51.655396Z"
    },
    "papermill": {
     "duration": 0.492354,
     "end_time": "2024-08-01T09:20:51.659619",
     "exception": false,
     "start_time": "2024-08-01T09:20:51.167265",
     "status": "completed"
    },
    "tags": []
   },
   "outputs": [
    {
     "name": "stdout",
     "output_type": "stream",
     "text": [
      "28140 28141 28141\n"
     ]
    },
    {
     "data": {
      "text/plain": [
       "Text(0.5, 1.0, 'Precision-Recall vs. Threshold')"
      ]
     },
     "execution_count": 31,
     "metadata": {},
     "output_type": "execute_result"
    },
    {
     "data": {
      "image/png": "[encoded data removed]",
      "text/plain": [
       "<Figure size 640x480 with 1 Axes>"
      ]
     },
     "metadata": {},
     "output_type": "display_data"
    }
   ],
   "source": [
    "from sklearn.metrics import precision_recall_curve\n",
    "precision, recall, threshold = precision_recall_curve(y_train_5, y_score[:,1])\n",
    "#print(precision)\n",
    "#print(recall)\n",
    "#print(threshold)\n",
    "print(len(threshold), len(precision), len(recall)) # shows that 28140, 28141, 28141 --> Last precision and recall value should be ignored (last value are 1 and 0 for precision and recall respectively).\n",
    "\n",
    "plt.figure()\n",
    "plt.plot(threshold, precision[:-1], label='Precision')\n",
    "plt.plot(threshold, recall[:-1], label='Recall')\n",
    "plt.xlabel('Threshold')\n",
    "plt.legend(bbox_to_anchor=(1.25, 1.02), loc='upper right')\n",
    "#plt.xlim(-15,)\n",
    "plt.title('Precision-Recall vs. Threshold')"
   ]
  },
  {
   "cell_type": "code",
   "execution_count": 32,
   "id": "827080cb",
   "metadata": {
    "execution": {
     "iopub.execute_input": "2024-08-01T09:20:51.735948Z",
     "iopub.status.busy": "2024-08-01T09:20:51.735392Z",
     "iopub.status.idle": "2024-08-01T09:20:52.010717Z",
     "shell.execute_reply": "2024-08-01T09:20:52.009425Z"
    },
    "papermill": {
     "duration": 0.318171,
     "end_time": "2024-08-01T09:20:52.013521",
     "exception": false,
     "start_time": "2024-08-01T09:20:51.695350",
     "status": "completed"
    },
    "tags": []
   },
   "outputs": [
    {
     "data": {
      "text/plain": [
       "Text(0.5, 1.0, 'Precision-Recall Curve')"
      ]
     },
     "execution_count": 32,
     "metadata": {},
     "output_type": "execute_result"
    },
    {
     "data": {
      "image/png": "[encoded data removed]",
      "text/plain": [
       "<Figure size 640x480 with 1 Axes>"
      ]
     },
     "metadata": {},
     "output_type": "display_data"
    }
   ],
   "source": [
    "plt.figure()\n",
    "plt.plot(precision, recall, label='Precision-Recall Curve')\n",
    "plt.xlabel('Precision')\n",
    "plt.ylabel('Recall')\n",
    "plt.title('Precision-Recall Curve')"
   ]
  },
  {
   "cell_type": "markdown",
   "id": "2026b6c4",
   "metadata": {
    "papermill": {
     "duration": 0.03652,
     "end_time": "2024-08-01T09:20:52.087136",
     "exception": false,
     "start_time": "2024-08-01T09:20:52.050616",
     "status": "completed"
    },
    "tags": []
   },
   "source": [
    "- Suppose that we want high recall and moderate precision"
   ]
  },
  {
   "cell_type": "code",
   "execution_count": 33,
   "id": "3aa552d0",
   "metadata": {
    "execution": {
     "iopub.execute_input": "2024-08-01T09:20:52.163218Z",
     "iopub.status.busy": "2024-08-01T09:20:52.162450Z",
     "iopub.status.idle": "2024-08-01T09:20:52.170021Z",
     "shell.execute_reply": "2024-08-01T09:20:52.168757Z"
    },
    "papermill": {
     "duration": 0.047893,
     "end_time": "2024-08-01T09:20:52.172852",
     "exception": false,
     "start_time": "2024-08-01T09:20:52.124959",
     "status": "completed"
    },
    "tags": []
   },
   "outputs": [
    {
     "name": "stdout",
     "output_type": "stream",
     "text": [
      "recall =  0.9046332046332046 precision =  0.7195945945945946 threshold =  0.17124340456184658\n"
     ]
    }
   ],
   "source": [
    "ind = np.where((recall > 0.90) & (recall<0.905))[0][0]\n",
    "print('recall = ', recall[ind], 'precision = ', precision[ind], 'threshold = ', threshold[ind])"
   ]
  },
  {
   "cell_type": "markdown",
   "id": "c11301a6",
   "metadata": {
    "papermill": {
     "duration": 0.036668,
     "end_time": "2024-08-01T09:20:52.245978",
     "exception": false,
     "start_time": "2024-08-01T09:20:52.209310",
     "status": "completed"
    },
    "tags": []
   },
   "source": [
    "- We will set threshold = 0.1712 for expected recall =0.90 and expected precision = 0.72"
   ]
  },
  {
   "cell_type": "code",
   "execution_count": 34,
   "id": "d54f7354",
   "metadata": {
    "execution": {
     "iopub.execute_input": "2024-08-01T09:20:52.323819Z",
     "iopub.status.busy": "2024-08-01T09:20:52.322773Z",
     "iopub.status.idle": "2024-08-01T09:20:52.429406Z",
     "shell.execute_reply": "2024-08-01T09:20:52.427814Z"
    },
    "papermill": {
     "duration": 0.152008,
     "end_time": "2024-08-01T09:20:52.434423",
     "exception": false,
     "start_time": "2024-08-01T09:20:52.282415",
     "status": "completed"
    },
    "tags": []
   },
   "outputs": [
    {
     "name": "stderr",
     "output_type": "stream",
     "text": [
      "/opt/conda/lib/python3.10/site-packages/sklearn/base.py:439: UserWarning: X does not have valid feature names, but LogisticRegression was fitted with feature names\n",
      "  warnings.warn(\n"
     ]
    }
   ],
   "source": [
    "threshold_sel = 0.1712\n",
    "y_pred_cust_thres = np.where(log_model1.predict_proba(X_train)[:, 1] >= threshold_sel, 1, 0).astype(bool)"
   ]
  },
  {
   "cell_type": "code",
   "execution_count": 35,
   "id": "57f8b807",
   "metadata": {
    "execution": {
     "iopub.execute_input": "2024-08-01T09:20:52.567365Z",
     "iopub.status.busy": "2024-08-01T09:20:52.566999Z",
     "iopub.status.idle": "2024-08-01T09:20:52.574426Z",
     "shell.execute_reply": "2024-08-01T09:20:52.573217Z"
    },
    "papermill": {
     "duration": 0.065917,
     "end_time": "2024-08-01T09:20:52.577095",
     "exception": false,
     "start_time": "2024-08-01T09:20:52.511178",
     "status": "completed"
    },
    "tags": []
   },
   "outputs": [
    {
     "data": {
      "text/plain": [
       "array([False, False, False, ..., False, False, False])"
      ]
     },
     "execution_count": 35,
     "metadata": {},
     "output_type": "execute_result"
    }
   ],
   "source": [
    "y_pred_cust_thres"
   ]
  },
  {
   "cell_type": "code",
   "execution_count": 36,
   "id": "3905696a",
   "metadata": {
    "execution": {
     "iopub.execute_input": "2024-08-01T09:20:52.654151Z",
     "iopub.status.busy": "2024-08-01T09:20:52.653786Z",
     "iopub.status.idle": "2024-08-01T09:20:52.661581Z",
     "shell.execute_reply": "2024-08-01T09:20:52.660272Z"
    },
    "papermill": {
     "duration": 0.049429,
     "end_time": "2024-08-01T09:20:52.664423",
     "exception": false,
     "start_time": "2024-08-01T09:20:52.614994",
     "status": "completed"
    },
    "tags": []
   },
   "outputs": [
    {
     "data": {
      "text/plain": [
       "array([False, False, False, ..., False, False, False])"
      ]
     },
     "execution_count": 36,
     "metadata": {},
     "output_type": "execute_result"
    }
   ],
   "source": [
    "y_train_5"
   ]
  },
  {
   "cell_type": "code",
   "execution_count": 37,
   "id": "ba72bbfc",
   "metadata": {
    "execution": {
     "iopub.execute_input": "2024-08-01T09:20:52.743586Z",
     "iopub.status.busy": "2024-08-01T09:20:52.742615Z",
     "iopub.status.idle": "2024-08-01T09:20:52.782671Z",
     "shell.execute_reply": "2024-08-01T09:20:52.781218Z"
    },
    "papermill": {
     "duration": 0.084625,
     "end_time": "2024-08-01T09:20:52.785866",
     "exception": false,
     "start_time": "2024-08-01T09:20:52.701241",
     "status": "completed"
    },
    "tags": []
   },
   "outputs": [
    {
     "name": "stdout",
     "output_type": "stream",
     "text": [
      "@threshold = 0.1712 (lower from default = 0.5)\n",
      "Precision =  0.7617842454919329\n",
      "Recall =  0.9297297297297298\n",
      "F1 score =  0.8374195792036168\n"
     ]
    }
   ],
   "source": [
    "precision_new = precision_score(y_train_5, y_pred_cust_thres)\n",
    "recall_new = recall_score(y_train_5, y_pred_cust_thres)\n",
    "f1_new = f1_score(y_train_5, y_pred_cust_thres)\n",
    "print('@threshold = 0.1712 (lower from default = 0.5)')\n",
    "print('Precision = ', precision_new)\n",
    "print('Recall = ', recall_new)\n",
    "print('F1 score = ', f1_new)"
   ]
  },
  {
   "cell_type": "code",
   "execution_count": 38,
   "id": "09ea30d3",
   "metadata": {
    "execution": {
     "iopub.execute_input": "2024-08-01T09:20:52.862465Z",
     "iopub.status.busy": "2024-08-01T09:20:52.862084Z",
     "iopub.status.idle": "2024-08-01T09:20:52.868880Z",
     "shell.execute_reply": "2024-08-01T09:20:52.867544Z"
    },
    "papermill": {
     "duration": 0.048247,
     "end_time": "2024-08-01T09:20:52.871311",
     "exception": false,
     "start_time": "2024-08-01T09:20:52.823064",
     "status": "completed"
    },
    "tags": []
   },
   "outputs": [],
   "source": [
    "compare_perf_df = pd.DataFrame({'threshold':[0.5, 0.1712], 'Precision':[precision_lib, precision_new], 'Recall':[recall_lib, recall_new], 'F1-Score':[f1_lib, f1_new]})"
   ]
  },
  {
   "cell_type": "code",
   "execution_count": 39,
   "id": "0bd25c93",
   "metadata": {
    "execution": {
     "iopub.execute_input": "2024-08-01T09:20:52.947248Z",
     "iopub.status.busy": "2024-08-01T09:20:52.946866Z",
     "iopub.status.idle": "2024-08-01T09:20:52.960177Z",
     "shell.execute_reply": "2024-08-01T09:20:52.959005Z"
    },
    "papermill": {
     "duration": 0.054404,
     "end_time": "2024-08-01T09:20:52.962759",
     "exception": false,
     "start_time": "2024-08-01T09:20:52.908355",
     "status": "completed"
    },
    "tags": []
   },
   "outputs": [
    {
     "data": {
      "text/html": [
       "<div>\n",
       "<style scoped>\n",
       "    .dataframe tbody tr th:only-of-type {\n",
       "        vertical-align: middle;\n",
       "    }\n",
       "\n",
       "    .dataframe tbody tr th {\n",
       "        vertical-align: top;\n",
       "    }\n",
       "\n",
       "    .dataframe thead th {\n",
       "        text-align: right;\n",
       "    }\n",
       "</style>\n",
       "<table border=\"1\" class=\"dataframe\">\n",
       "  <thead>\n",
       "    <tr style=\"text-align: right;\">\n",
       "      <th></th>\n",
       "      <th>threshold</th>\n",
       "      <th>Precision</th>\n",
       "      <th>Recall</th>\n",
       "      <th>F1-Score</th>\n",
       "    </tr>\n",
       "  </thead>\n",
       "  <tbody>\n",
       "    <tr>\n",
       "      <th>0</th>\n",
       "      <td>0.5000</td>\n",
       "      <td>0.872765</td>\n",
       "      <td>0.810425</td>\n",
       "      <td>0.84044</td>\n",
       "    </tr>\n",
       "    <tr>\n",
       "      <th>1</th>\n",
       "      <td>0.1712</td>\n",
       "      <td>0.761784</td>\n",
       "      <td>0.929730</td>\n",
       "      <td>0.83742</td>\n",
       "    </tr>\n",
       "  </tbody>\n",
       "</table>\n",
       "</div>"
      ],
      "text/plain": [
       "   threshold  Precision    Recall  F1-Score\n",
       "0     0.5000   0.872765  0.810425   0.84044\n",
       "1     0.1712   0.761784  0.929730   0.83742"
      ]
     },
     "execution_count": 39,
     "metadata": {},
     "output_type": "execute_result"
    }
   ],
   "source": [
    "compare_perf_df"
   ]
  },
  {
   "cell_type": "markdown",
   "id": "ad09f11b",
   "metadata": {
    "papermill": {
     "duration": 0.036699,
     "end_time": "2024-08-01T09:20:53.036908",
     "exception": false,
     "start_time": "2024-08-01T09:20:53.000209",
     "status": "completed"
    },
    "tags": []
   },
   "source": [
    "### ROC Curve (Additional)"
   ]
  },
  {
   "cell_type": "code",
   "execution_count": 40,
   "id": "462eb02a",
   "metadata": {
    "execution": {
     "iopub.execute_input": "2024-08-01T09:20:53.114164Z",
     "iopub.status.busy": "2024-08-01T09:20:53.113752Z",
     "iopub.status.idle": "2024-08-01T09:20:53.126929Z",
     "shell.execute_reply": "2024-08-01T09:20:53.125779Z"
    },
    "papermill": {
     "duration": 0.054681,
     "end_time": "2024-08-01T09:20:53.129807",
     "exception": false,
     "start_time": "2024-08-01T09:20:53.075126",
     "status": "completed"
    },
    "tags": []
   },
   "outputs": [],
   "source": [
    "from sklearn.metrics import roc_curve\n",
    "fpr, tpr, thresholds = roc_curve(y_train_5, y_score[:, 1])"
   ]
  },
  {
   "cell_type": "code",
   "execution_count": 41,
   "id": "a11b8e30",
   "metadata": {
    "execution": {
     "iopub.execute_input": "2024-08-01T09:20:53.205533Z",
     "iopub.status.busy": "2024-08-01T09:20:53.205102Z",
     "iopub.status.idle": "2024-08-01T09:20:53.531906Z",
     "shell.execute_reply": "2024-08-01T09:20:53.530625Z"
    },
    "papermill": {
     "duration": 0.367618,
     "end_time": "2024-08-01T09:20:53.534670",
     "exception": false,
     "start_time": "2024-08-01T09:20:53.167052",
     "status": "completed"
    },
    "tags": []
   },
   "outputs": [
    {
     "data": {
      "text/plain": [
       "<matplotlib.legend.Legend at 0x794586acd090>"
      ]
     },
     "execution_count": 41,
     "metadata": {},
     "output_type": "execute_result"
    },
    {
     "data": {
      "image/png": "[encoded data removed]",
      "text/plain": [
       "<Figure size 640x480 with 1 Axes>"
      ]
     },
     "metadata": {},
     "output_type": "display_data"
    }
   ],
   "source": [
    "plt.figure()\n",
    "plt.plot(fpr, tpr, label='ROC Curve')\n",
    "plt.plot([0,1], [0,1], label='Random classifier\\'s ROC Curve', linestyle='dashed') # Classifier acts like random decision.\n",
    "plt.title('ROC Curve')\n",
    "plt.xlabel('False Positive Rate (Fall-Out)')\n",
    "plt.ylabel('True Positive Rate (Recall)')\n",
    "plt.grid()\n",
    "plt.legend(loc='lower right')\n"
   ]
  },
  {
   "cell_type": "markdown",
   "id": "602e0fb0",
   "metadata": {
    "papermill": {
     "duration": 0.037892,
     "end_time": "2024-08-01T09:20:53.611306",
     "exception": false,
     "start_time": "2024-08-01T09:20:53.573414",
     "status": "completed"
    },
    "tags": []
   },
   "source": [
    "- PR curve is commonly used when there are few positive-class samples in the dataset.\n",
    "- ROC curve is commonly used when there are many positive-class samples in the dataset."
   ]
  },
  {
   "cell_type": "markdown",
   "id": "ae475a71",
   "metadata": {
    "papermill": {
     "duration": 0.037528,
     "end_time": "2024-08-01T09:20:53.687835",
     "exception": false,
     "start_time": "2024-08-01T09:20:53.650307",
     "status": "completed"
    },
    "tags": []
   },
   "source": [
    "### AUC - Area under the curve \n",
    "AUC of ROC \n",
    "- 0.5 for Random classifier (baseline)\n",
    "- AUC close to 1 for perfect classifier."
   ]
  },
  {
   "cell_type": "code",
   "execution_count": 42,
   "id": "0c770a4b",
   "metadata": {
    "execution": {
     "iopub.execute_input": "2024-08-01T09:20:53.771253Z",
     "iopub.status.busy": "2024-08-01T09:20:53.770833Z",
     "iopub.status.idle": "2024-08-01T09:20:53.792537Z",
     "shell.execute_reply": "2024-08-01T09:20:53.791126Z"
    },
    "papermill": {
     "duration": 0.065408,
     "end_time": "2024-08-01T09:20:53.795448",
     "exception": false,
     "start_time": "2024-08-01T09:20:53.730040",
     "status": "completed"
    },
    "tags": []
   },
   "outputs": [
    {
     "name": "stdout",
     "output_type": "stream",
     "text": [
      "AUC of ROC score =  0.9728680080695739\n"
     ]
    }
   ],
   "source": [
    "from sklearn.metrics import roc_auc_score\n",
    "print('AUC of ROC score = ', roc_auc_score(y_train_5, y_score[:, 1]))"
   ]
  },
  {
   "cell_type": "markdown",
   "id": "59fd1d7c",
   "metadata": {
    "papermill": {
     "duration": 0.039461,
     "end_time": "2024-08-01T09:20:53.874828",
     "exception": false,
     "start_time": "2024-08-01T09:20:53.835367",
     "status": "completed"
    },
    "tags": []
   },
   "source": [
    "# Models Comparision\n",
    "- log_model1 -> Logistic Regression (/)\n",
    "- model2 -> SGD Classifier (-) ; Logistic Regression with SGD Training\n",
    "- model3 -> Random Forrest (-)"
   ]
  },
  {
   "cell_type": "code",
   "execution_count": 43,
   "id": "3d0d684c",
   "metadata": {
    "execution": {
     "iopub.execute_input": "2024-08-01T09:20:53.954770Z",
     "iopub.status.busy": "2024-08-01T09:20:53.954300Z",
     "iopub.status.idle": "2024-08-01T09:23:03.645994Z",
     "shell.execute_reply": "2024-08-01T09:23:03.644794Z"
    },
    "papermill": {
     "duration": 129.735144,
     "end_time": "2024-08-01T09:23:03.649089",
     "exception": false,
     "start_time": "2024-08-01T09:20:53.913945",
     "status": "completed"
    },
    "tags": []
   },
   "outputs": [],
   "source": [
    "model2 = SGDClassifier(random_state=42)\n",
    "model2.fit(X_train, y_train_5)\n",
    "y_score_model2 = cross_val_predict(model2, X_train, y_train_5, method='decision_function', cv=5)\n",
    "\n",
    "model3 = RandomForestClassifier(random_state=42)\n",
    "model3.fit(X_train, y_train_5)\n",
    "y_score_model3 = cross_val_predict(model3, X_train, y_train_5, method='predict_proba', cv=5)"
   ]
  },
  {
   "cell_type": "code",
   "execution_count": 44,
   "id": "da5ec7bc",
   "metadata": {
    "execution": {
     "iopub.execute_input": "2024-08-01T09:23:03.729000Z",
     "iopub.status.busy": "2024-08-01T09:23:03.728556Z",
     "iopub.status.idle": "2024-08-01T09:23:03.737499Z",
     "shell.execute_reply": "2024-08-01T09:23:03.736231Z"
    },
    "papermill": {
     "duration": 0.052643,
     "end_time": "2024-08-01T09:23:03.740239",
     "exception": false,
     "start_time": "2024-08-01T09:23:03.687596",
     "status": "completed"
    },
    "tags": []
   },
   "outputs": [
    {
     "data": {
      "text/plain": [
       "array([   702.91652572, -60834.02835772, -26744.47538247, ...,\n",
       "       -76653.21886253, -49956.0130848 , -36367.26201201])"
      ]
     },
     "execution_count": 44,
     "metadata": {},
     "output_type": "execute_result"
    }
   ],
   "source": [
    "y_score_model2"
   ]
  },
  {
   "cell_type": "code",
   "execution_count": 45,
   "id": "83e3911c",
   "metadata": {
    "execution": {
     "iopub.execute_input": "2024-08-01T09:23:03.821486Z",
     "iopub.status.busy": "2024-08-01T09:23:03.821099Z",
     "iopub.status.idle": "2024-08-01T09:23:03.828926Z",
     "shell.execute_reply": "2024-08-01T09:23:03.827539Z"
    },
    "papermill": {
     "duration": 0.051345,
     "end_time": "2024-08-01T09:23:03.831555",
     "exception": false,
     "start_time": "2024-08-01T09:23:03.780210",
     "status": "completed"
    },
    "tags": []
   },
   "outputs": [
    {
     "data": {
      "text/plain": [
       "array([False,  True])"
      ]
     },
     "execution_count": 45,
     "metadata": {},
     "output_type": "execute_result"
    }
   ],
   "source": [
    "model3.classes_ # class 0 = False, class 1 = True"
   ]
  },
  {
   "cell_type": "code",
   "execution_count": 46,
   "id": "d6131844",
   "metadata": {
    "execution": {
     "iopub.execute_input": "2024-08-01T09:23:03.911519Z",
     "iopub.status.busy": "2024-08-01T09:23:03.910924Z",
     "iopub.status.idle": "2024-08-01T09:23:03.919465Z",
     "shell.execute_reply": "2024-08-01T09:23:03.918357Z"
    },
    "papermill": {
     "duration": 0.051286,
     "end_time": "2024-08-01T09:23:03.922018",
     "exception": false,
     "start_time": "2024-08-01T09:23:03.870732",
     "status": "completed"
    },
    "tags": []
   },
   "outputs": [
    {
     "data": {
      "text/plain": [
       "array([0.3 , 0.  , 0.  , ..., 0.02, 0.08, 0.17])"
      ]
     },
     "execution_count": 46,
     "metadata": {},
     "output_type": "execute_result"
    }
   ],
   "source": [
    "y_score_model3_pos = y_score_model3[:, 1]\n",
    "y_score_model3_pos"
   ]
  },
  {
   "cell_type": "code",
   "execution_count": 47,
   "id": "9b482d16",
   "metadata": {
    "execution": {
     "iopub.execute_input": "2024-08-01T09:23:04.004241Z",
     "iopub.status.busy": "2024-08-01T09:23:04.003406Z",
     "iopub.status.idle": "2024-08-01T09:23:04.356523Z",
     "shell.execute_reply": "2024-08-01T09:23:04.355086Z"
    },
    "papermill": {
     "duration": 0.396713,
     "end_time": "2024-08-01T09:23:04.359067",
     "exception": false,
     "start_time": "2024-08-01T09:23:03.962354",
     "status": "completed"
    },
    "tags": []
   },
   "outputs": [
    {
     "data": {
      "text/plain": [
       "Text(0, 0.5, 'Recall')"
      ]
     },
     "execution_count": 47,
     "metadata": {},
     "output_type": "execute_result"
    },
    {
     "data": {
      "image/png": "[encoded data removed]",
      "text/plain": [
       "<Figure size 640x480 with 1 Axes>"
      ]
     },
     "metadata": {},
     "output_type": "display_data"
    }
   ],
   "source": [
    "precision_sgd, recall_sgd, thres_sgd = precision_recall_curve(y_train_5, y_score_model2)\n",
    "precision_rf, recall_rf, thres_rf = precision_recall_curve(y_train_5, y_score_model3_pos)\n",
    "# Plotting PR Curve\n",
    "plt.figure()\n",
    "plt.plot(precision, recall, label='Logistic Regression')\n",
    "plt.plot(precision_sgd, recall_sgd, label='SGD')\n",
    "plt.plot(precision_rf, recall_rf, label='Random Forest')\n",
    "plt.legend(loc='lower left')\n",
    "plt.xlabel('Precision')\n",
    "plt.ylabel('Recall')"
   ]
  },
  {
   "cell_type": "code",
   "execution_count": 48,
   "id": "1e654d04",
   "metadata": {
    "execution": {
     "iopub.execute_input": "2024-08-01T09:23:04.438905Z",
     "iopub.status.busy": "2024-08-01T09:23:04.438432Z",
     "iopub.status.idle": "2024-08-01T09:23:04.474603Z",
     "shell.execute_reply": "2024-08-01T09:23:04.473308Z"
    },
    "papermill": {
     "duration": 0.079172,
     "end_time": "2024-08-01T09:23:04.477263",
     "exception": false,
     "start_time": "2024-08-01T09:23:04.398091",
     "status": "completed"
    },
    "tags": []
   },
   "outputs": [
    {
     "name": "stdout",
     "output_type": "stream",
     "text": [
      "AOC of Logistic Regression 0.9728680080695739\n",
      "AOC of SGD 0.9609517261180666\n",
      "AOC of Random Forest 0.9980514397539838\n"
     ]
    }
   ],
   "source": [
    "print('AOC of Logistic Regression', roc_auc_score(y_train_5, y_score[:,1]))\n",
    "print('AOC of SGD', roc_auc_score(y_train_5, y_score_model2))\n",
    "print('AOC of Random Forest', roc_auc_score(y_train_5, y_score_model3_pos))"
   ]
  },
  {
   "cell_type": "markdown",
   "id": "eac7612a",
   "metadata": {
    "papermill": {
     "duration": 0.040302,
     "end_time": "2024-08-01T09:23:04.558242",
     "exception": false,
     "start_time": "2024-08-01T09:23:04.517940",
     "status": "completed"
    },
    "tags": []
   },
   "source": [
    "# Multi-Class Classification\n",
    "- Every classifiers builted by sklearn have \"built-in\" multiclass classification support.\n",
    "- 2 techniques used in multiclass classification are One-Vs-One and One-Vs-The-Rest."
   ]
  },
  {
   "cell_type": "code",
   "execution_count": 49,
   "id": "04a307d6",
   "metadata": {
    "execution": {
     "iopub.execute_input": "2024-08-01T09:23:04.642018Z",
     "iopub.status.busy": "2024-08-01T09:23:04.641601Z",
     "iopub.status.idle": "2024-08-01T09:23:06.691912Z",
     "shell.execute_reply": "2024-08-01T09:23:06.690439Z"
    },
    "papermill": {
     "duration": 2.096118,
     "end_time": "2024-08-01T09:23:06.695070",
     "exception": false,
     "start_time": "2024-08-01T09:23:04.598952",
     "status": "completed"
    },
    "tags": []
   },
   "outputs": [],
   "source": [
    "# Using Decision Tree for multiclass classification\n",
    "model4_multi_rf = RandomForestClassifier(random_state=42)\n",
    "model4_multi_rf.fit(X_train[:2000], y_train[:2000])\n",
    "y_pred_model4 = model4_multi_rf.predict(X_train)"
   ]
  },
  {
   "cell_type": "code",
   "execution_count": 50,
   "id": "2af274fb",
   "metadata": {
    "execution": {
     "iopub.execute_input": "2024-08-01T09:23:06.775659Z",
     "iopub.status.busy": "2024-08-01T09:23:06.775223Z",
     "iopub.status.idle": "2024-08-01T09:23:06.791837Z",
     "shell.execute_reply": "2024-08-01T09:23:06.790495Z"
    },
    "papermill": {
     "duration": 0.059912,
     "end_time": "2024-08-01T09:23:06.794519",
     "exception": false,
     "start_time": "2024-08-01T09:23:06.734607",
     "status": "completed"
    },
    "tags": []
   },
   "outputs": [
    {
     "data": {
      "text/plain": [
       "array([3])"
      ]
     },
     "execution_count": 50,
     "metadata": {},
     "output_type": "execute_result"
    }
   ],
   "source": [
    "model4_multi_rf.predict([X_train[2]])"
   ]
  },
  {
   "cell_type": "code",
   "execution_count": 51,
   "id": "77d7f977",
   "metadata": {
    "execution": {
     "iopub.execute_input": "2024-08-01T09:23:06.877068Z",
     "iopub.status.busy": "2024-08-01T09:23:06.876637Z",
     "iopub.status.idle": "2024-08-01T09:23:06.893643Z",
     "shell.execute_reply": "2024-08-01T09:23:06.892364Z"
    },
    "papermill": {
     "duration": 0.061808,
     "end_time": "2024-08-01T09:23:06.896652",
     "exception": false,
     "start_time": "2024-08-01T09:23:06.834844",
     "status": "completed"
    },
    "tags": []
   },
   "outputs": [
    {
     "data": {
      "text/plain": [
       "array([[0.  , 0.26, 0.02, 0.61, 0.  , 0.  , 0.  , 0.03, 0.02, 0.06]])"
      ]
     },
     "execution_count": 51,
     "metadata": {},
     "output_type": "execute_result"
    }
   ],
   "source": [
    "model4_multi_rf.predict_proba([X_train[2]])\n",
    "# len() = 10 -> get 10 models for 10 class -> This model uses One Vs Rest technique."
   ]
  },
  {
   "cell_type": "code",
   "execution_count": 52,
   "id": "3f4988b6",
   "metadata": {
    "execution": {
     "iopub.execute_input": "2024-08-01T09:23:06.978991Z",
     "iopub.status.busy": "2024-08-01T09:23:06.978560Z",
     "iopub.status.idle": "2024-08-01T09:23:07.764942Z",
     "shell.execute_reply": "2024-08-01T09:23:07.763611Z"
    },
    "papermill": {
     "duration": 0.830377,
     "end_time": "2024-08-01T09:23:07.767604",
     "exception": false,
     "start_time": "2024-08-01T09:23:06.937227",
     "status": "completed"
    },
    "tags": []
   },
   "outputs": [
    {
     "data": {
      "text/plain": [
       "0.9223525230987918"
      ]
     },
     "execution_count": 52,
     "metadata": {},
     "output_type": "execute_result"
    }
   ],
   "source": [
    "model4_multi_rf.score(X_train, y_train)"
   ]
  },
  {
   "cell_type": "code",
   "execution_count": 53,
   "id": "4b309ef5",
   "metadata": {
    "execution": {
     "iopub.execute_input": "2024-08-01T09:23:07.854609Z",
     "iopub.status.busy": "2024-08-01T09:23:07.854115Z",
     "iopub.status.idle": "2024-08-01T09:23:31.953089Z",
     "shell.execute_reply": "2024-08-01T09:23:31.951392Z"
    },
    "papermill": {
     "duration": 24.145785,
     "end_time": "2024-08-01T09:23:31.956103",
     "exception": false,
     "start_time": "2024-08-01T09:23:07.810318",
     "status": "completed"
    },
    "tags": []
   },
   "outputs": [],
   "source": [
    "from sklearn.multiclass import OneVsOneClassifier\n",
    "from sklearn.multiclass import OneVsRestClassifier\n",
    "# forcing classification technique in models\n",
    "forced_rf_ovo = OneVsOneClassifier(RandomForestClassifier(random_state=42)).fit(X_train[:2000], y_train[:2000]) # 45 models\n",
    "forced_rf_ovr = OneVsRestClassifier(RandomForestClassifier(random_state=42)).fit(X_train[:2000], y_train[:2000]) # 10 models"
   ]
  },
  {
   "cell_type": "code",
   "execution_count": 54,
   "id": "7adf3f5f",
   "metadata": {
    "execution": {
     "iopub.execute_input": "2024-08-01T09:23:32.040557Z",
     "iopub.status.busy": "2024-08-01T09:23:32.040120Z",
     "iopub.status.idle": "2024-08-01T09:23:56.894427Z",
     "shell.execute_reply": "2024-08-01T09:23:56.892496Z"
    },
    "papermill": {
     "duration": 24.899818,
     "end_time": "2024-08-01T09:23:56.897488",
     "exception": false,
     "start_time": "2024-08-01T09:23:31.997670",
     "status": "completed"
    },
    "tags": []
   },
   "outputs": [
    {
     "data": {
      "text/plain": [
       "0.9214641080312722"
      ]
     },
     "execution_count": 54,
     "metadata": {},
     "output_type": "execute_result"
    }
   ],
   "source": [
    "forced_rf_ovo.score(X_train, y_train)"
   ]
  },
  {
   "cell_type": "code",
   "execution_count": 55,
   "id": "2e3b7e2d",
   "metadata": {
    "execution": {
     "iopub.execute_input": "2024-08-01T09:23:56.987279Z",
     "iopub.status.busy": "2024-08-01T09:23:56.986880Z",
     "iopub.status.idle": "2024-08-01T09:24:01.079222Z",
     "shell.execute_reply": "2024-08-01T09:24:01.078076Z"
    },
    "papermill": {
     "duration": 4.141321,
     "end_time": "2024-08-01T09:24:01.081849",
     "exception": false,
     "start_time": "2024-08-01T09:23:56.940528",
     "status": "completed"
    },
    "tags": []
   },
   "outputs": [
    {
     "data": {
      "text/plain": [
       "0.9208244491826582"
      ]
     },
     "execution_count": 55,
     "metadata": {},
     "output_type": "execute_result"
    }
   ],
   "source": [
    "forced_rf_ovr.score(X_train, y_train)"
   ]
  },
  {
   "cell_type": "markdown",
   "id": "0e177209",
   "metadata": {
    "papermill": {
     "duration": 0.040728,
     "end_time": "2024-08-01T09:24:01.162791",
     "exception": false,
     "start_time": "2024-08-01T09:24:01.122063",
     "status": "completed"
    },
    "tags": []
   },
   "source": [
    "Note that \n",
    "- Accuracy can be used in this case because target label are '0-9' , not only '5'. -> No imbalance in data targets\n",
    "- The number of instances for each data label is nearly the same, so the model's accuracy is less likely to be an overestimate.\n",
    "- (If data target were only '5' or 'not 5', there would be an imbalance in predictions. In such cases, accuracy would not be prefered.)"
   ]
  },
  {
   "cell_type": "code",
   "execution_count": 56,
   "id": "f7123244",
   "metadata": {
    "execution": {
     "iopub.execute_input": "2024-08-01T09:24:01.247141Z",
     "iopub.status.busy": "2024-08-01T09:24:01.246756Z",
     "iopub.status.idle": "2024-08-01T09:24:01.262317Z",
     "shell.execute_reply": "2024-08-01T09:24:01.261038Z"
    },
    "papermill": {
     "duration": 0.060759,
     "end_time": "2024-08-01T09:24:01.265259",
     "exception": false,
     "start_time": "2024-08-01T09:24:01.204500",
     "status": "completed"
    },
    "tags": []
   },
   "outputs": [
    {
     "data": {
      "text/plain": [
       "label\n",
       "1    3164\n",
       "7    2921\n",
       "3    2880\n",
       "9    2840\n",
       "0    2799\n",
       "2    2763\n",
       "6    2740\n",
       "8    2729\n",
       "4    2714\n",
       "5    2590\n",
       "Name: count, dtype: int64"
      ]
     },
     "execution_count": 56,
     "metadata": {},
     "output_type": "execute_result"
    }
   ],
   "source": [
    "y_train.value_counts()"
   ]
  },
  {
   "cell_type": "markdown",
   "id": "823bb299",
   "metadata": {
    "papermill": {
     "duration": 0.04513,
     "end_time": "2024-08-01T09:24:01.354272",
     "exception": false,
     "start_time": "2024-08-01T09:24:01.309142",
     "status": "completed"
    },
    "tags": []
   },
   "source": [
    "## Multiclass Model Selection"
   ]
  },
  {
   "cell_type": "code",
   "execution_count": 57,
   "id": "0156911c",
   "metadata": {
    "execution": {
     "iopub.execute_input": "2024-08-01T09:24:01.440790Z",
     "iopub.status.busy": "2024-08-01T09:24:01.439672Z",
     "iopub.status.idle": "2024-08-01T09:25:17.818854Z",
     "shell.execute_reply": "2024-08-01T09:25:17.817615Z"
    },
    "papermill": {
     "duration": 76.426362,
     "end_time": "2024-08-01T09:25:17.821935",
     "exception": false,
     "start_time": "2024-08-01T09:24:01.395573",
     "status": "completed"
    },
    "tags": []
   },
   "outputs": [],
   "source": [
    "multi_log = LogisticRegression(random_state=42).fit(X_train, y_train)\n",
    "multi_rf = RandomForestClassifier(random_state=42).fit(X_train[:2000], y_train[:2000]) # only 2000 data points\n",
    "multi_sgd = SGDClassifier(random_state=42).fit(X_train, y_train)"
   ]
  },
  {
   "cell_type": "code",
   "execution_count": 58,
   "id": "f9f37b78",
   "metadata": {
    "execution": {
     "iopub.execute_input": "2024-08-01T09:25:17.909666Z",
     "iopub.status.busy": "2024-08-01T09:25:17.909247Z",
     "iopub.status.idle": "2024-08-01T09:25:18.694291Z",
     "shell.execute_reply": "2024-08-01T09:25:18.693033Z"
    },
    "papermill": {
     "duration": 0.833069,
     "end_time": "2024-08-01T09:25:18.697501",
     "exception": false,
     "start_time": "2024-08-01T09:25:17.864432",
     "status": "completed"
    },
    "tags": []
   },
   "outputs": [],
   "source": [
    "# support vector machine classifier\n",
    "\n",
    "multi_svc = SVC(random_state=42).fit(X_train[:2000], y_train[:2000]) # only 2000 data points"
   ]
  },
  {
   "cell_type": "code",
   "execution_count": 59,
   "id": "4a0ced26",
   "metadata": {
    "execution": {
     "iopub.execute_input": "2024-08-01T09:25:18.781513Z",
     "iopub.status.busy": "2024-08-01T09:25:18.780585Z",
     "iopub.status.idle": "2024-08-01T09:28:49.179269Z",
     "shell.execute_reply": "2024-08-01T09:28:49.177928Z"
    },
    "papermill": {
     "duration": 210.443346,
     "end_time": "2024-08-01T09:28:49.182501",
     "exception": false,
     "start_time": "2024-08-01T09:25:18.739155",
     "status": "completed"
    },
    "tags": []
   },
   "outputs": [
    {
     "name": "stderr",
     "output_type": "stream",
     "text": [
      "/opt/conda/lib/python3.10/site-packages/sklearn/linear_model/_logistic.py:458: ConvergenceWarning: lbfgs failed to converge (status=1):\n",
      "STOP: TOTAL NO. of ITERATIONS REACHED LIMIT.\n",
      "\n",
      "Increase the number of iterations (max_iter) or scale the data as shown in:\n",
      "    https://scikit-learn.org/stable/modules/preprocessing.html\n",
      "Please also refer to the documentation for alternative solver options:\n",
      "    https://scikit-learn.org/stable/modules/linear_model.html#logistic-regression\n",
      "  n_iter_i = _check_optimize_result(\n",
      "/opt/conda/lib/python3.10/site-packages/sklearn/linear_model/_logistic.py:458: ConvergenceWarning: lbfgs failed to converge (status=1):\n",
      "STOP: TOTAL NO. of ITERATIONS REACHED LIMIT.\n",
      "\n",
      "Increase the number of iterations (max_iter) or scale the data as shown in:\n",
      "    https://scikit-learn.org/stable/modules/preprocessing.html\n",
      "Please also refer to the documentation for alternative solver options:\n",
      "    https://scikit-learn.org/stable/modules/linear_model.html#logistic-regression\n",
      "  n_iter_i = _check_optimize_result(\n",
      "/opt/conda/lib/python3.10/site-packages/sklearn/linear_model/_logistic.py:458: ConvergenceWarning: lbfgs failed to converge (status=1):\n",
      "STOP: TOTAL NO. of ITERATIONS REACHED LIMIT.\n",
      "\n",
      "Increase the number of iterations (max_iter) or scale the data as shown in:\n",
      "    https://scikit-learn.org/stable/modules/preprocessing.html\n",
      "Please also refer to the documentation for alternative solver options:\n",
      "    https://scikit-learn.org/stable/modules/linear_model.html#logistic-regression\n",
      "  n_iter_i = _check_optimize_result(\n"
     ]
    }
   ],
   "source": [
    "score_multi_log = cross_val_score(multi_log, X_train, y_train, cv=3, scoring='accuracy', n_jobs=-1)\n",
    "score_multi_rf = cross_val_score(multi_rf, X_train, y_train, cv=3, scoring='accuracy', n_jobs=-1)\n",
    "score_multi_sgd = cross_val_score(multi_sgd, X_train, y_train, cv=3, scoring='accuracy', n_jobs=-1)\n",
    "score_multi_svc = cross_val_score(multi_svc, X_train, y_train, cv=3, scoring='accuracy', n_jobs=-1)"
   ]
  },
  {
   "cell_type": "code",
   "execution_count": 60,
   "id": "655a3f99",
   "metadata": {
    "execution": {
     "iopub.execute_input": "2024-08-01T09:28:49.273451Z",
     "iopub.status.busy": "2024-08-01T09:28:49.272989Z",
     "iopub.status.idle": "2024-08-01T09:28:49.283349Z",
     "shell.execute_reply": "2024-08-01T09:28:49.281906Z"
    },
    "papermill": {
     "duration": 0.061718,
     "end_time": "2024-08-01T09:28:49.286379",
     "exception": false,
     "start_time": "2024-08-01T09:28:49.224661",
     "status": "completed"
    },
    "tags": []
   },
   "outputs": [
    {
     "data": {
      "text/plain": [
       "[array([0.90095949, 0.90245203, 0.90010661]),\n",
       " array([0.95469083, 0.95852878, 0.95916844]),\n",
       " array([0.85724947, 0.87590618, 0.86823028]),\n",
       " array([0.96812367, 0.97238806, 0.97004264])]"
      ]
     },
     "execution_count": 60,
     "metadata": {},
     "output_type": "execute_result"
    }
   ],
   "source": [
    "[score_multi_log, score_multi_rf, score_multi_sgd, score_multi_svc]"
   ]
  },
  {
   "cell_type": "markdown",
   "id": "57b4f018",
   "metadata": {
    "papermill": {
     "duration": 0.042469,
     "end_time": "2024-08-01T09:28:49.374420",
     "exception": false,
     "start_time": "2024-08-01T09:28:49.331951",
     "status": "completed"
    },
    "tags": []
   },
   "source": [
    "### Feature Scaling"
   ]
  },
  {
   "cell_type": "code",
   "execution_count": 61,
   "id": "ae0cb8f6",
   "metadata": {
    "execution": {
     "iopub.execute_input": "2024-08-01T09:28:49.459072Z",
     "iopub.status.busy": "2024-08-01T09:28:49.458636Z",
     "iopub.status.idle": "2024-08-01T09:28:49.838476Z",
     "shell.execute_reply": "2024-08-01T09:28:49.836791Z"
    },
    "papermill": {
     "duration": 0.426045,
     "end_time": "2024-08-01T09:28:49.841440",
     "exception": false,
     "start_time": "2024-08-01T09:28:49.415395",
     "status": "completed"
    },
    "tags": []
   },
   "outputs": [],
   "source": [
    "# normalizing feature data \n",
    "X_scaled = StandardScaler().fit_transform(X_train.astype('float64'))\n"
   ]
  },
  {
   "cell_type": "code",
   "execution_count": 62,
   "id": "f2000cbe",
   "metadata": {
    "execution": {
     "iopub.execute_input": "2024-08-01T09:28:49.928352Z",
     "iopub.status.busy": "2024-08-01T09:28:49.927601Z",
     "iopub.status.idle": "2024-08-01T09:32:08.792568Z",
     "shell.execute_reply": "2024-08-01T09:32:08.791290Z"
    },
    "papermill": {
     "duration": 198.912817,
     "end_time": "2024-08-01T09:32:08.795788",
     "exception": false,
     "start_time": "2024-08-01T09:28:49.882971",
     "status": "completed"
    },
    "tags": []
   },
   "outputs": [],
   "source": [
    "multi_log_scaled = LogisticRegression(random_state=42).fit(X_scaled, y_train)\n",
    "multi_rf_scaled = RandomForestClassifier(random_state=42).fit(X_scaled[:2000], y_train[:2000]) # only 2000 data points\n",
    "multi_sgd_scaled = SGDClassifier(random_state=42).fit(X_scaled, y_train)\n",
    "multi_svc_scaled = SVC(random_state=42).fit(X_scaled[:2000], y_train[:2000]) # only 2000 data points"
   ]
  },
  {
   "cell_type": "code",
   "execution_count": 63,
   "id": "d04352e1",
   "metadata": {
    "execution": {
     "iopub.execute_input": "2024-08-01T09:32:08.879886Z",
     "iopub.status.busy": "2024-08-01T09:32:08.879441Z",
     "iopub.status.idle": "2024-08-01T09:38:20.538714Z",
     "shell.execute_reply": "2024-08-01T09:38:20.537207Z"
    },
    "papermill": {
     "duration": 371.705662,
     "end_time": "2024-08-01T09:38:20.542444",
     "exception": false,
     "start_time": "2024-08-01T09:32:08.836782",
     "status": "completed"
    },
    "tags": []
   },
   "outputs": [
    {
     "name": "stderr",
     "output_type": "stream",
     "text": [
      "/opt/conda/lib/python3.10/site-packages/sklearn/linear_model/_logistic.py:458: ConvergenceWarning: lbfgs failed to converge (status=1):\n",
      "STOP: TOTAL NO. of ITERATIONS REACHED LIMIT.\n",
      "\n",
      "Increase the number of iterations (max_iter) or scale the data as shown in:\n",
      "    https://scikit-learn.org/stable/modules/preprocessing.html\n",
      "Please also refer to the documentation for alternative solver options:\n",
      "    https://scikit-learn.org/stable/modules/linear_model.html#logistic-regression\n",
      "  n_iter_i = _check_optimize_result(\n",
      "/opt/conda/lib/python3.10/site-packages/sklearn/linear_model/_logistic.py:458: ConvergenceWarning: lbfgs failed to converge (status=1):\n",
      "STOP: TOTAL NO. of ITERATIONS REACHED LIMIT.\n",
      "\n",
      "Increase the number of iterations (max_iter) or scale the data as shown in:\n",
      "    https://scikit-learn.org/stable/modules/preprocessing.html\n",
      "Please also refer to the documentation for alternative solver options:\n",
      "    https://scikit-learn.org/stable/modules/linear_model.html#logistic-regression\n",
      "  n_iter_i = _check_optimize_result(\n",
      "/opt/conda/lib/python3.10/site-packages/sklearn/linear_model/_logistic.py:458: ConvergenceWarning: lbfgs failed to converge (status=1):\n",
      "STOP: TOTAL NO. of ITERATIONS REACHED LIMIT.\n",
      "\n",
      "Increase the number of iterations (max_iter) or scale the data as shown in:\n",
      "    https://scikit-learn.org/stable/modules/preprocessing.html\n",
      "Please also refer to the documentation for alternative solver options:\n",
      "    https://scikit-learn.org/stable/modules/linear_model.html#logistic-regression\n",
      "  n_iter_i = _check_optimize_result(\n",
      "/opt/conda/lib/python3.10/site-packages/sklearn/linear_model/_stochastic_gradient.py:702: ConvergenceWarning: Maximum number of iteration reached before convergence. Consider increasing max_iter to improve the fit.\n",
      "  warnings.warn(\n",
      "/opt/conda/lib/python3.10/site-packages/sklearn/linear_model/_stochastic_gradient.py:702: ConvergenceWarning: Maximum number of iteration reached before convergence. Consider increasing max_iter to improve the fit.\n",
      "  warnings.warn(\n",
      "/opt/conda/lib/python3.10/site-packages/sklearn/linear_model/_stochastic_gradient.py:702: ConvergenceWarning: Maximum number of iteration reached before convergence. Consider increasing max_iter to improve the fit.\n",
      "  warnings.warn(\n"
     ]
    }
   ],
   "source": [
    "score_multi_log_scaled = cross_val_score(multi_log_scaled, X_scaled, y_train, cv=3, scoring='accuracy', n_jobs=-1)\n",
    "score_multi_rf_scaled = cross_val_score(multi_rf_scaled, X_scaled, y_train, cv=3, scoring='accuracy', n_jobs=-1)\n",
    "score_multi_sgd_scaled = cross_val_score(multi_sgd_scaled, X_scaled, y_train, cv=3, scoring='accuracy', n_jobs=-1)\n",
    "score_multi_svc_scaled = cross_val_score(multi_svc_scaled, X_scaled, y_train, cv=3, scoring='accuracy', n_jobs=-1)"
   ]
  },
  {
   "cell_type": "code",
   "execution_count": 64,
   "id": "60501c47",
   "metadata": {
    "execution": {
     "iopub.execute_input": "2024-08-01T09:38:20.629019Z",
     "iopub.status.busy": "2024-08-01T09:38:20.628299Z",
     "iopub.status.idle": "2024-08-01T09:38:20.639784Z",
     "shell.execute_reply": "2024-08-01T09:38:20.638473Z"
    },
    "papermill": {
     "duration": 0.058008,
     "end_time": "2024-08-01T09:38:20.642451",
     "exception": false,
     "start_time": "2024-08-01T09:38:20.584443",
     "status": "completed"
    },
    "tags": []
   },
   "outputs": [
    {
     "data": {
      "text/plain": [
       "[array([0.88816631, 0.89285714, 0.89051173]),\n",
       " array([0.95469083, 0.958742  , 0.95938166]),\n",
       " array([0.90362473, 0.90607676, 0.90831557]),\n",
       " array([0.94829424, 0.95373134, 0.95426439])]"
      ]
     },
     "execution_count": 64,
     "metadata": {},
     "output_type": "execute_result"
    }
   ],
   "source": [
    "[score_multi_log_scaled, score_multi_rf_scaled, score_multi_sgd_scaled, score_multi_svc_scaled]"
   ]
  },
  {
   "cell_type": "markdown",
   "id": "4590ce5f",
   "metadata": {
    "papermill": {
     "duration": 0.043667,
     "end_time": "2024-08-01T09:38:20.728909",
     "exception": false,
     "start_time": "2024-08-01T09:38:20.685242",
     "status": "completed"
    },
    "tags": []
   },
   "source": [
    "Choose SVC model."
   ]
  },
  {
   "cell_type": "markdown",
   "id": "a3060284",
   "metadata": {
    "papermill": {
     "duration": 0.043085,
     "end_time": "2024-08-01T09:38:20.819948",
     "exception": false,
     "start_time": "2024-08-01T09:38:20.776863",
     "status": "completed"
    },
    "tags": []
   },
   "source": [
    "## Error Analysis"
   ]
  },
  {
   "cell_type": "code",
   "execution_count": 65,
   "id": "6f2ff399",
   "metadata": {
    "execution": {
     "iopub.execute_input": "2024-08-01T09:38:20.908877Z",
     "iopub.status.busy": "2024-08-01T09:38:20.908388Z",
     "iopub.status.idle": "2024-08-01T09:41:30.435890Z",
     "shell.execute_reply": "2024-08-01T09:41:30.434637Z"
    },
    "papermill": {
     "duration": 189.575478,
     "end_time": "2024-08-01T09:41:30.439034",
     "exception": false,
     "start_time": "2024-08-01T09:38:20.863556",
     "status": "completed"
    },
    "tags": []
   },
   "outputs": [],
   "source": [
    "y_train_pred = cross_val_predict(multi_svc_scaled, X_scaled, y_train, cv=3, n_jobs=-1)"
   ]
  },
  {
   "cell_type": "code",
   "execution_count": 66,
   "id": "b6367778",
   "metadata": {
    "execution": {
     "iopub.execute_input": "2024-08-01T09:41:30.523746Z",
     "iopub.status.busy": "2024-08-01T09:41:30.523305Z",
     "iopub.status.idle": "2024-08-01T09:41:31.098755Z",
     "shell.execute_reply": "2024-08-01T09:41:31.097231Z"
    },
    "papermill": {
     "duration": 0.620896,
     "end_time": "2024-08-01T09:41:31.101376",
     "exception": false,
     "start_time": "2024-08-01T09:41:30.480480",
     "status": "completed"
    },
    "tags": []
   },
   "outputs": [
    {
     "data": {
      "image/png": "[encoded data removed]",
      "text/plain": [
       "<Figure size 640x480 with 2 Axes>"
      ]
     },
     "metadata": {},
     "output_type": "display_data"
    }
   ],
   "source": [
    "ConfusionMatrixDisplay.from_predictions(y_train, y_train_pred)\n",
    "plt.show()"
   ]
  },
  {
   "cell_type": "code",
   "execution_count": 67,
   "id": "f96f3c81",
   "metadata": {
    "execution": {
     "iopub.execute_input": "2024-08-01T09:41:31.188842Z",
     "iopub.status.busy": "2024-08-01T09:41:31.188381Z",
     "iopub.status.idle": "2024-08-01T09:41:31.987858Z",
     "shell.execute_reply": "2024-08-01T09:41:31.986675Z"
    },
    "papermill": {
     "duration": 0.846887,
     "end_time": "2024-08-01T09:41:31.990722",
     "exception": false,
     "start_time": "2024-08-01T09:41:31.143835",
     "status": "completed"
    },
    "tags": []
   },
   "outputs": [
    {
     "data": {
      "text/plain": [
       "<sklearn.metrics._plot.confusion_matrix.ConfusionMatrixDisplay at 0x79458466e6b0>"
      ]
     },
     "execution_count": 67,
     "metadata": {},
     "output_type": "execute_result"
    },
    {
     "data": {
      "image/png": "[encoded data removed]",
      "text/plain": [
       "<Figure size 640x480 with 2 Axes>"
      ]
     },
     "metadata": {},
     "output_type": "display_data"
    }
   ],
   "source": [
    "ConfusionMatrixDisplay.from_predictions(y_train, y_train_pred, normalize='true', values_format='.0%') # normalized by row"
   ]
  },
  {
   "cell_type": "code",
   "execution_count": 68,
   "id": "320fc7ec",
   "metadata": {
    "execution": {
     "iopub.execute_input": "2024-08-01T09:41:32.078357Z",
     "iopub.status.busy": "2024-08-01T09:41:32.077955Z",
     "iopub.status.idle": "2024-08-01T09:41:32.738429Z",
     "shell.execute_reply": "2024-08-01T09:41:32.737120Z"
    },
    "papermill": {
     "duration": 0.707668,
     "end_time": "2024-08-01T09:41:32.741240",
     "exception": false,
     "start_time": "2024-08-01T09:41:32.033572",
     "status": "completed"
    },
    "tags": []
   },
   "outputs": [
    {
     "data": {
      "text/plain": [
       "<sklearn.metrics._plot.confusion_matrix.ConfusionMatrixDisplay at 0x7945926168f0>"
      ]
     },
     "execution_count": 68,
     "metadata": {},
     "output_type": "execute_result"
    },
    {
     "data": {
      "image/png": "[encoded data removed]",
      "text/plain": [
       "<Figure size 640x480 with 2 Axes>"
      ]
     },
     "metadata": {},
     "output_type": "display_data"
    }
   ],
   "source": [
    "ConfusionMatrixDisplay.from_predictions(y_train, y_train_pred, normalize='pred', values_format='.0%') # normalized by column"
   ]
  },
  {
   "cell_type": "markdown",
   "id": "b70dd65d",
   "metadata": {
    "papermill": {
     "duration": 0.044453,
     "end_time": "2024-08-01T09:41:32.830196",
     "exception": false,
     "start_time": "2024-08-01T09:41:32.785743",
     "status": "completed"
    },
    "tags": []
   },
   "source": [
    "Let's see the error in 3rd column, 2% of predicted '2' labels are incorrect (actual is '3')."
   ]
  },
  {
   "cell_type": "markdown",
   "id": "0ec46395",
   "metadata": {
    "papermill": {
     "duration": 0.044059,
     "end_time": "2024-08-01T09:41:32.918853",
     "exception": false,
     "start_time": "2024-08-01T09:41:32.874794",
     "status": "completed"
    },
    "tags": []
   },
   "source": [
    "# Submission"
   ]
  },
  {
   "cell_type": "code",
   "execution_count": 69,
   "id": "216e29d8",
   "metadata": {
    "execution": {
     "iopub.execute_input": "2024-08-01T09:41:33.009451Z",
     "iopub.status.busy": "2024-08-01T09:41:33.009039Z",
     "iopub.status.idle": "2024-08-01T09:41:35.494815Z",
     "shell.execute_reply": "2024-08-01T09:41:35.493677Z"
    },
    "papermill": {
     "duration": 2.534645,
     "end_time": "2024-08-01T09:41:35.497936",
     "exception": false,
     "start_time": "2024-08-01T09:41:32.963291",
     "status": "completed"
    },
    "tags": []
   },
   "outputs": [],
   "source": [
    "X_test = pd.read_csv('/kaggle/input/digit-recognizer/test.csv')"
   ]
  },
  {
   "cell_type": "code",
   "execution_count": 70,
   "id": "8f704078",
   "metadata": {
    "execution": {
     "iopub.execute_input": "2024-08-01T09:41:35.595155Z",
     "iopub.status.busy": "2024-08-01T09:41:35.594008Z",
     "iopub.status.idle": "2024-08-01T09:41:35.621812Z",
     "shell.execute_reply": "2024-08-01T09:41:35.620639Z"
    },
    "papermill": {
     "duration": 0.079356,
     "end_time": "2024-08-01T09:41:35.624330",
     "exception": false,
     "start_time": "2024-08-01T09:41:35.544974",
     "status": "completed"
    },
    "tags": []
   },
   "outputs": [
    {
     "data": {
      "text/plain": [
       "pixel0      0\n",
       "pixel1      0\n",
       "pixel2      0\n",
       "pixel3      0\n",
       "pixel4      0\n",
       "           ..\n",
       "pixel779    0\n",
       "pixel780    0\n",
       "pixel781    0\n",
       "pixel782    0\n",
       "pixel783    0\n",
       "Length: 784, dtype: int64"
      ]
     },
     "execution_count": 70,
     "metadata": {},
     "output_type": "execute_result"
    }
   ],
   "source": [
    "X_test.isna().sum()"
   ]
  },
  {
   "cell_type": "code",
   "execution_count": 71,
   "id": "443ea2ed",
   "metadata": {
    "execution": {
     "iopub.execute_input": "2024-08-01T09:41:35.717717Z",
     "iopub.status.busy": "2024-08-01T09:41:35.717276Z",
     "iopub.status.idle": "2024-08-01T09:41:35.738222Z",
     "shell.execute_reply": "2024-08-01T09:41:35.737043Z"
    },
    "papermill": {
     "duration": 0.071253,
     "end_time": "2024-08-01T09:41:35.741183",
     "exception": false,
     "start_time": "2024-08-01T09:41:35.669930",
     "status": "completed"
    },
    "tags": []
   },
   "outputs": [
    {
     "data": {
      "text/html": [
       "<div>\n",
       "<style scoped>\n",
       "    .dataframe tbody tr th:only-of-type {\n",
       "        vertical-align: middle;\n",
       "    }\n",
       "\n",
       "    .dataframe tbody tr th {\n",
       "        vertical-align: top;\n",
       "    }\n",
       "\n",
       "    .dataframe thead th {\n",
       "        text-align: right;\n",
       "    }\n",
       "</style>\n",
       "<table border=\"1\" class=\"dataframe\">\n",
       "  <thead>\n",
       "    <tr style=\"text-align: right;\">\n",
       "      <th></th>\n",
       "      <th>pixel0</th>\n",
       "      <th>pixel1</th>\n",
       "      <th>pixel2</th>\n",
       "      <th>pixel3</th>\n",
       "      <th>pixel4</th>\n",
       "      <th>pixel5</th>\n",
       "      <th>pixel6</th>\n",
       "      <th>pixel7</th>\n",
       "      <th>pixel8</th>\n",
       "      <th>pixel9</th>\n",
       "      <th>...</th>\n",
       "      <th>pixel774</th>\n",
       "      <th>pixel775</th>\n",
       "      <th>pixel776</th>\n",
       "      <th>pixel777</th>\n",
       "      <th>pixel778</th>\n",
       "      <th>pixel779</th>\n",
       "      <th>pixel780</th>\n",
       "      <th>pixel781</th>\n",
       "      <th>pixel782</th>\n",
       "      <th>pixel783</th>\n",
       "    </tr>\n",
       "  </thead>\n",
       "  <tbody>\n",
       "    <tr>\n",
       "      <th>0</th>\n",
       "      <td>0</td>\n",
       "      <td>0</td>\n",
       "      <td>0</td>\n",
       "      <td>0</td>\n",
       "      <td>0</td>\n",
       "      <td>0</td>\n",
       "      <td>0</td>\n",
       "      <td>0</td>\n",
       "      <td>0</td>\n",
       "      <td>0</td>\n",
       "      <td>...</td>\n",
       "      <td>0</td>\n",
       "      <td>0</td>\n",
       "      <td>0</td>\n",
       "      <td>0</td>\n",
       "      <td>0</td>\n",
       "      <td>0</td>\n",
       "      <td>0</td>\n",
       "      <td>0</td>\n",
       "      <td>0</td>\n",
       "      <td>0</td>\n",
       "    </tr>\n",
       "    <tr>\n",
       "      <th>1</th>\n",
       "      <td>0</td>\n",
       "      <td>0</td>\n",
       "      <td>0</td>\n",
       "      <td>0</td>\n",
       "      <td>0</td>\n",
       "      <td>0</td>\n",
       "      <td>0</td>\n",
       "      <td>0</td>\n",
       "      <td>0</td>\n",
       "      <td>0</td>\n",
       "      <td>...</td>\n",
       "      <td>0</td>\n",
       "      <td>0</td>\n",
       "      <td>0</td>\n",
       "      <td>0</td>\n",
       "      <td>0</td>\n",
       "      <td>0</td>\n",
       "      <td>0</td>\n",
       "      <td>0</td>\n",
       "      <td>0</td>\n",
       "      <td>0</td>\n",
       "    </tr>\n",
       "    <tr>\n",
       "      <th>2</th>\n",
       "      <td>0</td>\n",
       "      <td>0</td>\n",
       "      <td>0</td>\n",
       "      <td>0</td>\n",
       "      <td>0</td>\n",
       "      <td>0</td>\n",
       "      <td>0</td>\n",
       "      <td>0</td>\n",
       "      <td>0</td>\n",
       "      <td>0</td>\n",
       "      <td>...</td>\n",
       "      <td>0</td>\n",
       "      <td>0</td>\n",
       "      <td>0</td>\n",
       "      <td>0</td>\n",
       "      <td>0</td>\n",
       "      <td>0</td>\n",
       "      <td>0</td>\n",
       "      <td>0</td>\n",
       "      <td>0</td>\n",
       "      <td>0</td>\n",
       "    </tr>\n",
       "    <tr>\n",
       "      <th>3</th>\n",
       "      <td>0</td>\n",
       "      <td>0</td>\n",
       "      <td>0</td>\n",
       "      <td>0</td>\n",
       "      <td>0</td>\n",
       "      <td>0</td>\n",
       "      <td>0</td>\n",
       "      <td>0</td>\n",
       "      <td>0</td>\n",
       "      <td>0</td>\n",
       "      <td>...</td>\n",
       "      <td>0</td>\n",
       "      <td>0</td>\n",
       "      <td>0</td>\n",
       "      <td>0</td>\n",
       "      <td>0</td>\n",
       "      <td>0</td>\n",
       "      <td>0</td>\n",
       "      <td>0</td>\n",
       "      <td>0</td>\n",
       "      <td>0</td>\n",
       "    </tr>\n",
       "    <tr>\n",
       "      <th>4</th>\n",
       "      <td>0</td>\n",
       "      <td>0</td>\n",
       "      <td>0</td>\n",
       "      <td>0</td>\n",
       "      <td>0</td>\n",
       "      <td>0</td>\n",
       "      <td>0</td>\n",
       "      <td>0</td>\n",
       "      <td>0</td>\n",
       "      <td>0</td>\n",
       "      <td>...</td>\n",
       "      <td>0</td>\n",
       "      <td>0</td>\n",
       "      <td>0</td>\n",
       "      <td>0</td>\n",
       "      <td>0</td>\n",
       "      <td>0</td>\n",
       "      <td>0</td>\n",
       "      <td>0</td>\n",
       "      <td>0</td>\n",
       "      <td>0</td>\n",
       "    </tr>\n",
       "  </tbody>\n",
       "</table>\n",
       "<p>5 rows × 784 columns</p>\n",
       "</div>"
      ],
      "text/plain": [
       "   pixel0  pixel1  pixel2  pixel3  pixel4  pixel5  pixel6  pixel7  pixel8  \\\n",
       "0       0       0       0       0       0       0       0       0       0   \n",
       "1       0       0       0       0       0       0       0       0       0   \n",
       "2       0       0       0       0       0       0       0       0       0   \n",
       "3       0       0       0       0       0       0       0       0       0   \n",
       "4       0       0       0       0       0       0       0       0       0   \n",
       "\n",
       "   pixel9  ...  pixel774  pixel775  pixel776  pixel777  pixel778  pixel779  \\\n",
       "0       0  ...         0         0         0         0         0         0   \n",
       "1       0  ...         0         0         0         0         0         0   \n",
       "2       0  ...         0         0         0         0         0         0   \n",
       "3       0  ...         0         0         0         0         0         0   \n",
       "4       0  ...         0         0         0         0         0         0   \n",
       "\n",
       "   pixel780  pixel781  pixel782  pixel783  \n",
       "0         0         0         0         0  \n",
       "1         0         0         0         0  \n",
       "2         0         0         0         0  \n",
       "3         0         0         0         0  \n",
       "4         0         0         0         0  \n",
       "\n",
       "[5 rows x 784 columns]"
      ]
     },
     "execution_count": 71,
     "metadata": {},
     "output_type": "execute_result"
    }
   ],
   "source": [
    "X_test.head()"
   ]
  },
  {
   "cell_type": "code",
   "execution_count": 72,
   "id": "88d0b48e",
   "metadata": {
    "execution": {
     "iopub.execute_input": "2024-08-01T09:41:35.835195Z",
     "iopub.status.busy": "2024-08-01T09:41:35.834778Z",
     "iopub.status.idle": "2024-08-01T09:41:36.232395Z",
     "shell.execute_reply": "2024-08-01T09:41:36.231198Z"
    },
    "papermill": {
     "duration": 0.448146,
     "end_time": "2024-08-01T09:41:36.235057",
     "exception": false,
     "start_time": "2024-08-01T09:41:35.786911",
     "status": "completed"
    },
    "tags": []
   },
   "outputs": [
    {
     "data": {
      "text/plain": [
       "array([[0., 0., 0., ..., 0., 0., 0.],\n",
       "       [0., 0., 0., ..., 0., 0., 0.],\n",
       "       [0., 0., 0., ..., 0., 0., 0.],\n",
       "       ...,\n",
       "       [0., 0., 0., ..., 0., 0., 0.],\n",
       "       [0., 0., 0., ..., 0., 0., 0.],\n",
       "       [0., 0., 0., ..., 0., 0., 0.]])"
      ]
     },
     "execution_count": 72,
     "metadata": {},
     "output_type": "execute_result"
    }
   ],
   "source": [
    "X_test_scaled = StandardScaler().fit_transform(X_test.astype('float64'))\n",
    "X_test_scaled"
   ]
  },
  {
   "cell_type": "code",
   "execution_count": 73,
   "id": "9d7a93ad",
   "metadata": {
    "execution": {
     "iopub.execute_input": "2024-08-01T09:41:36.328227Z",
     "iopub.status.busy": "2024-08-01T09:41:36.327789Z",
     "iopub.status.idle": "2024-08-01T09:42:08.329466Z",
     "shell.execute_reply": "2024-08-01T09:42:08.328269Z"
    },
    "papermill": {
     "duration": 32.051942,
     "end_time": "2024-08-01T09:42:08.332353",
     "exception": false,
     "start_time": "2024-08-01T09:41:36.280411",
     "status": "completed"
    },
    "tags": []
   },
   "outputs": [],
   "source": [
    "y_test_pred = multi_svc_scaled.predict(X_test_scaled)"
   ]
  },
  {
   "cell_type": "code",
   "execution_count": 74,
   "id": "482c547a",
   "metadata": {
    "execution": {
     "iopub.execute_input": "2024-08-01T09:42:08.426798Z",
     "iopub.status.busy": "2024-08-01T09:42:08.426344Z",
     "iopub.status.idle": "2024-08-01T09:42:08.432919Z",
     "shell.execute_reply": "2024-08-01T09:42:08.431765Z"
    },
    "papermill": {
     "duration": 0.057327,
     "end_time": "2024-08-01T09:42:08.435722",
     "exception": false,
     "start_time": "2024-08-01T09:42:08.378395",
     "status": "completed"
    },
    "tags": []
   },
   "outputs": [],
   "source": [
    "submission = pd.DataFrame({'ImageId': np.arange(1, 28001, 1), 'Label' : y_test_pred})\n"
   ]
  },
  {
   "cell_type": "code",
   "execution_count": 75,
   "id": "2990c63b",
   "metadata": {
    "execution": {
     "iopub.execute_input": "2024-08-01T09:42:08.529405Z",
     "iopub.status.busy": "2024-08-01T09:42:08.528981Z",
     "iopub.status.idle": "2024-08-01T09:42:08.541273Z",
     "shell.execute_reply": "2024-08-01T09:42:08.540063Z"
    },
    "papermill": {
     "duration": 0.061747,
     "end_time": "2024-08-01T09:42:08.543793",
     "exception": false,
     "start_time": "2024-08-01T09:42:08.482046",
     "status": "completed"
    },
    "tags": []
   },
   "outputs": [
    {
     "data": {
      "text/html": [
       "<div>\n",
       "<style scoped>\n",
       "    .dataframe tbody tr th:only-of-type {\n",
       "        vertical-align: middle;\n",
       "    }\n",
       "\n",
       "    .dataframe tbody tr th {\n",
       "        vertical-align: top;\n",
       "    }\n",
       "\n",
       "    .dataframe thead th {\n",
       "        text-align: right;\n",
       "    }\n",
       "</style>\n",
       "<table border=\"1\" class=\"dataframe\">\n",
       "  <thead>\n",
       "    <tr style=\"text-align: right;\">\n",
       "      <th></th>\n",
       "      <th>ImageId</th>\n",
       "      <th>Label</th>\n",
       "    </tr>\n",
       "  </thead>\n",
       "  <tbody>\n",
       "    <tr>\n",
       "      <th>0</th>\n",
       "      <td>1</td>\n",
       "      <td>2</td>\n",
       "    </tr>\n",
       "    <tr>\n",
       "      <th>1</th>\n",
       "      <td>2</td>\n",
       "      <td>0</td>\n",
       "    </tr>\n",
       "    <tr>\n",
       "      <th>2</th>\n",
       "      <td>3</td>\n",
       "      <td>9</td>\n",
       "    </tr>\n",
       "    <tr>\n",
       "      <th>3</th>\n",
       "      <td>4</td>\n",
       "      <td>4</td>\n",
       "    </tr>\n",
       "    <tr>\n",
       "      <th>4</th>\n",
       "      <td>5</td>\n",
       "      <td>3</td>\n",
       "    </tr>\n",
       "    <tr>\n",
       "      <th>...</th>\n",
       "      <td>...</td>\n",
       "      <td>...</td>\n",
       "    </tr>\n",
       "    <tr>\n",
       "      <th>27995</th>\n",
       "      <td>27996</td>\n",
       "      <td>9</td>\n",
       "    </tr>\n",
       "    <tr>\n",
       "      <th>27996</th>\n",
       "      <td>27997</td>\n",
       "      <td>7</td>\n",
       "    </tr>\n",
       "    <tr>\n",
       "      <th>27997</th>\n",
       "      <td>27998</td>\n",
       "      <td>3</td>\n",
       "    </tr>\n",
       "    <tr>\n",
       "      <th>27998</th>\n",
       "      <td>27999</td>\n",
       "      <td>9</td>\n",
       "    </tr>\n",
       "    <tr>\n",
       "      <th>27999</th>\n",
       "      <td>28000</td>\n",
       "      <td>2</td>\n",
       "    </tr>\n",
       "  </tbody>\n",
       "</table>\n",
       "<p>28000 rows × 2 columns</p>\n",
       "</div>"
      ],
      "text/plain": [
       "       ImageId  Label\n",
       "0            1      2\n",
       "1            2      0\n",
       "2            3      9\n",
       "3            4      4\n",
       "4            5      3\n",
       "...        ...    ...\n",
       "27995    27996      9\n",
       "27996    27997      7\n",
       "27997    27998      3\n",
       "27998    27999      9\n",
       "27999    28000      2\n",
       "\n",
       "[28000 rows x 2 columns]"
      ]
     },
     "execution_count": 75,
     "metadata": {},
     "output_type": "execute_result"
    }
   ],
   "source": [
    "submission"
   ]
  },
  {
   "cell_type": "code",
   "execution_count": 76,
   "id": "4b307c55",
   "metadata": {
    "execution": {
     "iopub.execute_input": "2024-08-01T09:42:08.639718Z",
     "iopub.status.busy": "2024-08-01T09:42:08.639296Z",
     "iopub.status.idle": "2024-08-01T09:42:08.683236Z",
     "shell.execute_reply": "2024-08-01T09:42:08.682037Z"
    },
    "papermill": {
     "duration": 0.094369,
     "end_time": "2024-08-01T09:42:08.686092",
     "exception": false,
     "start_time": "2024-08-01T09:42:08.591723",
     "status": "completed"
    },
    "tags": []
   },
   "outputs": [],
   "source": [
    "submission.to_csv('/kaggle/working/submission.csv', index=False)"
   ]
  },
  {
   "cell_type": "code",
   "execution_count": null,
   "id": "bfcba625",
   "metadata": {
    "papermill": {
     "duration": 0.044886,
     "end_time": "2024-08-01T09:42:08.776349",
     "exception": false,
     "start_time": "2024-08-01T09:42:08.731463",
     "status": "completed"
    },
    "tags": []
   },
   "outputs": [],
   "source": []
  }
 ],
 "metadata": {
  "kaggle": {
   "accelerator": "none",
   "dataSources": [
    {
     "databundleVersionId": 861823,
     "sourceId": 3004,
     "sourceType": "competition"
    }
   ],
   "dockerImageVersionId": 30746,
   "isGpuEnabled": false,
   "isInternetEnabled": false,
   "language": "python",
   "sourceType": "notebook"
  },
  "kernelspec": {
   "display_name": "Python 3",
   "language": "python",
   "name": "python3"
  },
  "language_info": {
   "codemirror_mode": {
    "name": "ipython",
    "version": 3
   },
   "file_extension": ".py",
   "mimetype": "text/x-python",
   "name": "python",
   "nbconvert_exporter": "python",
   "pygments_lexer": "ipython3",
   "version": "3.10.13"
  },
  "papermill": {
   "default_parameters": {},
   "duration": 1343.974672,
   "end_time": "2024-08-01T09:42:11.449032",
   "environment_variables": {},
   "exception": null,
   "input_path": "__notebook__.ipynb",
   "output_path": "__notebook__.ipynb",
   "parameters": {},
   "start_time": "2024-08-01T09:19:47.474360",
   "version": "2.5.0"
  }
 },
 "nbformat": 4,
 "nbformat_minor": 5
}
