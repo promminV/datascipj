{
 "cells": [
  {
   "cell_type": "code",
   "execution_count": 1,
   "id": "3dad8e20",
   "metadata": {
    "_cell_guid": "b1076dfc-b9ad-4769-8c92-a6c4dae69d19",
    "_uuid": "8f2839f25d086af736a60e9eeb907d3b93b6e0e5",
    "execution": {
     "iopub.execute_input": "2024-08-03T04:39:12.525612Z",
     "iopub.status.busy": "2024-08-03T04:39:12.524695Z",
     "iopub.status.idle": "2024-08-03T04:39:13.440712Z",
     "shell.execute_reply": "2024-08-03T04:39:13.439192Z"
    },
    "papermill": {
     "duration": 0.948708,
     "end_time": "2024-08-03T04:39:13.444474",
     "exception": false,
     "start_time": "2024-08-03T04:39:12.495766",
     "status": "completed"
    },
    "tags": []
   },
   "outputs": [
    {
     "name": "stdout",
     "output_type": "stream",
     "text": [
      "/kaggle/input/titanic/train.csv\n",
      "/kaggle/input/titanic/test.csv\n",
      "/kaggle/input/titanic/gender_submission.csv\n"
     ]
    }
   ],
   "source": [
    "# This Python 3 environment comes with many helpful analytics libraries installed\n",
    "# It is defined by the kaggle/python Docker image: https://github.com/kaggle/docker-python\n",
    "# For example, here's several helpful packages to load\n",
    "\n",
    "\n",
    "import numpy as np # linear algebra\n",
    "import pandas as pd # data processing, CSV file I/O (e.g. pd.read_csv)\n",
    "\n",
    "# Input data files are available in the read-only \"../input/\" directory\n",
    "# For example, running this (by clicking run or pressing Shift+Enter) will list all files under the input directory\n",
    "\n",
    "import os\n",
    "for dirname, _, filenames in os.walk('/kaggle/input'):\n",
    "    for filename in filenames:\n",
    "        print(os.path.join(dirname, filename))\n",
    "\n",
    "# You can write up to 20GB to the current directory (/kaggle/working/) that gets preserved as output when you create a version using \"Save & Run All\" \n",
    "# You can also write temporary files to /kaggle/temp/, but they won't be saved outside of the current session"
   ]
  },
  {
   "cell_type": "code",
   "execution_count": 2,
   "id": "64a12b52",
   "metadata": {
    "execution": {
     "iopub.execute_input": "2024-08-03T04:39:13.519257Z",
     "iopub.status.busy": "2024-08-03T04:39:13.517980Z",
     "iopub.status.idle": "2024-08-03T04:39:15.660430Z",
     "shell.execute_reply": "2024-08-03T04:39:15.659129Z"
    },
    "papermill": {
     "duration": 2.177094,
     "end_time": "2024-08-03T04:39:15.663201",
     "exception": false,
     "start_time": "2024-08-03T04:39:13.486107",
     "status": "completed"
    },
    "tags": []
   },
   "outputs": [],
   "source": [
    "import matplotlib.pyplot as plt\n",
    "import seaborn as sns\n",
    "\n",
    "from sklearn.linear_model import LogisticRegression\n",
    "from sklearn.ensemble import RandomForestClassifier\n",
    "\n",
    "from sklearn.model_selection import train_test_split\n",
    "from sklearn.model_selection import cross_val_score\n",
    "from sklearn.model_selection import cross_val_predict\n",
    "\n",
    "from sklearn.metrics import confusion_matrix\n",
    "from sklearn.metrics import ConfusionMatrixDisplay\n",
    "from sklearn.metrics import precision_score, recall_score, f1_score, classification_report\n",
    "from sklearn.metrics import roc_auc_score\n",
    "\n",
    "from sklearn.preprocessing import OneHotEncoder\n",
    "\n",
    "from warnings import simplefilter\n",
    "from sklearn.exceptions import ConvergenceWarning\n",
    "simplefilter(\"ignore\", category=ConvergenceWarning)"
   ]
  },
  {
   "cell_type": "markdown",
   "id": "e4952fb4",
   "metadata": {
    "papermill": {
     "duration": 0.025353,
     "end_time": "2024-08-03T04:39:15.714405",
     "exception": false,
     "start_time": "2024-08-03T04:39:15.689052",
     "status": "completed"
    },
    "tags": []
   },
   "source": [
    "# Round 1 - Simple Preprocessing & Training"
   ]
  },
  {
   "cell_type": "markdown",
   "id": "57a5b6b3",
   "metadata": {
    "papermill": {
     "duration": 0.025127,
     "end_time": "2024-08-03T04:39:15.767100",
     "exception": false,
     "start_time": "2024-08-03T04:39:15.741973",
     "status": "completed"
    },
    "tags": []
   },
   "source": [
    "## Exploration"
   ]
  },
  {
   "cell_type": "code",
   "execution_count": 3,
   "id": "ea68672d",
   "metadata": {
    "execution": {
     "iopub.execute_input": "2024-08-03T04:39:15.821197Z",
     "iopub.status.busy": "2024-08-03T04:39:15.820355Z",
     "iopub.status.idle": "2024-08-03T04:39:15.857034Z",
     "shell.execute_reply": "2024-08-03T04:39:15.855843Z"
    },
    "papermill": {
     "duration": 0.066569,
     "end_time": "2024-08-03T04:39:15.859752",
     "exception": false,
     "start_time": "2024-08-03T04:39:15.793183",
     "status": "completed"
    },
    "tags": []
   },
   "outputs": [],
   "source": [
    "test = pd.read_csv('/kaggle/input/titanic/test.csv')\n",
    "train = pd.read_csv('/kaggle/input/titanic/train.csv')\n",
    "gender_submission = pd.read_csv('/kaggle/input/titanic/gender_submission.csv')"
   ]
  },
  {
   "cell_type": "code",
   "execution_count": 4,
   "id": "c2e5c580",
   "metadata": {
    "execution": {
     "iopub.execute_input": "2024-08-03T04:39:15.912768Z",
     "iopub.status.busy": "2024-08-03T04:39:15.912387Z",
     "iopub.status.idle": "2024-08-03T04:39:15.946947Z",
     "shell.execute_reply": "2024-08-03T04:39:15.945106Z"
    },
    "papermill": {
     "duration": 0.064705,
     "end_time": "2024-08-03T04:39:15.950272",
     "exception": false,
     "start_time": "2024-08-03T04:39:15.885567",
     "status": "completed"
    },
    "tags": []
   },
   "outputs": [
    {
     "name": "stdout",
     "output_type": "stream",
     "text": [
      "<class 'pandas.core.frame.DataFrame'>\n",
      "RangeIndex: 891 entries, 0 to 890\n",
      "Data columns (total 12 columns):\n",
      " #   Column       Non-Null Count  Dtype  \n",
      "---  ------       --------------  -----  \n",
      " 0   PassengerId  891 non-null    int64  \n",
      " 1   Survived     891 non-null    int64  \n",
      " 2   Pclass       891 non-null    int64  \n",
      " 3   Name         891 non-null    object \n",
      " 4   Sex          891 non-null    object \n",
      " 5   Age          714 non-null    float64\n",
      " 6   SibSp        891 non-null    int64  \n",
      " 7   Parch        891 non-null    int64  \n",
      " 8   Ticket       891 non-null    object \n",
      " 9   Fare         891 non-null    float64\n",
      " 10  Cabin        204 non-null    object \n",
      " 11  Embarked     889 non-null    object \n",
      "dtypes: float64(2), int64(5), object(5)\n",
      "memory usage: 83.7+ KB\n"
     ]
    }
   ],
   "source": [
    "train.info() # missing value in 'Age', 'Cabin', 'Embarked'"
   ]
  },
  {
   "cell_type": "code",
   "execution_count": 5,
   "id": "de085b34",
   "metadata": {
    "execution": {
     "iopub.execute_input": "2024-08-03T04:39:16.003960Z",
     "iopub.status.busy": "2024-08-03T04:39:16.003512Z",
     "iopub.status.idle": "2024-08-03T04:39:16.347059Z",
     "shell.execute_reply": "2024-08-03T04:39:16.345087Z"
    },
    "papermill": {
     "duration": 0.374753,
     "end_time": "2024-08-03T04:39:16.351097",
     "exception": false,
     "start_time": "2024-08-03T04:39:15.976344",
     "status": "completed"
    },
    "tags": []
   },
   "outputs": [
    {
     "data": {
      "text/plain": [
       "Text(0.5, 1.0, 'Age Distribution')"
      ]
     },
     "execution_count": 5,
     "metadata": {},
     "output_type": "execute_result"
    },
    {
     "data": {
      "image/png": "[encoded data removed]",
      "text/plain": [
       "<Figure size 640x480 with 1 Axes>"
      ]
     },
     "metadata": {},
     "output_type": "display_data"
    }
   ],
   "source": [
    "plt.figure()\n",
    "train['Age'].hist(bins=20)\n",
    "plt.xlabel('Age')\n",
    "plt.ylabel('Count')\n",
    "plt.title('Age Distribution')"
   ]
  },
  {
   "cell_type": "code",
   "execution_count": 6,
   "id": "a5bd0d05",
   "metadata": {
    "execution": {
     "iopub.execute_input": "2024-08-03T04:39:16.482915Z",
     "iopub.status.busy": "2024-08-03T04:39:16.482473Z",
     "iopub.status.idle": "2024-08-03T04:39:16.492014Z",
     "shell.execute_reply": "2024-08-03T04:39:16.490591Z"
    },
    "papermill": {
     "duration": 0.03955,
     "end_time": "2024-08-03T04:39:16.494326",
     "exception": false,
     "start_time": "2024-08-03T04:39:16.454776",
     "status": "completed"
    },
    "tags": []
   },
   "outputs": [
    {
     "name": "stdout",
     "output_type": "stream",
     "text": [
      "Median age =  28.0\n",
      "Mean age =  29.69911764705882\n"
     ]
    }
   ],
   "source": [
    "print('Median age = ', train['Age'].median())\n",
    "print('Mean age = ', train['Age'].mean())\n",
    "# A little bit of right skew"
   ]
  },
  {
   "cell_type": "markdown",
   "id": "94088e4a",
   "metadata": {
    "papermill": {
     "duration": 0.038718,
     "end_time": "2024-08-03T04:39:16.565516",
     "exception": false,
     "start_time": "2024-08-03T04:39:16.526798",
     "status": "completed"
    },
    "tags": []
   },
   "source": [
    "## Fill na values"
   ]
  },
  {
   "cell_type": "code",
   "execution_count": 7,
   "id": "2a027346",
   "metadata": {
    "execution": {
     "iopub.execute_input": "2024-08-03T04:39:16.642175Z",
     "iopub.status.busy": "2024-08-03T04:39:16.641735Z",
     "iopub.status.idle": "2024-08-03T04:39:16.649938Z",
     "shell.execute_reply": "2024-08-03T04:39:16.648613Z"
    },
    "papermill": {
     "duration": 0.046788,
     "end_time": "2024-08-03T04:39:16.652397",
     "exception": false,
     "start_time": "2024-08-03T04:39:16.605609",
     "status": "completed"
    },
    "tags": []
   },
   "outputs": [
    {
     "name": "stderr",
     "output_type": "stream",
     "text": [
      "/tmp/ipykernel_18/486169235.py:1: FutureWarning: A value is trying to be set on a copy of a DataFrame or Series through chained assignment using an inplace method.\n",
      "The behavior will change in pandas 3.0. This inplace method will never work because the intermediate object on which we are setting values always behaves as a copy.\n",
      "\n",
      "For example, when doing 'df[col].method(value, inplace=True)', try using 'df.method({col: value}, inplace=True)' or df[col] = df[col].method(value) instead, to perform the operation inplace on the original object.\n",
      "\n",
      "\n",
      "  train['Age'].fillna(train['Age'].median(), inplace=True)\n"
     ]
    }
   ],
   "source": [
    "train['Age'].fillna(train['Age'].median(), inplace=True)"
   ]
  },
  {
   "cell_type": "code",
   "execution_count": 8,
   "id": "96df83e3",
   "metadata": {
    "execution": {
     "iopub.execute_input": "2024-08-03T04:39:16.707934Z",
     "iopub.status.busy": "2024-08-03T04:39:16.706877Z",
     "iopub.status.idle": "2024-08-03T04:39:16.716256Z",
     "shell.execute_reply": "2024-08-03T04:39:16.714466Z"
    },
    "papermill": {
     "duration": 0.041046,
     "end_time": "2024-08-03T04:39:16.720212",
     "exception": false,
     "start_time": "2024-08-03T04:39:16.679166",
     "status": "completed"
    },
    "tags": []
   },
   "outputs": [
    {
     "data": {
      "text/plain": [
       "0"
      ]
     },
     "execution_count": 8,
     "metadata": {},
     "output_type": "execute_result"
    }
   ],
   "source": [
    "train['Age'].isna().sum()"
   ]
  },
  {
   "cell_type": "code",
   "execution_count": 9,
   "id": "99e63021",
   "metadata": {
    "execution": {
     "iopub.execute_input": "2024-08-03T04:39:16.780266Z",
     "iopub.status.busy": "2024-08-03T04:39:16.779522Z",
     "iopub.status.idle": "2024-08-03T04:39:16.801820Z",
     "shell.execute_reply": "2024-08-03T04:39:16.800482Z"
    },
    "papermill": {
     "duration": 0.053444,
     "end_time": "2024-08-03T04:39:16.804543",
     "exception": false,
     "start_time": "2024-08-03T04:39:16.751099",
     "status": "completed"
    },
    "tags": []
   },
   "outputs": [
    {
     "data": {
      "text/html": [
       "<div>\n",
       "<style scoped>\n",
       "    .dataframe tbody tr th:only-of-type {\n",
       "        vertical-align: middle;\n",
       "    }\n",
       "\n",
       "    .dataframe tbody tr th {\n",
       "        vertical-align: top;\n",
       "    }\n",
       "\n",
       "    .dataframe thead th {\n",
       "        text-align: right;\n",
       "    }\n",
       "</style>\n",
       "<table border=\"1\" class=\"dataframe\">\n",
       "  <thead>\n",
       "    <tr style=\"text-align: right;\">\n",
       "      <th></th>\n",
       "      <th>PassengerId</th>\n",
       "      <th>Survived</th>\n",
       "      <th>Pclass</th>\n",
       "      <th>Name</th>\n",
       "      <th>Sex</th>\n",
       "      <th>Age</th>\n",
       "      <th>SibSp</th>\n",
       "      <th>Parch</th>\n",
       "      <th>Ticket</th>\n",
       "      <th>Fare</th>\n",
       "      <th>Cabin</th>\n",
       "      <th>Embarked</th>\n",
       "    </tr>\n",
       "  </thead>\n",
       "  <tbody>\n",
       "    <tr>\n",
       "      <th>0</th>\n",
       "      <td>1</td>\n",
       "      <td>0</td>\n",
       "      <td>3</td>\n",
       "      <td>Braund, Mr. Owen Harris</td>\n",
       "      <td>male</td>\n",
       "      <td>22.0</td>\n",
       "      <td>1</td>\n",
       "      <td>0</td>\n",
       "      <td>A/5 21171</td>\n",
       "      <td>7.2500</td>\n",
       "      <td>NaN</td>\n",
       "      <td>S</td>\n",
       "    </tr>\n",
       "    <tr>\n",
       "      <th>1</th>\n",
       "      <td>2</td>\n",
       "      <td>1</td>\n",
       "      <td>1</td>\n",
       "      <td>Cumings, Mrs. John Bradley (Florence Briggs Th...</td>\n",
       "      <td>female</td>\n",
       "      <td>38.0</td>\n",
       "      <td>1</td>\n",
       "      <td>0</td>\n",
       "      <td>PC 17599</td>\n",
       "      <td>71.2833</td>\n",
       "      <td>C85</td>\n",
       "      <td>C</td>\n",
       "    </tr>\n",
       "    <tr>\n",
       "      <th>2</th>\n",
       "      <td>3</td>\n",
       "      <td>1</td>\n",
       "      <td>3</td>\n",
       "      <td>Heikkinen, Miss. Laina</td>\n",
       "      <td>female</td>\n",
       "      <td>26.0</td>\n",
       "      <td>0</td>\n",
       "      <td>0</td>\n",
       "      <td>STON/O2. 3101282</td>\n",
       "      <td>7.9250</td>\n",
       "      <td>NaN</td>\n",
       "      <td>S</td>\n",
       "    </tr>\n",
       "    <tr>\n",
       "      <th>3</th>\n",
       "      <td>4</td>\n",
       "      <td>1</td>\n",
       "      <td>1</td>\n",
       "      <td>Futrelle, Mrs. Jacques Heath (Lily May Peel)</td>\n",
       "      <td>female</td>\n",
       "      <td>35.0</td>\n",
       "      <td>1</td>\n",
       "      <td>0</td>\n",
       "      <td>113803</td>\n",
       "      <td>53.1000</td>\n",
       "      <td>C123</td>\n",
       "      <td>S</td>\n",
       "    </tr>\n",
       "    <tr>\n",
       "      <th>4</th>\n",
       "      <td>5</td>\n",
       "      <td>0</td>\n",
       "      <td>3</td>\n",
       "      <td>Allen, Mr. William Henry</td>\n",
       "      <td>male</td>\n",
       "      <td>35.0</td>\n",
       "      <td>0</td>\n",
       "      <td>0</td>\n",
       "      <td>373450</td>\n",
       "      <td>8.0500</td>\n",
       "      <td>NaN</td>\n",
       "      <td>S</td>\n",
       "    </tr>\n",
       "  </tbody>\n",
       "</table>\n",
       "</div>"
      ],
      "text/plain": [
       "   PassengerId  Survived  Pclass  \\\n",
       "0            1         0       3   \n",
       "1            2         1       1   \n",
       "2            3         1       3   \n",
       "3            4         1       1   \n",
       "4            5         0       3   \n",
       "\n",
       "                                                Name     Sex   Age  SibSp  \\\n",
       "0                            Braund, Mr. Owen Harris    male  22.0      1   \n",
       "1  Cumings, Mrs. John Bradley (Florence Briggs Th...  female  38.0      1   \n",
       "2                             Heikkinen, Miss. Laina  female  26.0      0   \n",
       "3       Futrelle, Mrs. Jacques Heath (Lily May Peel)  female  35.0      1   \n",
       "4                           Allen, Mr. William Henry    male  35.0      0   \n",
       "\n",
       "   Parch            Ticket     Fare Cabin Embarked  \n",
       "0      0         A/5 21171   7.2500   NaN        S  \n",
       "1      0          PC 17599  71.2833   C85        C  \n",
       "2      0  STON/O2. 3101282   7.9250   NaN        S  \n",
       "3      0            113803  53.1000  C123        S  \n",
       "4      0            373450   8.0500   NaN        S  "
      ]
     },
     "execution_count": 9,
     "metadata": {},
     "output_type": "execute_result"
    }
   ],
   "source": [
    "train.head()"
   ]
  },
  {
   "cell_type": "markdown",
   "id": "3d8b467e",
   "metadata": {
    "papermill": {
     "duration": 0.027008,
     "end_time": "2024-08-03T04:39:16.858628",
     "exception": false,
     "start_time": "2024-08-03T04:39:16.831620",
     "status": "completed"
    },
    "tags": []
   },
   "source": [
    "## Drop some attributes"
   ]
  },
  {
   "cell_type": "code",
   "execution_count": 10,
   "id": "8e74a7fd",
   "metadata": {
    "execution": {
     "iopub.execute_input": "2024-08-03T04:39:16.914221Z",
     "iopub.status.busy": "2024-08-03T04:39:16.913760Z",
     "iopub.status.idle": "2024-08-03T04:39:16.921758Z",
     "shell.execute_reply": "2024-08-03T04:39:16.920332Z"
    },
    "papermill": {
     "duration": 0.039151,
     "end_time": "2024-08-03T04:39:16.924730",
     "exception": false,
     "start_time": "2024-08-03T04:39:16.885579",
     "status": "completed"
    },
    "tags": []
   },
   "outputs": [
    {
     "name": "stdout",
     "output_type": "stream",
     "text": [
      "Missing values in 'Cabin' =  687 ( 77.1 % of datapoints)\n"
     ]
    }
   ],
   "source": [
    "cabin_na =  train['Cabin'].isna().sum()\n",
    "print('Missing values in \\'Cabin\\' = ', cabin_na, '(', round(cabin_na*100/len(train),2), '% of datapoints)') # too many missing values in 'Cabin' -> drop 'Cabin' \n"
   ]
  },
  {
   "cell_type": "code",
   "execution_count": 11,
   "id": "ee432437",
   "metadata": {
    "execution": {
     "iopub.execute_input": "2024-08-03T04:39:16.981923Z",
     "iopub.status.busy": "2024-08-03T04:39:16.981518Z",
     "iopub.status.idle": "2024-08-03T04:39:16.991595Z",
     "shell.execute_reply": "2024-08-03T04:39:16.990155Z"
    },
    "papermill": {
     "duration": 0.041613,
     "end_time": "2024-08-03T04:39:16.994125",
     "exception": false,
     "start_time": "2024-08-03T04:39:16.952512",
     "status": "completed"
    },
    "tags": []
   },
   "outputs": [],
   "source": [
    "train.drop(columns='Cabin', inplace=True)"
   ]
  },
  {
   "cell_type": "code",
   "execution_count": 12,
   "id": "c3dd3b19",
   "metadata": {
    "execution": {
     "iopub.execute_input": "2024-08-03T04:39:17.050602Z",
     "iopub.status.busy": "2024-08-03T04:39:17.050166Z",
     "iopub.status.idle": "2024-08-03T04:39:17.063787Z",
     "shell.execute_reply": "2024-08-03T04:39:17.062545Z"
    },
    "papermill": {
     "duration": 0.045835,
     "end_time": "2024-08-03T04:39:17.067140",
     "exception": false,
     "start_time": "2024-08-03T04:39:17.021305",
     "status": "completed"
    },
    "tags": []
   },
   "outputs": [
    {
     "name": "stdout",
     "output_type": "stream",
     "text": [
      "<class 'pandas.core.frame.DataFrame'>\n",
      "RangeIndex: 891 entries, 0 to 890\n",
      "Data columns (total 11 columns):\n",
      " #   Column       Non-Null Count  Dtype  \n",
      "---  ------       --------------  -----  \n",
      " 0   PassengerId  891 non-null    int64  \n",
      " 1   Survived     891 non-null    int64  \n",
      " 2   Pclass       891 non-null    int64  \n",
      " 3   Name         891 non-null    object \n",
      " 4   Sex          891 non-null    object \n",
      " 5   Age          891 non-null    float64\n",
      " 6   SibSp        891 non-null    int64  \n",
      " 7   Parch        891 non-null    int64  \n",
      " 8   Ticket       891 non-null    object \n",
      " 9   Fare         891 non-null    float64\n",
      " 10  Embarked     889 non-null    object \n",
      "dtypes: float64(2), int64(5), object(4)\n",
      "memory usage: 76.7+ KB\n"
     ]
    }
   ],
   "source": [
    "train.info()"
   ]
  },
  {
   "cell_type": "code",
   "execution_count": 13,
   "id": "4dab0ae9",
   "metadata": {
    "execution": {
     "iopub.execute_input": "2024-08-03T04:39:17.124718Z",
     "iopub.status.busy": "2024-08-03T04:39:17.123618Z",
     "iopub.status.idle": "2024-08-03T04:39:17.133217Z",
     "shell.execute_reply": "2024-08-03T04:39:17.132046Z"
    },
    "papermill": {
     "duration": 0.040951,
     "end_time": "2024-08-03T04:39:17.135476",
     "exception": false,
     "start_time": "2024-08-03T04:39:17.094525",
     "status": "completed"
    },
    "tags": []
   },
   "outputs": [
    {
     "data": {
      "text/plain": [
       "Embarked\n",
       "S    644\n",
       "C    168\n",
       "Q     77\n",
       "Name: count, dtype: int64"
      ]
     },
     "execution_count": 13,
     "metadata": {},
     "output_type": "execute_result"
    }
   ],
   "source": [
    "train['Embarked'].value_counts()"
   ]
  },
  {
   "cell_type": "code",
   "execution_count": 14,
   "id": "c3fbbeea",
   "metadata": {
    "execution": {
     "iopub.execute_input": "2024-08-03T04:39:17.191688Z",
     "iopub.status.busy": "2024-08-03T04:39:17.191292Z",
     "iopub.status.idle": "2024-08-03T04:39:17.202039Z",
     "shell.execute_reply": "2024-08-03T04:39:17.200752Z"
    },
    "papermill": {
     "duration": 0.041706,
     "end_time": "2024-08-03T04:39:17.204415",
     "exception": false,
     "start_time": "2024-08-03T04:39:17.162709",
     "status": "completed"
    },
    "tags": []
   },
   "outputs": [
    {
     "data": {
      "text/plain": [
       "Ticket\n",
       "347082      7\n",
       "CA. 2343    7\n",
       "1601        7\n",
       "3101295     6\n",
       "CA 2144     6\n",
       "           ..\n",
       "9234        1\n",
       "19988       1\n",
       "2693        1\n",
       "PC 17612    1\n",
       "370376      1\n",
       "Name: count, Length: 681, dtype: int64"
      ]
     },
     "execution_count": 14,
     "metadata": {},
     "output_type": "execute_result"
    }
   ],
   "source": [
    "train['Ticket'].value_counts() "
   ]
  },
  {
   "cell_type": "code",
   "execution_count": 15,
   "id": "2a67942a",
   "metadata": {
    "execution": {
     "iopub.execute_input": "2024-08-03T04:39:17.261245Z",
     "iopub.status.busy": "2024-08-03T04:39:17.260809Z",
     "iopub.status.idle": "2024-08-03T04:39:17.267482Z",
     "shell.execute_reply": "2024-08-03T04:39:17.266321Z"
    },
    "papermill": {
     "duration": 0.038299,
     "end_time": "2024-08-03T04:39:17.269874",
     "exception": false,
     "start_time": "2024-08-03T04:39:17.231575",
     "status": "completed"
    },
    "tags": []
   },
   "outputs": [],
   "source": [
    "train.drop(columns='Ticket', inplace=True)"
   ]
  },
  {
   "cell_type": "code",
   "execution_count": 16,
   "id": "3ff06553",
   "metadata": {
    "execution": {
     "iopub.execute_input": "2024-08-03T04:39:17.326379Z",
     "iopub.status.busy": "2024-08-03T04:39:17.325975Z",
     "iopub.status.idle": "2024-08-03T04:39:17.332465Z",
     "shell.execute_reply": "2024-08-03T04:39:17.331295Z"
    },
    "papermill": {
     "duration": 0.037295,
     "end_time": "2024-08-03T04:39:17.334701",
     "exception": false,
     "start_time": "2024-08-03T04:39:17.297406",
     "status": "completed"
    },
    "tags": []
   },
   "outputs": [],
   "source": [
    "train.drop(columns='PassengerId', inplace=True)"
   ]
  },
  {
   "cell_type": "code",
   "execution_count": 17,
   "id": "37f32ca9",
   "metadata": {
    "execution": {
     "iopub.execute_input": "2024-08-03T04:39:17.392456Z",
     "iopub.status.busy": "2024-08-03T04:39:17.391536Z",
     "iopub.status.idle": "2024-08-03T04:39:17.399106Z",
     "shell.execute_reply": "2024-08-03T04:39:17.398043Z"
    },
    "papermill": {
     "duration": 0.038979,
     "end_time": "2024-08-03T04:39:17.401297",
     "exception": false,
     "start_time": "2024-08-03T04:39:17.362318",
     "status": "completed"
    },
    "tags": []
   },
   "outputs": [],
   "source": [
    "train.drop(columns='Name', inplace=True)"
   ]
  },
  {
   "cell_type": "code",
   "execution_count": 18,
   "id": "ce9d921c",
   "metadata": {
    "execution": {
     "iopub.execute_input": "2024-08-03T04:39:17.457136Z",
     "iopub.status.busy": "2024-08-03T04:39:17.456733Z",
     "iopub.status.idle": "2024-08-03T04:39:17.471218Z",
     "shell.execute_reply": "2024-08-03T04:39:17.469947Z"
    },
    "papermill": {
     "duration": 0.044948,
     "end_time": "2024-08-03T04:39:17.473383",
     "exception": false,
     "start_time": "2024-08-03T04:39:17.428435",
     "status": "completed"
    },
    "tags": []
   },
   "outputs": [
    {
     "data": {
      "text/html": [
       "<div>\n",
       "<style scoped>\n",
       "    .dataframe tbody tr th:only-of-type {\n",
       "        vertical-align: middle;\n",
       "    }\n",
       "\n",
       "    .dataframe tbody tr th {\n",
       "        vertical-align: top;\n",
       "    }\n",
       "\n",
       "    .dataframe thead th {\n",
       "        text-align: right;\n",
       "    }\n",
       "</style>\n",
       "<table border=\"1\" class=\"dataframe\">\n",
       "  <thead>\n",
       "    <tr style=\"text-align: right;\">\n",
       "      <th></th>\n",
       "      <th>Survived</th>\n",
       "      <th>Pclass</th>\n",
       "      <th>Sex</th>\n",
       "      <th>Age</th>\n",
       "      <th>SibSp</th>\n",
       "      <th>Parch</th>\n",
       "      <th>Fare</th>\n",
       "      <th>Embarked</th>\n",
       "    </tr>\n",
       "  </thead>\n",
       "  <tbody>\n",
       "    <tr>\n",
       "      <th>0</th>\n",
       "      <td>0</td>\n",
       "      <td>3</td>\n",
       "      <td>male</td>\n",
       "      <td>22.0</td>\n",
       "      <td>1</td>\n",
       "      <td>0</td>\n",
       "      <td>7.2500</td>\n",
       "      <td>S</td>\n",
       "    </tr>\n",
       "    <tr>\n",
       "      <th>1</th>\n",
       "      <td>1</td>\n",
       "      <td>1</td>\n",
       "      <td>female</td>\n",
       "      <td>38.0</td>\n",
       "      <td>1</td>\n",
       "      <td>0</td>\n",
       "      <td>71.2833</td>\n",
       "      <td>C</td>\n",
       "    </tr>\n",
       "    <tr>\n",
       "      <th>2</th>\n",
       "      <td>1</td>\n",
       "      <td>3</td>\n",
       "      <td>female</td>\n",
       "      <td>26.0</td>\n",
       "      <td>0</td>\n",
       "      <td>0</td>\n",
       "      <td>7.9250</td>\n",
       "      <td>S</td>\n",
       "    </tr>\n",
       "    <tr>\n",
       "      <th>3</th>\n",
       "      <td>1</td>\n",
       "      <td>1</td>\n",
       "      <td>female</td>\n",
       "      <td>35.0</td>\n",
       "      <td>1</td>\n",
       "      <td>0</td>\n",
       "      <td>53.1000</td>\n",
       "      <td>S</td>\n",
       "    </tr>\n",
       "    <tr>\n",
       "      <th>4</th>\n",
       "      <td>0</td>\n",
       "      <td>3</td>\n",
       "      <td>male</td>\n",
       "      <td>35.0</td>\n",
       "      <td>0</td>\n",
       "      <td>0</td>\n",
       "      <td>8.0500</td>\n",
       "      <td>S</td>\n",
       "    </tr>\n",
       "  </tbody>\n",
       "</table>\n",
       "</div>"
      ],
      "text/plain": [
       "   Survived  Pclass     Sex   Age  SibSp  Parch     Fare Embarked\n",
       "0         0       3    male  22.0      1      0   7.2500        S\n",
       "1         1       1  female  38.0      1      0  71.2833        C\n",
       "2         1       3  female  26.0      0      0   7.9250        S\n",
       "3         1       1  female  35.0      1      0  53.1000        S\n",
       "4         0       3    male  35.0      0      0   8.0500        S"
      ]
     },
     "execution_count": 18,
     "metadata": {},
     "output_type": "execute_result"
    }
   ],
   "source": [
    "train.head()"
   ]
  },
  {
   "cell_type": "markdown",
   "id": "dba6ba99",
   "metadata": {
    "papermill": {
     "duration": 0.027239,
     "end_time": "2024-08-03T04:39:17.528280",
     "exception": false,
     "start_time": "2024-08-03T04:39:17.501041",
     "status": "completed"
    },
    "tags": []
   },
   "source": [
    "Summary :\n",
    "- 'Cabin' should be dropped because there are too many missing values.\n",
    "- 'Ticket', 'Name', 'PassengerId' are not neccessary for data analysis and data modelling. So, we can drop these features."
   ]
  },
  {
   "cell_type": "markdown",
   "id": "bfa7ad34",
   "metadata": {
    "papermill": {
     "duration": 0.027702,
     "end_time": "2024-08-03T04:39:17.584138",
     "exception": false,
     "start_time": "2024-08-03T04:39:17.556436",
     "status": "completed"
    },
    "tags": []
   },
   "source": [
    "## Convert text, catagotical data to numerical (One-Hot-Encoding)"
   ]
  },
  {
   "cell_type": "code",
   "execution_count": 19,
   "id": "db89482d",
   "metadata": {
    "execution": {
     "iopub.execute_input": "2024-08-03T04:39:17.640944Z",
     "iopub.status.busy": "2024-08-03T04:39:17.640536Z",
     "iopub.status.idle": "2024-08-03T04:39:17.649277Z",
     "shell.execute_reply": "2024-08-03T04:39:17.647998Z"
    },
    "papermill": {
     "duration": 0.040062,
     "end_time": "2024-08-03T04:39:17.651715",
     "exception": false,
     "start_time": "2024-08-03T04:39:17.611653",
     "status": "completed"
    },
    "tags": []
   },
   "outputs": [],
   "source": [
    "# One-Hot-Encoding (Dummy variable)\n",
    "dummies_sex = pd.get_dummies(train['Sex'])\n",
    "dummies_embarked = pd.get_dummies(train['Embarked'])"
   ]
  },
  {
   "cell_type": "code",
   "execution_count": 20,
   "id": "d5433fa2",
   "metadata": {
    "execution": {
     "iopub.execute_input": "2024-08-03T04:39:17.708648Z",
     "iopub.status.busy": "2024-08-03T04:39:17.708239Z",
     "iopub.status.idle": "2024-08-03T04:39:17.719172Z",
     "shell.execute_reply": "2024-08-03T04:39:17.718128Z"
    },
    "papermill": {
     "duration": 0.042184,
     "end_time": "2024-08-03T04:39:17.721587",
     "exception": false,
     "start_time": "2024-08-03T04:39:17.679403",
     "status": "completed"
    },
    "tags": []
   },
   "outputs": [
    {
     "data": {
      "text/html": [
       "<div>\n",
       "<style scoped>\n",
       "    .dataframe tbody tr th:only-of-type {\n",
       "        vertical-align: middle;\n",
       "    }\n",
       "\n",
       "    .dataframe tbody tr th {\n",
       "        vertical-align: top;\n",
       "    }\n",
       "\n",
       "    .dataframe thead th {\n",
       "        text-align: right;\n",
       "    }\n",
       "</style>\n",
       "<table border=\"1\" class=\"dataframe\">\n",
       "  <thead>\n",
       "    <tr style=\"text-align: right;\">\n",
       "      <th></th>\n",
       "      <th>C</th>\n",
       "      <th>Q</th>\n",
       "      <th>S</th>\n",
       "    </tr>\n",
       "  </thead>\n",
       "  <tbody>\n",
       "    <tr>\n",
       "      <th>0</th>\n",
       "      <td>False</td>\n",
       "      <td>False</td>\n",
       "      <td>True</td>\n",
       "    </tr>\n",
       "    <tr>\n",
       "      <th>1</th>\n",
       "      <td>True</td>\n",
       "      <td>False</td>\n",
       "      <td>False</td>\n",
       "    </tr>\n",
       "    <tr>\n",
       "      <th>2</th>\n",
       "      <td>False</td>\n",
       "      <td>False</td>\n",
       "      <td>True</td>\n",
       "    </tr>\n",
       "    <tr>\n",
       "      <th>3</th>\n",
       "      <td>False</td>\n",
       "      <td>False</td>\n",
       "      <td>True</td>\n",
       "    </tr>\n",
       "    <tr>\n",
       "      <th>4</th>\n",
       "      <td>False</td>\n",
       "      <td>False</td>\n",
       "      <td>True</td>\n",
       "    </tr>\n",
       "  </tbody>\n",
       "</table>\n",
       "</div>"
      ],
      "text/plain": [
       "       C      Q      S\n",
       "0  False  False   True\n",
       "1   True  False  False\n",
       "2  False  False   True\n",
       "3  False  False   True\n",
       "4  False  False   True"
      ]
     },
     "execution_count": 20,
     "metadata": {},
     "output_type": "execute_result"
    }
   ],
   "source": [
    "dummies_embarked.head(5)"
   ]
  },
  {
   "cell_type": "code",
   "execution_count": 21,
   "id": "98640e7c",
   "metadata": {
    "execution": {
     "iopub.execute_input": "2024-08-03T04:39:17.780416Z",
     "iopub.status.busy": "2024-08-03T04:39:17.779998Z",
     "iopub.status.idle": "2024-08-03T04:39:17.794021Z",
     "shell.execute_reply": "2024-08-03T04:39:17.792676Z"
    },
    "papermill": {
     "duration": 0.046593,
     "end_time": "2024-08-03T04:39:17.796370",
     "exception": false,
     "start_time": "2024-08-03T04:39:17.749777",
     "status": "completed"
    },
    "tags": []
   },
   "outputs": [
    {
     "data": {
      "text/html": [
       "<div>\n",
       "<style scoped>\n",
       "    .dataframe tbody tr th:only-of-type {\n",
       "        vertical-align: middle;\n",
       "    }\n",
       "\n",
       "    .dataframe tbody tr th {\n",
       "        vertical-align: top;\n",
       "    }\n",
       "\n",
       "    .dataframe thead th {\n",
       "        text-align: right;\n",
       "    }\n",
       "</style>\n",
       "<table border=\"1\" class=\"dataframe\">\n",
       "  <thead>\n",
       "    <tr style=\"text-align: right;\">\n",
       "      <th></th>\n",
       "      <th>C</th>\n",
       "      <th>Q</th>\n",
       "      <th>S</th>\n",
       "    </tr>\n",
       "  </thead>\n",
       "  <tbody>\n",
       "    <tr>\n",
       "      <th>61</th>\n",
       "      <td>False</td>\n",
       "      <td>False</td>\n",
       "      <td>False</td>\n",
       "    </tr>\n",
       "    <tr>\n",
       "      <th>829</th>\n",
       "      <td>False</td>\n",
       "      <td>False</td>\n",
       "      <td>False</td>\n",
       "    </tr>\n",
       "  </tbody>\n",
       "</table>\n",
       "</div>"
      ],
      "text/plain": [
       "         C      Q      S\n",
       "61   False  False  False\n",
       "829  False  False  False"
      ]
     },
     "execution_count": 21,
     "metadata": {},
     "output_type": "execute_result"
    }
   ],
   "source": [
    "dummies_embarked[(dummies_embarked['C'] == False)*(dummies_embarked['Q'] == False)*(dummies_embarked['S'] == False)] # show N/A values in embarked"
   ]
  },
  {
   "cell_type": "code",
   "execution_count": 22,
   "id": "992e6bec",
   "metadata": {
    "execution": {
     "iopub.execute_input": "2024-08-03T04:39:17.855408Z",
     "iopub.status.busy": "2024-08-03T04:39:17.855025Z",
     "iopub.status.idle": "2024-08-03T04:39:17.862155Z",
     "shell.execute_reply": "2024-08-03T04:39:17.860986Z"
    },
    "papermill": {
     "duration": 0.038766,
     "end_time": "2024-08-03T04:39:17.864451",
     "exception": false,
     "start_time": "2024-08-03T04:39:17.825685",
     "status": "completed"
    },
    "tags": []
   },
   "outputs": [],
   "source": [
    "train_onehot = pd.concat([train, dummies_sex, dummies_embarked], axis=1)\n",
    "train_onehot.drop(columns=['Sex', 'Embarked'], inplace=True)"
   ]
  },
  {
   "cell_type": "code",
   "execution_count": 23,
   "id": "9cd0d3e2",
   "metadata": {
    "execution": {
     "iopub.execute_input": "2024-08-03T04:39:17.924241Z",
     "iopub.status.busy": "2024-08-03T04:39:17.923814Z",
     "iopub.status.idle": "2024-08-03T04:39:17.939988Z",
     "shell.execute_reply": "2024-08-03T04:39:17.938962Z"
    },
    "papermill": {
     "duration": 0.0487,
     "end_time": "2024-08-03T04:39:17.942296",
     "exception": false,
     "start_time": "2024-08-03T04:39:17.893596",
     "status": "completed"
    },
    "tags": []
   },
   "outputs": [
    {
     "data": {
      "text/html": [
       "<div>\n",
       "<style scoped>\n",
       "    .dataframe tbody tr th:only-of-type {\n",
       "        vertical-align: middle;\n",
       "    }\n",
       "\n",
       "    .dataframe tbody tr th {\n",
       "        vertical-align: top;\n",
       "    }\n",
       "\n",
       "    .dataframe thead th {\n",
       "        text-align: right;\n",
       "    }\n",
       "</style>\n",
       "<table border=\"1\" class=\"dataframe\">\n",
       "  <thead>\n",
       "    <tr style=\"text-align: right;\">\n",
       "      <th></th>\n",
       "      <th>Survived</th>\n",
       "      <th>Pclass</th>\n",
       "      <th>Age</th>\n",
       "      <th>SibSp</th>\n",
       "      <th>Parch</th>\n",
       "      <th>Fare</th>\n",
       "      <th>female</th>\n",
       "      <th>male</th>\n",
       "      <th>C</th>\n",
       "      <th>Q</th>\n",
       "      <th>S</th>\n",
       "    </tr>\n",
       "  </thead>\n",
       "  <tbody>\n",
       "    <tr>\n",
       "      <th>0</th>\n",
       "      <td>0</td>\n",
       "      <td>3</td>\n",
       "      <td>22.0</td>\n",
       "      <td>1</td>\n",
       "      <td>0</td>\n",
       "      <td>7.2500</td>\n",
       "      <td>False</td>\n",
       "      <td>True</td>\n",
       "      <td>False</td>\n",
       "      <td>False</td>\n",
       "      <td>True</td>\n",
       "    </tr>\n",
       "    <tr>\n",
       "      <th>1</th>\n",
       "      <td>1</td>\n",
       "      <td>1</td>\n",
       "      <td>38.0</td>\n",
       "      <td>1</td>\n",
       "      <td>0</td>\n",
       "      <td>71.2833</td>\n",
       "      <td>True</td>\n",
       "      <td>False</td>\n",
       "      <td>True</td>\n",
       "      <td>False</td>\n",
       "      <td>False</td>\n",
       "    </tr>\n",
       "    <tr>\n",
       "      <th>2</th>\n",
       "      <td>1</td>\n",
       "      <td>3</td>\n",
       "      <td>26.0</td>\n",
       "      <td>0</td>\n",
       "      <td>0</td>\n",
       "      <td>7.9250</td>\n",
       "      <td>True</td>\n",
       "      <td>False</td>\n",
       "      <td>False</td>\n",
       "      <td>False</td>\n",
       "      <td>True</td>\n",
       "    </tr>\n",
       "    <tr>\n",
       "      <th>3</th>\n",
       "      <td>1</td>\n",
       "      <td>1</td>\n",
       "      <td>35.0</td>\n",
       "      <td>1</td>\n",
       "      <td>0</td>\n",
       "      <td>53.1000</td>\n",
       "      <td>True</td>\n",
       "      <td>False</td>\n",
       "      <td>False</td>\n",
       "      <td>False</td>\n",
       "      <td>True</td>\n",
       "    </tr>\n",
       "    <tr>\n",
       "      <th>4</th>\n",
       "      <td>0</td>\n",
       "      <td>3</td>\n",
       "      <td>35.0</td>\n",
       "      <td>0</td>\n",
       "      <td>0</td>\n",
       "      <td>8.0500</td>\n",
       "      <td>False</td>\n",
       "      <td>True</td>\n",
       "      <td>False</td>\n",
       "      <td>False</td>\n",
       "      <td>True</td>\n",
       "    </tr>\n",
       "  </tbody>\n",
       "</table>\n",
       "</div>"
      ],
      "text/plain": [
       "   Survived  Pclass   Age  SibSp  Parch     Fare  female   male      C      Q  \\\n",
       "0         0       3  22.0      1      0   7.2500   False   True  False  False   \n",
       "1         1       1  38.0      1      0  71.2833    True  False   True  False   \n",
       "2         1       3  26.0      0      0   7.9250    True  False  False  False   \n",
       "3         1       1  35.0      1      0  53.1000    True  False  False  False   \n",
       "4         0       3  35.0      0      0   8.0500   False   True  False  False   \n",
       "\n",
       "       S  \n",
       "0   True  \n",
       "1  False  \n",
       "2   True  \n",
       "3   True  \n",
       "4   True  "
      ]
     },
     "execution_count": 23,
     "metadata": {},
     "output_type": "execute_result"
    }
   ],
   "source": [
    "train_onehot.head(5)"
   ]
  },
  {
   "cell_type": "markdown",
   "id": "358b8c09",
   "metadata": {
    "papermill": {
     "duration": 0.027897,
     "end_time": "2024-08-03T04:39:17.998530",
     "exception": false,
     "start_time": "2024-08-03T04:39:17.970633",
     "status": "completed"
    },
    "tags": []
   },
   "source": [
    "## Training a Simple Logistic Regression Model"
   ]
  },
  {
   "cell_type": "code",
   "execution_count": 24,
   "id": "0fe3537c",
   "metadata": {
    "execution": {
     "iopub.execute_input": "2024-08-03T04:39:18.057548Z",
     "iopub.status.busy": "2024-08-03T04:39:18.057169Z",
     "iopub.status.idle": "2024-08-03T04:39:18.251071Z",
     "shell.execute_reply": "2024-08-03T04:39:18.249978Z"
    },
    "papermill": {
     "duration": 0.226655,
     "end_time": "2024-08-03T04:39:18.253932",
     "exception": false,
     "start_time": "2024-08-03T04:39:18.027277",
     "status": "completed"
    },
    "tags": []
   },
   "outputs": [
    {
     "data": {
      "text/plain": [
       "array([0.80904523, 0.75879397, 0.81313131])"
      ]
     },
     "execution_count": 24,
     "metadata": {},
     "output_type": "execute_result"
    }
   ],
   "source": [
    "y = train_onehot['Survived']\n",
    "X = train_onehot.iloc[:, 1:]\n",
    "X_train, X_test, y_train, y_test = train_test_split(X, y, random_state=42, test_size=0.33)\n",
    "\n",
    "log_model1 = LogisticRegression(random_state=42, max_iter=300).fit(X_train, y_train)\n",
    "cross_val_score(log_model1, X_train, y_train, scoring='accuracy', cv=3)"
   ]
  },
  {
   "cell_type": "code",
   "execution_count": 25,
   "id": "07b8f25d",
   "metadata": {
    "execution": {
     "iopub.execute_input": "2024-08-03T04:39:18.313044Z",
     "iopub.status.busy": "2024-08-03T04:39:18.312610Z",
     "iopub.status.idle": "2024-08-03T04:39:19.395784Z",
     "shell.execute_reply": "2024-08-03T04:39:19.394478Z"
    },
    "papermill": {
     "duration": 1.115919,
     "end_time": "2024-08-03T04:39:19.398426",
     "exception": false,
     "start_time": "2024-08-03T04:39:18.282507",
     "status": "completed"
    },
    "tags": []
   },
   "outputs": [
    {
     "name": "stdout",
     "output_type": "stream",
     "text": [
      "iter =  100 cross_val_score =  [0.81407035 0.7638191  0.81818182]\n",
      "iter =  200 cross_val_score =  [0.81407035 0.75879397 0.81313131]\n",
      "iter =  500 cross_val_score =  [0.80904523 0.75879397 0.81313131]\n",
      "iter =  1000 cross_val_score =  [0.80904523 0.75879397 0.81313131]\n",
      "iter =  2000 cross_val_score =  [0.80904523 0.75879397 0.81313131]\n",
      "iter =  5000 cross_val_score =  [0.80904523 0.75879397 0.81313131]\n",
      "iter =  10000 cross_val_score =  [0.80904523 0.75879397 0.81313131]\n"
     ]
    }
   ],
   "source": [
    "for max_iter_sample in [100, 200, 500, 1000, 2000, 5000, 10000]:\n",
    "    log_model1 = LogisticRegression(random_state=42, max_iter=max_iter_sample).fit(X_train, y_train)\n",
    "    print('iter = ', max_iter_sample, 'cross_val_score = ', cross_val_score(log_model1, X_train, y_train, scoring='accuracy', cv=3))"
   ]
  },
  {
   "cell_type": "code",
   "execution_count": 26,
   "id": "d5b42318",
   "metadata": {
    "execution": {
     "iopub.execute_input": "2024-08-03T04:39:19.460098Z",
     "iopub.status.busy": "2024-08-03T04:39:19.459681Z",
     "iopub.status.idle": "2024-08-03T04:39:19.611510Z",
     "shell.execute_reply": "2024-08-03T04:39:19.610223Z"
    },
    "papermill": {
     "duration": 0.184918,
     "end_time": "2024-08-03T04:39:19.614302",
     "exception": false,
     "start_time": "2024-08-03T04:39:19.429384",
     "status": "completed"
    },
    "tags": []
   },
   "outputs": [],
   "source": [
    "log_model1 = LogisticRegression(random_state=42, max_iter=100).fit(X_train, y_train) # sklearn uses '1' as a positive class (survived class)\n",
    "acc_model1 = cross_val_score(log_model1, X_train, y_train, scoring='accuracy', cv=3)\n",
    "#print(acc_model1)\n",
    "y_train_pred_model1 = cross_val_predict(log_model1, X_train, y_train, cv=3, method='predict')\n",
    "#print(y_train_pred_model1)"
   ]
  },
  {
   "cell_type": "code",
   "execution_count": 27,
   "id": "397e6146",
   "metadata": {
    "execution": {
     "iopub.execute_input": "2024-08-03T04:39:19.673594Z",
     "iopub.status.busy": "2024-08-03T04:39:19.673220Z",
     "iopub.status.idle": "2024-08-03T04:39:19.920291Z",
     "shell.execute_reply": "2024-08-03T04:39:19.919131Z"
    },
    "papermill": {
     "duration": 0.279634,
     "end_time": "2024-08-03T04:39:19.922793",
     "exception": false,
     "start_time": "2024-08-03T04:39:19.643159",
     "status": "completed"
    },
    "tags": []
   },
   "outputs": [
    {
     "data": {
      "text/plain": [
       "<sklearn.metrics._plot.confusion_matrix.ConfusionMatrixDisplay at 0x7ad060c2c820>"
      ]
     },
     "execution_count": 27,
     "metadata": {},
     "output_type": "execute_result"
    },
    {
     "data": {
      "image/png": "[encoded data removed]",
      "text/plain": [
       "<Figure size 640x480 with 2 Axes>"
      ]
     },
     "metadata": {},
     "output_type": "display_data"
    }
   ],
   "source": [
    "cm = confusion_matrix(y_train, y_train_pred_model1, labels=[1,0])\n",
    "disp = ConfusionMatrixDisplay(confusion_matrix = cm)\n",
    "disp.plot()"
   ]
  },
  {
   "cell_type": "code",
   "execution_count": 28,
   "id": "6676e2ae",
   "metadata": {
    "execution": {
     "iopub.execute_input": "2024-08-03T04:39:19.983922Z",
     "iopub.status.busy": "2024-08-03T04:39:19.983506Z",
     "iopub.status.idle": "2024-08-03T04:39:20.056648Z",
     "shell.execute_reply": "2024-08-03T04:39:20.055365Z"
    },
    "papermill": {
     "duration": 0.106753,
     "end_time": "2024-08-03T04:39:20.059107",
     "exception": false,
     "start_time": "2024-08-03T04:39:19.952354",
     "status": "completed"
    },
    "tags": []
   },
   "outputs": [
    {
     "name": "stdout",
     "output_type": "stream",
     "text": [
      "precision =  0.755\n",
      "recall =  0.68\n",
      "f1-score =  0.716\n",
      "accuracy =  0.799\n"
     ]
    }
   ],
   "source": [
    "precision = 151/(151+49)\n",
    "recall = 151/(151+71)\n",
    "f1 = 2*precision*recall/(precision+recall)\n",
    "print('precision = ', round(precision,3))\n",
    "print('recall = ', round(recall,3))\n",
    "print('f1-score = ', round(f1,3))\n",
    "print('accuracy = ', round(cross_val_score(log_model1, X_train, y_train, scoring='accuracy', cv=3).mean(),3))"
   ]
  },
  {
   "cell_type": "code",
   "execution_count": 29,
   "id": "aad10ac1",
   "metadata": {
    "execution": {
     "iopub.execute_input": "2024-08-03T04:39:20.120672Z",
     "iopub.status.busy": "2024-08-03T04:39:20.120271Z",
     "iopub.status.idle": "2024-08-03T04:39:20.135201Z",
     "shell.execute_reply": "2024-08-03T04:39:20.133823Z"
    },
    "papermill": {
     "duration": 0.048132,
     "end_time": "2024-08-03T04:39:20.137599",
     "exception": false,
     "start_time": "2024-08-03T04:39:20.089467",
     "status": "completed"
    },
    "tags": []
   },
   "outputs": [
    {
     "name": "stdout",
     "output_type": "stream",
     "text": [
      "              precision    recall  f1-score   support\n",
      "\n",
      "           0       0.82      0.87      0.84       374\n",
      "           1       0.76      0.68      0.72       222\n",
      "\n",
      "    accuracy                           0.80       596\n",
      "   macro avg       0.79      0.77      0.78       596\n",
      "weighted avg       0.80      0.80      0.80       596\n",
      "\n"
     ]
    }
   ],
   "source": [
    "report1 = classification_report(y_train, y_train_pred_model1)\n",
    "print(report1)"
   ]
  },
  {
   "cell_type": "code",
   "execution_count": 30,
   "id": "1f625881",
   "metadata": {
    "execution": {
     "iopub.execute_input": "2024-08-03T04:39:20.200145Z",
     "iopub.status.busy": "2024-08-03T04:39:20.199286Z",
     "iopub.status.idle": "2024-08-03T04:39:20.216721Z",
     "shell.execute_reply": "2024-08-03T04:39:20.215298Z"
    },
    "papermill": {
     "duration": 0.051717,
     "end_time": "2024-08-03T04:39:20.219456",
     "exception": false,
     "start_time": "2024-08-03T04:39:20.167739",
     "status": "completed"
    },
    "tags": []
   },
   "outputs": [
    {
     "name": "stdout",
     "output_type": "stream",
     "text": [
      "              precision    recall  f1-score   support\n",
      "\n",
      "           0       0.82      0.87      0.85       175\n",
      "           1       0.80      0.72      0.76       120\n",
      "\n",
      "    accuracy                           0.81       295\n",
      "   macro avg       0.81      0.80      0.80       295\n",
      "weighted avg       0.81      0.81      0.81       295\n",
      "\n"
     ]
    }
   ],
   "source": [
    "y_test_pred_model1 = log_model1.predict(X_test)\n",
    "report1_test = classification_report(y_test, y_test_pred_model1)\n",
    "print(report1_test)"
   ]
  },
  {
   "cell_type": "markdown",
   "id": "462c95e6",
   "metadata": {
    "papermill": {
     "duration": 0.030553,
     "end_time": "2024-08-03T04:39:20.280028",
     "exception": false,
     "start_time": "2024-08-03T04:39:20.249475",
     "status": "completed"
    },
    "tags": []
   },
   "source": [
    "## Training Random Forest"
   ]
  },
  {
   "cell_type": "code",
   "execution_count": 31,
   "id": "3244e2b7",
   "metadata": {
    "execution": {
     "iopub.execute_input": "2024-08-03T04:39:20.342835Z",
     "iopub.status.busy": "2024-08-03T04:39:20.341736Z",
     "iopub.status.idle": "2024-08-03T04:39:20.597947Z",
     "shell.execute_reply": "2024-08-03T04:39:20.596948Z"
    },
    "papermill": {
     "duration": 0.290026,
     "end_time": "2024-08-03T04:39:20.600504",
     "exception": false,
     "start_time": "2024-08-03T04:39:20.310478",
     "status": "completed"
    },
    "tags": []
   },
   "outputs": [],
   "source": [
    "rf1 = RandomForestClassifier(random_state=42).fit(X_train, y_train)\n",
    "y_train_pred_rf1 = rf1.predict(X_train)\n",
    "y_test_pred_rf1 = rf1.predict(X_test)\n",
    "report_rf1 = classification_report(y_train, y_train_pred_rf1)\n",
    "report_rf1_test = classification_report(y_test, y_test_pred_rf1)"
   ]
  },
  {
   "cell_type": "code",
   "execution_count": 32,
   "id": "59507ef9",
   "metadata": {
    "execution": {
     "iopub.execute_input": "2024-08-03T04:39:20.661934Z",
     "iopub.status.busy": "2024-08-03T04:39:20.660776Z",
     "iopub.status.idle": "2024-08-03T04:39:20.667152Z",
     "shell.execute_reply": "2024-08-03T04:39:20.665804Z"
    },
    "papermill": {
     "duration": 0.039534,
     "end_time": "2024-08-03T04:39:20.669694",
     "exception": false,
     "start_time": "2024-08-03T04:39:20.630160",
     "status": "completed"
    },
    "tags": []
   },
   "outputs": [
    {
     "name": "stdout",
     "output_type": "stream",
     "text": [
      "              precision    recall  f1-score   support\n",
      "\n",
      "           0       0.98      0.99      0.98       374\n",
      "           1       0.99      0.96      0.97       222\n",
      "\n",
      "    accuracy                           0.98       596\n",
      "   macro avg       0.98      0.98      0.98       596\n",
      "weighted avg       0.98      0.98      0.98       596\n",
      "\n",
      "              precision    recall  f1-score   support\n",
      "\n",
      "           0       0.79      0.82      0.81       175\n",
      "           1       0.72      0.69      0.71       120\n",
      "\n",
      "    accuracy                           0.77       295\n",
      "   macro avg       0.76      0.75      0.76       295\n",
      "weighted avg       0.76      0.77      0.77       295\n",
      "\n"
     ]
    }
   ],
   "source": [
    "print(report_rf1)\n",
    "print(report_rf1_test)"
   ]
  },
  {
   "cell_type": "markdown",
   "id": "819e2d3f",
   "metadata": {
    "papermill": {
     "duration": 0.029107,
     "end_time": "2024-08-03T04:39:20.728353",
     "exception": false,
     "start_time": "2024-08-03T04:39:20.699246",
     "status": "completed"
    },
    "tags": []
   },
   "source": [
    "## Checking imbalance in dataset\n",
    "\n",
    "Accordingly, in Foundations of Imbalanced Learning Gary M. Weiss writes:\n",
    "\n",
    "**There is no agreement, or standard, concerning the exact degree of class imbalance required for a data set to be considered truly \"imbalanced.\"** But most practitioners would certainly agree that a data set where the most common class is less than twice as common as the rarest class would only be marginally unbalanced, that data sets with the imbalance ratio about **10:1 would be modestly imbalanced**, and data sets with imbalance ratios above **1000:1 would be extremely unbalanced**. But ultimately what we care about is how the imbalance impacts learning, and, in particular, the ability to learn the rare classes."
   ]
  },
  {
   "cell_type": "code",
   "execution_count": 33,
   "id": "de05fe8d",
   "metadata": {
    "execution": {
     "iopub.execute_input": "2024-08-03T04:39:20.790102Z",
     "iopub.status.busy": "2024-08-03T04:39:20.789696Z",
     "iopub.status.idle": "2024-08-03T04:39:20.962822Z",
     "shell.execute_reply": "2024-08-03T04:39:20.961556Z"
    },
    "papermill": {
     "duration": 0.207137,
     "end_time": "2024-08-03T04:39:20.965419",
     "exception": false,
     "start_time": "2024-08-03T04:39:20.758282",
     "status": "completed"
    },
    "tags": []
   },
   "outputs": [
    {
     "name": "stderr",
     "output_type": "stream",
     "text": [
      "/opt/conda/lib/python3.10/site-packages/seaborn/_oldcore.py:1765: FutureWarning: unique with argument that is not not a Series, Index, ExtensionArray, or np.ndarray is deprecated and will raise in a future version.\n",
      "  order = pd.unique(vector)\n"
     ]
    },
    {
     "data": {
      "text/plain": [
       "Text(0, 0.5, 'Count')"
      ]
     },
     "execution_count": 33,
     "metadata": {},
     "output_type": "execute_result"
    },
    {
     "data": {
      "image/png": "[encoded data removed]",
      "text/plain": [
       "<Figure size 640x480 with 1 Axes>"
      ]
     },
     "metadata": {},
     "output_type": "display_data"
    }
   ],
   "source": [
    "y_train.value_counts()\n",
    "x_label = ['Not Survived', 'Survived']\n",
    "sns.barplot(x=x_label, y=y_train.value_counts(), palette=['grey', 'green'])\n",
    "plt.ylabel('Count')"
   ]
  },
  {
   "cell_type": "markdown",
   "id": "17e6cc6f",
   "metadata": {
    "papermill": {
     "duration": 0.02968,
     "end_time": "2024-08-03T04:39:21.025190",
     "exception": false,
     "start_time": "2024-08-03T04:39:20.995510",
     "status": "completed"
    },
    "tags": []
   },
   "source": [
    "- The dataset would not be considered to imbalance dataset. \n",
    "- Accuracy can be used to evaluate model during comparision process."
   ]
  },
  {
   "cell_type": "code",
   "execution_count": 34,
   "id": "cc822cf6",
   "metadata": {
    "execution": {
     "iopub.execute_input": "2024-08-03T04:39:21.089607Z",
     "iopub.status.busy": "2024-08-03T04:39:21.089191Z",
     "iopub.status.idle": "2024-08-03T04:39:21.097337Z",
     "shell.execute_reply": "2024-08-03T04:39:21.096098Z"
    },
    "papermill": {
     "duration": 0.041908,
     "end_time": "2024-08-03T04:39:21.099714",
     "exception": false,
     "start_time": "2024-08-03T04:39:21.057806",
     "status": "completed"
    },
    "tags": []
   },
   "outputs": [
    {
     "name": "stdout",
     "output_type": "stream",
     "text": [
      "ratio of died to survived =  1.6846846846846846\n"
     ]
    }
   ],
   "source": [
    "print('ratio of died to survived = ', y_train.value_counts()[0]/y_train.value_counts()[1])"
   ]
  },
  {
   "cell_type": "markdown",
   "id": "8da4ad40",
   "metadata": {
    "papermill": {
     "duration": 0.029988,
     "end_time": "2024-08-03T04:39:21.160290",
     "exception": false,
     "start_time": "2024-08-03T04:39:21.130302",
     "status": "completed"
    },
    "tags": []
   },
   "source": [
    "# Round 2 - Improving Performance - Data Analysis"
   ]
  },
  {
   "cell_type": "markdown",
   "id": "aef9259c",
   "metadata": {
    "papermill": {
     "duration": 0.030646,
     "end_time": "2024-08-03T04:39:21.222079",
     "exception": false,
     "start_time": "2024-08-03T04:39:21.191433",
     "status": "completed"
    },
    "tags": []
   },
   "source": [
    "## Seeking insight about survivorship - Data Visualization / Feature Engineering"
   ]
  },
  {
   "cell_type": "markdown",
   "id": "7f2a3fc4",
   "metadata": {
    "papermill": {
     "duration": 0.030029,
     "end_time": "2024-08-03T04:39:21.282711",
     "exception": false,
     "start_time": "2024-08-03T04:39:21.252682",
     "status": "completed"
    },
    "tags": []
   },
   "source": [
    "### Age-Survivorship"
   ]
  },
  {
   "cell_type": "code",
   "execution_count": 35,
   "id": "40a39073",
   "metadata": {
    "execution": {
     "iopub.execute_input": "2024-08-03T04:39:21.345717Z",
     "iopub.status.busy": "2024-08-03T04:39:21.345330Z",
     "iopub.status.idle": "2024-08-03T04:39:21.758473Z",
     "shell.execute_reply": "2024-08-03T04:39:21.757116Z"
    },
    "papermill": {
     "duration": 0.447045,
     "end_time": "2024-08-03T04:39:21.760973",
     "exception": false,
     "start_time": "2024-08-03T04:39:21.313928",
     "status": "completed"
    },
    "tags": []
   },
   "outputs": [
    {
     "name": "stderr",
     "output_type": "stream",
     "text": [
      "/tmp/ipykernel_18/2183837531.py:9: FutureWarning: The default of observed=False is deprecated and will be changed to True in a future version of pandas. Pass observed=False to retain current behavior or observed=True to adopt the future default and silence this warning.\n",
      "  age_survivor_cut = age_survivor.groupby(pd.cut(age_survivor['Age'], bins=10)).sum().drop(columns='Age')\n"
     ]
    },
    {
     "data": {
      "text/plain": [
       "Text(0.5, 0, '')"
      ]
     },
     "execution_count": 35,
     "metadata": {},
     "output_type": "execute_result"
    },
    {
     "data": {
      "image/png": "[encoded data removed]",
      "text/plain": [
       "<Figure size 1000x500 with 1 Axes>"
      ]
     },
     "metadata": {},
     "output_type": "display_data"
    }
   ],
   "source": [
    "age_survivor = train_onehot[['Age', 'Survived']]\n",
    "survived_dummy = pd.get_dummies(age_survivor['Survived']).astype(int)\n",
    "age_survivor = pd.DataFrame({'Not Survived': survived_dummy[0], 'Survived': survived_dummy[1], 'Age' : age_survivor['Age']})\n",
    "#age_survivor\n",
    "\n",
    "#age_survivor_cut = age_survivor.groupby(pd.cut(age_survivor['Age'], labels=['Child', 'Adolescence', 'Lower-Adult', 'Middle-Adult', 'Elderly'], bins=[0, 13, 18, 35, 60, np.inf])).sum().drop(columns='Age')\n",
    "#age_survivor_cut\n",
    "\n",
    "age_survivor_cut = age_survivor.groupby(pd.cut(age_survivor['Age'], bins=10)).sum().drop(columns='Age')\n",
    "\n",
    "age_survivor_cut.plot(kind='bar', figsize=(10,5), color=['Grey', 'Green'], rot=90)\n",
    "plt.title('Age-Survivorship Distribution')\n",
    "plt.ylabel('Count')\n",
    "plt.xlabel('')"
   ]
  },
  {
   "cell_type": "markdown",
   "id": "2c2dc021",
   "metadata": {
    "papermill": {
     "duration": 0.030867,
     "end_time": "2024-08-03T04:39:21.823710",
     "exception": false,
     "start_time": "2024-08-03T04:39:21.792843",
     "status": "completed"
    },
    "tags": []
   },
   "source": [
    "- Number of children who survived more than died.\n",
    "- In contrast, in other age intervals, more people died than survived."
   ]
  },
  {
   "cell_type": "code",
   "execution_count": 36,
   "id": "74ae5050",
   "metadata": {
    "execution": {
     "iopub.execute_input": "2024-08-03T04:39:21.887405Z",
     "iopub.status.busy": "2024-08-03T04:39:21.887025Z",
     "iopub.status.idle": "2024-08-03T04:39:21.899533Z",
     "shell.execute_reply": "2024-08-03T04:39:21.898491Z"
    },
    "papermill": {
     "duration": 0.047083,
     "end_time": "2024-08-03T04:39:21.901955",
     "exception": false,
     "start_time": "2024-08-03T04:39:21.854872",
     "status": "completed"
    },
    "tags": []
   },
   "outputs": [
    {
     "data": {
      "text/html": [
       "<div>\n",
       "<style scoped>\n",
       "    .dataframe tbody tr th:only-of-type {\n",
       "        vertical-align: middle;\n",
       "    }\n",
       "\n",
       "    .dataframe tbody tr th {\n",
       "        vertical-align: top;\n",
       "    }\n",
       "\n",
       "    .dataframe thead th {\n",
       "        text-align: right;\n",
       "    }\n",
       "</style>\n",
       "<table border=\"1\" class=\"dataframe\">\n",
       "  <thead>\n",
       "    <tr style=\"text-align: right;\">\n",
       "      <th></th>\n",
       "      <th>Not Survived</th>\n",
       "      <th>Survived</th>\n",
       "    </tr>\n",
       "    <tr>\n",
       "      <th>Age</th>\n",
       "      <th></th>\n",
       "      <th></th>\n",
       "    </tr>\n",
       "  </thead>\n",
       "  <tbody>\n",
       "    <tr>\n",
       "      <th>(0.34, 8.378]</th>\n",
       "      <td>18</td>\n",
       "      <td>36</td>\n",
       "    </tr>\n",
       "    <tr>\n",
       "      <th>(8.378, 16.336]</th>\n",
       "      <td>27</td>\n",
       "      <td>19</td>\n",
       "    </tr>\n",
       "    <tr>\n",
       "      <th>(16.336, 24.294]</th>\n",
       "      <td>114</td>\n",
       "      <td>63</td>\n",
       "    </tr>\n",
       "    <tr>\n",
       "      <th>(24.294, 32.252]</th>\n",
       "      <td>229</td>\n",
       "      <td>117</td>\n",
       "    </tr>\n",
       "    <tr>\n",
       "      <th>(32.252, 40.21]</th>\n",
       "      <td>66</td>\n",
       "      <td>52</td>\n",
       "    </tr>\n",
       "    <tr>\n",
       "      <th>(40.21, 48.168]</th>\n",
       "      <td>46</td>\n",
       "      <td>24</td>\n",
       "    </tr>\n",
       "    <tr>\n",
       "      <th>(48.168, 56.126]</th>\n",
       "      <td>24</td>\n",
       "      <td>21</td>\n",
       "    </tr>\n",
       "    <tr>\n",
       "      <th>(56.126, 64.084]</th>\n",
       "      <td>15</td>\n",
       "      <td>9</td>\n",
       "    </tr>\n",
       "    <tr>\n",
       "      <th>(64.084, 72.042]</th>\n",
       "      <td>9</td>\n",
       "      <td>0</td>\n",
       "    </tr>\n",
       "    <tr>\n",
       "      <th>(72.042, 80.0]</th>\n",
       "      <td>1</td>\n",
       "      <td>1</td>\n",
       "    </tr>\n",
       "  </tbody>\n",
       "</table>\n",
       "</div>"
      ],
      "text/plain": [
       "                  Not Survived  Survived\n",
       "Age                                     \n",
       "(0.34, 8.378]               18        36\n",
       "(8.378, 16.336]             27        19\n",
       "(16.336, 24.294]           114        63\n",
       "(24.294, 32.252]           229       117\n",
       "(32.252, 40.21]             66        52\n",
       "(40.21, 48.168]             46        24\n",
       "(48.168, 56.126]            24        21\n",
       "(56.126, 64.084]            15         9\n",
       "(64.084, 72.042]             9         0\n",
       "(72.042, 80.0]               1         1"
      ]
     },
     "execution_count": 36,
     "metadata": {},
     "output_type": "execute_result"
    }
   ],
   "source": [
    "age_survivor_cut"
   ]
  },
  {
   "cell_type": "code",
   "execution_count": 37,
   "id": "19130711",
   "metadata": {
    "execution": {
     "iopub.execute_input": "2024-08-03T04:39:21.967308Z",
     "iopub.status.busy": "2024-08-03T04:39:21.966515Z",
     "iopub.status.idle": "2024-08-03T04:39:21.972786Z",
     "shell.execute_reply": "2024-08-03T04:39:21.971586Z"
    },
    "papermill": {
     "duration": 0.041386,
     "end_time": "2024-08-03T04:39:21.975261",
     "exception": false,
     "start_time": "2024-08-03T04:39:21.933875",
     "status": "completed"
    },
    "tags": []
   },
   "outputs": [],
   "source": [
    "# inspecting conditional probabiliry (survival rate if knowing age)\n",
    "survival_rate_byage = age_survivor_cut['Survived']/(age_survivor_cut['Survived'] + age_survivor_cut['Not Survived'])"
   ]
  },
  {
   "cell_type": "code",
   "execution_count": 38,
   "id": "83669bbf",
   "metadata": {
    "execution": {
     "iopub.execute_input": "2024-08-03T04:39:22.039746Z",
     "iopub.status.busy": "2024-08-03T04:39:22.039342Z",
     "iopub.status.idle": "2024-08-03T04:39:22.049401Z",
     "shell.execute_reply": "2024-08-03T04:39:22.048383Z"
    },
    "papermill": {
     "duration": 0.045111,
     "end_time": "2024-08-03T04:39:22.051784",
     "exception": false,
     "start_time": "2024-08-03T04:39:22.006673",
     "status": "completed"
    },
    "tags": []
   },
   "outputs": [
    {
     "data": {
      "text/plain": [
       "Age\n",
       "(0.34, 8.378]       0.666667\n",
       "(8.378, 16.336]     0.413043\n",
       "(16.336, 24.294]    0.355932\n",
       "(24.294, 32.252]    0.338150\n",
       "(32.252, 40.21]     0.440678\n",
       "(40.21, 48.168]     0.342857\n",
       "(48.168, 56.126]    0.466667\n",
       "(56.126, 64.084]    0.375000\n",
       "(64.084, 72.042]    0.000000\n",
       "(72.042, 80.0]      0.500000\n",
       "dtype: float64"
      ]
     },
     "execution_count": 38,
     "metadata": {},
     "output_type": "execute_result"
    }
   ],
   "source": [
    "survival_rate_byage"
   ]
  },
  {
   "cell_type": "code",
   "execution_count": 39,
   "id": "7271fe5c",
   "metadata": {
    "execution": {
     "iopub.execute_input": "2024-08-03T04:39:22.117584Z",
     "iopub.status.busy": "2024-08-03T04:39:22.117198Z",
     "iopub.status.idle": "2024-08-03T04:39:22.423745Z",
     "shell.execute_reply": "2024-08-03T04:39:22.422482Z"
    },
    "papermill": {
     "duration": 0.342089,
     "end_time": "2024-08-03T04:39:22.426271",
     "exception": false,
     "start_time": "2024-08-03T04:39:22.084182",
     "status": "completed"
    },
    "tags": []
   },
   "outputs": [
    {
     "data": {
      "text/plain": [
       "Text(0.5, 1.0, 'Survival Rate by Age')"
      ]
     },
     "execution_count": 39,
     "metadata": {},
     "output_type": "execute_result"
    },
    {
     "data": {
      "image/png": "[encoded data removed]",
      "text/plain": [
       "<Figure size 640x480 with 1 Axes>"
      ]
     },
     "metadata": {},
     "output_type": "display_data"
    }
   ],
   "source": [
    "survival_rate_byage.plot(kind='bar')\n",
    "plt.title('Survival Rate by Age')"
   ]
  },
  {
   "cell_type": "markdown",
   "id": "8fd9127d",
   "metadata": {
    "papermill": {
     "duration": 0.031399,
     "end_time": "2024-08-03T04:39:22.489935",
     "exception": false,
     "start_time": "2024-08-03T04:39:22.458536",
     "status": "completed"
    },
    "tags": []
   },
   "source": [
    "- Difficult to observe pattern\n",
    "\n",
    "- Re-define bins to seek pattern"
   ]
  },
  {
   "cell_type": "code",
   "execution_count": 40,
   "id": "5d19f63f",
   "metadata": {
    "execution": {
     "iopub.execute_input": "2024-08-03T04:39:22.556665Z",
     "iopub.status.busy": "2024-08-03T04:39:22.555821Z",
     "iopub.status.idle": "2024-08-03T04:39:22.871074Z",
     "shell.execute_reply": "2024-08-03T04:39:22.869810Z"
    },
    "papermill": {
     "duration": 0.351368,
     "end_time": "2024-08-03T04:39:22.873704",
     "exception": false,
     "start_time": "2024-08-03T04:39:22.522336",
     "status": "completed"
    },
    "tags": []
   },
   "outputs": [
    {
     "name": "stderr",
     "output_type": "stream",
     "text": [
      "/tmp/ipykernel_18/3850789614.py:1: FutureWarning: The default of observed=False is deprecated and will be changed to True in a future version of pandas. Pass observed=False to retain current behavior or observed=True to adopt the future default and silence this warning.\n",
      "  age_survivor_cut = age_survivor.groupby(pd.cut(age_survivor['Age'], bins=[0, 8, 25,40,np.inf])).sum().drop(columns='Age')\n"
     ]
    },
    {
     "data": {
      "text/plain": [
       "Text(0.5, 0, '')"
      ]
     },
     "execution_count": 40,
     "metadata": {},
     "output_type": "execute_result"
    },
    {
     "data": {
      "image/png": "[encoded data removed]",
      "text/plain": [
       "<Figure size 1000x500 with 1 Axes>"
      ]
     },
     "metadata": {},
     "output_type": "display_data"
    }
   ],
   "source": [
    "age_survivor_cut = age_survivor.groupby(pd.cut(age_survivor['Age'], bins=[0, 8, 25,40,np.inf])).sum().drop(columns='Age')\n",
    "\n",
    "age_survivor_cut.plot(kind='bar', figsize=(10,5), color=['Grey', 'Green'], rot=0)\n",
    "plt.title('Age-Survivorship Distribution')\n",
    "plt.ylabel('Count')\n",
    "plt.xlabel('')"
   ]
  },
  {
   "cell_type": "code",
   "execution_count": 41,
   "id": "0ef7b512",
   "metadata": {
    "execution": {
     "iopub.execute_input": "2024-08-03T04:39:22.943781Z",
     "iopub.status.busy": "2024-08-03T04:39:22.943341Z",
     "iopub.status.idle": "2024-08-03T04:39:22.955321Z",
     "shell.execute_reply": "2024-08-03T04:39:22.953884Z"
    },
    "papermill": {
     "duration": 0.050512,
     "end_time": "2024-08-03T04:39:22.957785",
     "exception": false,
     "start_time": "2024-08-03T04:39:22.907273",
     "status": "completed"
    },
    "tags": []
   },
   "outputs": [
    {
     "data": {
      "text/plain": [
       "Age\n",
       "(0.0, 8.0]      0.666667\n",
       "(8.0, 25.0]     0.356275\n",
       "(25.0, 40.0]    0.370455\n",
       "(40.0, inf]     0.366667\n",
       "dtype: float64"
      ]
     },
     "execution_count": 41,
     "metadata": {},
     "output_type": "execute_result"
    }
   ],
   "source": [
    "survival_rate_byage = age_survivor_cut['Survived']/(age_survivor_cut['Survived'] + age_survivor_cut['Not Survived'])\n",
    "survival_rate_byage"
   ]
  },
  {
   "cell_type": "code",
   "execution_count": 42,
   "id": "1bfba530",
   "metadata": {
    "execution": {
     "iopub.execute_input": "2024-08-03T04:39:23.026784Z",
     "iopub.status.busy": "2024-08-03T04:39:23.026369Z",
     "iopub.status.idle": "2024-08-03T04:39:23.273231Z",
     "shell.execute_reply": "2024-08-03T04:39:23.271983Z"
    },
    "papermill": {
     "duration": 0.284306,
     "end_time": "2024-08-03T04:39:23.275678",
     "exception": false,
     "start_time": "2024-08-03T04:39:22.991372",
     "status": "completed"
    },
    "tags": []
   },
   "outputs": [
    {
     "data": {
      "text/plain": [
       "Text(0.5, 1.0, 'Survival Rate by Age')"
      ]
     },
     "execution_count": 42,
     "metadata": {},
     "output_type": "execute_result"
    },
    {
     "data": {
      "image/png": "[encoded data removed]",
      "text/plain": [
       "<Figure size 640x480 with 1 Axes>"
      ]
     },
     "metadata": {},
     "output_type": "display_data"
    }
   ],
   "source": [
    "survival_rate_byage.plot(kind='bar')\n",
    "plt.title('Survival Rate by Age')"
   ]
  },
  {
   "cell_type": "markdown",
   "id": "979aff4b",
   "metadata": {
    "papermill": {
     "duration": 0.033129,
     "end_time": "2024-08-03T04:39:23.342026",
     "exception": false,
     "start_time": "2024-08-03T04:39:23.308897",
     "status": "completed"
    },
    "tags": []
   },
   "source": [
    "- Different in survival rate can be divided into 2 groups : age <=8 , age > 8"
   ]
  },
  {
   "cell_type": "code",
   "execution_count": 43,
   "id": "975c5ac0",
   "metadata": {
    "execution": {
     "iopub.execute_input": "2024-08-03T04:39:23.411231Z",
     "iopub.status.busy": "2024-08-03T04:39:23.410788Z",
     "iopub.status.idle": "2024-08-03T04:39:23.418441Z",
     "shell.execute_reply": "2024-08-03T04:39:23.416645Z"
    },
    "papermill": {
     "duration": 0.049317,
     "end_time": "2024-08-03T04:39:23.424597",
     "exception": false,
     "start_time": "2024-08-03T04:39:23.375280",
     "status": "completed"
    },
    "tags": []
   },
   "outputs": [],
   "source": [
    "# feature engineering on 'age' feature\n",
    "# grouping age<=8 label to '1', age>8 to '0'\n",
    "train_onehot['Age_8'] = train_onehot['Age']<=8\n"
   ]
  },
  {
   "cell_type": "code",
   "execution_count": 44,
   "id": "a57b3138",
   "metadata": {
    "execution": {
     "iopub.execute_input": "2024-08-03T04:39:23.492848Z",
     "iopub.status.busy": "2024-08-03T04:39:23.492452Z",
     "iopub.status.idle": "2024-08-03T04:39:23.499803Z",
     "shell.execute_reply": "2024-08-03T04:39:23.498720Z"
    },
    "papermill": {
     "duration": 0.044306,
     "end_time": "2024-08-03T04:39:23.502079",
     "exception": false,
     "start_time": "2024-08-03T04:39:23.457773",
     "status": "completed"
    },
    "tags": []
   },
   "outputs": [
    {
     "data": {
      "text/plain": [
       "54"
      ]
     },
     "execution_count": 44,
     "metadata": {},
     "output_type": "execute_result"
    }
   ],
   "source": [
    "train_onehot['Age_8'].sum()"
   ]
  },
  {
   "cell_type": "markdown",
   "id": "3538c15c",
   "metadata": {
    "papermill": {
     "duration": 0.033398,
     "end_time": "2024-08-03T04:39:23.570201",
     "exception": false,
     "start_time": "2024-08-03T04:39:23.536803",
     "status": "completed"
    },
    "tags": []
   },
   "source": [
    "### Sex-Survivorship"
   ]
  },
  {
   "cell_type": "code",
   "execution_count": 45,
   "id": "65e3e56e",
   "metadata": {
    "execution": {
     "iopub.execute_input": "2024-08-03T04:39:23.639685Z",
     "iopub.status.busy": "2024-08-03T04:39:23.638467Z",
     "iopub.status.idle": "2024-08-03T04:39:23.914578Z",
     "shell.execute_reply": "2024-08-03T04:39:23.913083Z"
    },
    "papermill": {
     "duration": 0.313551,
     "end_time": "2024-08-03T04:39:23.917194",
     "exception": false,
     "start_time": "2024-08-03T04:39:23.603643",
     "status": "completed"
    },
    "tags": []
   },
   "outputs": [
    {
     "data": {
      "text/plain": [
       "Text(0.5, 1.0, 'Sex-Survivorship')"
      ]
     },
     "execution_count": 45,
     "metadata": {},
     "output_type": "execute_result"
    },
    {
     "data": {
      "image/png": "[encoded data removed]",
      "text/plain": [
       "<Figure size 640x480 with 1 Axes>"
      ]
     },
     "metadata": {},
     "output_type": "display_data"
    }
   ],
   "source": [
    "# relationship between survived and sex\n",
    "#train_onehot.head(5)\n",
    "not_survived = -train_onehot['Survived'].astype(bool).rename('Not Survived')\n",
    "sex_survivorship = pd.concat([train_onehot[['Survived' ,'female', 'male']], not_survived], axis=1)\n",
    "#sex_survived\n",
    "sex_survivorship = sex_survivorship.groupby(['female', 'male']).sum()\n",
    "sex_survivorship = sex_survivorship.reset_index().drop(columns=['female', 'male'])\n",
    "sex_survivorship.insert(0, 'Sex', ['Male', 'Female'])\n",
    "sex_survivorship.set_index('Sex', inplace=True)\n",
    "\n",
    "sex_survivorship.plot(kind='bar', rot=0, color=['Green', 'Grey'])\n",
    "plt.ylabel('Count')\n",
    "plt.title('Sex-Survivorship')"
   ]
  },
  {
   "cell_type": "markdown",
   "id": "33f1f172",
   "metadata": {
    "papermill": {
     "duration": 0.035739,
     "end_time": "2024-08-03T04:39:23.987503",
     "exception": false,
     "start_time": "2024-08-03T04:39:23.951764",
     "status": "completed"
    },
    "tags": []
   },
   "source": [
    "- Many of survivors are 'female'.\n",
    "- Many of deaths are 'male'.\n",
    "- On the titanic, males are the greatest portion of the passengers."
   ]
  },
  {
   "cell_type": "code",
   "execution_count": 46,
   "id": "7c80121b",
   "metadata": {
    "execution": {
     "iopub.execute_input": "2024-08-03T04:39:24.057185Z",
     "iopub.status.busy": "2024-08-03T04:39:24.056762Z",
     "iopub.status.idle": "2024-08-03T04:39:24.067527Z",
     "shell.execute_reply": "2024-08-03T04:39:24.066262Z"
    },
    "papermill": {
     "duration": 0.048376,
     "end_time": "2024-08-03T04:39:24.070025",
     "exception": false,
     "start_time": "2024-08-03T04:39:24.021649",
     "status": "completed"
    },
    "tags": []
   },
   "outputs": [
    {
     "data": {
      "text/html": [
       "<div>\n",
       "<style scoped>\n",
       "    .dataframe tbody tr th:only-of-type {\n",
       "        vertical-align: middle;\n",
       "    }\n",
       "\n",
       "    .dataframe tbody tr th {\n",
       "        vertical-align: top;\n",
       "    }\n",
       "\n",
       "    .dataframe thead th {\n",
       "        text-align: right;\n",
       "    }\n",
       "</style>\n",
       "<table border=\"1\" class=\"dataframe\">\n",
       "  <thead>\n",
       "    <tr style=\"text-align: right;\">\n",
       "      <th></th>\n",
       "      <th>Survived</th>\n",
       "      <th>Not Survived</th>\n",
       "    </tr>\n",
       "    <tr>\n",
       "      <th>Sex</th>\n",
       "      <th></th>\n",
       "      <th></th>\n",
       "    </tr>\n",
       "  </thead>\n",
       "  <tbody>\n",
       "    <tr>\n",
       "      <th>Male</th>\n",
       "      <td>109</td>\n",
       "      <td>468</td>\n",
       "    </tr>\n",
       "    <tr>\n",
       "      <th>Female</th>\n",
       "      <td>233</td>\n",
       "      <td>81</td>\n",
       "    </tr>\n",
       "  </tbody>\n",
       "</table>\n",
       "</div>"
      ],
      "text/plain": [
       "        Survived  Not Survived\n",
       "Sex                           \n",
       "Male         109           468\n",
       "Female       233            81"
      ]
     },
     "execution_count": 46,
     "metadata": {},
     "output_type": "execute_result"
    }
   ],
   "source": [
    "sex_survivorship"
   ]
  },
  {
   "cell_type": "code",
   "execution_count": 47,
   "id": "6d0ef129",
   "metadata": {
    "execution": {
     "iopub.execute_input": "2024-08-03T04:39:24.141353Z",
     "iopub.status.busy": "2024-08-03T04:39:24.140977Z",
     "iopub.status.idle": "2024-08-03T04:39:24.151654Z",
     "shell.execute_reply": "2024-08-03T04:39:24.150318Z"
    },
    "papermill": {
     "duration": 0.048688,
     "end_time": "2024-08-03T04:39:24.153864",
     "exception": false,
     "start_time": "2024-08-03T04:39:24.105176",
     "status": "completed"
    },
    "tags": []
   },
   "outputs": [
    {
     "name": "stdout",
     "output_type": "stream",
     "text": [
      "Survival Rate\n",
      "P(Survived | Male) =  0.1889\n",
      "P(Survived | Female) =  0.742\n",
      "P(Survived and Male) =  0.1223\n",
      "P(Survived and Female) =  0.2615\n"
     ]
    }
   ],
   "source": [
    "total_males = sex_survivorship[sex_survivorship.index == 'Male'].values.sum()\n",
    "total_females = sex_survivorship[sex_survivorship.index == 'Female'].values.sum()\n",
    "\n",
    "survived_males = sex_survivorship[sex_survivorship.index == 'Male']['Survived'].values\n",
    "survived_females = sex_survivorship[sex_survivorship.index == 'Female']['Survived'].values\n",
    "\n",
    "total_passengers = total_males+total_females # equals to total of survived and total of non-survived\n",
    "survived_given_males_prob = survived_males/total_males # P(Survived|Male)\n",
    "survived_given_females_prob = survived_females/total_females # P(Survived|Female)\n",
    "survived_and_males_prob = survived_males/total_passengers\n",
    "survived_and_females_prob = survived_females/total_passengers\n",
    "\n",
    "print('Survival Rate')\n",
    "print('P(Survived | Male) = ', round(survived_given_males_prob[0],4)) \n",
    "print('P(Survived | Female) = ', round(survived_given_females_prob[0], 4))\n",
    "print('P(Survived and Male) = ', round(survived_and_males_prob[0], 4))\n",
    "print('P(Survived and Female) = ', round(survived_and_females_prob[0], 4))"
   ]
  },
  {
   "cell_type": "markdown",
   "id": "ed7be41a",
   "metadata": {
    "papermill": {
     "duration": 0.033347,
     "end_time": "2024-08-03T04:39:24.221398",
     "exception": false,
     "start_time": "2024-08-03T04:39:24.188051",
     "status": "completed"
    },
    "tags": []
   },
   "source": [
    "- The chance of survival for a male compared to other males is approximately 18.9%. [**]\n",
    "- The chance of survival for a female compared to other females is approximately 74.3%. [**]\n",
    "- The chance of survival for a male compared to all passengers is approximately 12.2%.\n",
    "- The chance of survival for a female compared to all passengers is approximately 26.1%.\n",
    "\n",
    "[**] **Conclusion: Knowing a passenger’s gender provides significant information about their likelihood of survival, as there is a marked difference in survival rates between males and females.**"
   ]
  },
  {
   "cell_type": "code",
   "execution_count": 48,
   "id": "741f2d38",
   "metadata": {
    "execution": {
     "iopub.execute_input": "2024-08-03T04:39:24.291319Z",
     "iopub.status.busy": "2024-08-03T04:39:24.290563Z",
     "iopub.status.idle": "2024-08-03T04:39:24.295578Z",
     "shell.execute_reply": "2024-08-03T04:39:24.294448Z"
    },
    "papermill": {
     "duration": 0.042669,
     "end_time": "2024-08-03T04:39:24.297928",
     "exception": false,
     "start_time": "2024-08-03T04:39:24.255259",
     "status": "completed"
    },
    "tags": []
   },
   "outputs": [],
   "source": [
    "# P(Survived|Male), P(Survived|Female) "
   ]
  },
  {
   "cell_type": "code",
   "execution_count": 49,
   "id": "f4390104",
   "metadata": {
    "execution": {
     "iopub.execute_input": "2024-08-03T04:39:24.369890Z",
     "iopub.status.busy": "2024-08-03T04:39:24.369483Z",
     "iopub.status.idle": "2024-08-03T04:39:24.602056Z",
     "shell.execute_reply": "2024-08-03T04:39:24.600974Z"
    },
    "papermill": {
     "duration": 0.271438,
     "end_time": "2024-08-03T04:39:24.604469",
     "exception": false,
     "start_time": "2024-08-03T04:39:24.333031",
     "status": "completed"
    },
    "tags": []
   },
   "outputs": [
    {
     "data": {
      "text/plain": [
       "Text(0, 0.5, 'Count')"
      ]
     },
     "execution_count": 49,
     "metadata": {},
     "output_type": "execute_result"
    },
    {
     "data": {
      "image/png": "[encoded data removed]",
      "text/plain": [
       "<Figure size 640x480 with 1 Axes>"
      ]
     },
     "metadata": {},
     "output_type": "display_data"
    }
   ],
   "source": [
    "train['Sex'].value_counts().plot(kind='bar', rot=0, color=['darkblue', 'brown'])\n",
    "plt.title('Sex Distribution')\n",
    "plt.ylabel('Count')"
   ]
  },
  {
   "cell_type": "markdown",
   "id": "72427257",
   "metadata": {
    "papermill": {
     "duration": 0.033782,
     "end_time": "2024-08-03T04:39:24.672678",
     "exception": false,
     "start_time": "2024-08-03T04:39:24.638896",
     "status": "completed"
    },
    "tags": []
   },
   "source": [
    "### P Class-Survivorship"
   ]
  },
  {
   "cell_type": "code",
   "execution_count": 50,
   "id": "9c3e778b",
   "metadata": {
    "execution": {
     "iopub.execute_input": "2024-08-03T04:39:24.744405Z",
     "iopub.status.busy": "2024-08-03T04:39:24.743995Z",
     "iopub.status.idle": "2024-08-03T04:39:24.751383Z",
     "shell.execute_reply": "2024-08-03T04:39:24.750316Z"
    },
    "papermill": {
     "duration": 0.046893,
     "end_time": "2024-08-03T04:39:24.753665",
     "exception": false,
     "start_time": "2024-08-03T04:39:24.706772",
     "status": "completed"
    },
    "tags": []
   },
   "outputs": [],
   "source": [
    "pclass_survived = train_onehot[['Survived', 'Pclass']]\n",
    "pclass_survived.insert(1,'Not Survived' ,pd.Series(not_survived.values)) # not_survived variable reuses from sex-survivorship analysis"
   ]
  },
  {
   "cell_type": "code",
   "execution_count": 51,
   "id": "5a3f5fcd",
   "metadata": {
    "execution": {
     "iopub.execute_input": "2024-08-03T04:39:24.826597Z",
     "iopub.status.busy": "2024-08-03T04:39:24.825548Z",
     "iopub.status.idle": "2024-08-03T04:39:25.092238Z",
     "shell.execute_reply": "2024-08-03T04:39:25.091020Z"
    },
    "papermill": {
     "duration": 0.3059,
     "end_time": "2024-08-03T04:39:25.094627",
     "exception": false,
     "start_time": "2024-08-03T04:39:24.788727",
     "status": "completed"
    },
    "tags": []
   },
   "outputs": [
    {
     "data": {
      "text/plain": [
       "Text(0.5, 1.0, 'P Class-Survivorship')"
      ]
     },
     "execution_count": 51,
     "metadata": {},
     "output_type": "execute_result"
    },
    {
     "data": {
      "image/png": "[encoded data removed]",
      "text/plain": [
       "<Figure size 640x480 with 1 Axes>"
      ]
     },
     "metadata": {},
     "output_type": "display_data"
    }
   ],
   "source": [
    "pclass_survived = pclass_survived.groupby('Pclass').sum()\n",
    "pclass_survived.plot(kind='bar', rot=0, color=['Green', 'Grey'])\n",
    "plt.title('P Class-Survivorship')"
   ]
  },
  {
   "cell_type": "markdown",
   "id": "667a79e3",
   "metadata": {
    "papermill": {
     "duration": 0.034594,
     "end_time": "2024-08-03T04:39:25.163954",
     "exception": false,
     "start_time": "2024-08-03T04:39:25.129360",
     "status": "completed"
    },
    "tags": []
   },
   "source": [
    "- For class-1 passengers, the number of survivors was greater than the number of those who did not survive.\n",
    "- For class-2 passengers, the number of surviors and non-survivors were nearly the same.\n",
    "- For class-3 passengers, the number of non-survivors were very larger than the number of non-survivors.\n",
    "- On the titanic, class-3 passengers are the largest group."
   ]
  },
  {
   "cell_type": "code",
   "execution_count": 52,
   "id": "03c394e5",
   "metadata": {
    "execution": {
     "iopub.execute_input": "2024-08-03T04:39:25.234865Z",
     "iopub.status.busy": "2024-08-03T04:39:25.234456Z",
     "iopub.status.idle": "2024-08-03T04:39:25.244660Z",
     "shell.execute_reply": "2024-08-03T04:39:25.243602Z"
    },
    "papermill": {
     "duration": 0.048632,
     "end_time": "2024-08-03T04:39:25.247185",
     "exception": false,
     "start_time": "2024-08-03T04:39:25.198553",
     "status": "completed"
    },
    "tags": []
   },
   "outputs": [
    {
     "data": {
      "text/html": [
       "<div>\n",
       "<style scoped>\n",
       "    .dataframe tbody tr th:only-of-type {\n",
       "        vertical-align: middle;\n",
       "    }\n",
       "\n",
       "    .dataframe tbody tr th {\n",
       "        vertical-align: top;\n",
       "    }\n",
       "\n",
       "    .dataframe thead th {\n",
       "        text-align: right;\n",
       "    }\n",
       "</style>\n",
       "<table border=\"1\" class=\"dataframe\">\n",
       "  <thead>\n",
       "    <tr style=\"text-align: right;\">\n",
       "      <th></th>\n",
       "      <th>Survived</th>\n",
       "      <th>Not Survived</th>\n",
       "    </tr>\n",
       "    <tr>\n",
       "      <th>Pclass</th>\n",
       "      <th></th>\n",
       "      <th></th>\n",
       "    </tr>\n",
       "  </thead>\n",
       "  <tbody>\n",
       "    <tr>\n",
       "      <th>1</th>\n",
       "      <td>136</td>\n",
       "      <td>80</td>\n",
       "    </tr>\n",
       "    <tr>\n",
       "      <th>2</th>\n",
       "      <td>87</td>\n",
       "      <td>97</td>\n",
       "    </tr>\n",
       "    <tr>\n",
       "      <th>3</th>\n",
       "      <td>119</td>\n",
       "      <td>372</td>\n",
       "    </tr>\n",
       "  </tbody>\n",
       "</table>\n",
       "</div>"
      ],
      "text/plain": [
       "        Survived  Not Survived\n",
       "Pclass                        \n",
       "1            136            80\n",
       "2             87            97\n",
       "3            119           372"
      ]
     },
     "execution_count": 52,
     "metadata": {},
     "output_type": "execute_result"
    }
   ],
   "source": [
    "pclass_survived\n"
   ]
  },
  {
   "cell_type": "code",
   "execution_count": 53,
   "id": "59981bd0",
   "metadata": {
    "execution": {
     "iopub.execute_input": "2024-08-03T04:39:25.320264Z",
     "iopub.status.busy": "2024-08-03T04:39:25.319129Z",
     "iopub.status.idle": "2024-08-03T04:39:25.326101Z",
     "shell.execute_reply": "2024-08-03T04:39:25.324993Z"
    },
    "papermill": {
     "duration": 0.045919,
     "end_time": "2024-08-03T04:39:25.328506",
     "exception": false,
     "start_time": "2024-08-03T04:39:25.282587",
     "status": "completed"
    },
    "tags": []
   },
   "outputs": [
    {
     "name": "stdout",
     "output_type": "stream",
     "text": [
      "P(Survived | Class1) =  0.6296\n",
      "P(Survived | Class2) =  0.4728\n",
      "P(Survived | Class3) =  0.2424\n"
     ]
    }
   ],
   "source": [
    "survived_given_class1_prob = round(136/(136+80),4)\n",
    "survived_given_class2_prob = round(87/(87+97),4)\n",
    "survived_given_class3_prob = round(119/(119+372),4)\n",
    "\n",
    "print('P(Survived | Class1) = ', survived_given_class1_prob)\n",
    "print('P(Survived | Class2) = ', survived_given_class2_prob)\n",
    "print('P(Survived | Class3) = ', survived_given_class3_prob)\n"
   ]
  },
  {
   "cell_type": "markdown",
   "id": "4b458e9a",
   "metadata": {
    "papermill": {
     "duration": 0.034639,
     "end_time": "2024-08-03T04:39:25.398283",
     "exception": false,
     "start_time": "2024-08-03T04:39:25.363644",
     "status": "completed"
    },
    "tags": []
   },
   "source": [
    "- Different between survival rate at each class are remarkable.\n",
    "- Class information would be significant for training model.\n",
    "- Re ordinal class 1 to 1, class 2 to 0, class 3 to -1"
   ]
  },
  {
   "cell_type": "code",
   "execution_count": 54,
   "id": "71256f6a",
   "metadata": {
    "execution": {
     "iopub.execute_input": "2024-08-03T04:39:25.472478Z",
     "iopub.status.busy": "2024-08-03T04:39:25.472079Z",
     "iopub.status.idle": "2024-08-03T04:39:25.490064Z",
     "shell.execute_reply": "2024-08-03T04:39:25.488873Z"
    },
    "papermill": {
     "duration": 0.057577,
     "end_time": "2024-08-03T04:39:25.492671",
     "exception": false,
     "start_time": "2024-08-03T04:39:25.435094",
     "status": "completed"
    },
    "tags": []
   },
   "outputs": [],
   "source": [
    "def class_reassign(x):\n",
    "    if x['Pclass'] == 2 : return 0\n",
    "    elif x['Pclass'] == 3 : return -1\n",
    "    else : return 1\n",
    "train_onehot['Pclass'] = train_onehot.apply(class_reassign, axis=1)"
   ]
  },
  {
   "cell_type": "code",
   "execution_count": 55,
   "id": "dbcbe745",
   "metadata": {
    "execution": {
     "iopub.execute_input": "2024-08-03T04:39:25.564861Z",
     "iopub.status.busy": "2024-08-03T04:39:25.564494Z",
     "iopub.status.idle": "2024-08-03T04:39:25.584330Z",
     "shell.execute_reply": "2024-08-03T04:39:25.583250Z"
    },
    "papermill": {
     "duration": 0.058254,
     "end_time": "2024-08-03T04:39:25.586643",
     "exception": false,
     "start_time": "2024-08-03T04:39:25.528389",
     "status": "completed"
    },
    "tags": []
   },
   "outputs": [
    {
     "data": {
      "text/html": [
       "<div>\n",
       "<style scoped>\n",
       "    .dataframe tbody tr th:only-of-type {\n",
       "        vertical-align: middle;\n",
       "    }\n",
       "\n",
       "    .dataframe tbody tr th {\n",
       "        vertical-align: top;\n",
       "    }\n",
       "\n",
       "    .dataframe thead th {\n",
       "        text-align: right;\n",
       "    }\n",
       "</style>\n",
       "<table border=\"1\" class=\"dataframe\">\n",
       "  <thead>\n",
       "    <tr style=\"text-align: right;\">\n",
       "      <th></th>\n",
       "      <th>Survived</th>\n",
       "      <th>Pclass</th>\n",
       "      <th>Age</th>\n",
       "      <th>SibSp</th>\n",
       "      <th>Parch</th>\n",
       "      <th>Fare</th>\n",
       "      <th>female</th>\n",
       "      <th>male</th>\n",
       "      <th>C</th>\n",
       "      <th>Q</th>\n",
       "      <th>S</th>\n",
       "      <th>Age_8</th>\n",
       "    </tr>\n",
       "  </thead>\n",
       "  <tbody>\n",
       "    <tr>\n",
       "      <th>0</th>\n",
       "      <td>0</td>\n",
       "      <td>-1</td>\n",
       "      <td>22.0</td>\n",
       "      <td>1</td>\n",
       "      <td>0</td>\n",
       "      <td>7.2500</td>\n",
       "      <td>False</td>\n",
       "      <td>True</td>\n",
       "      <td>False</td>\n",
       "      <td>False</td>\n",
       "      <td>True</td>\n",
       "      <td>False</td>\n",
       "    </tr>\n",
       "    <tr>\n",
       "      <th>1</th>\n",
       "      <td>1</td>\n",
       "      <td>1</td>\n",
       "      <td>38.0</td>\n",
       "      <td>1</td>\n",
       "      <td>0</td>\n",
       "      <td>71.2833</td>\n",
       "      <td>True</td>\n",
       "      <td>False</td>\n",
       "      <td>True</td>\n",
       "      <td>False</td>\n",
       "      <td>False</td>\n",
       "      <td>False</td>\n",
       "    </tr>\n",
       "    <tr>\n",
       "      <th>2</th>\n",
       "      <td>1</td>\n",
       "      <td>-1</td>\n",
       "      <td>26.0</td>\n",
       "      <td>0</td>\n",
       "      <td>0</td>\n",
       "      <td>7.9250</td>\n",
       "      <td>True</td>\n",
       "      <td>False</td>\n",
       "      <td>False</td>\n",
       "      <td>False</td>\n",
       "      <td>True</td>\n",
       "      <td>False</td>\n",
       "    </tr>\n",
       "    <tr>\n",
       "      <th>3</th>\n",
       "      <td>1</td>\n",
       "      <td>1</td>\n",
       "      <td>35.0</td>\n",
       "      <td>1</td>\n",
       "      <td>0</td>\n",
       "      <td>53.1000</td>\n",
       "      <td>True</td>\n",
       "      <td>False</td>\n",
       "      <td>False</td>\n",
       "      <td>False</td>\n",
       "      <td>True</td>\n",
       "      <td>False</td>\n",
       "    </tr>\n",
       "    <tr>\n",
       "      <th>4</th>\n",
       "      <td>0</td>\n",
       "      <td>-1</td>\n",
       "      <td>35.0</td>\n",
       "      <td>0</td>\n",
       "      <td>0</td>\n",
       "      <td>8.0500</td>\n",
       "      <td>False</td>\n",
       "      <td>True</td>\n",
       "      <td>False</td>\n",
       "      <td>False</td>\n",
       "      <td>True</td>\n",
       "      <td>False</td>\n",
       "    </tr>\n",
       "    <tr>\n",
       "      <th>...</th>\n",
       "      <td>...</td>\n",
       "      <td>...</td>\n",
       "      <td>...</td>\n",
       "      <td>...</td>\n",
       "      <td>...</td>\n",
       "      <td>...</td>\n",
       "      <td>...</td>\n",
       "      <td>...</td>\n",
       "      <td>...</td>\n",
       "      <td>...</td>\n",
       "      <td>...</td>\n",
       "      <td>...</td>\n",
       "    </tr>\n",
       "    <tr>\n",
       "      <th>886</th>\n",
       "      <td>0</td>\n",
       "      <td>0</td>\n",
       "      <td>27.0</td>\n",
       "      <td>0</td>\n",
       "      <td>0</td>\n",
       "      <td>13.0000</td>\n",
       "      <td>False</td>\n",
       "      <td>True</td>\n",
       "      <td>False</td>\n",
       "      <td>False</td>\n",
       "      <td>True</td>\n",
       "      <td>False</td>\n",
       "    </tr>\n",
       "    <tr>\n",
       "      <th>887</th>\n",
       "      <td>1</td>\n",
       "      <td>1</td>\n",
       "      <td>19.0</td>\n",
       "      <td>0</td>\n",
       "      <td>0</td>\n",
       "      <td>30.0000</td>\n",
       "      <td>True</td>\n",
       "      <td>False</td>\n",
       "      <td>False</td>\n",
       "      <td>False</td>\n",
       "      <td>True</td>\n",
       "      <td>False</td>\n",
       "    </tr>\n",
       "    <tr>\n",
       "      <th>888</th>\n",
       "      <td>0</td>\n",
       "      <td>-1</td>\n",
       "      <td>28.0</td>\n",
       "      <td>1</td>\n",
       "      <td>2</td>\n",
       "      <td>23.4500</td>\n",
       "      <td>True</td>\n",
       "      <td>False</td>\n",
       "      <td>False</td>\n",
       "      <td>False</td>\n",
       "      <td>True</td>\n",
       "      <td>False</td>\n",
       "    </tr>\n",
       "    <tr>\n",
       "      <th>889</th>\n",
       "      <td>1</td>\n",
       "      <td>1</td>\n",
       "      <td>26.0</td>\n",
       "      <td>0</td>\n",
       "      <td>0</td>\n",
       "      <td>30.0000</td>\n",
       "      <td>False</td>\n",
       "      <td>True</td>\n",
       "      <td>True</td>\n",
       "      <td>False</td>\n",
       "      <td>False</td>\n",
       "      <td>False</td>\n",
       "    </tr>\n",
       "    <tr>\n",
       "      <th>890</th>\n",
       "      <td>0</td>\n",
       "      <td>-1</td>\n",
       "      <td>32.0</td>\n",
       "      <td>0</td>\n",
       "      <td>0</td>\n",
       "      <td>7.7500</td>\n",
       "      <td>False</td>\n",
       "      <td>True</td>\n",
       "      <td>False</td>\n",
       "      <td>True</td>\n",
       "      <td>False</td>\n",
       "      <td>False</td>\n",
       "    </tr>\n",
       "  </tbody>\n",
       "</table>\n",
       "<p>891 rows × 12 columns</p>\n",
       "</div>"
      ],
      "text/plain": [
       "     Survived  Pclass   Age  SibSp  Parch     Fare  female   male      C  \\\n",
       "0           0      -1  22.0      1      0   7.2500   False   True  False   \n",
       "1           1       1  38.0      1      0  71.2833    True  False   True   \n",
       "2           1      -1  26.0      0      0   7.9250    True  False  False   \n",
       "3           1       1  35.0      1      0  53.1000    True  False  False   \n",
       "4           0      -1  35.0      0      0   8.0500   False   True  False   \n",
       "..        ...     ...   ...    ...    ...      ...     ...    ...    ...   \n",
       "886         0       0  27.0      0      0  13.0000   False   True  False   \n",
       "887         1       1  19.0      0      0  30.0000    True  False  False   \n",
       "888         0      -1  28.0      1      2  23.4500    True  False  False   \n",
       "889         1       1  26.0      0      0  30.0000   False   True   True   \n",
       "890         0      -1  32.0      0      0   7.7500   False   True  False   \n",
       "\n",
       "         Q      S  Age_8  \n",
       "0    False   True  False  \n",
       "1    False  False  False  \n",
       "2    False   True  False  \n",
       "3    False   True  False  \n",
       "4    False   True  False  \n",
       "..     ...    ...    ...  \n",
       "886  False   True  False  \n",
       "887  False   True  False  \n",
       "888  False   True  False  \n",
       "889  False  False  False  \n",
       "890   True  False  False  \n",
       "\n",
       "[891 rows x 12 columns]"
      ]
     },
     "execution_count": 55,
     "metadata": {},
     "output_type": "execute_result"
    }
   ],
   "source": [
    "train_onehot"
   ]
  },
  {
   "cell_type": "markdown",
   "id": "c2e7ad94",
   "metadata": {
    "papermill": {
     "duration": 0.035262,
     "end_time": "2024-08-03T04:39:25.657321",
     "exception": false,
     "start_time": "2024-08-03T04:39:25.622059",
     "status": "completed"
    },
    "tags": []
   },
   "source": [
    "### Embarked-Survivorship"
   ]
  },
  {
   "cell_type": "code",
   "execution_count": 56,
   "id": "0c801dcd",
   "metadata": {
    "execution": {
     "iopub.execute_input": "2024-08-03T04:39:25.729390Z",
     "iopub.status.busy": "2024-08-03T04:39:25.728413Z",
     "iopub.status.idle": "2024-08-03T04:39:26.047216Z",
     "shell.execute_reply": "2024-08-03T04:39:26.046004Z"
    },
    "papermill": {
     "duration": 0.357389,
     "end_time": "2024-08-03T04:39:26.049611",
     "exception": false,
     "start_time": "2024-08-03T04:39:25.692222",
     "status": "completed"
    },
    "tags": []
   },
   "outputs": [
    {
     "data": {
      "text/plain": [
       "Text(0, 0.5, 'Count')"
      ]
     },
     "execution_count": 56,
     "metadata": {},
     "output_type": "execute_result"
    },
    {
     "data": {
      "image/png": "[encoded data removed]",
      "text/plain": [
       "<Figure size 640x480 with 1 Axes>"
      ]
     },
     "metadata": {},
     "output_type": "display_data"
    }
   ],
   "source": [
    "embarked_survived = train[['Survived', 'Embarked']] # uses the original dataset instead of hot-encoded dataset\n",
    "embarked_survived.insert(1,'Not Survived' ,not_survived.values)\n",
    "embarked_survived = embarked_survived.groupby('Embarked').sum()\n",
    "embarked_survived.plot(kind='bar', rot=0, color=['Green', 'Grey'])\n",
    "plt.title('Embarked-Survivorship')\n",
    "plt.ylabel('Count')"
   ]
  },
  {
   "cell_type": "markdown",
   "id": "fec35b7c",
   "metadata": {
    "papermill": {
     "duration": 0.035993,
     "end_time": "2024-08-03T04:39:26.122821",
     "exception": false,
     "start_time": "2024-08-03T04:39:26.086828",
     "status": "completed"
    },
    "tags": []
   },
   "source": [
    "- Smallest of passengers are from 'Q\" and largest of passengers are from 'S'\n",
    "- Passengers from 'Q' and 'S' have proability to survived nearly the same. (Need precisely checking by calculation.\n",
    "- Passengers from 'C' have differentiated in survived proability when compared to 'Q' and 'S'."
   ]
  },
  {
   "cell_type": "code",
   "execution_count": 57,
   "id": "7304f01e",
   "metadata": {
    "execution": {
     "iopub.execute_input": "2024-08-03T04:39:26.196081Z",
     "iopub.status.busy": "2024-08-03T04:39:26.195657Z",
     "iopub.status.idle": "2024-08-03T04:39:26.205279Z",
     "shell.execute_reply": "2024-08-03T04:39:26.204238Z"
    },
    "papermill": {
     "duration": 0.048745,
     "end_time": "2024-08-03T04:39:26.207506",
     "exception": false,
     "start_time": "2024-08-03T04:39:26.158761",
     "status": "completed"
    },
    "tags": []
   },
   "outputs": [
    {
     "data": {
      "text/html": [
       "<div>\n",
       "<style scoped>\n",
       "    .dataframe tbody tr th:only-of-type {\n",
       "        vertical-align: middle;\n",
       "    }\n",
       "\n",
       "    .dataframe tbody tr th {\n",
       "        vertical-align: top;\n",
       "    }\n",
       "\n",
       "    .dataframe thead th {\n",
       "        text-align: right;\n",
       "    }\n",
       "</style>\n",
       "<table border=\"1\" class=\"dataframe\">\n",
       "  <thead>\n",
       "    <tr style=\"text-align: right;\">\n",
       "      <th></th>\n",
       "      <th>Survived</th>\n",
       "      <th>Not Survived</th>\n",
       "    </tr>\n",
       "    <tr>\n",
       "      <th>Embarked</th>\n",
       "      <th></th>\n",
       "      <th></th>\n",
       "    </tr>\n",
       "  </thead>\n",
       "  <tbody>\n",
       "    <tr>\n",
       "      <th>C</th>\n",
       "      <td>93</td>\n",
       "      <td>75</td>\n",
       "    </tr>\n",
       "    <tr>\n",
       "      <th>Q</th>\n",
       "      <td>30</td>\n",
       "      <td>47</td>\n",
       "    </tr>\n",
       "    <tr>\n",
       "      <th>S</th>\n",
       "      <td>217</td>\n",
       "      <td>427</td>\n",
       "    </tr>\n",
       "  </tbody>\n",
       "</table>\n",
       "</div>"
      ],
      "text/plain": [
       "          Survived  Not Survived\n",
       "Embarked                        \n",
       "C               93            75\n",
       "Q               30            47\n",
       "S              217           427"
      ]
     },
     "execution_count": 57,
     "metadata": {},
     "output_type": "execute_result"
    }
   ],
   "source": [
    "embarked_survived"
   ]
  },
  {
   "cell_type": "code",
   "execution_count": 58,
   "id": "678d5001",
   "metadata": {
    "execution": {
     "iopub.execute_input": "2024-08-03T04:39:26.283297Z",
     "iopub.status.busy": "2024-08-03T04:39:26.282838Z",
     "iopub.status.idle": "2024-08-03T04:39:26.290020Z",
     "shell.execute_reply": "2024-08-03T04:39:26.288740Z"
    },
    "papermill": {
     "duration": 0.047839,
     "end_time": "2024-08-03T04:39:26.292415",
     "exception": false,
     "start_time": "2024-08-03T04:39:26.244576",
     "status": "completed"
    },
    "tags": []
   },
   "outputs": [
    {
     "name": "stdout",
     "output_type": "stream",
     "text": [
      "P(Survived | C) =  0.5536\n",
      "P(Survived | Q) =  0.3896\n",
      "P(Survived | S) =  0.337\n"
     ]
    }
   ],
   "source": [
    "survived_given_C = round(93/(93+75),4)\n",
    "survived_given_Q = round(30/(30+47),4)\n",
    "survived_given_S = round(217/(217+427),4)\n",
    "\n",
    "print('P(Survived | C) = ', survived_given_C)\n",
    "print('P(Survived | Q) = ', survived_given_Q)\n",
    "print('P(Survived | S) = ', survived_given_S)"
   ]
  },
  {
   "cell_type": "markdown",
   "id": "39c3ccb5",
   "metadata": {
    "papermill": {
     "duration": 0.042895,
     "end_time": "2024-08-03T04:39:26.373112",
     "exception": false,
     "start_time": "2024-08-03T04:39:26.330217",
     "status": "completed"
    },
    "tags": []
   },
   "source": [
    "- Survival rate if we know class 'Q' and 'S' are a little bit different. \n",
    "- But there are remarkable survival rate when we know class 'C'\n",
    "- **From the insight above, we will do feature engineering that we will create new feature for checking whether passenger's class is 'C' or not 'C' to make the model simpler.**"
   ]
  },
  {
   "cell_type": "code",
   "execution_count": 59,
   "id": "fe520eff",
   "metadata": {
    "execution": {
     "iopub.execute_input": "2024-08-03T04:39:26.448938Z",
     "iopub.status.busy": "2024-08-03T04:39:26.448501Z",
     "iopub.status.idle": "2024-08-03T04:39:26.454843Z",
     "shell.execute_reply": "2024-08-03T04:39:26.453754Z"
    },
    "papermill": {
     "duration": 0.04775,
     "end_time": "2024-08-03T04:39:26.457201",
     "exception": false,
     "start_time": "2024-08-03T04:39:26.409451",
     "status": "completed"
    },
    "tags": []
   },
   "outputs": [],
   "source": [
    "train_onehot['embarked_C'] = (train['Embarked'] == 'C')"
   ]
  },
  {
   "cell_type": "code",
   "execution_count": 60,
   "id": "3e2a575e",
   "metadata": {
    "execution": {
     "iopub.execute_input": "2024-08-03T04:39:26.538239Z",
     "iopub.status.busy": "2024-08-03T04:39:26.536956Z",
     "iopub.status.idle": "2024-08-03T04:39:26.563172Z",
     "shell.execute_reply": "2024-08-03T04:39:26.561986Z"
    },
    "papermill": {
     "duration": 0.07132,
     "end_time": "2024-08-03T04:39:26.565594",
     "exception": false,
     "start_time": "2024-08-03T04:39:26.494274",
     "status": "completed"
    },
    "tags": []
   },
   "outputs": [
    {
     "data": {
      "text/html": [
       "<div>\n",
       "<style scoped>\n",
       "    .dataframe tbody tr th:only-of-type {\n",
       "        vertical-align: middle;\n",
       "    }\n",
       "\n",
       "    .dataframe tbody tr th {\n",
       "        vertical-align: top;\n",
       "    }\n",
       "\n",
       "    .dataframe thead th {\n",
       "        text-align: right;\n",
       "    }\n",
       "</style>\n",
       "<table border=\"1\" class=\"dataframe\">\n",
       "  <thead>\n",
       "    <tr style=\"text-align: right;\">\n",
       "      <th></th>\n",
       "      <th>Survived</th>\n",
       "      <th>Pclass</th>\n",
       "      <th>Age</th>\n",
       "      <th>SibSp</th>\n",
       "      <th>Parch</th>\n",
       "      <th>Fare</th>\n",
       "      <th>female</th>\n",
       "      <th>male</th>\n",
       "      <th>C</th>\n",
       "      <th>Q</th>\n",
       "      <th>S</th>\n",
       "      <th>Age_8</th>\n",
       "      <th>embarked_C</th>\n",
       "    </tr>\n",
       "  </thead>\n",
       "  <tbody>\n",
       "    <tr>\n",
       "      <th>0</th>\n",
       "      <td>0</td>\n",
       "      <td>-1</td>\n",
       "      <td>22.0</td>\n",
       "      <td>1</td>\n",
       "      <td>0</td>\n",
       "      <td>7.2500</td>\n",
       "      <td>False</td>\n",
       "      <td>True</td>\n",
       "      <td>False</td>\n",
       "      <td>False</td>\n",
       "      <td>True</td>\n",
       "      <td>False</td>\n",
       "      <td>False</td>\n",
       "    </tr>\n",
       "    <tr>\n",
       "      <th>1</th>\n",
       "      <td>1</td>\n",
       "      <td>1</td>\n",
       "      <td>38.0</td>\n",
       "      <td>1</td>\n",
       "      <td>0</td>\n",
       "      <td>71.2833</td>\n",
       "      <td>True</td>\n",
       "      <td>False</td>\n",
       "      <td>True</td>\n",
       "      <td>False</td>\n",
       "      <td>False</td>\n",
       "      <td>False</td>\n",
       "      <td>True</td>\n",
       "    </tr>\n",
       "    <tr>\n",
       "      <th>2</th>\n",
       "      <td>1</td>\n",
       "      <td>-1</td>\n",
       "      <td>26.0</td>\n",
       "      <td>0</td>\n",
       "      <td>0</td>\n",
       "      <td>7.9250</td>\n",
       "      <td>True</td>\n",
       "      <td>False</td>\n",
       "      <td>False</td>\n",
       "      <td>False</td>\n",
       "      <td>True</td>\n",
       "      <td>False</td>\n",
       "      <td>False</td>\n",
       "    </tr>\n",
       "    <tr>\n",
       "      <th>3</th>\n",
       "      <td>1</td>\n",
       "      <td>1</td>\n",
       "      <td>35.0</td>\n",
       "      <td>1</td>\n",
       "      <td>0</td>\n",
       "      <td>53.1000</td>\n",
       "      <td>True</td>\n",
       "      <td>False</td>\n",
       "      <td>False</td>\n",
       "      <td>False</td>\n",
       "      <td>True</td>\n",
       "      <td>False</td>\n",
       "      <td>False</td>\n",
       "    </tr>\n",
       "    <tr>\n",
       "      <th>4</th>\n",
       "      <td>0</td>\n",
       "      <td>-1</td>\n",
       "      <td>35.0</td>\n",
       "      <td>0</td>\n",
       "      <td>0</td>\n",
       "      <td>8.0500</td>\n",
       "      <td>False</td>\n",
       "      <td>True</td>\n",
       "      <td>False</td>\n",
       "      <td>False</td>\n",
       "      <td>True</td>\n",
       "      <td>False</td>\n",
       "      <td>False</td>\n",
       "    </tr>\n",
       "    <tr>\n",
       "      <th>...</th>\n",
       "      <td>...</td>\n",
       "      <td>...</td>\n",
       "      <td>...</td>\n",
       "      <td>...</td>\n",
       "      <td>...</td>\n",
       "      <td>...</td>\n",
       "      <td>...</td>\n",
       "      <td>...</td>\n",
       "      <td>...</td>\n",
       "      <td>...</td>\n",
       "      <td>...</td>\n",
       "      <td>...</td>\n",
       "      <td>...</td>\n",
       "    </tr>\n",
       "    <tr>\n",
       "      <th>886</th>\n",
       "      <td>0</td>\n",
       "      <td>0</td>\n",
       "      <td>27.0</td>\n",
       "      <td>0</td>\n",
       "      <td>0</td>\n",
       "      <td>13.0000</td>\n",
       "      <td>False</td>\n",
       "      <td>True</td>\n",
       "      <td>False</td>\n",
       "      <td>False</td>\n",
       "      <td>True</td>\n",
       "      <td>False</td>\n",
       "      <td>False</td>\n",
       "    </tr>\n",
       "    <tr>\n",
       "      <th>887</th>\n",
       "      <td>1</td>\n",
       "      <td>1</td>\n",
       "      <td>19.0</td>\n",
       "      <td>0</td>\n",
       "      <td>0</td>\n",
       "      <td>30.0000</td>\n",
       "      <td>True</td>\n",
       "      <td>False</td>\n",
       "      <td>False</td>\n",
       "      <td>False</td>\n",
       "      <td>True</td>\n",
       "      <td>False</td>\n",
       "      <td>False</td>\n",
       "    </tr>\n",
       "    <tr>\n",
       "      <th>888</th>\n",
       "      <td>0</td>\n",
       "      <td>-1</td>\n",
       "      <td>28.0</td>\n",
       "      <td>1</td>\n",
       "      <td>2</td>\n",
       "      <td>23.4500</td>\n",
       "      <td>True</td>\n",
       "      <td>False</td>\n",
       "      <td>False</td>\n",
       "      <td>False</td>\n",
       "      <td>True</td>\n",
       "      <td>False</td>\n",
       "      <td>False</td>\n",
       "    </tr>\n",
       "    <tr>\n",
       "      <th>889</th>\n",
       "      <td>1</td>\n",
       "      <td>1</td>\n",
       "      <td>26.0</td>\n",
       "      <td>0</td>\n",
       "      <td>0</td>\n",
       "      <td>30.0000</td>\n",
       "      <td>False</td>\n",
       "      <td>True</td>\n",
       "      <td>True</td>\n",
       "      <td>False</td>\n",
       "      <td>False</td>\n",
       "      <td>False</td>\n",
       "      <td>True</td>\n",
       "    </tr>\n",
       "    <tr>\n",
       "      <th>890</th>\n",
       "      <td>0</td>\n",
       "      <td>-1</td>\n",
       "      <td>32.0</td>\n",
       "      <td>0</td>\n",
       "      <td>0</td>\n",
       "      <td>7.7500</td>\n",
       "      <td>False</td>\n",
       "      <td>True</td>\n",
       "      <td>False</td>\n",
       "      <td>True</td>\n",
       "      <td>False</td>\n",
       "      <td>False</td>\n",
       "      <td>False</td>\n",
       "    </tr>\n",
       "  </tbody>\n",
       "</table>\n",
       "<p>891 rows × 13 columns</p>\n",
       "</div>"
      ],
      "text/plain": [
       "     Survived  Pclass   Age  SibSp  Parch     Fare  female   male      C  \\\n",
       "0           0      -1  22.0      1      0   7.2500   False   True  False   \n",
       "1           1       1  38.0      1      0  71.2833    True  False   True   \n",
       "2           1      -1  26.0      0      0   7.9250    True  False  False   \n",
       "3           1       1  35.0      1      0  53.1000    True  False  False   \n",
       "4           0      -1  35.0      0      0   8.0500   False   True  False   \n",
       "..        ...     ...   ...    ...    ...      ...     ...    ...    ...   \n",
       "886         0       0  27.0      0      0  13.0000   False   True  False   \n",
       "887         1       1  19.0      0      0  30.0000    True  False  False   \n",
       "888         0      -1  28.0      1      2  23.4500    True  False  False   \n",
       "889         1       1  26.0      0      0  30.0000   False   True   True   \n",
       "890         0      -1  32.0      0      0   7.7500   False   True  False   \n",
       "\n",
       "         Q      S  Age_8  embarked_C  \n",
       "0    False   True  False       False  \n",
       "1    False  False  False        True  \n",
       "2    False   True  False       False  \n",
       "3    False   True  False       False  \n",
       "4    False   True  False       False  \n",
       "..     ...    ...    ...         ...  \n",
       "886  False   True  False       False  \n",
       "887  False   True  False       False  \n",
       "888  False   True  False       False  \n",
       "889  False  False  False        True  \n",
       "890   True  False  False       False  \n",
       "\n",
       "[891 rows x 13 columns]"
      ]
     },
     "execution_count": 60,
     "metadata": {},
     "output_type": "execute_result"
    }
   ],
   "source": [
    "train_onehot"
   ]
  },
  {
   "cell_type": "markdown",
   "id": "adffc802",
   "metadata": {
    "papermill": {
     "duration": 0.036254,
     "end_time": "2024-08-03T04:39:26.645082",
     "exception": false,
     "start_time": "2024-08-03T04:39:26.608828",
     "status": "completed"
    },
    "tags": []
   },
   "source": [
    "### Fare-Survivorship"
   ]
  },
  {
   "cell_type": "code",
   "execution_count": 61,
   "id": "009aff5f",
   "metadata": {
    "execution": {
     "iopub.execute_input": "2024-08-03T04:39:26.720326Z",
     "iopub.status.busy": "2024-08-03T04:39:26.719512Z",
     "iopub.status.idle": "2024-08-03T04:39:26.732792Z",
     "shell.execute_reply": "2024-08-03T04:39:26.731561Z"
    },
    "papermill": {
     "duration": 0.053419,
     "end_time": "2024-08-03T04:39:26.735053",
     "exception": false,
     "start_time": "2024-08-03T04:39:26.681634",
     "status": "completed"
    },
    "tags": []
   },
   "outputs": [
    {
     "data": {
      "text/html": [
       "<div>\n",
       "<style scoped>\n",
       "    .dataframe tbody tr th:only-of-type {\n",
       "        vertical-align: middle;\n",
       "    }\n",
       "\n",
       "    .dataframe tbody tr th {\n",
       "        vertical-align: top;\n",
       "    }\n",
       "\n",
       "    .dataframe thead th {\n",
       "        text-align: right;\n",
       "    }\n",
       "</style>\n",
       "<table border=\"1\" class=\"dataframe\">\n",
       "  <thead>\n",
       "    <tr style=\"text-align: right;\">\n",
       "      <th></th>\n",
       "      <th>Survived</th>\n",
       "      <th>Fare</th>\n",
       "    </tr>\n",
       "  </thead>\n",
       "  <tbody>\n",
       "    <tr>\n",
       "      <th>0</th>\n",
       "      <td>0</td>\n",
       "      <td>7.2500</td>\n",
       "    </tr>\n",
       "    <tr>\n",
       "      <th>1</th>\n",
       "      <td>1</td>\n",
       "      <td>71.2833</td>\n",
       "    </tr>\n",
       "    <tr>\n",
       "      <th>2</th>\n",
       "      <td>1</td>\n",
       "      <td>7.9250</td>\n",
       "    </tr>\n",
       "    <tr>\n",
       "      <th>3</th>\n",
       "      <td>1</td>\n",
       "      <td>53.1000</td>\n",
       "    </tr>\n",
       "    <tr>\n",
       "      <th>4</th>\n",
       "      <td>0</td>\n",
       "      <td>8.0500</td>\n",
       "    </tr>\n",
       "    <tr>\n",
       "      <th>...</th>\n",
       "      <td>...</td>\n",
       "      <td>...</td>\n",
       "    </tr>\n",
       "    <tr>\n",
       "      <th>886</th>\n",
       "      <td>0</td>\n",
       "      <td>13.0000</td>\n",
       "    </tr>\n",
       "    <tr>\n",
       "      <th>887</th>\n",
       "      <td>1</td>\n",
       "      <td>30.0000</td>\n",
       "    </tr>\n",
       "    <tr>\n",
       "      <th>888</th>\n",
       "      <td>0</td>\n",
       "      <td>23.4500</td>\n",
       "    </tr>\n",
       "    <tr>\n",
       "      <th>889</th>\n",
       "      <td>1</td>\n",
       "      <td>30.0000</td>\n",
       "    </tr>\n",
       "    <tr>\n",
       "      <th>890</th>\n",
       "      <td>0</td>\n",
       "      <td>7.7500</td>\n",
       "    </tr>\n",
       "  </tbody>\n",
       "</table>\n",
       "<p>891 rows × 2 columns</p>\n",
       "</div>"
      ],
      "text/plain": [
       "     Survived     Fare\n",
       "0           0   7.2500\n",
       "1           1  71.2833\n",
       "2           1   7.9250\n",
       "3           1  53.1000\n",
       "4           0   8.0500\n",
       "..        ...      ...\n",
       "886         0  13.0000\n",
       "887         1  30.0000\n",
       "888         0  23.4500\n",
       "889         1  30.0000\n",
       "890         0   7.7500\n",
       "\n",
       "[891 rows x 2 columns]"
      ]
     },
     "execution_count": 61,
     "metadata": {},
     "output_type": "execute_result"
    }
   ],
   "source": [
    "train_onehot[['Survived', 'Fare']]"
   ]
  },
  {
   "cell_type": "markdown",
   "id": "da9554f4",
   "metadata": {
    "papermill": {
     "duration": 0.037657,
     "end_time": "2024-08-03T04:39:26.809511",
     "exception": false,
     "start_time": "2024-08-03T04:39:26.771854",
     "status": "completed"
    },
    "tags": []
   },
   "source": [
    "#### Outliners handling with flooring and capping technique"
   ]
  },
  {
   "cell_type": "code",
   "execution_count": 62,
   "id": "711fc354",
   "metadata": {
    "execution": {
     "iopub.execute_input": "2024-08-03T04:39:26.885098Z",
     "iopub.status.busy": "2024-08-03T04:39:26.884359Z",
     "iopub.status.idle": "2024-08-03T04:39:27.319114Z",
     "shell.execute_reply": "2024-08-03T04:39:27.317911Z"
    },
    "papermill": {
     "duration": 0.475356,
     "end_time": "2024-08-03T04:39:27.321635",
     "exception": false,
     "start_time": "2024-08-03T04:39:26.846279",
     "status": "completed"
    },
    "tags": []
   },
   "outputs": [
    {
     "data": {
      "text/plain": [
       "Text(0.5, 1.0, 'Fare Distribution')"
      ]
     },
     "execution_count": 62,
     "metadata": {},
     "output_type": "execute_result"
    },
    {
     "data": {
      "image/png": "[encoded data removed]",
      "text/plain": [
       "<Figure size 640x480 with 1 Axes>"
      ]
     },
     "metadata": {},
     "output_type": "display_data"
    }
   ],
   "source": [
    "train_onehot['Fare'].hist(bins=50)\n",
    "plt.title('Fare Distribution')"
   ]
  },
  {
   "cell_type": "code",
   "execution_count": 63,
   "id": "2f3dd40d",
   "metadata": {
    "execution": {
     "iopub.execute_input": "2024-08-03T04:39:27.398662Z",
     "iopub.status.busy": "2024-08-03T04:39:27.398235Z",
     "iopub.status.idle": "2024-08-03T04:39:27.596995Z",
     "shell.execute_reply": "2024-08-03T04:39:27.595832Z"
    },
    "papermill": {
     "duration": 0.239894,
     "end_time": "2024-08-03T04:39:27.599376",
     "exception": false,
     "start_time": "2024-08-03T04:39:27.359482",
     "status": "completed"
    },
    "tags": []
   },
   "outputs": [
    {
     "data": {
      "text/plain": [
       "Text(0.5, 1.0, 'Box plot of fare price')"
      ]
     },
     "execution_count": 63,
     "metadata": {},
     "output_type": "execute_result"
    },
    {
     "data": {
      "image/png": "[encoded data removed]",
      "text/plain": [
       "<Figure size 640x480 with 1 Axes>"
      ]
     },
     "metadata": {},
     "output_type": "display_data"
    }
   ],
   "source": [
    "train_onehot['Fare'].plot(kind='box')\n",
    "plt.title('Box plot of fare price')"
   ]
  },
  {
   "cell_type": "code",
   "execution_count": 64,
   "id": "5b15abc9",
   "metadata": {
    "execution": {
     "iopub.execute_input": "2024-08-03T04:39:27.677949Z",
     "iopub.status.busy": "2024-08-03T04:39:27.677462Z",
     "iopub.status.idle": "2024-08-03T04:39:27.690313Z",
     "shell.execute_reply": "2024-08-03T04:39:27.689054Z"
    },
    "papermill": {
     "duration": 0.054651,
     "end_time": "2024-08-03T04:39:27.692686",
     "exception": false,
     "start_time": "2024-08-03T04:39:27.638035",
     "status": "completed"
    },
    "tags": []
   },
   "outputs": [
    {
     "data": {
      "text/plain": [
       "count    891.000000\n",
       "mean      32.204208\n",
       "std       49.693429\n",
       "min        0.000000\n",
       "25%        7.910400\n",
       "50%       14.454200\n",
       "75%       31.000000\n",
       "max      512.329200\n",
       "Name: Fare, dtype: float64"
      ]
     },
     "execution_count": 64,
     "metadata": {},
     "output_type": "execute_result"
    }
   ],
   "source": [
    "train_onehot['Fare'].describe()"
   ]
  },
  {
   "cell_type": "code",
   "execution_count": 65,
   "id": "38918f7b",
   "metadata": {
    "execution": {
     "iopub.execute_input": "2024-08-03T04:39:27.772373Z",
     "iopub.status.busy": "2024-08-03T04:39:27.771983Z",
     "iopub.status.idle": "2024-08-03T04:39:27.939614Z",
     "shell.execute_reply": "2024-08-03T04:39:27.938010Z"
    },
    "papermill": {
     "duration": 0.20949,
     "end_time": "2024-08-03T04:39:27.942370",
     "exception": false,
     "start_time": "2024-08-03T04:39:27.732880",
     "status": "completed"
    },
    "tags": []
   },
   "outputs": [
    {
     "name": "stdout",
     "output_type": "stream",
     "text": [
      "-26.724 65.6344\n"
     ]
    },
    {
     "data": {
      "text/plain": [
       "<Axes: >"
      ]
     },
     "execution_count": 65,
     "metadata": {},
     "output_type": "execute_result"
    },
    {
     "data": {
      "image/png": "[encoded data removed]",
      "text/plain": [
       "<Figure size 640x480 with 1 Axes>"
      ]
     },
     "metadata": {},
     "output_type": "display_data"
    }
   ],
   "source": [
    "q1 = train_onehot['Fare'].quantile(0.25)\n",
    "q3 = train_onehot['Fare'].quantile(0.75)\n",
    "IQR = q3-q1\n",
    "whiskers = 1.5\n",
    "lower_bound = q1-whiskers*IQR\n",
    "upper_bound = q3+whiskers*IQR\n",
    "\n",
    "# flooring and capturing technique\n",
    "print(lower_bound, upper_bound)\n",
    "train_onehot['Fare'] = train_onehot['Fare'].where(train_onehot['Fare']<=upper_bound, upper_bound) # replace with upper_bound value if 'Fare' is greater than upper_bound\n",
    "train_onehot['Fare'] = train_onehot['Fare'].where(train_onehot['Fare']>=lower_bound, lower_bound) # replace with lower_bound value if 'Fare' is smaller than lower_bound\n",
    "train_onehot['Fare'].plot(kind='box')"
   ]
  },
  {
   "cell_type": "code",
   "execution_count": 66,
   "id": "bbef7ba3",
   "metadata": {
    "execution": {
     "iopub.execute_input": "2024-08-03T04:39:28.021193Z",
     "iopub.status.busy": "2024-08-03T04:39:28.020730Z",
     "iopub.status.idle": "2024-08-03T04:39:28.321712Z",
     "shell.execute_reply": "2024-08-03T04:39:28.320253Z"
    },
    "papermill": {
     "duration": 0.343456,
     "end_time": "2024-08-03T04:39:28.324440",
     "exception": false,
     "start_time": "2024-08-03T04:39:27.980984",
     "status": "completed"
    },
    "tags": []
   },
   "outputs": [
    {
     "data": {
      "text/plain": [
       "Text(0.5, 1.0, 'Fare Distribution after Outliner Treatment ')"
      ]
     },
     "execution_count": 66,
     "metadata": {},
     "output_type": "execute_result"
    },
    {
     "data": {
      "image/png": "[encoded data removed]",
      "text/plain": [
       "<Figure size 640x480 with 1 Axes>"
      ]
     },
     "metadata": {},
     "output_type": "display_data"
    }
   ],
   "source": [
    "train_onehot['Fare'].hist(bins=30)\n",
    "plt.title('Fare Distribution after Outliner Treatment ')"
   ]
  },
  {
   "cell_type": "code",
   "execution_count": 67,
   "id": "df69a166",
   "metadata": {
    "execution": {
     "iopub.execute_input": "2024-08-03T04:39:28.405031Z",
     "iopub.status.busy": "2024-08-03T04:39:28.404612Z",
     "iopub.status.idle": "2024-08-03T04:39:29.195135Z",
     "shell.execute_reply": "2024-08-03T04:39:29.193923Z"
    },
    "papermill": {
     "duration": 0.833303,
     "end_time": "2024-08-03T04:39:29.197503",
     "exception": false,
     "start_time": "2024-08-03T04:39:28.364200",
     "status": "completed"
    },
    "tags": []
   },
   "outputs": [
    {
     "name": "stderr",
     "output_type": "stream",
     "text": [
      "/tmp/ipykernel_18/1533651370.py:6: FutureWarning: The default of observed=False is deprecated and will be changed to True in a future version of pandas. Pass observed=False to retain current behavior or observed=True to adopt the future default and silence this warning.\n",
      "  fare_cut = train_onehot['Fare'].groupby(pd.cut(train_onehot['Fare'], bins=bin_samp)).count()\n",
      "/tmp/ipykernel_18/1533651370.py:6: FutureWarning: The default of observed=False is deprecated and will be changed to True in a future version of pandas. Pass observed=False to retain current behavior or observed=True to adopt the future default and silence this warning.\n",
      "  fare_cut = train_onehot['Fare'].groupby(pd.cut(train_onehot['Fare'], bins=bin_samp)).count()\n",
      "/tmp/ipykernel_18/1533651370.py:6: FutureWarning: The default of observed=False is deprecated and will be changed to True in a future version of pandas. Pass observed=False to retain current behavior or observed=True to adopt the future default and silence this warning.\n",
      "  fare_cut = train_onehot['Fare'].groupby(pd.cut(train_onehot['Fare'], bins=bin_samp)).count()\n",
      "/tmp/ipykernel_18/1533651370.py:6: FutureWarning: The default of observed=False is deprecated and will be changed to True in a future version of pandas. Pass observed=False to retain current behavior or observed=True to adopt the future default and silence this warning.\n",
      "  fare_cut = train_onehot['Fare'].groupby(pd.cut(train_onehot['Fare'], bins=bin_samp)).count()\n"
     ]
    },
    {
     "data": {
      "image/png": "[encoded data removed]",
      "text/plain": [
       "<Figure size 800x800 with 4 Axes>"
      ]
     },
     "metadata": {},
     "output_type": "display_data"
    }
   ],
   "source": [
    "# select bin values\n",
    "plt.suptitle(\"Fare Distribution\", size=16)\n",
    "i = 1\n",
    "for bin_samp in [3, 5, 10, 15] :\n",
    "    plt.subplot(2,2,i)\n",
    "    fare_cut = train_onehot['Fare'].groupby(pd.cut(train_onehot['Fare'], bins=bin_samp)).count()\n",
    "    fare_cut.plot(kind='bar', figsize=(8,8))\n",
    "    plt.xticks([])\n",
    "    plt.xlabel('')\n",
    "    plt.title(f'bins = {bin_samp}')\n",
    "    i += 1\n"
   ]
  },
  {
   "cell_type": "code",
   "execution_count": 68,
   "id": "ea83561a",
   "metadata": {
    "execution": {
     "iopub.execute_input": "2024-08-03T04:39:29.278978Z",
     "iopub.status.busy": "2024-08-03T04:39:29.278234Z",
     "iopub.status.idle": "2024-08-03T04:39:30.276094Z",
     "shell.execute_reply": "2024-08-03T04:39:30.274703Z"
    },
    "papermill": {
     "duration": 1.041593,
     "end_time": "2024-08-03T04:39:30.278782",
     "exception": false,
     "start_time": "2024-08-03T04:39:29.237189",
     "status": "completed"
    },
    "tags": []
   },
   "outputs": [
    {
     "name": "stderr",
     "output_type": "stream",
     "text": [
      "/tmp/ipykernel_18/84392625.py:9: FutureWarning: The default of observed=False is deprecated and will be changed to True in a future version of pandas. Pass observed=False to retain current behavior or observed=True to adopt the future default and silence this warning.\n",
      "  fare_survived_cut = pd.concat([train_onehot[['Survived']], not_survived], axis=1).groupby(pd.cut(train_onehot['Fare'], bins=b[b_index])).sum()\n",
      "/tmp/ipykernel_18/84392625.py:9: FutureWarning: The default of observed=False is deprecated and will be changed to True in a future version of pandas. Pass observed=False to retain current behavior or observed=True to adopt the future default and silence this warning.\n",
      "  fare_survived_cut = pd.concat([train_onehot[['Survived']], not_survived], axis=1).groupby(pd.cut(train_onehot['Fare'], bins=b[b_index])).sum()\n",
      "/tmp/ipykernel_18/84392625.py:9: FutureWarning: The default of observed=False is deprecated and will be changed to True in a future version of pandas. Pass observed=False to retain current behavior or observed=True to adopt the future default and silence this warning.\n",
      "  fare_survived_cut = pd.concat([train_onehot[['Survived']], not_survived], axis=1).groupby(pd.cut(train_onehot['Fare'], bins=b[b_index])).sum()\n",
      "/tmp/ipykernel_18/84392625.py:9: FutureWarning: The default of observed=False is deprecated and will be changed to True in a future version of pandas. Pass observed=False to retain current behavior or observed=True to adopt the future default and silence this warning.\n",
      "  fare_survived_cut = pd.concat([train_onehot[['Survived']], not_survived], axis=1).groupby(pd.cut(train_onehot['Fare'], bins=b[b_index])).sum()\n"
     ]
    },
    {
     "data": {
      "image/png": "[encoded data removed]",
      "text/plain": [
       "<Figure size 1200x1200 with 4 Axes>"
      ]
     },
     "metadata": {},
     "output_type": "display_data"
    }
   ],
   "source": [
    "fig, axes = plt.subplots(nrows=2, ncols=2)\n",
    "fig.suptitle('Fare Distribution', size=16)\n",
    "b_index = 0\n",
    "b = [3, 5, 10, 15] # bins\n",
    "conditional_prob_of_fare_by_bins = []\n",
    "for i in range(2) :\n",
    "    for j in range(2):\n",
    "        #print((i,j)\n",
    "        fare_survived_cut = pd.concat([train_onehot[['Survived']], not_survived], axis=1).groupby(pd.cut(train_onehot['Fare'], bins=b[b_index])).sum()\n",
    "        fare_survived_cut.plot(kind='bar', color=['Green', 'Grey'], figsize=(12,12), ax=axes[i, j], xticks=[], xlabel='', title=f'bins = {b[b_index]}')\n",
    "        conditional_prob_of_fare_by_bins.append(fare_survived_cut['Survived']/(fare_survived_cut['Survived']+fare_survived_cut['Not Survived']))\n",
    "        b_index+=1                                                                                                        "
   ]
  },
  {
   "cell_type": "code",
   "execution_count": 69,
   "id": "30dc01ad",
   "metadata": {
    "execution": {
     "iopub.execute_input": "2024-08-03T04:39:30.361705Z",
     "iopub.status.busy": "2024-08-03T04:39:30.361327Z",
     "iopub.status.idle": "2024-08-03T04:39:30.373225Z",
     "shell.execute_reply": "2024-08-03T04:39:30.372109Z"
    },
    "papermill": {
     "duration": 0.056672,
     "end_time": "2024-08-03T04:39:30.375883",
     "exception": false,
     "start_time": "2024-08-03T04:39:30.319211",
     "status": "completed"
    },
    "tags": []
   },
   "outputs": [
    {
     "name": "stdout",
     "output_type": "stream",
     "text": [
      "cond_prob @ bins = 3 Fare\n",
      "(-0.0656, 21.878]    0.278505\n",
      "(21.878, 43.756]     0.443243\n",
      "(43.756, 65.634]     0.649123\n",
      "dtype: float64\n",
      "cond_prob @ bins = 5 Fare\n",
      "(-0.0656, 13.127]    0.247664\n",
      "(13.127, 26.254]     0.431034\n",
      "(26.254, 39.381]     0.442308\n",
      "(39.381, 52.508]     0.305556\n",
      "(52.508, 65.634]     0.697987\n",
      "dtype: float64\n",
      "cond_prob @ bins = 10 Fare\n",
      "(-0.0656, 6.563]    0.045455\n",
      "(6.563, 13.127]     0.258621\n",
      "(13.127, 19.69]     0.435294\n",
      "(19.69, 26.254]     0.426966\n",
      "(26.254, 32.817]    0.450000\n",
      "(32.817, 39.381]    0.416667\n",
      "(39.381, 45.944]    0.285714\n",
      "(45.944, 52.508]    0.318182\n",
      "(52.508, 59.071]    0.807692\n",
      "(59.071, 65.634]    0.674797\n",
      "dtype: float64\n",
      "cond_prob @ bins = 15 Fare\n",
      "(-0.0656, 4.376]    0.062500\n",
      "(4.376, 8.751]      0.207483\n",
      "(8.751, 13.127]     0.372881\n",
      "(13.127, 17.503]    0.391304\n",
      "(17.503, 21.878]    0.421053\n",
      "(21.878, 26.254]    0.477612\n",
      "(26.254, 30.629]    0.483871\n",
      "(30.629, 35.005]    0.275862\n",
      "(35.005, 39.381]    0.615385\n",
      "(39.381, 43.756]    0.285714\n",
      "(43.756, 48.132]    0.000000\n",
      "(48.132, 52.508]    0.466667\n",
      "(52.508, 56.883]    0.750000\n",
      "(56.883, 61.259]    0.875000\n",
      "(61.259, 65.634]    0.677686\n",
      "dtype: float64\n"
     ]
    }
   ],
   "source": [
    "print('cond_prob @ bins = 3', conditional_prob_of_fare_by_bins[0]) \n",
    "print('cond_prob @ bins = 5', conditional_prob_of_fare_by_bins[1])\n",
    "print('cond_prob @ bins = 10', conditional_prob_of_fare_by_bins[2])\n",
    "print('cond_prob @ bins = 15', conditional_prob_of_fare_by_bins[3])"
   ]
  },
  {
   "cell_type": "markdown",
   "id": "6e41493f",
   "metadata": {
    "papermill": {
     "duration": 0.042268,
     "end_time": "2024-08-03T04:39:30.458669",
     "exception": false,
     "start_time": "2024-08-03T04:39:30.416401",
     "status": "completed"
    },
    "tags": []
   },
   "source": [
    "- bins = 3 : simplest cut with effective pattern classifier\n",
    "- bins = 5 : more complexity but still have granuation  and pattern\n",
    "- bins = 10 : coming lack of pattern in the middle of chart\n",
    "- bins = 15 : \n",
    "\n",
    "**- select bins = 5 to do feature engineering (may be better than bins=3 because of containing more detail but not too many)**"
   ]
  },
  {
   "cell_type": "code",
   "execution_count": 70,
   "id": "6acb15ce",
   "metadata": {
    "execution": {
     "iopub.execute_input": "2024-08-03T04:39:30.542487Z",
     "iopub.status.busy": "2024-08-03T04:39:30.541669Z",
     "iopub.status.idle": "2024-08-03T04:39:30.554930Z",
     "shell.execute_reply": "2024-08-03T04:39:30.554002Z"
    },
    "papermill": {
     "duration": 0.057579,
     "end_time": "2024-08-03T04:39:30.557225",
     "exception": false,
     "start_time": "2024-08-03T04:39:30.499646",
     "status": "completed"
    },
    "tags": []
   },
   "outputs": [
    {
     "name": "stderr",
     "output_type": "stream",
     "text": [
      "/tmp/ipykernel_18/556121883.py:1: FutureWarning: The default of observed=False is deprecated and will be changed to True in a future version of pandas. Pass observed=False to retain current behavior or observed=True to adopt the future default and silence this warning.\n",
      "  fare_survived_cut_5 = pd.concat([train_onehot[['Survived']], not_survived], axis=1).groupby(pd.cut(train_onehot['Fare'], bins=5)).sum()\n"
     ]
    }
   ],
   "source": [
    "fare_survived_cut_5 = pd.concat([train_onehot[['Survived']], not_survived], axis=1).groupby(pd.cut(train_onehot['Fare'], bins=5)).sum()"
   ]
  },
  {
   "cell_type": "code",
   "execution_count": 71,
   "id": "34ca4d23",
   "metadata": {
    "execution": {
     "iopub.execute_input": "2024-08-03T04:39:30.640684Z",
     "iopub.status.busy": "2024-08-03T04:39:30.639635Z",
     "iopub.status.idle": "2024-08-03T04:39:30.651774Z",
     "shell.execute_reply": "2024-08-03T04:39:30.650593Z"
    },
    "papermill": {
     "duration": 0.05631,
     "end_time": "2024-08-03T04:39:30.654072",
     "exception": false,
     "start_time": "2024-08-03T04:39:30.597762",
     "status": "completed"
    },
    "tags": []
   },
   "outputs": [
    {
     "data": {
      "text/html": [
       "<div>\n",
       "<style scoped>\n",
       "    .dataframe tbody tr th:only-of-type {\n",
       "        vertical-align: middle;\n",
       "    }\n",
       "\n",
       "    .dataframe tbody tr th {\n",
       "        vertical-align: top;\n",
       "    }\n",
       "\n",
       "    .dataframe thead th {\n",
       "        text-align: right;\n",
       "    }\n",
       "</style>\n",
       "<table border=\"1\" class=\"dataframe\">\n",
       "  <thead>\n",
       "    <tr style=\"text-align: right;\">\n",
       "      <th></th>\n",
       "      <th>Survived</th>\n",
       "      <th>Not Survived</th>\n",
       "    </tr>\n",
       "    <tr>\n",
       "      <th>Fare</th>\n",
       "      <th></th>\n",
       "      <th></th>\n",
       "    </tr>\n",
       "  </thead>\n",
       "  <tbody>\n",
       "    <tr>\n",
       "      <th>(-0.0656, 13.127]</th>\n",
       "      <td>106</td>\n",
       "      <td>322</td>\n",
       "    </tr>\n",
       "    <tr>\n",
       "      <th>(13.127, 26.254]</th>\n",
       "      <td>75</td>\n",
       "      <td>99</td>\n",
       "    </tr>\n",
       "    <tr>\n",
       "      <th>(26.254, 39.381]</th>\n",
       "      <td>46</td>\n",
       "      <td>58</td>\n",
       "    </tr>\n",
       "    <tr>\n",
       "      <th>(39.381, 52.508]</th>\n",
       "      <td>11</td>\n",
       "      <td>25</td>\n",
       "    </tr>\n",
       "    <tr>\n",
       "      <th>(52.508, 65.634]</th>\n",
       "      <td>104</td>\n",
       "      <td>45</td>\n",
       "    </tr>\n",
       "  </tbody>\n",
       "</table>\n",
       "</div>"
      ],
      "text/plain": [
       "                   Survived  Not Survived\n",
       "Fare                                     \n",
       "(-0.0656, 13.127]       106           322\n",
       "(13.127, 26.254]         75            99\n",
       "(26.254, 39.381]         46            58\n",
       "(39.381, 52.508]         11            25\n",
       "(52.508, 65.634]        104            45"
      ]
     },
     "execution_count": 71,
     "metadata": {},
     "output_type": "execute_result"
    }
   ],
   "source": [
    "fare_survived_cut_5"
   ]
  },
  {
   "cell_type": "code",
   "execution_count": 72,
   "id": "36253327",
   "metadata": {
    "execution": {
     "iopub.execute_input": "2024-08-03T04:39:30.738049Z",
     "iopub.status.busy": "2024-08-03T04:39:30.737004Z",
     "iopub.status.idle": "2024-08-03T04:39:30.754942Z",
     "shell.execute_reply": "2024-08-03T04:39:30.753668Z"
    },
    "papermill": {
     "duration": 0.062653,
     "end_time": "2024-08-03T04:39:30.757395",
     "exception": false,
     "start_time": "2024-08-03T04:39:30.694742",
     "status": "completed"
    },
    "tags": []
   },
   "outputs": [],
   "source": [
    "def fare_reassign(x):\n",
    "    if x['Fare'] <= 13.127 : return 1\n",
    "    elif x['Fare'] <= 26.254 : return 2\n",
    "    elif x['Fare'] <= 39.381 : return 3\n",
    "    elif x['Fare'] <= 52.508 : return 4\n",
    "    else : return 5\n",
    "train_onehot['Fare'] = train_onehot.apply(fare_reassign, axis=1)"
   ]
  },
  {
   "cell_type": "code",
   "execution_count": 73,
   "id": "df89f776",
   "metadata": {
    "execution": {
     "iopub.execute_input": "2024-08-03T04:39:30.843945Z",
     "iopub.status.busy": "2024-08-03T04:39:30.842935Z",
     "iopub.status.idle": "2024-08-03T04:39:30.862182Z",
     "shell.execute_reply": "2024-08-03T04:39:30.860987Z"
    },
    "papermill": {
     "duration": 0.065319,
     "end_time": "2024-08-03T04:39:30.864395",
     "exception": false,
     "start_time": "2024-08-03T04:39:30.799076",
     "status": "completed"
    },
    "tags": []
   },
   "outputs": [
    {
     "data": {
      "text/html": [
       "<div>\n",
       "<style scoped>\n",
       "    .dataframe tbody tr th:only-of-type {\n",
       "        vertical-align: middle;\n",
       "    }\n",
       "\n",
       "    .dataframe tbody tr th {\n",
       "        vertical-align: top;\n",
       "    }\n",
       "\n",
       "    .dataframe thead th {\n",
       "        text-align: right;\n",
       "    }\n",
       "</style>\n",
       "<table border=\"1\" class=\"dataframe\">\n",
       "  <thead>\n",
       "    <tr style=\"text-align: right;\">\n",
       "      <th></th>\n",
       "      <th>Survived</th>\n",
       "      <th>Pclass</th>\n",
       "      <th>Age</th>\n",
       "      <th>SibSp</th>\n",
       "      <th>Parch</th>\n",
       "      <th>Fare</th>\n",
       "      <th>female</th>\n",
       "      <th>male</th>\n",
       "      <th>C</th>\n",
       "      <th>Q</th>\n",
       "      <th>S</th>\n",
       "      <th>Age_8</th>\n",
       "      <th>embarked_C</th>\n",
       "    </tr>\n",
       "  </thead>\n",
       "  <tbody>\n",
       "    <tr>\n",
       "      <th>0</th>\n",
       "      <td>0</td>\n",
       "      <td>-1</td>\n",
       "      <td>22.0</td>\n",
       "      <td>1</td>\n",
       "      <td>0</td>\n",
       "      <td>1</td>\n",
       "      <td>False</td>\n",
       "      <td>True</td>\n",
       "      <td>False</td>\n",
       "      <td>False</td>\n",
       "      <td>True</td>\n",
       "      <td>False</td>\n",
       "      <td>False</td>\n",
       "    </tr>\n",
       "    <tr>\n",
       "      <th>1</th>\n",
       "      <td>1</td>\n",
       "      <td>1</td>\n",
       "      <td>38.0</td>\n",
       "      <td>1</td>\n",
       "      <td>0</td>\n",
       "      <td>5</td>\n",
       "      <td>True</td>\n",
       "      <td>False</td>\n",
       "      <td>True</td>\n",
       "      <td>False</td>\n",
       "      <td>False</td>\n",
       "      <td>False</td>\n",
       "      <td>True</td>\n",
       "    </tr>\n",
       "    <tr>\n",
       "      <th>2</th>\n",
       "      <td>1</td>\n",
       "      <td>-1</td>\n",
       "      <td>26.0</td>\n",
       "      <td>0</td>\n",
       "      <td>0</td>\n",
       "      <td>1</td>\n",
       "      <td>True</td>\n",
       "      <td>False</td>\n",
       "      <td>False</td>\n",
       "      <td>False</td>\n",
       "      <td>True</td>\n",
       "      <td>False</td>\n",
       "      <td>False</td>\n",
       "    </tr>\n",
       "    <tr>\n",
       "      <th>3</th>\n",
       "      <td>1</td>\n",
       "      <td>1</td>\n",
       "      <td>35.0</td>\n",
       "      <td>1</td>\n",
       "      <td>0</td>\n",
       "      <td>5</td>\n",
       "      <td>True</td>\n",
       "      <td>False</td>\n",
       "      <td>False</td>\n",
       "      <td>False</td>\n",
       "      <td>True</td>\n",
       "      <td>False</td>\n",
       "      <td>False</td>\n",
       "    </tr>\n",
       "    <tr>\n",
       "      <th>4</th>\n",
       "      <td>0</td>\n",
       "      <td>-1</td>\n",
       "      <td>35.0</td>\n",
       "      <td>0</td>\n",
       "      <td>0</td>\n",
       "      <td>1</td>\n",
       "      <td>False</td>\n",
       "      <td>True</td>\n",
       "      <td>False</td>\n",
       "      <td>False</td>\n",
       "      <td>True</td>\n",
       "      <td>False</td>\n",
       "      <td>False</td>\n",
       "    </tr>\n",
       "    <tr>\n",
       "      <th>...</th>\n",
       "      <td>...</td>\n",
       "      <td>...</td>\n",
       "      <td>...</td>\n",
       "      <td>...</td>\n",
       "      <td>...</td>\n",
       "      <td>...</td>\n",
       "      <td>...</td>\n",
       "      <td>...</td>\n",
       "      <td>...</td>\n",
       "      <td>...</td>\n",
       "      <td>...</td>\n",
       "      <td>...</td>\n",
       "      <td>...</td>\n",
       "    </tr>\n",
       "    <tr>\n",
       "      <th>886</th>\n",
       "      <td>0</td>\n",
       "      <td>0</td>\n",
       "      <td>27.0</td>\n",
       "      <td>0</td>\n",
       "      <td>0</td>\n",
       "      <td>1</td>\n",
       "      <td>False</td>\n",
       "      <td>True</td>\n",
       "      <td>False</td>\n",
       "      <td>False</td>\n",
       "      <td>True</td>\n",
       "      <td>False</td>\n",
       "      <td>False</td>\n",
       "    </tr>\n",
       "    <tr>\n",
       "      <th>887</th>\n",
       "      <td>1</td>\n",
       "      <td>1</td>\n",
       "      <td>19.0</td>\n",
       "      <td>0</td>\n",
       "      <td>0</td>\n",
       "      <td>3</td>\n",
       "      <td>True</td>\n",
       "      <td>False</td>\n",
       "      <td>False</td>\n",
       "      <td>False</td>\n",
       "      <td>True</td>\n",
       "      <td>False</td>\n",
       "      <td>False</td>\n",
       "    </tr>\n",
       "    <tr>\n",
       "      <th>888</th>\n",
       "      <td>0</td>\n",
       "      <td>-1</td>\n",
       "      <td>28.0</td>\n",
       "      <td>1</td>\n",
       "      <td>2</td>\n",
       "      <td>2</td>\n",
       "      <td>True</td>\n",
       "      <td>False</td>\n",
       "      <td>False</td>\n",
       "      <td>False</td>\n",
       "      <td>True</td>\n",
       "      <td>False</td>\n",
       "      <td>False</td>\n",
       "    </tr>\n",
       "    <tr>\n",
       "      <th>889</th>\n",
       "      <td>1</td>\n",
       "      <td>1</td>\n",
       "      <td>26.0</td>\n",
       "      <td>0</td>\n",
       "      <td>0</td>\n",
       "      <td>3</td>\n",
       "      <td>False</td>\n",
       "      <td>True</td>\n",
       "      <td>True</td>\n",
       "      <td>False</td>\n",
       "      <td>False</td>\n",
       "      <td>False</td>\n",
       "      <td>True</td>\n",
       "    </tr>\n",
       "    <tr>\n",
       "      <th>890</th>\n",
       "      <td>0</td>\n",
       "      <td>-1</td>\n",
       "      <td>32.0</td>\n",
       "      <td>0</td>\n",
       "      <td>0</td>\n",
       "      <td>1</td>\n",
       "      <td>False</td>\n",
       "      <td>True</td>\n",
       "      <td>False</td>\n",
       "      <td>True</td>\n",
       "      <td>False</td>\n",
       "      <td>False</td>\n",
       "      <td>False</td>\n",
       "    </tr>\n",
       "  </tbody>\n",
       "</table>\n",
       "<p>891 rows × 13 columns</p>\n",
       "</div>"
      ],
      "text/plain": [
       "     Survived  Pclass   Age  SibSp  Parch  Fare  female   male      C      Q  \\\n",
       "0           0      -1  22.0      1      0     1   False   True  False  False   \n",
       "1           1       1  38.0      1      0     5    True  False   True  False   \n",
       "2           1      -1  26.0      0      0     1    True  False  False  False   \n",
       "3           1       1  35.0      1      0     5    True  False  False  False   \n",
       "4           0      -1  35.0      0      0     1   False   True  False  False   \n",
       "..        ...     ...   ...    ...    ...   ...     ...    ...    ...    ...   \n",
       "886         0       0  27.0      0      0     1   False   True  False  False   \n",
       "887         1       1  19.0      0      0     3    True  False  False  False   \n",
       "888         0      -1  28.0      1      2     2    True  False  False  False   \n",
       "889         1       1  26.0      0      0     3   False   True   True  False   \n",
       "890         0      -1  32.0      0      0     1   False   True  False   True   \n",
       "\n",
       "         S  Age_8  embarked_C  \n",
       "0     True  False       False  \n",
       "1    False  False        True  \n",
       "2     True  False       False  \n",
       "3     True  False       False  \n",
       "4     True  False       False  \n",
       "..     ...    ...         ...  \n",
       "886   True  False       False  \n",
       "887   True  False       False  \n",
       "888   True  False       False  \n",
       "889  False  False        True  \n",
       "890  False  False       False  \n",
       "\n",
       "[891 rows x 13 columns]"
      ]
     },
     "execution_count": 73,
     "metadata": {},
     "output_type": "execute_result"
    }
   ],
   "source": [
    "train_onehot"
   ]
  },
  {
   "cell_type": "markdown",
   "id": "01ef58a6",
   "metadata": {
    "papermill": {
     "duration": 0.04077,
     "end_time": "2024-08-03T04:39:30.945894",
     "exception": false,
     "start_time": "2024-08-03T04:39:30.905124",
     "status": "completed"
    },
    "tags": []
   },
   "source": [
    "### SibSp-Survivorship, Parch-Survivorship"
   ]
  },
  {
   "cell_type": "code",
   "execution_count": 74,
   "id": "41d51624",
   "metadata": {
    "execution": {
     "iopub.execute_input": "2024-08-03T04:39:31.030473Z",
     "iopub.status.busy": "2024-08-03T04:39:31.029432Z",
     "iopub.status.idle": "2024-08-03T04:39:31.041088Z",
     "shell.execute_reply": "2024-08-03T04:39:31.040008Z"
    },
    "papermill": {
     "duration": 0.056731,
     "end_time": "2024-08-03T04:39:31.043646",
     "exception": false,
     "start_time": "2024-08-03T04:39:30.986915",
     "status": "completed"
    },
    "tags": []
   },
   "outputs": [],
   "source": [
    "sibsp_parch_survivorship_df = pd.concat([train_onehot[['Survived', 'SibSp']], not_survived.astype(int)], axis=1)\n",
    "sibsp_survived = sibsp_parch_survivorship_df.groupby('SibSp').sum()\n",
    "sibsp_survived_prob_cond = sibsp_survived.copy()\n",
    "sibsp_survived_prob_cond.insert(column='P(Survived|SibSp=n)', value=sibsp_survived['Survived']/(sibsp_survived['Survived']+sibsp_survived['Not Survived']), loc=2)"
   ]
  },
  {
   "cell_type": "code",
   "execution_count": 75,
   "id": "0f0a93bb",
   "metadata": {
    "execution": {
     "iopub.execute_input": "2024-08-03T04:39:31.129297Z",
     "iopub.status.busy": "2024-08-03T04:39:31.128858Z",
     "iopub.status.idle": "2024-08-03T04:39:31.140764Z",
     "shell.execute_reply": "2024-08-03T04:39:31.139347Z"
    },
    "papermill": {
     "duration": 0.057219,
     "end_time": "2024-08-03T04:39:31.143198",
     "exception": false,
     "start_time": "2024-08-03T04:39:31.085979",
     "status": "completed"
    },
    "tags": []
   },
   "outputs": [
    {
     "data": {
      "text/html": [
       "<div>\n",
       "<style scoped>\n",
       "    .dataframe tbody tr th:only-of-type {\n",
       "        vertical-align: middle;\n",
       "    }\n",
       "\n",
       "    .dataframe tbody tr th {\n",
       "        vertical-align: top;\n",
       "    }\n",
       "\n",
       "    .dataframe thead th {\n",
       "        text-align: right;\n",
       "    }\n",
       "</style>\n",
       "<table border=\"1\" class=\"dataframe\">\n",
       "  <thead>\n",
       "    <tr style=\"text-align: right;\">\n",
       "      <th></th>\n",
       "      <th>Survived</th>\n",
       "      <th>Not Survived</th>\n",
       "      <th>P(Survived|SibSp=n)</th>\n",
       "    </tr>\n",
       "    <tr>\n",
       "      <th>SibSp</th>\n",
       "      <th></th>\n",
       "      <th></th>\n",
       "      <th></th>\n",
       "    </tr>\n",
       "  </thead>\n",
       "  <tbody>\n",
       "    <tr>\n",
       "      <th>0</th>\n",
       "      <td>210</td>\n",
       "      <td>398</td>\n",
       "      <td>0.345395</td>\n",
       "    </tr>\n",
       "    <tr>\n",
       "      <th>1</th>\n",
       "      <td>112</td>\n",
       "      <td>97</td>\n",
       "      <td>0.535885</td>\n",
       "    </tr>\n",
       "    <tr>\n",
       "      <th>2</th>\n",
       "      <td>13</td>\n",
       "      <td>15</td>\n",
       "      <td>0.464286</td>\n",
       "    </tr>\n",
       "    <tr>\n",
       "      <th>3</th>\n",
       "      <td>4</td>\n",
       "      <td>12</td>\n",
       "      <td>0.250000</td>\n",
       "    </tr>\n",
       "    <tr>\n",
       "      <th>4</th>\n",
       "      <td>3</td>\n",
       "      <td>15</td>\n",
       "      <td>0.166667</td>\n",
       "    </tr>\n",
       "    <tr>\n",
       "      <th>5</th>\n",
       "      <td>0</td>\n",
       "      <td>5</td>\n",
       "      <td>0.000000</td>\n",
       "    </tr>\n",
       "    <tr>\n",
       "      <th>8</th>\n",
       "      <td>0</td>\n",
       "      <td>7</td>\n",
       "      <td>0.000000</td>\n",
       "    </tr>\n",
       "  </tbody>\n",
       "</table>\n",
       "</div>"
      ],
      "text/plain": [
       "       Survived  Not Survived  P(Survived|SibSp=n)\n",
       "SibSp                                             \n",
       "0           210           398             0.345395\n",
       "1           112            97             0.535885\n",
       "2            13            15             0.464286\n",
       "3             4            12             0.250000\n",
       "4             3            15             0.166667\n",
       "5             0             5             0.000000\n",
       "8             0             7             0.000000"
      ]
     },
     "execution_count": 75,
     "metadata": {},
     "output_type": "execute_result"
    }
   ],
   "source": [
    "sibsp_survived_prob_cond"
   ]
  },
  {
   "cell_type": "code",
   "execution_count": 76,
   "id": "53f80d63",
   "metadata": {
    "execution": {
     "iopub.execute_input": "2024-08-03T04:39:31.227829Z",
     "iopub.status.busy": "2024-08-03T04:39:31.226834Z",
     "iopub.status.idle": "2024-08-03T04:39:31.579788Z",
     "shell.execute_reply": "2024-08-03T04:39:31.578442Z"
    },
    "papermill": {
     "duration": 0.397982,
     "end_time": "2024-08-03T04:39:31.582247",
     "exception": false,
     "start_time": "2024-08-03T04:39:31.184265",
     "status": "completed"
    },
    "tags": []
   },
   "outputs": [
    {
     "data": {
      "text/plain": [
       "Text(0.5, 0, 'Number of SibSp')"
      ]
     },
     "execution_count": 76,
     "metadata": {},
     "output_type": "execute_result"
    },
    {
     "data": {
      "image/png": "[encoded data removed]",
      "text/plain": [
       "<Figure size 640x480 with 1 Axes>"
      ]
     },
     "metadata": {},
     "output_type": "display_data"
    }
   ],
   "source": [
    "sibsp_survived.plot(kind='bar', color=['Green', 'Grey'], rot=0)\n",
    "plt.title('SibSp-Survivorship')\n",
    "plt.xlabel('Number of SibSp')"
   ]
  },
  {
   "cell_type": "code",
   "execution_count": 77,
   "id": "99256b98",
   "metadata": {
    "execution": {
     "iopub.execute_input": "2024-08-03T04:39:31.668485Z",
     "iopub.status.busy": "2024-08-03T04:39:31.668091Z",
     "iopub.status.idle": "2024-08-03T04:39:31.679961Z",
     "shell.execute_reply": "2024-08-03T04:39:31.678941Z"
    },
    "papermill": {
     "duration": 0.057549,
     "end_time": "2024-08-03T04:39:31.682280",
     "exception": false,
     "start_time": "2024-08-03T04:39:31.624731",
     "status": "completed"
    },
    "tags": []
   },
   "outputs": [],
   "source": [
    "sibsp_parch_survivorship_df = pd.concat([train_onehot[['Survived', 'Parch']], not_survived.astype(int)], axis=1)\n",
    "parch_survived = sibsp_parch_survivorship_df.groupby('Parch').sum()\n",
    "parch_survived_prob_cond = parch_survived.copy() \n",
    "parch_survived_prob_cond.insert(column='P(Survived|Parch=n)', value=parch_survived['Survived']/(parch_survived['Survived']+parch_survived['Not Survived']), loc=2)"
   ]
  },
  {
   "cell_type": "code",
   "execution_count": 78,
   "id": "1a6803cb",
   "metadata": {
    "execution": {
     "iopub.execute_input": "2024-08-03T04:39:31.767099Z",
     "iopub.status.busy": "2024-08-03T04:39:31.766685Z",
     "iopub.status.idle": "2024-08-03T04:39:31.778013Z",
     "shell.execute_reply": "2024-08-03T04:39:31.776975Z"
    },
    "papermill": {
     "duration": 0.056466,
     "end_time": "2024-08-03T04:39:31.780363",
     "exception": false,
     "start_time": "2024-08-03T04:39:31.723897",
     "status": "completed"
    },
    "tags": []
   },
   "outputs": [
    {
     "data": {
      "text/html": [
       "<div>\n",
       "<style scoped>\n",
       "    .dataframe tbody tr th:only-of-type {\n",
       "        vertical-align: middle;\n",
       "    }\n",
       "\n",
       "    .dataframe tbody tr th {\n",
       "        vertical-align: top;\n",
       "    }\n",
       "\n",
       "    .dataframe thead th {\n",
       "        text-align: right;\n",
       "    }\n",
       "</style>\n",
       "<table border=\"1\" class=\"dataframe\">\n",
       "  <thead>\n",
       "    <tr style=\"text-align: right;\">\n",
       "      <th></th>\n",
       "      <th>Survived</th>\n",
       "      <th>Not Survived</th>\n",
       "      <th>P(Survived|Parch=n)</th>\n",
       "    </tr>\n",
       "    <tr>\n",
       "      <th>Parch</th>\n",
       "      <th></th>\n",
       "      <th></th>\n",
       "      <th></th>\n",
       "    </tr>\n",
       "  </thead>\n",
       "  <tbody>\n",
       "    <tr>\n",
       "      <th>0</th>\n",
       "      <td>233</td>\n",
       "      <td>445</td>\n",
       "      <td>0.343658</td>\n",
       "    </tr>\n",
       "    <tr>\n",
       "      <th>1</th>\n",
       "      <td>65</td>\n",
       "      <td>53</td>\n",
       "      <td>0.550847</td>\n",
       "    </tr>\n",
       "    <tr>\n",
       "      <th>2</th>\n",
       "      <td>40</td>\n",
       "      <td>40</td>\n",
       "      <td>0.500000</td>\n",
       "    </tr>\n",
       "    <tr>\n",
       "      <th>3</th>\n",
       "      <td>3</td>\n",
       "      <td>2</td>\n",
       "      <td>0.600000</td>\n",
       "    </tr>\n",
       "    <tr>\n",
       "      <th>4</th>\n",
       "      <td>0</td>\n",
       "      <td>4</td>\n",
       "      <td>0.000000</td>\n",
       "    </tr>\n",
       "    <tr>\n",
       "      <th>5</th>\n",
       "      <td>1</td>\n",
       "      <td>4</td>\n",
       "      <td>0.200000</td>\n",
       "    </tr>\n",
       "    <tr>\n",
       "      <th>6</th>\n",
       "      <td>0</td>\n",
       "      <td>1</td>\n",
       "      <td>0.000000</td>\n",
       "    </tr>\n",
       "  </tbody>\n",
       "</table>\n",
       "</div>"
      ],
      "text/plain": [
       "       Survived  Not Survived  P(Survived|Parch=n)\n",
       "Parch                                             \n",
       "0           233           445             0.343658\n",
       "1            65            53             0.550847\n",
       "2            40            40             0.500000\n",
       "3             3             2             0.600000\n",
       "4             0             4             0.000000\n",
       "5             1             4             0.200000\n",
       "6             0             1             0.000000"
      ]
     },
     "execution_count": 78,
     "metadata": {},
     "output_type": "execute_result"
    }
   ],
   "source": [
    "parch_survived_prob_cond"
   ]
  },
  {
   "cell_type": "code",
   "execution_count": 79,
   "id": "2e71a252",
   "metadata": {
    "execution": {
     "iopub.execute_input": "2024-08-03T04:39:31.866890Z",
     "iopub.status.busy": "2024-08-03T04:39:31.866322Z",
     "iopub.status.idle": "2024-08-03T04:39:32.140965Z",
     "shell.execute_reply": "2024-08-03T04:39:32.139813Z"
    },
    "papermill": {
     "duration": 0.320632,
     "end_time": "2024-08-03T04:39:32.143324",
     "exception": false,
     "start_time": "2024-08-03T04:39:31.822692",
     "status": "completed"
    },
    "tags": []
   },
   "outputs": [
    {
     "data": {
      "text/plain": [
       "Text(0.5, 0, 'Number of Parch')"
      ]
     },
     "execution_count": 79,
     "metadata": {},
     "output_type": "execute_result"
    },
    {
     "data": {
      "image/png": "[encoded data removed]",
      "text/plain": [
       "<Figure size 640x480 with 1 Axes>"
      ]
     },
     "metadata": {},
     "output_type": "display_data"
    }
   ],
   "source": [
    "parch_survived.plot(kind='bar', color=['Green', 'Grey'], rot=0)\n",
    "plt.title('Parch-Survivorship')\n",
    "plt.xlabel('Number of Parch')"
   ]
  },
  {
   "cell_type": "markdown",
   "id": "39aae151",
   "metadata": {
    "papermill": {
     "duration": 0.042035,
     "end_time": "2024-08-03T04:39:32.227390",
     "exception": false,
     "start_time": "2024-08-03T04:39:32.185355",
     "status": "completed"
    },
    "tags": []
   },
   "source": [
    "**- Pattern of SibSp and Parch are nearly the same, we can combine them to one feature called family size feature**"
   ]
  },
  {
   "cell_type": "markdown",
   "id": "05f2b3c1",
   "metadata": {
    "papermill": {
     "duration": 0.042032,
     "end_time": "2024-08-03T04:39:32.311379",
     "exception": false,
     "start_time": "2024-08-03T04:39:32.269347",
     "status": "completed"
    },
    "tags": []
   },
   "source": [
    "### FamilySize-Survivorship"
   ]
  },
  {
   "cell_type": "code",
   "execution_count": 80,
   "id": "beb626ee",
   "metadata": {
    "execution": {
     "iopub.execute_input": "2024-08-03T04:39:32.399081Z",
     "iopub.status.busy": "2024-08-03T04:39:32.398647Z",
     "iopub.status.idle": "2024-08-03T04:39:32.406439Z",
     "shell.execute_reply": "2024-08-03T04:39:32.405313Z"
    },
    "papermill": {
     "duration": 0.055479,
     "end_time": "2024-08-03T04:39:32.409128",
     "exception": false,
     "start_time": "2024-08-03T04:39:32.353649",
     "status": "completed"
    },
    "tags": []
   },
   "outputs": [],
   "source": [
    "train_onehot['FamilySize'] = train_onehot['Parch'] + train_onehot['SibSp']\n",
    "train_onehot = train_onehot.drop(columns=['SibSp', 'Parch'])\n"
   ]
  },
  {
   "cell_type": "code",
   "execution_count": 81,
   "id": "94600e0d",
   "metadata": {
    "execution": {
     "iopub.execute_input": "2024-08-03T04:39:32.497161Z",
     "iopub.status.busy": "2024-08-03T04:39:32.496760Z",
     "iopub.status.idle": "2024-08-03T04:39:32.513101Z",
     "shell.execute_reply": "2024-08-03T04:39:32.511955Z"
    },
    "papermill": {
     "duration": 0.063969,
     "end_time": "2024-08-03T04:39:32.515541",
     "exception": false,
     "start_time": "2024-08-03T04:39:32.451572",
     "status": "completed"
    },
    "tags": []
   },
   "outputs": [
    {
     "data": {
      "text/html": [
       "<div>\n",
       "<style scoped>\n",
       "    .dataframe tbody tr th:only-of-type {\n",
       "        vertical-align: middle;\n",
       "    }\n",
       "\n",
       "    .dataframe tbody tr th {\n",
       "        vertical-align: top;\n",
       "    }\n",
       "\n",
       "    .dataframe thead th {\n",
       "        text-align: right;\n",
       "    }\n",
       "</style>\n",
       "<table border=\"1\" class=\"dataframe\">\n",
       "  <thead>\n",
       "    <tr style=\"text-align: right;\">\n",
       "      <th></th>\n",
       "      <th>Survived</th>\n",
       "      <th>Pclass</th>\n",
       "      <th>Age</th>\n",
       "      <th>Fare</th>\n",
       "      <th>female</th>\n",
       "      <th>male</th>\n",
       "      <th>C</th>\n",
       "      <th>Q</th>\n",
       "      <th>S</th>\n",
       "      <th>Age_8</th>\n",
       "      <th>embarked_C</th>\n",
       "      <th>FamilySize</th>\n",
       "    </tr>\n",
       "  </thead>\n",
       "  <tbody>\n",
       "    <tr>\n",
       "      <th>0</th>\n",
       "      <td>0</td>\n",
       "      <td>-1</td>\n",
       "      <td>22.0</td>\n",
       "      <td>1</td>\n",
       "      <td>False</td>\n",
       "      <td>True</td>\n",
       "      <td>False</td>\n",
       "      <td>False</td>\n",
       "      <td>True</td>\n",
       "      <td>False</td>\n",
       "      <td>False</td>\n",
       "      <td>1</td>\n",
       "    </tr>\n",
       "    <tr>\n",
       "      <th>1</th>\n",
       "      <td>1</td>\n",
       "      <td>1</td>\n",
       "      <td>38.0</td>\n",
       "      <td>5</td>\n",
       "      <td>True</td>\n",
       "      <td>False</td>\n",
       "      <td>True</td>\n",
       "      <td>False</td>\n",
       "      <td>False</td>\n",
       "      <td>False</td>\n",
       "      <td>True</td>\n",
       "      <td>1</td>\n",
       "    </tr>\n",
       "    <tr>\n",
       "      <th>2</th>\n",
       "      <td>1</td>\n",
       "      <td>-1</td>\n",
       "      <td>26.0</td>\n",
       "      <td>1</td>\n",
       "      <td>True</td>\n",
       "      <td>False</td>\n",
       "      <td>False</td>\n",
       "      <td>False</td>\n",
       "      <td>True</td>\n",
       "      <td>False</td>\n",
       "      <td>False</td>\n",
       "      <td>0</td>\n",
       "    </tr>\n",
       "    <tr>\n",
       "      <th>3</th>\n",
       "      <td>1</td>\n",
       "      <td>1</td>\n",
       "      <td>35.0</td>\n",
       "      <td>5</td>\n",
       "      <td>True</td>\n",
       "      <td>False</td>\n",
       "      <td>False</td>\n",
       "      <td>False</td>\n",
       "      <td>True</td>\n",
       "      <td>False</td>\n",
       "      <td>False</td>\n",
       "      <td>1</td>\n",
       "    </tr>\n",
       "    <tr>\n",
       "      <th>4</th>\n",
       "      <td>0</td>\n",
       "      <td>-1</td>\n",
       "      <td>35.0</td>\n",
       "      <td>1</td>\n",
       "      <td>False</td>\n",
       "      <td>True</td>\n",
       "      <td>False</td>\n",
       "      <td>False</td>\n",
       "      <td>True</td>\n",
       "      <td>False</td>\n",
       "      <td>False</td>\n",
       "      <td>0</td>\n",
       "    </tr>\n",
       "  </tbody>\n",
       "</table>\n",
       "</div>"
      ],
      "text/plain": [
       "   Survived  Pclass   Age  Fare  female   male      C      Q      S  Age_8  \\\n",
       "0         0      -1  22.0     1   False   True  False  False   True  False   \n",
       "1         1       1  38.0     5    True  False   True  False  False  False   \n",
       "2         1      -1  26.0     1    True  False  False  False   True  False   \n",
       "3         1       1  35.0     5    True  False  False  False   True  False   \n",
       "4         0      -1  35.0     1   False   True  False  False   True  False   \n",
       "\n",
       "   embarked_C  FamilySize  \n",
       "0       False           1  \n",
       "1        True           1  \n",
       "2       False           0  \n",
       "3       False           1  \n",
       "4       False           0  "
      ]
     },
     "execution_count": 81,
     "metadata": {},
     "output_type": "execute_result"
    }
   ],
   "source": [
    "train_onehot.head(5)"
   ]
  },
  {
   "cell_type": "code",
   "execution_count": 82,
   "id": "25528356",
   "metadata": {
    "execution": {
     "iopub.execute_input": "2024-08-03T04:39:32.603426Z",
     "iopub.status.busy": "2024-08-03T04:39:32.602997Z",
     "iopub.status.idle": "2024-08-03T04:39:32.616031Z",
     "shell.execute_reply": "2024-08-03T04:39:32.614657Z"
    },
    "papermill": {
     "duration": 0.059536,
     "end_time": "2024-08-03T04:39:32.618619",
     "exception": false,
     "start_time": "2024-08-03T04:39:32.559083",
     "status": "completed"
    },
    "tags": []
   },
   "outputs": [],
   "source": [
    "famsize_survivorship_df = pd.concat([train_onehot[['Survived', 'FamilySize']], not_survived.astype(int)], axis=1)\n",
    "famsize_survived_group = famsize_survivorship_df.groupby('FamilySize').sum()\n",
    "famsize_survived_prob_cond = famsize_survived_group.copy() \n",
    "famsize_survived_prob_cond.insert(column='P(Survived|FamSize=n)', value=famsize_survived_group['Survived']/(famsize_survived_group['Survived']+famsize_survived_group['Not Survived']), loc=2)"
   ]
  },
  {
   "cell_type": "code",
   "execution_count": 83,
   "id": "8d25a9f8",
   "metadata": {
    "execution": {
     "iopub.execute_input": "2024-08-03T04:39:32.707814Z",
     "iopub.status.busy": "2024-08-03T04:39:32.707066Z",
     "iopub.status.idle": "2024-08-03T04:39:32.718498Z",
     "shell.execute_reply": "2024-08-03T04:39:32.717303Z"
    },
    "papermill": {
     "duration": 0.059252,
     "end_time": "2024-08-03T04:39:32.720688",
     "exception": false,
     "start_time": "2024-08-03T04:39:32.661436",
     "status": "completed"
    },
    "tags": []
   },
   "outputs": [
    {
     "data": {
      "text/html": [
       "<div>\n",
       "<style scoped>\n",
       "    .dataframe tbody tr th:only-of-type {\n",
       "        vertical-align: middle;\n",
       "    }\n",
       "\n",
       "    .dataframe tbody tr th {\n",
       "        vertical-align: top;\n",
       "    }\n",
       "\n",
       "    .dataframe thead th {\n",
       "        text-align: right;\n",
       "    }\n",
       "</style>\n",
       "<table border=\"1\" class=\"dataframe\">\n",
       "  <thead>\n",
       "    <tr style=\"text-align: right;\">\n",
       "      <th></th>\n",
       "      <th>Survived</th>\n",
       "      <th>Not Survived</th>\n",
       "      <th>P(Survived|FamSize=n)</th>\n",
       "    </tr>\n",
       "    <tr>\n",
       "      <th>FamilySize</th>\n",
       "      <th></th>\n",
       "      <th></th>\n",
       "      <th></th>\n",
       "    </tr>\n",
       "  </thead>\n",
       "  <tbody>\n",
       "    <tr>\n",
       "      <th>0</th>\n",
       "      <td>163</td>\n",
       "      <td>374</td>\n",
       "      <td>0.303538</td>\n",
       "    </tr>\n",
       "    <tr>\n",
       "      <th>1</th>\n",
       "      <td>89</td>\n",
       "      <td>72</td>\n",
       "      <td>0.552795</td>\n",
       "    </tr>\n",
       "    <tr>\n",
       "      <th>2</th>\n",
       "      <td>59</td>\n",
       "      <td>43</td>\n",
       "      <td>0.578431</td>\n",
       "    </tr>\n",
       "    <tr>\n",
       "      <th>3</th>\n",
       "      <td>21</td>\n",
       "      <td>8</td>\n",
       "      <td>0.724138</td>\n",
       "    </tr>\n",
       "    <tr>\n",
       "      <th>4</th>\n",
       "      <td>3</td>\n",
       "      <td>12</td>\n",
       "      <td>0.200000</td>\n",
       "    </tr>\n",
       "    <tr>\n",
       "      <th>5</th>\n",
       "      <td>3</td>\n",
       "      <td>19</td>\n",
       "      <td>0.136364</td>\n",
       "    </tr>\n",
       "    <tr>\n",
       "      <th>6</th>\n",
       "      <td>4</td>\n",
       "      <td>8</td>\n",
       "      <td>0.333333</td>\n",
       "    </tr>\n",
       "    <tr>\n",
       "      <th>7</th>\n",
       "      <td>0</td>\n",
       "      <td>6</td>\n",
       "      <td>0.000000</td>\n",
       "    </tr>\n",
       "    <tr>\n",
       "      <th>10</th>\n",
       "      <td>0</td>\n",
       "      <td>7</td>\n",
       "      <td>0.000000</td>\n",
       "    </tr>\n",
       "  </tbody>\n",
       "</table>\n",
       "</div>"
      ],
      "text/plain": [
       "            Survived  Not Survived  P(Survived|FamSize=n)\n",
       "FamilySize                                               \n",
       "0                163           374               0.303538\n",
       "1                 89            72               0.552795\n",
       "2                 59            43               0.578431\n",
       "3                 21             8               0.724138\n",
       "4                  3            12               0.200000\n",
       "5                  3            19               0.136364\n",
       "6                  4             8               0.333333\n",
       "7                  0             6               0.000000\n",
       "10                 0             7               0.000000"
      ]
     },
     "execution_count": 83,
     "metadata": {},
     "output_type": "execute_result"
    }
   ],
   "source": [
    "famsize_survived_prob_cond"
   ]
  },
  {
   "cell_type": "code",
   "execution_count": 84,
   "id": "735db1a9",
   "metadata": {
    "execution": {
     "iopub.execute_input": "2024-08-03T04:39:32.807114Z",
     "iopub.status.busy": "2024-08-03T04:39:32.806717Z",
     "iopub.status.idle": "2024-08-03T04:39:33.127448Z",
     "shell.execute_reply": "2024-08-03T04:39:33.126224Z"
    },
    "papermill": {
     "duration": 0.366867,
     "end_time": "2024-08-03T04:39:33.130131",
     "exception": false,
     "start_time": "2024-08-03T04:39:32.763264",
     "status": "completed"
    },
    "tags": []
   },
   "outputs": [
    {
     "data": {
      "text/plain": [
       "<Axes: xlabel='FamilySize'>"
      ]
     },
     "execution_count": 84,
     "metadata": {},
     "output_type": "execute_result"
    },
    {
     "data": {
      "image/png": "[encoded data removed]",
      "text/plain": [
       "<Figure size 640x480 with 1 Axes>"
      ]
     },
     "metadata": {},
     "output_type": "display_data"
    }
   ],
   "source": [
    "famsize_survived_group.plot(kind='bar', color=['Green', 'Grey'])"
   ]
  },
  {
   "cell_type": "code",
   "execution_count": 85,
   "id": "25b55290",
   "metadata": {
    "execution": {
     "iopub.execute_input": "2024-08-03T04:39:33.219449Z",
     "iopub.status.busy": "2024-08-03T04:39:33.219042Z",
     "iopub.status.idle": "2024-08-03T04:39:33.489508Z",
     "shell.execute_reply": "2024-08-03T04:39:33.488400Z"
    },
    "papermill": {
     "duration": 0.318111,
     "end_time": "2024-08-03T04:39:33.491720",
     "exception": false,
     "start_time": "2024-08-03T04:39:33.173609",
     "status": "completed"
    },
    "tags": []
   },
   "outputs": [
    {
     "data": {
      "text/plain": [
       "Text(0, 0.5, 'Survival Rate')"
      ]
     },
     "execution_count": 85,
     "metadata": {},
     "output_type": "execute_result"
    },
    {
     "data": {
      "image/png": "[encoded data removed]",
      "text/plain": [
       "<Figure size 640x480 with 1 Axes>"
      ]
     },
     "metadata": {},
     "output_type": "display_data"
    }
   ],
   "source": [
    "famsize_survived_prob_cond['P(Survived|FamSize=n)'].plot(kind='bar')\n",
    "plt.title('Survival Rate by Family Size')\n",
    "plt.ylabel('Survival Rate')"
   ]
  },
  {
   "cell_type": "markdown",
   "id": "f759df07",
   "metadata": {
    "papermill": {
     "duration": 0.043469,
     "end_time": "2024-08-03T04:39:33.580179",
     "exception": false,
     "start_time": "2024-08-03T04:39:33.536710",
     "status": "completed"
    },
    "tags": []
   },
   "source": [
    "- Family Size = 3 , highest survival rate\n",
    "- Famliy Size > 3, survival rate tends to be lower\n",
    "- Family Size > 0 and < 3 , survival rate  tends to be higher\n",
    "\n",
    "- -**cut family size into 3 groups : 0-3, =3 (remarkable fam_size), >3**"
   ]
  },
  {
   "cell_type": "code",
   "execution_count": 86,
   "id": "114c6eee",
   "metadata": {
    "execution": {
     "iopub.execute_input": "2024-08-03T04:39:33.669252Z",
     "iopub.status.busy": "2024-08-03T04:39:33.668817Z",
     "iopub.status.idle": "2024-08-03T04:39:33.683342Z",
     "shell.execute_reply": "2024-08-03T04:39:33.682303Z"
    },
    "papermill": {
     "duration": 0.061572,
     "end_time": "2024-08-03T04:39:33.685607",
     "exception": false,
     "start_time": "2024-08-03T04:39:33.624035",
     "status": "completed"
    },
    "tags": []
   },
   "outputs": [],
   "source": [
    "def fam_size_assign(x) :\n",
    "    if x['FamilySize'] < 3 : return -1\n",
    "    elif x['FamilySize'] == 3: return 1\n",
    "    else : return 0\n",
    "train_onehot['FamilySize'] = train_onehot.apply(fam_size_assign, axis=1)"
   ]
  },
  {
   "cell_type": "code",
   "execution_count": 87,
   "id": "669ec70c",
   "metadata": {
    "execution": {
     "iopub.execute_input": "2024-08-03T04:39:33.774598Z",
     "iopub.status.busy": "2024-08-03T04:39:33.774180Z",
     "iopub.status.idle": "2024-08-03T04:39:33.794484Z",
     "shell.execute_reply": "2024-08-03T04:39:33.793467Z"
    },
    "papermill": {
     "duration": 0.067653,
     "end_time": "2024-08-03T04:39:33.796784",
     "exception": false,
     "start_time": "2024-08-03T04:39:33.729131",
     "status": "completed"
    },
    "tags": []
   },
   "outputs": [
    {
     "data": {
      "text/html": [
       "<div>\n",
       "<style scoped>\n",
       "    .dataframe tbody tr th:only-of-type {\n",
       "        vertical-align: middle;\n",
       "    }\n",
       "\n",
       "    .dataframe tbody tr th {\n",
       "        vertical-align: top;\n",
       "    }\n",
       "\n",
       "    .dataframe thead th {\n",
       "        text-align: right;\n",
       "    }\n",
       "</style>\n",
       "<table border=\"1\" class=\"dataframe\">\n",
       "  <thead>\n",
       "    <tr style=\"text-align: right;\">\n",
       "      <th></th>\n",
       "      <th>Survived</th>\n",
       "      <th>Pclass</th>\n",
       "      <th>Age</th>\n",
       "      <th>Fare</th>\n",
       "      <th>female</th>\n",
       "      <th>male</th>\n",
       "      <th>C</th>\n",
       "      <th>Q</th>\n",
       "      <th>S</th>\n",
       "      <th>Age_8</th>\n",
       "      <th>embarked_C</th>\n",
       "      <th>FamilySize</th>\n",
       "    </tr>\n",
       "  </thead>\n",
       "  <tbody>\n",
       "    <tr>\n",
       "      <th>0</th>\n",
       "      <td>0</td>\n",
       "      <td>-1</td>\n",
       "      <td>22.0</td>\n",
       "      <td>1</td>\n",
       "      <td>False</td>\n",
       "      <td>True</td>\n",
       "      <td>False</td>\n",
       "      <td>False</td>\n",
       "      <td>True</td>\n",
       "      <td>False</td>\n",
       "      <td>False</td>\n",
       "      <td>-1</td>\n",
       "    </tr>\n",
       "    <tr>\n",
       "      <th>1</th>\n",
       "      <td>1</td>\n",
       "      <td>1</td>\n",
       "      <td>38.0</td>\n",
       "      <td>5</td>\n",
       "      <td>True</td>\n",
       "      <td>False</td>\n",
       "      <td>True</td>\n",
       "      <td>False</td>\n",
       "      <td>False</td>\n",
       "      <td>False</td>\n",
       "      <td>True</td>\n",
       "      <td>-1</td>\n",
       "    </tr>\n",
       "    <tr>\n",
       "      <th>2</th>\n",
       "      <td>1</td>\n",
       "      <td>-1</td>\n",
       "      <td>26.0</td>\n",
       "      <td>1</td>\n",
       "      <td>True</td>\n",
       "      <td>False</td>\n",
       "      <td>False</td>\n",
       "      <td>False</td>\n",
       "      <td>True</td>\n",
       "      <td>False</td>\n",
       "      <td>False</td>\n",
       "      <td>-1</td>\n",
       "    </tr>\n",
       "    <tr>\n",
       "      <th>3</th>\n",
       "      <td>1</td>\n",
       "      <td>1</td>\n",
       "      <td>35.0</td>\n",
       "      <td>5</td>\n",
       "      <td>True</td>\n",
       "      <td>False</td>\n",
       "      <td>False</td>\n",
       "      <td>False</td>\n",
       "      <td>True</td>\n",
       "      <td>False</td>\n",
       "      <td>False</td>\n",
       "      <td>-1</td>\n",
       "    </tr>\n",
       "    <tr>\n",
       "      <th>4</th>\n",
       "      <td>0</td>\n",
       "      <td>-1</td>\n",
       "      <td>35.0</td>\n",
       "      <td>1</td>\n",
       "      <td>False</td>\n",
       "      <td>True</td>\n",
       "      <td>False</td>\n",
       "      <td>False</td>\n",
       "      <td>True</td>\n",
       "      <td>False</td>\n",
       "      <td>False</td>\n",
       "      <td>-1</td>\n",
       "    </tr>\n",
       "    <tr>\n",
       "      <th>...</th>\n",
       "      <td>...</td>\n",
       "      <td>...</td>\n",
       "      <td>...</td>\n",
       "      <td>...</td>\n",
       "      <td>...</td>\n",
       "      <td>...</td>\n",
       "      <td>...</td>\n",
       "      <td>...</td>\n",
       "      <td>...</td>\n",
       "      <td>...</td>\n",
       "      <td>...</td>\n",
       "      <td>...</td>\n",
       "    </tr>\n",
       "    <tr>\n",
       "      <th>886</th>\n",
       "      <td>0</td>\n",
       "      <td>0</td>\n",
       "      <td>27.0</td>\n",
       "      <td>1</td>\n",
       "      <td>False</td>\n",
       "      <td>True</td>\n",
       "      <td>False</td>\n",
       "      <td>False</td>\n",
       "      <td>True</td>\n",
       "      <td>False</td>\n",
       "      <td>False</td>\n",
       "      <td>-1</td>\n",
       "    </tr>\n",
       "    <tr>\n",
       "      <th>887</th>\n",
       "      <td>1</td>\n",
       "      <td>1</td>\n",
       "      <td>19.0</td>\n",
       "      <td>3</td>\n",
       "      <td>True</td>\n",
       "      <td>False</td>\n",
       "      <td>False</td>\n",
       "      <td>False</td>\n",
       "      <td>True</td>\n",
       "      <td>False</td>\n",
       "      <td>False</td>\n",
       "      <td>-1</td>\n",
       "    </tr>\n",
       "    <tr>\n",
       "      <th>888</th>\n",
       "      <td>0</td>\n",
       "      <td>-1</td>\n",
       "      <td>28.0</td>\n",
       "      <td>2</td>\n",
       "      <td>True</td>\n",
       "      <td>False</td>\n",
       "      <td>False</td>\n",
       "      <td>False</td>\n",
       "      <td>True</td>\n",
       "      <td>False</td>\n",
       "      <td>False</td>\n",
       "      <td>1</td>\n",
       "    </tr>\n",
       "    <tr>\n",
       "      <th>889</th>\n",
       "      <td>1</td>\n",
       "      <td>1</td>\n",
       "      <td>26.0</td>\n",
       "      <td>3</td>\n",
       "      <td>False</td>\n",
       "      <td>True</td>\n",
       "      <td>True</td>\n",
       "      <td>False</td>\n",
       "      <td>False</td>\n",
       "      <td>False</td>\n",
       "      <td>True</td>\n",
       "      <td>-1</td>\n",
       "    </tr>\n",
       "    <tr>\n",
       "      <th>890</th>\n",
       "      <td>0</td>\n",
       "      <td>-1</td>\n",
       "      <td>32.0</td>\n",
       "      <td>1</td>\n",
       "      <td>False</td>\n",
       "      <td>True</td>\n",
       "      <td>False</td>\n",
       "      <td>True</td>\n",
       "      <td>False</td>\n",
       "      <td>False</td>\n",
       "      <td>False</td>\n",
       "      <td>-1</td>\n",
       "    </tr>\n",
       "  </tbody>\n",
       "</table>\n",
       "<p>891 rows × 12 columns</p>\n",
       "</div>"
      ],
      "text/plain": [
       "     Survived  Pclass   Age  Fare  female   male      C      Q      S  Age_8  \\\n",
       "0           0      -1  22.0     1   False   True  False  False   True  False   \n",
       "1           1       1  38.0     5    True  False   True  False  False  False   \n",
       "2           1      -1  26.0     1    True  False  False  False   True  False   \n",
       "3           1       1  35.0     5    True  False  False  False   True  False   \n",
       "4           0      -1  35.0     1   False   True  False  False   True  False   \n",
       "..        ...     ...   ...   ...     ...    ...    ...    ...    ...    ...   \n",
       "886         0       0  27.0     1   False   True  False  False   True  False   \n",
       "887         1       1  19.0     3    True  False  False  False   True  False   \n",
       "888         0      -1  28.0     2    True  False  False  False   True  False   \n",
       "889         1       1  26.0     3   False   True   True  False  False  False   \n",
       "890         0      -1  32.0     1   False   True  False   True  False  False   \n",
       "\n",
       "     embarked_C  FamilySize  \n",
       "0         False          -1  \n",
       "1          True          -1  \n",
       "2         False          -1  \n",
       "3         False          -1  \n",
       "4         False          -1  \n",
       "..          ...         ...  \n",
       "886       False          -1  \n",
       "887       False          -1  \n",
       "888       False           1  \n",
       "889        True          -1  \n",
       "890       False          -1  \n",
       "\n",
       "[891 rows x 12 columns]"
      ]
     },
     "execution_count": 87,
     "metadata": {},
     "output_type": "execute_result"
    }
   ],
   "source": [
    "train_onehot"
   ]
  },
  {
   "cell_type": "code",
   "execution_count": 88,
   "id": "0e610a30",
   "metadata": {
    "execution": {
     "iopub.execute_input": "2024-08-03T04:39:33.887930Z",
     "iopub.status.busy": "2024-08-03T04:39:33.887513Z",
     "iopub.status.idle": "2024-08-03T04:39:33.904794Z",
     "shell.execute_reply": "2024-08-03T04:39:33.903584Z"
    },
    "papermill": {
     "duration": 0.064871,
     "end_time": "2024-08-03T04:39:33.907101",
     "exception": false,
     "start_time": "2024-08-03T04:39:33.842230",
     "status": "completed"
    },
    "tags": []
   },
   "outputs": [
    {
     "data": {
      "text/html": [
       "<div>\n",
       "<style scoped>\n",
       "    .dataframe tbody tr th:only-of-type {\n",
       "        vertical-align: middle;\n",
       "    }\n",
       "\n",
       "    .dataframe tbody tr th {\n",
       "        vertical-align: top;\n",
       "    }\n",
       "\n",
       "    .dataframe thead th {\n",
       "        text-align: right;\n",
       "    }\n",
       "</style>\n",
       "<table border=\"1\" class=\"dataframe\">\n",
       "  <thead>\n",
       "    <tr style=\"text-align: right;\">\n",
       "      <th></th>\n",
       "      <th>Survived</th>\n",
       "      <th>Pclass</th>\n",
       "      <th>Fare</th>\n",
       "      <th>male</th>\n",
       "      <th>Age_8</th>\n",
       "      <th>embarked_C</th>\n",
       "      <th>FamilySize</th>\n",
       "    </tr>\n",
       "  </thead>\n",
       "  <tbody>\n",
       "    <tr>\n",
       "      <th>0</th>\n",
       "      <td>0</td>\n",
       "      <td>-1</td>\n",
       "      <td>1</td>\n",
       "      <td>True</td>\n",
       "      <td>False</td>\n",
       "      <td>False</td>\n",
       "      <td>-1</td>\n",
       "    </tr>\n",
       "    <tr>\n",
       "      <th>1</th>\n",
       "      <td>1</td>\n",
       "      <td>1</td>\n",
       "      <td>5</td>\n",
       "      <td>False</td>\n",
       "      <td>False</td>\n",
       "      <td>True</td>\n",
       "      <td>-1</td>\n",
       "    </tr>\n",
       "    <tr>\n",
       "      <th>2</th>\n",
       "      <td>1</td>\n",
       "      <td>-1</td>\n",
       "      <td>1</td>\n",
       "      <td>False</td>\n",
       "      <td>False</td>\n",
       "      <td>False</td>\n",
       "      <td>-1</td>\n",
       "    </tr>\n",
       "    <tr>\n",
       "      <th>3</th>\n",
       "      <td>1</td>\n",
       "      <td>1</td>\n",
       "      <td>5</td>\n",
       "      <td>False</td>\n",
       "      <td>False</td>\n",
       "      <td>False</td>\n",
       "      <td>-1</td>\n",
       "    </tr>\n",
       "    <tr>\n",
       "      <th>4</th>\n",
       "      <td>0</td>\n",
       "      <td>-1</td>\n",
       "      <td>1</td>\n",
       "      <td>True</td>\n",
       "      <td>False</td>\n",
       "      <td>False</td>\n",
       "      <td>-1</td>\n",
       "    </tr>\n",
       "    <tr>\n",
       "      <th>...</th>\n",
       "      <td>...</td>\n",
       "      <td>...</td>\n",
       "      <td>...</td>\n",
       "      <td>...</td>\n",
       "      <td>...</td>\n",
       "      <td>...</td>\n",
       "      <td>...</td>\n",
       "    </tr>\n",
       "    <tr>\n",
       "      <th>886</th>\n",
       "      <td>0</td>\n",
       "      <td>0</td>\n",
       "      <td>1</td>\n",
       "      <td>True</td>\n",
       "      <td>False</td>\n",
       "      <td>False</td>\n",
       "      <td>-1</td>\n",
       "    </tr>\n",
       "    <tr>\n",
       "      <th>887</th>\n",
       "      <td>1</td>\n",
       "      <td>1</td>\n",
       "      <td>3</td>\n",
       "      <td>False</td>\n",
       "      <td>False</td>\n",
       "      <td>False</td>\n",
       "      <td>-1</td>\n",
       "    </tr>\n",
       "    <tr>\n",
       "      <th>888</th>\n",
       "      <td>0</td>\n",
       "      <td>-1</td>\n",
       "      <td>2</td>\n",
       "      <td>False</td>\n",
       "      <td>False</td>\n",
       "      <td>False</td>\n",
       "      <td>1</td>\n",
       "    </tr>\n",
       "    <tr>\n",
       "      <th>889</th>\n",
       "      <td>1</td>\n",
       "      <td>1</td>\n",
       "      <td>3</td>\n",
       "      <td>True</td>\n",
       "      <td>False</td>\n",
       "      <td>True</td>\n",
       "      <td>-1</td>\n",
       "    </tr>\n",
       "    <tr>\n",
       "      <th>890</th>\n",
       "      <td>0</td>\n",
       "      <td>-1</td>\n",
       "      <td>1</td>\n",
       "      <td>True</td>\n",
       "      <td>False</td>\n",
       "      <td>False</td>\n",
       "      <td>-1</td>\n",
       "    </tr>\n",
       "  </tbody>\n",
       "</table>\n",
       "<p>891 rows × 7 columns</p>\n",
       "</div>"
      ],
      "text/plain": [
       "     Survived  Pclass  Fare   male  Age_8  embarked_C  FamilySize\n",
       "0           0      -1     1   True  False       False          -1\n",
       "1           1       1     5  False  False        True          -1\n",
       "2           1      -1     1  False  False       False          -1\n",
       "3           1       1     5  False  False       False          -1\n",
       "4           0      -1     1   True  False       False          -1\n",
       "..        ...     ...   ...    ...    ...         ...         ...\n",
       "886         0       0     1   True  False       False          -1\n",
       "887         1       1     3  False  False       False          -1\n",
       "888         0      -1     2  False  False       False           1\n",
       "889         1       1     3   True  False        True          -1\n",
       "890         0      -1     1   True  False       False          -1\n",
       "\n",
       "[891 rows x 7 columns]"
      ]
     },
     "execution_count": 88,
     "metadata": {},
     "output_type": "execute_result"
    }
   ],
   "source": [
    "train_onehot_featured = train_onehot.drop(columns=['Age', 'C', 'Q', 'S', 'female'])\n",
    "train_onehot_featured"
   ]
  },
  {
   "cell_type": "markdown",
   "id": "37bd0883",
   "metadata": {
    "papermill": {
     "duration": 0.045525,
     "end_time": "2024-08-03T04:39:33.997817",
     "exception": false,
     "start_time": "2024-08-03T04:39:33.952292",
     "status": "completed"
    },
    "tags": []
   },
   "source": [
    "## Training Logistic Regression Model"
   ]
  },
  {
   "cell_type": "code",
   "execution_count": 89,
   "id": "423afd78",
   "metadata": {
    "execution": {
     "iopub.execute_input": "2024-08-03T04:39:34.090994Z",
     "iopub.status.busy": "2024-08-03T04:39:34.089966Z",
     "iopub.status.idle": "2024-08-03T04:39:34.140613Z",
     "shell.execute_reply": "2024-08-03T04:39:34.139494Z"
    },
    "papermill": {
     "duration": 0.10028,
     "end_time": "2024-08-03T04:39:34.143584",
     "exception": false,
     "start_time": "2024-08-03T04:39:34.043304",
     "status": "completed"
    },
    "tags": []
   },
   "outputs": [
    {
     "data": {
      "text/plain": [
       "array([0.83417085, 0.74371859, 0.8030303 ])"
      ]
     },
     "execution_count": 89,
     "metadata": {},
     "output_type": "execute_result"
    }
   ],
   "source": [
    "y = train_onehot_featured['Survived']\n",
    "X = train_onehot_featured.iloc[:, 1:]\n",
    "X_train, X_test, y_train, y_test = train_test_split(X, y, random_state=42, test_size=0.33)\n",
    "\n",
    "log_model2 = LogisticRegression(random_state=42, max_iter=300).fit(X_train, y_train)\n",
    "cross_val_score(log_model2, X_train, y_train, scoring='accuracy', cv=3)"
   ]
  },
  {
   "cell_type": "code",
   "execution_count": 90,
   "id": "66240e30",
   "metadata": {
    "execution": {
     "iopub.execute_input": "2024-08-03T04:39:34.294546Z",
     "iopub.status.busy": "2024-08-03T04:39:34.294152Z",
     "iopub.status.idle": "2024-08-03T04:39:34.321000Z",
     "shell.execute_reply": "2024-08-03T04:39:34.319487Z"
    },
    "papermill": {
     "duration": 0.07677,
     "end_time": "2024-08-03T04:39:34.323767",
     "exception": false,
     "start_time": "2024-08-03T04:39:34.246997",
     "status": "completed"
    },
    "tags": []
   },
   "outputs": [
    {
     "name": "stdout",
     "output_type": "stream",
     "text": [
      "              precision    recall  f1-score   support\n",
      "\n",
      "           0       0.85      0.85      0.85       374\n",
      "           1       0.75      0.75      0.75       222\n",
      "\n",
      "    accuracy                           0.81       596\n",
      "   macro avg       0.80      0.80      0.80       596\n",
      "weighted avg       0.81      0.81      0.81       596\n",
      "\n",
      "              precision    recall  f1-score   support\n",
      "\n",
      "           0       0.83      0.83      0.83       175\n",
      "           1       0.75      0.76      0.76       120\n",
      "\n",
      "    accuracy                           0.80       295\n",
      "   macro avg       0.79      0.79      0.79       295\n",
      "weighted avg       0.80      0.80      0.80       295\n",
      "\n"
     ]
    }
   ],
   "source": [
    "y_train_pred_model2 = log_model2.predict(X_train)\n",
    "y_test_pred_model2 = log_model2.predict(X_test)\n",
    "report2 = classification_report(y_train, y_train_pred_model2)\n",
    "report2_test = classification_report(y_test, y_test_pred_model2)\n",
    "print(report2)\n",
    "print(report2_test)"
   ]
  },
  {
   "cell_type": "markdown",
   "id": "3b092a87",
   "metadata": {
    "papermill": {
     "duration": 0.044071,
     "end_time": "2024-08-03T04:39:34.412573",
     "exception": false,
     "start_time": "2024-08-03T04:39:34.368502",
     "status": "completed"
    },
    "tags": []
   },
   "source": [
    "## Training Random Forest"
   ]
  },
  {
   "cell_type": "code",
   "execution_count": 91,
   "id": "fc6e8cce",
   "metadata": {
    "execution": {
     "iopub.execute_input": "2024-08-03T04:39:34.507050Z",
     "iopub.status.busy": "2024-08-03T04:39:34.506220Z",
     "iopub.status.idle": "2024-08-03T04:39:34.694681Z",
     "shell.execute_reply": "2024-08-03T04:39:34.693621Z"
    },
    "papermill": {
     "duration": 0.239209,
     "end_time": "2024-08-03T04:39:34.697296",
     "exception": false,
     "start_time": "2024-08-03T04:39:34.458087",
     "status": "completed"
    },
    "tags": []
   },
   "outputs": [],
   "source": [
    "y = train_onehot_featured['Survived']\n",
    "X = train_onehot_featured.iloc[:, 1:]\n",
    "X_train, X_test, y_train, y_test = train_test_split(X, y, random_state=42, test_size=0.33)\n",
    "\n",
    "rf2 = RandomForestClassifier(random_state=42).fit(X_train, y_train)"
   ]
  },
  {
   "cell_type": "code",
   "execution_count": 92,
   "id": "81d7f46a",
   "metadata": {
    "execution": {
     "iopub.execute_input": "2024-08-03T04:39:34.787684Z",
     "iopub.status.busy": "2024-08-03T04:39:34.787322Z",
     "iopub.status.idle": "2024-08-03T04:39:34.833872Z",
     "shell.execute_reply": "2024-08-03T04:39:34.832353Z"
    },
    "papermill": {
     "duration": 0.095039,
     "end_time": "2024-08-03T04:39:34.836474",
     "exception": false,
     "start_time": "2024-08-03T04:39:34.741435",
     "status": "completed"
    },
    "tags": []
   },
   "outputs": [
    {
     "name": "stdout",
     "output_type": "stream",
     "text": [
      "              precision    recall  f1-score   support\n",
      "\n",
      "           0       0.83      0.95      0.88       374\n",
      "           1       0.89      0.67      0.76       222\n",
      "\n",
      "    accuracy                           0.84       596\n",
      "   macro avg       0.86      0.81      0.82       596\n",
      "weighted avg       0.85      0.84      0.84       596\n",
      "\n",
      "              precision    recall  f1-score   support\n",
      "\n",
      "           0       0.77      0.91      0.83       175\n",
      "           1       0.82      0.60      0.69       120\n",
      "\n",
      "    accuracy                           0.78       295\n",
      "   macro avg       0.79      0.75      0.76       295\n",
      "weighted avg       0.79      0.78      0.78       295\n",
      "\n"
     ]
    }
   ],
   "source": [
    "y_train_pred_rf2 = rf2.predict(X_train)\n",
    "y_test_pred_rf2 = rf2.predict(X_test)\n",
    "report_rf2 = classification_report(y_train, y_train_pred_rf2)\n",
    "report_rf2_test = classification_report(y_test, y_test_pred_rf2)\n",
    "\n",
    "print(report_rf2)\n",
    "print(report_rf2_test)"
   ]
  },
  {
   "cell_type": "markdown",
   "id": "fc73e473",
   "metadata": {
    "papermill": {
     "duration": 0.045222,
     "end_time": "2024-08-03T04:39:34.926513",
     "exception": false,
     "start_time": "2024-08-03T04:39:34.881291",
     "status": "completed"
    },
    "tags": []
   },
   "source": [
    "# Evaluation"
   ]
  },
  {
   "cell_type": "code",
   "execution_count": 93,
   "id": "b2c6397e",
   "metadata": {
    "execution": {
     "iopub.execute_input": "2024-08-03T04:39:35.018735Z",
     "iopub.status.busy": "2024-08-03T04:39:35.017931Z",
     "iopub.status.idle": "2024-08-03T04:39:35.026084Z",
     "shell.execute_reply": "2024-08-03T04:39:35.024931Z"
    },
    "papermill": {
     "duration": 0.057166,
     "end_time": "2024-08-03T04:39:35.029051",
     "exception": false,
     "start_time": "2024-08-03T04:39:34.971885",
     "status": "completed"
    },
    "tags": []
   },
   "outputs": [
    {
     "name": "stdout",
     "output_type": "stream",
     "text": [
      "-- Train Data--\n",
      "Model: Logistic Regression\n",
      "              precision    recall  f1-score   support\n",
      "\n",
      "           0       0.82      0.87      0.84       374\n",
      "           1       0.76      0.68      0.72       222\n",
      "\n",
      "    accuracy                           0.80       596\n",
      "   macro avg       0.79      0.77      0.78       596\n",
      "weighted avg       0.80      0.80      0.80       596\n",
      "\n",
      "-- Test Data--\n",
      "Model: Logistic Regression\n",
      "              precision    recall  f1-score   support\n",
      "\n",
      "           0       0.82      0.87      0.85       175\n",
      "           1       0.80      0.72      0.76       120\n",
      "\n",
      "    accuracy                           0.81       295\n",
      "   macro avg       0.81      0.80      0.80       295\n",
      "weighted avg       0.81      0.81      0.81       295\n",
      "\n",
      "-------------------------\n",
      "-- Train Data--\n",
      "Model: Logistic Regression (after Feature Eng.)\n",
      "              precision    recall  f1-score   support\n",
      "\n",
      "           0       0.85      0.85      0.85       374\n",
      "           1       0.75      0.75      0.75       222\n",
      "\n",
      "    accuracy                           0.81       596\n",
      "   macro avg       0.80      0.80      0.80       596\n",
      "weighted avg       0.81      0.81      0.81       596\n",
      "\n",
      "-- Test Data--\n",
      "              precision    recall  f1-score   support\n",
      "\n",
      "           0       0.83      0.83      0.83       175\n",
      "           1       0.75      0.76      0.76       120\n",
      "\n",
      "    accuracy                           0.80       295\n",
      "   macro avg       0.79      0.79      0.79       295\n",
      "weighted avg       0.80      0.80      0.80       295\n",
      "\n",
      "-------------------------\n",
      "-- Train Data--\n",
      "Model: Random Forest\n",
      "              precision    recall  f1-score   support\n",
      "\n",
      "           0       0.98      0.99      0.98       374\n",
      "           1       0.99      0.96      0.97       222\n",
      "\n",
      "    accuracy                           0.98       596\n",
      "   macro avg       0.98      0.98      0.98       596\n",
      "weighted avg       0.98      0.98      0.98       596\n",
      "\n",
      "-- Test Data--\n",
      "              precision    recall  f1-score   support\n",
      "\n",
      "           0       0.79      0.82      0.81       175\n",
      "           1       0.72      0.69      0.71       120\n",
      "\n",
      "    accuracy                           0.77       295\n",
      "   macro avg       0.76      0.75      0.76       295\n",
      "weighted avg       0.76      0.77      0.77       295\n",
      "\n",
      "-------------------------\n",
      "Model: Random Forest (after Feature Eng.)\n",
      "-- Train Data--\n",
      "              precision    recall  f1-score   support\n",
      "\n",
      "           0       0.83      0.95      0.88       374\n",
      "           1       0.89      0.67      0.76       222\n",
      "\n",
      "    accuracy                           0.84       596\n",
      "   macro avg       0.86      0.81      0.82       596\n",
      "weighted avg       0.85      0.84      0.84       596\n",
      "\n",
      "-- Test Data--\n",
      "              precision    recall  f1-score   support\n",
      "\n",
      "           0       0.77      0.91      0.83       175\n",
      "           1       0.82      0.60      0.69       120\n",
      "\n",
      "    accuracy                           0.78       295\n",
      "   macro avg       0.79      0.75      0.76       295\n",
      "weighted avg       0.79      0.78      0.78       295\n",
      "\n",
      "-------------------------\n"
     ]
    }
   ],
   "source": [
    "print('-- Train Data--')\n",
    "print('Model: Logistic Regression')\n",
    "print(report1)\n",
    "print('-- Test Data--')\n",
    "print('Model: Logistic Regression')\n",
    "print(report1_test)\n",
    "print('-------------------------')\n",
    "print('-- Train Data--')\n",
    "print('Model: Logistic Regression (after Feature Eng.)')\n",
    "print(report2)\n",
    "print('-- Test Data--')\n",
    "print(report2_test)\n",
    "print('-------------------------')\n",
    "print('-- Train Data--')\n",
    "print('Model: Random Forest')\n",
    "print(report_rf1)\n",
    "print('-- Test Data--')\n",
    "print(report_rf1_test)\n",
    "print('-------------------------')\n",
    "print('Model: Random Forest (after Feature Eng.)')\n",
    "print('-- Train Data--')\n",
    "print(report_rf2)\n",
    "print('-- Test Data--')\n",
    "print(report_rf2_test)\n",
    "print('-------------------------')"
   ]
  },
  {
   "cell_type": "code",
   "execution_count": 94,
   "id": "2f36e76b",
   "metadata": {
    "execution": {
     "iopub.execute_input": "2024-08-03T04:39:35.122279Z",
     "iopub.status.busy": "2024-08-03T04:39:35.121354Z",
     "iopub.status.idle": "2024-08-03T04:39:35.139035Z",
     "shell.execute_reply": "2024-08-03T04:39:35.137972Z"
    },
    "papermill": {
     "duration": 0.066335,
     "end_time": "2024-08-03T04:39:35.141535",
     "exception": false,
     "start_time": "2024-08-03T04:39:35.075200",
     "status": "completed"
    },
    "tags": []
   },
   "outputs": [
    {
     "name": "stdout",
     "output_type": "stream",
     "text": [
      "auc log_model1 =  0.7745820686997158\n",
      "auc log_model2 =  0.7990075637134461\n",
      "auc rf1 =  0.9757190345425638\n",
      "auc rf2 =  0.8079322638146167\n"
     ]
    }
   ],
   "source": [
    "print('auc log_model1 = ', roc_auc_score(y_train, y_train_pred_model1))\n",
    "print('auc log_model2 = ', roc_auc_score(y_train, y_train_pred_model2))\n",
    "print('auc rf1 = ', roc_auc_score(y_train, y_train_pred_rf1))\n",
    "print('auc rf2 = ', roc_auc_score(y_train, y_train_pred_rf2))"
   ]
  },
  {
   "cell_type": "markdown",
   "id": "6258ec1b",
   "metadata": {
    "papermill": {
     "duration": 0.045214,
     "end_time": "2024-08-03T04:39:35.231968",
     "exception": false,
     "start_time": "2024-08-03T04:39:35.186754",
     "status": "completed"
    },
    "tags": []
   },
   "source": [
    "**!!! auc of random forest model is significantly lower after doing feature engineering, why?** (may be caused from simplifying feature -> minimizing overfitting)"
   ]
  },
  {
   "cell_type": "markdown",
   "id": "63e095d9",
   "metadata": {
    "papermill": {
     "duration": 0.045446,
     "end_time": "2024-08-03T04:39:35.324659",
     "exception": false,
     "start_time": "2024-08-03T04:39:35.279213",
     "status": "completed"
    },
    "tags": []
   },
   "source": [
    "# Submission"
   ]
  },
  {
   "cell_type": "code",
   "execution_count": 95,
   "id": "a81f47a5",
   "metadata": {
    "execution": {
     "iopub.execute_input": "2024-08-03T04:39:35.417064Z",
     "iopub.status.busy": "2024-08-03T04:39:35.416336Z",
     "iopub.status.idle": "2024-08-03T04:39:35.423251Z",
     "shell.execute_reply": "2024-08-03T04:39:35.422059Z"
    },
    "papermill": {
     "duration": 0.05506,
     "end_time": "2024-08-03T04:39:35.425426",
     "exception": false,
     "start_time": "2024-08-03T04:39:35.370366",
     "status": "completed"
    },
    "tags": []
   },
   "outputs": [],
   "source": [
    "PassengerId = test['PassengerId']\n",
    "test = test.drop(columns=['PassengerId', 'Name', 'Ticket', 'Cabin'])\n",
    "test_model1_and_rf1 = test.copy()\n",
    "test_model2_and_rf2 = test.copy()"
   ]
  },
  {
   "cell_type": "code",
   "execution_count": 96,
   "id": "5da34468",
   "metadata": {
    "execution": {
     "iopub.execute_input": "2024-08-03T04:39:35.519025Z",
     "iopub.status.busy": "2024-08-03T04:39:35.518614Z",
     "iopub.status.idle": "2024-08-03T04:39:35.541091Z",
     "shell.execute_reply": "2024-08-03T04:39:35.539955Z"
    },
    "papermill": {
     "duration": 0.071674,
     "end_time": "2024-08-03T04:39:35.543443",
     "exception": false,
     "start_time": "2024-08-03T04:39:35.471769",
     "status": "completed"
    },
    "tags": []
   },
   "outputs": [
    {
     "data": {
      "text/html": [
       "<div>\n",
       "<style scoped>\n",
       "    .dataframe tbody tr th:only-of-type {\n",
       "        vertical-align: middle;\n",
       "    }\n",
       "\n",
       "    .dataframe tbody tr th {\n",
       "        vertical-align: top;\n",
       "    }\n",
       "\n",
       "    .dataframe thead th {\n",
       "        text-align: right;\n",
       "    }\n",
       "</style>\n",
       "<table border=\"1\" class=\"dataframe\">\n",
       "  <thead>\n",
       "    <tr style=\"text-align: right;\">\n",
       "      <th></th>\n",
       "      <th>Pclass</th>\n",
       "      <th>Age</th>\n",
       "      <th>SibSp</th>\n",
       "      <th>Parch</th>\n",
       "      <th>Fare</th>\n",
       "      <th>female</th>\n",
       "      <th>male</th>\n",
       "      <th>C</th>\n",
       "      <th>Q</th>\n",
       "      <th>S</th>\n",
       "    </tr>\n",
       "  </thead>\n",
       "  <tbody>\n",
       "    <tr>\n",
       "      <th>0</th>\n",
       "      <td>3</td>\n",
       "      <td>34.5</td>\n",
       "      <td>0</td>\n",
       "      <td>0</td>\n",
       "      <td>7.8292</td>\n",
       "      <td>False</td>\n",
       "      <td>True</td>\n",
       "      <td>False</td>\n",
       "      <td>True</td>\n",
       "      <td>False</td>\n",
       "    </tr>\n",
       "    <tr>\n",
       "      <th>1</th>\n",
       "      <td>3</td>\n",
       "      <td>47.0</td>\n",
       "      <td>1</td>\n",
       "      <td>0</td>\n",
       "      <td>7.0000</td>\n",
       "      <td>True</td>\n",
       "      <td>False</td>\n",
       "      <td>False</td>\n",
       "      <td>False</td>\n",
       "      <td>True</td>\n",
       "    </tr>\n",
       "    <tr>\n",
       "      <th>2</th>\n",
       "      <td>2</td>\n",
       "      <td>62.0</td>\n",
       "      <td>0</td>\n",
       "      <td>0</td>\n",
       "      <td>9.6875</td>\n",
       "      <td>False</td>\n",
       "      <td>True</td>\n",
       "      <td>False</td>\n",
       "      <td>True</td>\n",
       "      <td>False</td>\n",
       "    </tr>\n",
       "    <tr>\n",
       "      <th>3</th>\n",
       "      <td>3</td>\n",
       "      <td>27.0</td>\n",
       "      <td>0</td>\n",
       "      <td>0</td>\n",
       "      <td>8.6625</td>\n",
       "      <td>False</td>\n",
       "      <td>True</td>\n",
       "      <td>False</td>\n",
       "      <td>False</td>\n",
       "      <td>True</td>\n",
       "    </tr>\n",
       "    <tr>\n",
       "      <th>4</th>\n",
       "      <td>3</td>\n",
       "      <td>22.0</td>\n",
       "      <td>1</td>\n",
       "      <td>1</td>\n",
       "      <td>12.2875</td>\n",
       "      <td>True</td>\n",
       "      <td>False</td>\n",
       "      <td>False</td>\n",
       "      <td>False</td>\n",
       "      <td>True</td>\n",
       "    </tr>\n",
       "    <tr>\n",
       "      <th>...</th>\n",
       "      <td>...</td>\n",
       "      <td>...</td>\n",
       "      <td>...</td>\n",
       "      <td>...</td>\n",
       "      <td>...</td>\n",
       "      <td>...</td>\n",
       "      <td>...</td>\n",
       "      <td>...</td>\n",
       "      <td>...</td>\n",
       "      <td>...</td>\n",
       "    </tr>\n",
       "    <tr>\n",
       "      <th>413</th>\n",
       "      <td>3</td>\n",
       "      <td>NaN</td>\n",
       "      <td>0</td>\n",
       "      <td>0</td>\n",
       "      <td>8.0500</td>\n",
       "      <td>False</td>\n",
       "      <td>True</td>\n",
       "      <td>False</td>\n",
       "      <td>False</td>\n",
       "      <td>True</td>\n",
       "    </tr>\n",
       "    <tr>\n",
       "      <th>414</th>\n",
       "      <td>1</td>\n",
       "      <td>39.0</td>\n",
       "      <td>0</td>\n",
       "      <td>0</td>\n",
       "      <td>108.9000</td>\n",
       "      <td>True</td>\n",
       "      <td>False</td>\n",
       "      <td>True</td>\n",
       "      <td>False</td>\n",
       "      <td>False</td>\n",
       "    </tr>\n",
       "    <tr>\n",
       "      <th>415</th>\n",
       "      <td>3</td>\n",
       "      <td>38.5</td>\n",
       "      <td>0</td>\n",
       "      <td>0</td>\n",
       "      <td>7.2500</td>\n",
       "      <td>False</td>\n",
       "      <td>True</td>\n",
       "      <td>False</td>\n",
       "      <td>False</td>\n",
       "      <td>True</td>\n",
       "    </tr>\n",
       "    <tr>\n",
       "      <th>416</th>\n",
       "      <td>3</td>\n",
       "      <td>NaN</td>\n",
       "      <td>0</td>\n",
       "      <td>0</td>\n",
       "      <td>8.0500</td>\n",
       "      <td>False</td>\n",
       "      <td>True</td>\n",
       "      <td>False</td>\n",
       "      <td>False</td>\n",
       "      <td>True</td>\n",
       "    </tr>\n",
       "    <tr>\n",
       "      <th>417</th>\n",
       "      <td>3</td>\n",
       "      <td>NaN</td>\n",
       "      <td>1</td>\n",
       "      <td>1</td>\n",
       "      <td>22.3583</td>\n",
       "      <td>False</td>\n",
       "      <td>True</td>\n",
       "      <td>True</td>\n",
       "      <td>False</td>\n",
       "      <td>False</td>\n",
       "    </tr>\n",
       "  </tbody>\n",
       "</table>\n",
       "<p>418 rows × 10 columns</p>\n",
       "</div>"
      ],
      "text/plain": [
       "     Pclass   Age  SibSp  Parch      Fare  female   male      C      Q      S\n",
       "0         3  34.5      0      0    7.8292   False   True  False   True  False\n",
       "1         3  47.0      1      0    7.0000    True  False  False  False   True\n",
       "2         2  62.0      0      0    9.6875   False   True  False   True  False\n",
       "3         3  27.0      0      0    8.6625   False   True  False  False   True\n",
       "4         3  22.0      1      1   12.2875    True  False  False  False   True\n",
       "..      ...   ...    ...    ...       ...     ...    ...    ...    ...    ...\n",
       "413       3   NaN      0      0    8.0500   False   True  False  False   True\n",
       "414       1  39.0      0      0  108.9000    True  False   True  False  False\n",
       "415       3  38.5      0      0    7.2500   False   True  False  False   True\n",
       "416       3   NaN      0      0    8.0500   False   True  False  False   True\n",
       "417       3   NaN      1      1   22.3583   False   True   True  False  False\n",
       "\n",
       "[418 rows x 10 columns]"
      ]
     },
     "execution_count": 96,
     "metadata": {},
     "output_type": "execute_result"
    }
   ],
   "source": [
    "sex_dum = pd.get_dummies(test_model1_and_rf1['Sex'])\n",
    "embarked_dum = pd.get_dummies(test_model1_and_rf1['Embarked'])\n",
    "test_model1_and_rf1 = pd.concat([test_model1_and_rf1, sex_dum, embarked_dum], axis=1)\n",
    "test_model1_and_rf1 = test_model1_and_rf1.drop(columns = ['Sex', 'Embarked'])\n",
    "test_model1_and_rf1"
   ]
  },
  {
   "cell_type": "code",
   "execution_count": 97,
   "id": "5689e165",
   "metadata": {
    "execution": {
     "iopub.execute_input": "2024-08-03T04:39:35.636366Z",
     "iopub.status.busy": "2024-08-03T04:39:35.635796Z",
     "iopub.status.idle": "2024-08-03T04:39:35.710588Z",
     "shell.execute_reply": "2024-08-03T04:39:35.709360Z"
    },
    "papermill": {
     "duration": 0.123825,
     "end_time": "2024-08-03T04:39:35.713101",
     "exception": false,
     "start_time": "2024-08-03T04:39:35.589276",
     "status": "completed"
    },
    "tags": []
   },
   "outputs": [
    {
     "data": {
      "text/html": [
       "<div>\n",
       "<style scoped>\n",
       "    .dataframe tbody tr th:only-of-type {\n",
       "        vertical-align: middle;\n",
       "    }\n",
       "\n",
       "    .dataframe tbody tr th {\n",
       "        vertical-align: top;\n",
       "    }\n",
       "\n",
       "    .dataframe thead th {\n",
       "        text-align: right;\n",
       "    }\n",
       "</style>\n",
       "<table border=\"1\" class=\"dataframe\">\n",
       "  <thead>\n",
       "    <tr style=\"text-align: right;\">\n",
       "      <th></th>\n",
       "      <th>Pclass</th>\n",
       "      <th>Fare</th>\n",
       "      <th>Age_8</th>\n",
       "      <th>embarked_C</th>\n",
       "      <th>FamilySize</th>\n",
       "      <th>male</th>\n",
       "    </tr>\n",
       "  </thead>\n",
       "  <tbody>\n",
       "    <tr>\n",
       "      <th>0</th>\n",
       "      <td>-1</td>\n",
       "      <td>1</td>\n",
       "      <td>False</td>\n",
       "      <td>False</td>\n",
       "      <td>-1</td>\n",
       "      <td>True</td>\n",
       "    </tr>\n",
       "    <tr>\n",
       "      <th>1</th>\n",
       "      <td>-1</td>\n",
       "      <td>1</td>\n",
       "      <td>False</td>\n",
       "      <td>False</td>\n",
       "      <td>-1</td>\n",
       "      <td>False</td>\n",
       "    </tr>\n",
       "    <tr>\n",
       "      <th>2</th>\n",
       "      <td>0</td>\n",
       "      <td>1</td>\n",
       "      <td>False</td>\n",
       "      <td>False</td>\n",
       "      <td>-1</td>\n",
       "      <td>True</td>\n",
       "    </tr>\n",
       "    <tr>\n",
       "      <th>3</th>\n",
       "      <td>-1</td>\n",
       "      <td>1</td>\n",
       "      <td>False</td>\n",
       "      <td>False</td>\n",
       "      <td>-1</td>\n",
       "      <td>True</td>\n",
       "    </tr>\n",
       "    <tr>\n",
       "      <th>4</th>\n",
       "      <td>-1</td>\n",
       "      <td>1</td>\n",
       "      <td>False</td>\n",
       "      <td>False</td>\n",
       "      <td>-1</td>\n",
       "      <td>False</td>\n",
       "    </tr>\n",
       "    <tr>\n",
       "      <th>...</th>\n",
       "      <td>...</td>\n",
       "      <td>...</td>\n",
       "      <td>...</td>\n",
       "      <td>...</td>\n",
       "      <td>...</td>\n",
       "      <td>...</td>\n",
       "    </tr>\n",
       "    <tr>\n",
       "      <th>413</th>\n",
       "      <td>-1</td>\n",
       "      <td>1</td>\n",
       "      <td>False</td>\n",
       "      <td>False</td>\n",
       "      <td>-1</td>\n",
       "      <td>True</td>\n",
       "    </tr>\n",
       "    <tr>\n",
       "      <th>414</th>\n",
       "      <td>1</td>\n",
       "      <td>5</td>\n",
       "      <td>False</td>\n",
       "      <td>True</td>\n",
       "      <td>-1</td>\n",
       "      <td>False</td>\n",
       "    </tr>\n",
       "    <tr>\n",
       "      <th>415</th>\n",
       "      <td>-1</td>\n",
       "      <td>1</td>\n",
       "      <td>False</td>\n",
       "      <td>False</td>\n",
       "      <td>-1</td>\n",
       "      <td>True</td>\n",
       "    </tr>\n",
       "    <tr>\n",
       "      <th>416</th>\n",
       "      <td>-1</td>\n",
       "      <td>1</td>\n",
       "      <td>False</td>\n",
       "      <td>False</td>\n",
       "      <td>-1</td>\n",
       "      <td>True</td>\n",
       "    </tr>\n",
       "    <tr>\n",
       "      <th>417</th>\n",
       "      <td>-1</td>\n",
       "      <td>2</td>\n",
       "      <td>False</td>\n",
       "      <td>True</td>\n",
       "      <td>-1</td>\n",
       "      <td>True</td>\n",
       "    </tr>\n",
       "  </tbody>\n",
       "</table>\n",
       "<p>418 rows × 6 columns</p>\n",
       "</div>"
      ],
      "text/plain": [
       "     Pclass  Fare  Age_8  embarked_C  FamilySize   male\n",
       "0        -1     1  False       False          -1   True\n",
       "1        -1     1  False       False          -1  False\n",
       "2         0     1  False       False          -1   True\n",
       "3        -1     1  False       False          -1   True\n",
       "4        -1     1  False       False          -1  False\n",
       "..      ...   ...    ...         ...         ...    ...\n",
       "413      -1     1  False       False          -1   True\n",
       "414       1     5  False        True          -1  False\n",
       "415      -1     1  False       False          -1   True\n",
       "416      -1     1  False       False          -1   True\n",
       "417      -1     2  False        True          -1   True\n",
       "\n",
       "[418 rows x 6 columns]"
      ]
     },
     "execution_count": 97,
     "metadata": {},
     "output_type": "execute_result"
    }
   ],
   "source": [
    "test_model2_and_rf2['Age_8'] = (test_model2_and_rf2['Age'] == 8)\n",
    "test_model2_and_rf2['embarked_C'] = (test_model2_and_rf2['Embarked'] == 'C')\n",
    "test_model2_and_rf2['FamilySize'] = test_model2_and_rf2['SibSp'] + test_model2_and_rf2['Parch']\n",
    "\n",
    "def class_reassign(x):\n",
    "    if x['Pclass'] == 2 : return 0\n",
    "    elif x['Pclass'] == 3 : return -1\n",
    "    else : return 1\n",
    "train_onehot['Pclass'] = train_onehot.apply(class_reassign, axis=1)\n",
    "\n",
    "def fare_reassign(x):\n",
    "    if x['Fare'] <= 13.127 : return 1\n",
    "    elif x['Fare'] <= 26.254 : return 2\n",
    "    elif x['Fare'] <= 39.381 : return 3\n",
    "    elif x['Fare'] <= 52.508 : return 4\n",
    "    else : return 5\n",
    "train_onehot['Fare'] = train_onehot.apply(fare_reassign, axis=1)\n",
    "\n",
    "def fam_size_reassign(x) :\n",
    "    if x['FamilySize'] < 3 : return -1\n",
    "    elif x['FamilySize'] == 3: return 1\n",
    "    else : return 0\n",
    "train_onehot['FamilySize'] = train_onehot.apply(fam_size_assign, axis=1)\n",
    "\n",
    "test_model2_and_rf2['FamilySize'] = test_model2_and_rf2.apply(fam_size_assign, axis=1)\n",
    "test_model2_and_rf2['Fare'] = test_model2_and_rf2.apply(fare_reassign, axis=1)\n",
    "test_model2_and_rf2['Pclass'] = test_model2_and_rf2.apply(class_reassign, axis=1)\n",
    "\n",
    "sex_dum = pd.get_dummies(test_model2_and_rf2['Sex'])\n",
    "test_model2_and_rf2 = pd.concat([test_model2_and_rf2, sex_dum], axis=1)\n",
    "test_model2_and_rf2 = test_model2_and_rf2.drop(columns=['Sex', 'Age', 'SibSp', 'Parch', 'Embarked', 'female'])\n",
    "\n",
    "test_model1_and_rf1 = test_model1_and_rf1.fillna(test_model1_and_rf1.median())\n",
    "test_model2_and_rf2 = test_model2_and_rf2.fillna(test_model2_and_rf2.median())\n",
    "\n",
    "test_model2_and_rf2"
   ]
  },
  {
   "cell_type": "code",
   "execution_count": 98,
   "id": "470253b7",
   "metadata": {
    "execution": {
     "iopub.execute_input": "2024-08-03T04:39:35.806053Z",
     "iopub.status.busy": "2024-08-03T04:39:35.805645Z",
     "iopub.status.idle": "2024-08-03T04:39:35.812710Z",
     "shell.execute_reply": "2024-08-03T04:39:35.811477Z"
    },
    "papermill": {
     "duration": 0.056209,
     "end_time": "2024-08-03T04:39:35.814924",
     "exception": false,
     "start_time": "2024-08-03T04:39:35.758715",
     "status": "completed"
    },
    "tags": []
   },
   "outputs": [],
   "source": [
    "test_model2_and_rf2 = pd.DataFrame({'Pclass' : test_model2_and_rf2['Pclass'], 'Fare' : test_model2_and_rf2['Fare'], \n",
    "                                   'male' : test_model2_and_rf2['male'], 'Age_8' : test_model2_and_rf2['Age_8'], \n",
    "                                   'embarked_C' : test_model2_and_rf2['embarked_C'], 'FamilySize' : test_model2_and_rf2['FamilySize']})"
   ]
  },
  {
   "cell_type": "code",
   "execution_count": 99,
   "id": "40eb3824",
   "metadata": {
    "execution": {
     "iopub.execute_input": "2024-08-03T04:39:35.909182Z",
     "iopub.status.busy": "2024-08-03T04:39:35.908637Z",
     "iopub.status.idle": "2024-08-03T04:39:35.923109Z",
     "shell.execute_reply": "2024-08-03T04:39:35.921931Z"
    },
    "papermill": {
     "duration": 0.063644,
     "end_time": "2024-08-03T04:39:35.925658",
     "exception": false,
     "start_time": "2024-08-03T04:39:35.862014",
     "status": "completed"
    },
    "tags": []
   },
   "outputs": [],
   "source": [
    "y_test_pred_model1 = log_model1.predict(test_model1_and_rf1)\n",
    "y_test_pred_model2 = log_model2.predict(test_model2_and_rf2)\n",
    "y_test_pred_rf1 = log_model1.predict(test_model1_and_rf1)\n",
    "y_test_pred_rf2 = log_model2.predict(test_model2_and_rf2)"
   ]
  },
  {
   "cell_type": "code",
   "execution_count": 100,
   "id": "568dde98",
   "metadata": {
    "execution": {
     "iopub.execute_input": "2024-08-03T04:39:36.018701Z",
     "iopub.status.busy": "2024-08-03T04:39:36.018309Z",
     "iopub.status.idle": "2024-08-03T04:39:36.026052Z",
     "shell.execute_reply": "2024-08-03T04:39:36.024791Z"
    },
    "papermill": {
     "duration": 0.056993,
     "end_time": "2024-08-03T04:39:36.028259",
     "exception": false,
     "start_time": "2024-08-03T04:39:35.971266",
     "status": "completed"
    },
    "tags": []
   },
   "outputs": [],
   "source": [
    "df_result_model1 = pd.DataFrame({'PassengerId': PassengerId, 'Survived': y_test_pred_model1})\n",
    "df_result_model2 = pd.DataFrame({'PassengerId': PassengerId, 'Survived': y_test_pred_model2})\n",
    "df_result_rf1 = pd.DataFrame({'PassengerId': PassengerId, 'Survived': y_test_pred_rf1})\n",
    "df_result_rf2 = pd.DataFrame({'PassengerId': PassengerId, 'Survived': y_test_pred_rf1})\n"
   ]
  },
  {
   "cell_type": "code",
   "execution_count": 101,
   "id": "25bfa33b",
   "metadata": {
    "execution": {
     "iopub.execute_input": "2024-08-03T04:39:36.121955Z",
     "iopub.status.busy": "2024-08-03T04:39:36.120869Z",
     "iopub.status.idle": "2024-08-03T04:39:36.133034Z",
     "shell.execute_reply": "2024-08-03T04:39:36.131929Z"
    },
    "papermill": {
     "duration": 0.061852,
     "end_time": "2024-08-03T04:39:36.135835",
     "exception": false,
     "start_time": "2024-08-03T04:39:36.073983",
     "status": "completed"
    },
    "tags": []
   },
   "outputs": [],
   "source": [
    "df_result_model1.to_csv('/kaggle/working/result_model1.csv', index=False)\n",
    "df_result_model2.to_csv('/kaggle/working/result_model2.csv', index=False)\n",
    "df_result_rf1.to_csv('/kaggle/working/result_rf1.csv', index=False)\n",
    "df_result_rf2.to_csv('/kaggle/working/result_rf2.csv', index=False)"
   ]
  },
  {
   "cell_type": "code",
   "execution_count": null,
   "id": "9ab18453",
   "metadata": {
    "papermill": {
     "duration": 0.046892,
     "end_time": "2024-08-03T04:39:36.229739",
     "exception": false,
     "start_time": "2024-08-03T04:39:36.182847",
     "status": "completed"
    },
    "tags": []
   },
   "outputs": [],
   "source": []
  }
 ],
 "metadata": {
  "kaggle": {
   "accelerator": "none",
   "dataSources": [
    {
     "databundleVersionId": 26502,
     "sourceId": 3136,
     "sourceType": "competition"
    }
   ],
   "dockerImageVersionId": 30746,
   "isGpuEnabled": false,
   "isInternetEnabled": false,
   "language": "python",
   "sourceType": "notebook"
  },
  "kernelspec": {
   "display_name": "Python 3",
   "language": "python",
   "name": "python3"
  },
  "language_info": {
   "codemirror_mode": {
    "name": "ipython",
    "version": 3
   },
   "file_extension": ".py",
   "mimetype": "text/x-python",
   "name": "python",
   "nbconvert_exporter": "python",
   "pygments_lexer": "ipython3",
   "version": "3.10.13"
  },
  "papermill": {
   "default_parameters": {},
   "duration": 27.751458,
   "end_time": "2024-08-03T04:39:36.998101",
   "environment_variables": {},
   "exception": null,
   "input_path": "__notebook__.ipynb",
   "output_path": "__notebook__.ipynb",
   "parameters": {},
   "start_time": "2024-08-03T04:39:09.246643",
   "version": "2.5.0"
  }
 },
 "nbformat": 4,
 "nbformat_minor": 5
}
