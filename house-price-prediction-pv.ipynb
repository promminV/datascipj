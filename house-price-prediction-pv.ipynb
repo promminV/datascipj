{
 "cells": [
  {
   "cell_type": "raw",
   "id": "308914a7",
   "metadata": {
    "_cell_guid": "b1076dfc-b9ad-4769-8c92-a6c4dae69d19",
    "_uuid": "8f2839f25d086af736a60e9eeb907d3b93b6e0e5",
    "execution": {
     "iopub.execute_input": "2024-07-27T03:53:00.382638Z",
     "iopub.status.busy": "2024-07-27T03:53:00.381761Z",
     "iopub.status.idle": "2024-07-27T03:53:00.783158Z",
     "shell.execute_reply": "2024-07-27T03:53:00.782054Z",
     "shell.execute_reply.started": "2024-07-27T03:53:00.382602Z"
    },
    "papermill": {
     "duration": 0.017032,
     "end_time": "2024-07-27T11:05:03.807804",
     "exception": false,
     "start_time": "2024-07-27T11:05:03.790772",
     "status": "completed"
    },
    "tags": []
   },
   "source": [
    "# This Python 3 environment comes with many helpful analytics libraries installed\n",
    "# It is defined by the kaggle/python Docker image: https://github.com/kaggle/docker-python\n",
    "# For example, here's several helpful packages to load\n",
    "\n",
    "import numpy as np # linear algebra\n",
    "import pandas as pd # data processing, CSV file I/O (e.g. pd.read_csv)\n",
    "from pandas.plotting import scatter_matrix\n",
    "import math\n",
    "\n",
    "# Input data files are available in the read-only \"../input/\" directory\n",
    "# For example, running this (by clicking run or pressing Shift+Enter) will list all files under the input directory\n",
    "\n",
    "import os\n",
    "for dirname, _, filenames in os.walk('/kaggle/input'):\n",
    "    for filename in filenames:\n",
    "        print(os.path.join(dirname, filename))\n",
    "\n",
    "# You can write up to 20GB to the current directory (/kaggle/working/) that gets preserved as output when you create a version using \"Save & Run All\" \n",
    "# You can also write temporary files to /kaggle/temp/, but they won't be saved outside of the current session"
   ]
  },
  {
   "cell_type": "markdown",
   "id": "c2bec328",
   "metadata": {
    "papermill": {
     "duration": 0.017027,
     "end_time": "2024-07-27T11:05:03.841432",
     "exception": false,
     "start_time": "2024-07-27T11:05:03.824405",
     "status": "completed"
    },
    "tags": []
   },
   "source": [
    "# Explore data"
   ]
  },
  {
   "cell_type": "code",
   "execution_count": 1,
   "id": "be83e9c0",
   "metadata": {
    "execution": {
     "iopub.execute_input": "2024-07-27T11:05:03.876031Z",
     "iopub.status.busy": "2024-07-27T11:05:03.875570Z",
     "iopub.status.idle": "2024-07-27T11:05:04.874658Z",
     "shell.execute_reply": "2024-07-27T11:05:04.873576Z"
    },
    "papermill": {
     "duration": 1.019613,
     "end_time": "2024-07-27T11:05:04.877559",
     "exception": false,
     "start_time": "2024-07-27T11:05:03.857946",
     "status": "completed"
    },
    "tags": []
   },
   "outputs": [],
   "source": [
    "import pandas as pd\n",
    "import numpy as np\n",
    "\n",
    "train_data = pd.read_csv('/kaggle/input/house-prices-advanced-regression-techniques/train.csv')\n",
    "test_data = pd.read_csv('/kaggle/input/house-prices-advanced-regression-techniques/test.csv')"
   ]
  },
  {
   "cell_type": "code",
   "execution_count": 2,
   "id": "9c508ee7",
   "metadata": {
    "execution": {
     "iopub.execute_input": "2024-07-27T11:05:04.913489Z",
     "iopub.status.busy": "2024-07-27T11:05:04.913066Z",
     "iopub.status.idle": "2024-07-27T11:05:04.960137Z",
     "shell.execute_reply": "2024-07-27T11:05:04.958896Z"
    },
    "papermill": {
     "duration": 0.068929,
     "end_time": "2024-07-27T11:05:04.963079",
     "exception": false,
     "start_time": "2024-07-27T11:05:04.894150",
     "status": "completed"
    },
    "tags": []
   },
   "outputs": [
    {
     "data": {
      "text/html": [
       "<div>\n",
       "<style scoped>\n",
       "    .dataframe tbody tr th:only-of-type {\n",
       "        vertical-align: middle;\n",
       "    }\n",
       "\n",
       "    .dataframe tbody tr th {\n",
       "        vertical-align: top;\n",
       "    }\n",
       "\n",
       "    .dataframe thead th {\n",
       "        text-align: right;\n",
       "    }\n",
       "</style>\n",
       "<table border=\"1\" class=\"dataframe\">\n",
       "  <thead>\n",
       "    <tr style=\"text-align: right;\">\n",
       "      <th></th>\n",
       "      <th>Id</th>\n",
       "      <th>MSSubClass</th>\n",
       "      <th>MSZoning</th>\n",
       "      <th>LotFrontage</th>\n",
       "      <th>LotArea</th>\n",
       "      <th>Street</th>\n",
       "      <th>Alley</th>\n",
       "      <th>LotShape</th>\n",
       "      <th>LandContour</th>\n",
       "      <th>Utilities</th>\n",
       "      <th>...</th>\n",
       "      <th>PoolArea</th>\n",
       "      <th>PoolQC</th>\n",
       "      <th>Fence</th>\n",
       "      <th>MiscFeature</th>\n",
       "      <th>MiscVal</th>\n",
       "      <th>MoSold</th>\n",
       "      <th>YrSold</th>\n",
       "      <th>SaleType</th>\n",
       "      <th>SaleCondition</th>\n",
       "      <th>SalePrice</th>\n",
       "    </tr>\n",
       "  </thead>\n",
       "  <tbody>\n",
       "    <tr>\n",
       "      <th>0</th>\n",
       "      <td>1</td>\n",
       "      <td>60</td>\n",
       "      <td>RL</td>\n",
       "      <td>65.0</td>\n",
       "      <td>8450</td>\n",
       "      <td>Pave</td>\n",
       "      <td>NaN</td>\n",
       "      <td>Reg</td>\n",
       "      <td>Lvl</td>\n",
       "      <td>AllPub</td>\n",
       "      <td>...</td>\n",
       "      <td>0</td>\n",
       "      <td>NaN</td>\n",
       "      <td>NaN</td>\n",
       "      <td>NaN</td>\n",
       "      <td>0</td>\n",
       "      <td>2</td>\n",
       "      <td>2008</td>\n",
       "      <td>WD</td>\n",
       "      <td>Normal</td>\n",
       "      <td>208500</td>\n",
       "    </tr>\n",
       "    <tr>\n",
       "      <th>1</th>\n",
       "      <td>2</td>\n",
       "      <td>20</td>\n",
       "      <td>RL</td>\n",
       "      <td>80.0</td>\n",
       "      <td>9600</td>\n",
       "      <td>Pave</td>\n",
       "      <td>NaN</td>\n",
       "      <td>Reg</td>\n",
       "      <td>Lvl</td>\n",
       "      <td>AllPub</td>\n",
       "      <td>...</td>\n",
       "      <td>0</td>\n",
       "      <td>NaN</td>\n",
       "      <td>NaN</td>\n",
       "      <td>NaN</td>\n",
       "      <td>0</td>\n",
       "      <td>5</td>\n",
       "      <td>2007</td>\n",
       "      <td>WD</td>\n",
       "      <td>Normal</td>\n",
       "      <td>181500</td>\n",
       "    </tr>\n",
       "    <tr>\n",
       "      <th>2</th>\n",
       "      <td>3</td>\n",
       "      <td>60</td>\n",
       "      <td>RL</td>\n",
       "      <td>68.0</td>\n",
       "      <td>11250</td>\n",
       "      <td>Pave</td>\n",
       "      <td>NaN</td>\n",
       "      <td>IR1</td>\n",
       "      <td>Lvl</td>\n",
       "      <td>AllPub</td>\n",
       "      <td>...</td>\n",
       "      <td>0</td>\n",
       "      <td>NaN</td>\n",
       "      <td>NaN</td>\n",
       "      <td>NaN</td>\n",
       "      <td>0</td>\n",
       "      <td>9</td>\n",
       "      <td>2008</td>\n",
       "      <td>WD</td>\n",
       "      <td>Normal</td>\n",
       "      <td>223500</td>\n",
       "    </tr>\n",
       "    <tr>\n",
       "      <th>3</th>\n",
       "      <td>4</td>\n",
       "      <td>70</td>\n",
       "      <td>RL</td>\n",
       "      <td>60.0</td>\n",
       "      <td>9550</td>\n",
       "      <td>Pave</td>\n",
       "      <td>NaN</td>\n",
       "      <td>IR1</td>\n",
       "      <td>Lvl</td>\n",
       "      <td>AllPub</td>\n",
       "      <td>...</td>\n",
       "      <td>0</td>\n",
       "      <td>NaN</td>\n",
       "      <td>NaN</td>\n",
       "      <td>NaN</td>\n",
       "      <td>0</td>\n",
       "      <td>2</td>\n",
       "      <td>2006</td>\n",
       "      <td>WD</td>\n",
       "      <td>Abnorml</td>\n",
       "      <td>140000</td>\n",
       "    </tr>\n",
       "    <tr>\n",
       "      <th>4</th>\n",
       "      <td>5</td>\n",
       "      <td>60</td>\n",
       "      <td>RL</td>\n",
       "      <td>84.0</td>\n",
       "      <td>14260</td>\n",
       "      <td>Pave</td>\n",
       "      <td>NaN</td>\n",
       "      <td>IR1</td>\n",
       "      <td>Lvl</td>\n",
       "      <td>AllPub</td>\n",
       "      <td>...</td>\n",
       "      <td>0</td>\n",
       "      <td>NaN</td>\n",
       "      <td>NaN</td>\n",
       "      <td>NaN</td>\n",
       "      <td>0</td>\n",
       "      <td>12</td>\n",
       "      <td>2008</td>\n",
       "      <td>WD</td>\n",
       "      <td>Normal</td>\n",
       "      <td>250000</td>\n",
       "    </tr>\n",
       "  </tbody>\n",
       "</table>\n",
       "<p>5 rows × 81 columns</p>\n",
       "</div>"
      ],
      "text/plain": [
       "   Id  MSSubClass MSZoning  LotFrontage  LotArea Street Alley LotShape  \\\n",
       "0   1          60       RL         65.0     8450   Pave   NaN      Reg   \n",
       "1   2          20       RL         80.0     9600   Pave   NaN      Reg   \n",
       "2   3          60       RL         68.0    11250   Pave   NaN      IR1   \n",
       "3   4          70       RL         60.0     9550   Pave   NaN      IR1   \n",
       "4   5          60       RL         84.0    14260   Pave   NaN      IR1   \n",
       "\n",
       "  LandContour Utilities  ... PoolArea PoolQC Fence MiscFeature MiscVal MoSold  \\\n",
       "0         Lvl    AllPub  ...        0    NaN   NaN         NaN       0      2   \n",
       "1         Lvl    AllPub  ...        0    NaN   NaN         NaN       0      5   \n",
       "2         Lvl    AllPub  ...        0    NaN   NaN         NaN       0      9   \n",
       "3         Lvl    AllPub  ...        0    NaN   NaN         NaN       0      2   \n",
       "4         Lvl    AllPub  ...        0    NaN   NaN         NaN       0     12   \n",
       "\n",
       "  YrSold  SaleType  SaleCondition  SalePrice  \n",
       "0   2008        WD         Normal     208500  \n",
       "1   2007        WD         Normal     181500  \n",
       "2   2008        WD         Normal     223500  \n",
       "3   2006        WD        Abnorml     140000  \n",
       "4   2008        WD         Normal     250000  \n",
       "\n",
       "[5 rows x 81 columns]"
      ]
     },
     "execution_count": 2,
     "metadata": {},
     "output_type": "execute_result"
    }
   ],
   "source": [
    "train_data.head()"
   ]
  },
  {
   "cell_type": "code",
   "execution_count": 3,
   "id": "11d0fde6",
   "metadata": {
    "execution": {
     "iopub.execute_input": "2024-07-27T11:05:04.998743Z",
     "iopub.status.busy": "2024-07-27T11:05:04.998347Z",
     "iopub.status.idle": "2024-07-27T11:05:05.030024Z",
     "shell.execute_reply": "2024-07-27T11:05:05.028808Z"
    },
    "papermill": {
     "duration": 0.052407,
     "end_time": "2024-07-27T11:05:05.032613",
     "exception": false,
     "start_time": "2024-07-27T11:05:04.980206",
     "status": "completed"
    },
    "tags": []
   },
   "outputs": [
    {
     "name": "stdout",
     "output_type": "stream",
     "text": [
      "<class 'pandas.core.frame.DataFrame'>\n",
      "RangeIndex: 1460 entries, 0 to 1459\n",
      "Data columns (total 81 columns):\n",
      " #   Column         Non-Null Count  Dtype  \n",
      "---  ------         --------------  -----  \n",
      " 0   Id             1460 non-null   int64  \n",
      " 1   MSSubClass     1460 non-null   int64  \n",
      " 2   MSZoning       1460 non-null   object \n",
      " 3   LotFrontage    1201 non-null   float64\n",
      " 4   LotArea        1460 non-null   int64  \n",
      " 5   Street         1460 non-null   object \n",
      " 6   Alley          91 non-null     object \n",
      " 7   LotShape       1460 non-null   object \n",
      " 8   LandContour    1460 non-null   object \n",
      " 9   Utilities      1460 non-null   object \n",
      " 10  LotConfig      1460 non-null   object \n",
      " 11  LandSlope      1460 non-null   object \n",
      " 12  Neighborhood   1460 non-null   object \n",
      " 13  Condition1     1460 non-null   object \n",
      " 14  Condition2     1460 non-null   object \n",
      " 15  BldgType       1460 non-null   object \n",
      " 16  HouseStyle     1460 non-null   object \n",
      " 17  OverallQual    1460 non-null   int64  \n",
      " 18  OverallCond    1460 non-null   int64  \n",
      " 19  YearBuilt      1460 non-null   int64  \n",
      " 20  YearRemodAdd   1460 non-null   int64  \n",
      " 21  RoofStyle      1460 non-null   object \n",
      " 22  RoofMatl       1460 non-null   object \n",
      " 23  Exterior1st    1460 non-null   object \n",
      " 24  Exterior2nd    1460 non-null   object \n",
      " 25  MasVnrType     588 non-null    object \n",
      " 26  MasVnrArea     1452 non-null   float64\n",
      " 27  ExterQual      1460 non-null   object \n",
      " 28  ExterCond      1460 non-null   object \n",
      " 29  Foundation     1460 non-null   object \n",
      " 30  BsmtQual       1423 non-null   object \n",
      " 31  BsmtCond       1423 non-null   object \n",
      " 32  BsmtExposure   1422 non-null   object \n",
      " 33  BsmtFinType1   1423 non-null   object \n",
      " 34  BsmtFinSF1     1460 non-null   int64  \n",
      " 35  BsmtFinType2   1422 non-null   object \n",
      " 36  BsmtFinSF2     1460 non-null   int64  \n",
      " 37  BsmtUnfSF      1460 non-null   int64  \n",
      " 38  TotalBsmtSF    1460 non-null   int64  \n",
      " 39  Heating        1460 non-null   object \n",
      " 40  HeatingQC      1460 non-null   object \n",
      " 41  CentralAir     1460 non-null   object \n",
      " 42  Electrical     1459 non-null   object \n",
      " 43  1stFlrSF       1460 non-null   int64  \n",
      " 44  2ndFlrSF       1460 non-null   int64  \n",
      " 45  LowQualFinSF   1460 non-null   int64  \n",
      " 46  GrLivArea      1460 non-null   int64  \n",
      " 47  BsmtFullBath   1460 non-null   int64  \n",
      " 48  BsmtHalfBath   1460 non-null   int64  \n",
      " 49  FullBath       1460 non-null   int64  \n",
      " 50  HalfBath       1460 non-null   int64  \n",
      " 51  BedroomAbvGr   1460 non-null   int64  \n",
      " 52  KitchenAbvGr   1460 non-null   int64  \n",
      " 53  KitchenQual    1460 non-null   object \n",
      " 54  TotRmsAbvGrd   1460 non-null   int64  \n",
      " 55  Functional     1460 non-null   object \n",
      " 56  Fireplaces     1460 non-null   int64  \n",
      " 57  FireplaceQu    770 non-null    object \n",
      " 58  GarageType     1379 non-null   object \n",
      " 59  GarageYrBlt    1379 non-null   float64\n",
      " 60  GarageFinish   1379 non-null   object \n",
      " 61  GarageCars     1460 non-null   int64  \n",
      " 62  GarageArea     1460 non-null   int64  \n",
      " 63  GarageQual     1379 non-null   object \n",
      " 64  GarageCond     1379 non-null   object \n",
      " 65  PavedDrive     1460 non-null   object \n",
      " 66  WoodDeckSF     1460 non-null   int64  \n",
      " 67  OpenPorchSF    1460 non-null   int64  \n",
      " 68  EnclosedPorch  1460 non-null   int64  \n",
      " 69  3SsnPorch      1460 non-null   int64  \n",
      " 70  ScreenPorch    1460 non-null   int64  \n",
      " 71  PoolArea       1460 non-null   int64  \n",
      " 72  PoolQC         7 non-null      object \n",
      " 73  Fence          281 non-null    object \n",
      " 74  MiscFeature    54 non-null     object \n",
      " 75  MiscVal        1460 non-null   int64  \n",
      " 76  MoSold         1460 non-null   int64  \n",
      " 77  YrSold         1460 non-null   int64  \n",
      " 78  SaleType       1460 non-null   object \n",
      " 79  SaleCondition  1460 non-null   object \n",
      " 80  SalePrice      1460 non-null   int64  \n",
      "dtypes: float64(3), int64(35), object(43)\n",
      "memory usage: 924.0+ KB\n"
     ]
    }
   ],
   "source": [
    "train_data.info()"
   ]
  },
  {
   "cell_type": "code",
   "execution_count": 4,
   "id": "a16aeff7",
   "metadata": {
    "execution": {
     "iopub.execute_input": "2024-07-27T11:05:05.069830Z",
     "iopub.status.busy": "2024-07-27T11:05:05.068780Z",
     "iopub.status.idle": "2024-07-27T11:05:05.076939Z",
     "shell.execute_reply": "2024-07-27T11:05:05.075676Z"
    },
    "papermill": {
     "duration": 0.029774,
     "end_time": "2024-07-27T11:05:05.079507",
     "exception": false,
     "start_time": "2024-07-27T11:05:05.049733",
     "status": "completed"
    },
    "tags": []
   },
   "outputs": [
    {
     "data": {
      "text/plain": [
       "Index(['Id', 'MSSubClass', 'MSZoning', 'LotFrontage', 'LotArea', 'Street',\n",
       "       'Alley', 'LotShape', 'LandContour', 'Utilities', 'LotConfig',\n",
       "       'LandSlope', 'Neighborhood', 'Condition1', 'Condition2', 'BldgType',\n",
       "       'HouseStyle', 'OverallQual', 'OverallCond', 'YearBuilt', 'YearRemodAdd',\n",
       "       'RoofStyle', 'RoofMatl', 'Exterior1st', 'Exterior2nd', 'MasVnrType',\n",
       "       'MasVnrArea', 'ExterQual', 'ExterCond', 'Foundation', 'BsmtQual',\n",
       "       'BsmtCond', 'BsmtExposure', 'BsmtFinType1', 'BsmtFinSF1',\n",
       "       'BsmtFinType2', 'BsmtFinSF2', 'BsmtUnfSF', 'TotalBsmtSF', 'Heating',\n",
       "       'HeatingQC', 'CentralAir', 'Electrical', '1stFlrSF', '2ndFlrSF',\n",
       "       'LowQualFinSF', 'GrLivArea', 'BsmtFullBath', 'BsmtHalfBath', 'FullBath',\n",
       "       'HalfBath', 'BedroomAbvGr', 'KitchenAbvGr', 'KitchenQual',\n",
       "       'TotRmsAbvGrd', 'Functional', 'Fireplaces', 'FireplaceQu', 'GarageType',\n",
       "       'GarageYrBlt', 'GarageFinish', 'GarageCars', 'GarageArea', 'GarageQual',\n",
       "       'GarageCond', 'PavedDrive', 'WoodDeckSF', 'OpenPorchSF',\n",
       "       'EnclosedPorch', '3SsnPorch', 'ScreenPorch', 'PoolArea', 'PoolQC',\n",
       "       'Fence', 'MiscFeature', 'MiscVal', 'MoSold', 'YrSold', 'SaleType',\n",
       "       'SaleCondition', 'SalePrice'],\n",
       "      dtype='object')"
      ]
     },
     "execution_count": 4,
     "metadata": {},
     "output_type": "execute_result"
    }
   ],
   "source": [
    "train_data.columns"
   ]
  },
  {
   "cell_type": "markdown",
   "id": "7742158f",
   "metadata": {
    "papermill": {
     "duration": 0.017134,
     "end_time": "2024-07-27T11:05:05.114022",
     "exception": false,
     "start_time": "2024-07-27T11:05:05.096888",
     "status": "completed"
    },
    "tags": []
   },
   "source": [
    "## Select Attributes\n",
    "- For simply, consider only number-attributes"
   ]
  },
  {
   "cell_type": "code",
   "execution_count": 5,
   "id": "6ef2687b",
   "metadata": {
    "execution": {
     "iopub.execute_input": "2024-07-27T11:05:05.150336Z",
     "iopub.status.busy": "2024-07-27T11:05:05.149947Z",
     "iopub.status.idle": "2024-07-27T11:05:05.160024Z",
     "shell.execute_reply": "2024-07-27T11:05:05.158898Z"
    },
    "papermill": {
     "duration": 0.031094,
     "end_time": "2024-07-27T11:05:05.162436",
     "exception": false,
     "start_time": "2024-07-27T11:05:05.131342",
     "status": "completed"
    },
    "tags": []
   },
   "outputs": [
    {
     "data": {
      "text/plain": [
       "Index(['Id', 'MSSubClass', 'LotFrontage', 'LotArea', 'OverallQual',\n",
       "       'OverallCond', 'YearBuilt', 'YearRemodAdd', 'MasVnrArea', 'BsmtFinSF1',\n",
       "       'BsmtFinSF2', 'BsmtUnfSF', 'TotalBsmtSF', '1stFlrSF', '2ndFlrSF',\n",
       "       'LowQualFinSF', 'GrLivArea', 'BsmtFullBath', 'BsmtHalfBath', 'FullBath',\n",
       "       'HalfBath', 'BedroomAbvGr', 'KitchenAbvGr', 'TotRmsAbvGrd',\n",
       "       'Fireplaces', 'GarageYrBlt', 'GarageCars', 'GarageArea', 'WoodDeckSF',\n",
       "       'OpenPorchSF', 'EnclosedPorch', '3SsnPorch', 'ScreenPorch', 'PoolArea',\n",
       "       'MiscVal', 'MoSold', 'YrSold', 'SalePrice'],\n",
       "      dtype='object')"
      ]
     },
     "execution_count": 5,
     "metadata": {},
     "output_type": "execute_result"
    }
   ],
   "source": [
    "train_num =  train_data.copy()\n",
    "train_num = train_num.select_dtypes(include=['float64', 'int64'])\n",
    "train_num.columns"
   ]
  },
  {
   "cell_type": "code",
   "execution_count": 6,
   "id": "b9522814",
   "metadata": {
    "execution": {
     "iopub.execute_input": "2024-07-27T11:05:05.198784Z",
     "iopub.status.busy": "2024-07-27T11:05:05.198384Z",
     "iopub.status.idle": "2024-07-27T11:05:05.206085Z",
     "shell.execute_reply": "2024-07-27T11:05:05.204858Z"
    },
    "papermill": {
     "duration": 0.028856,
     "end_time": "2024-07-27T11:05:05.208554",
     "exception": false,
     "start_time": "2024-07-27T11:05:05.179698",
     "status": "completed"
    },
    "tags": []
   },
   "outputs": [],
   "source": [
    "attribute = ['LotArea', 'OverallQual',\n",
    "       'OverallCond', 'YearBuilt', 'YearRemodAdd','TotalBsmtSF',\n",
    "       'LowQualFinSF', 'GrLivArea', 'FullBath',\n",
    "       'HalfBath', 'BedroomAbvGr', 'KitchenAbvGr', \n",
    "       'GarageCars',  'MiscVal', 'YrSold', 'LotFrontage','Fireplaces','WoodDeckSF',\n",
    "       'OpenPorchSF', 'EnclosedPorch', '3SsnPorch', 'ScreenPorch', 'PoolArea','SalePrice']\n",
    "train_num = train_num[attribute]"
   ]
  },
  {
   "cell_type": "code",
   "execution_count": 7,
   "id": "4af7ee81",
   "metadata": {
    "execution": {
     "iopub.execute_input": "2024-07-27T11:05:05.245129Z",
     "iopub.status.busy": "2024-07-27T11:05:05.244698Z",
     "iopub.status.idle": "2024-07-27T11:05:05.258158Z",
     "shell.execute_reply": "2024-07-27T11:05:05.256717Z"
    },
    "papermill": {
     "duration": 0.035065,
     "end_time": "2024-07-27T11:05:05.260934",
     "exception": false,
     "start_time": "2024-07-27T11:05:05.225869",
     "status": "completed"
    },
    "tags": []
   },
   "outputs": [
    {
     "name": "stdout",
     "output_type": "stream",
     "text": [
      "SalePrice        1.000000\n",
      "OverallQual      0.790982\n",
      "GrLivArea        0.708624\n",
      "GarageCars       0.640409\n",
      "TotalBsmtSF      0.613581\n",
      "FullBath         0.560664\n",
      "YearBuilt        0.522897\n",
      "YearRemodAdd     0.507101\n",
      "Fireplaces       0.466929\n",
      "LotFrontage      0.351799\n",
      "WoodDeckSF       0.324413\n",
      "OpenPorchSF      0.315856\n",
      "HalfBath         0.284108\n",
      "LotArea          0.263843\n",
      "BedroomAbvGr     0.168213\n",
      "ScreenPorch      0.111447\n",
      "PoolArea         0.092404\n",
      "3SsnPorch        0.044584\n",
      "MiscVal         -0.021190\n",
      "LowQualFinSF    -0.025606\n",
      "YrSold          -0.028923\n",
      "OverallCond     -0.077856\n",
      "EnclosedPorch   -0.128578\n",
      "KitchenAbvGr    -0.135907\n",
      "Name: SalePrice, dtype: float64\n"
     ]
    }
   ],
   "source": [
    "corr_candidate = train_num.corr()['SalePrice'].sort_values(ascending=False)\n",
    "print(corr_candidate)"
   ]
  },
  {
   "cell_type": "code",
   "execution_count": 8,
   "id": "e5c34272",
   "metadata": {
    "execution": {
     "iopub.execute_input": "2024-07-27T11:05:05.299163Z",
     "iopub.status.busy": "2024-07-27T11:05:05.298690Z",
     "iopub.status.idle": "2024-07-27T11:05:05.308001Z",
     "shell.execute_reply": "2024-07-27T11:05:05.306686Z"
    },
    "papermill": {
     "duration": 0.031803,
     "end_time": "2024-07-27T11:05:05.311101",
     "exception": false,
     "start_time": "2024-07-27T11:05:05.279298",
     "status": "completed"
    },
    "tags": []
   },
   "outputs": [
    {
     "data": {
      "text/plain": [
       "Index(['SalePrice', 'OverallQual', 'GrLivArea', 'GarageCars', 'TotalBsmtSF',\n",
       "       'FullBath', 'YearBuilt', 'YearRemodAdd', 'Fireplaces', 'LotFrontage',\n",
       "       'WoodDeckSF', 'OpenPorchSF'],\n",
       "      dtype='object')"
      ]
     },
     "execution_count": 8,
     "metadata": {},
     "output_type": "execute_result"
    }
   ],
   "source": [
    "select_attr_num = corr_candidate[abs(corr_candidate.values) > 0.3].index\n",
    "select_attr_num"
   ]
  },
  {
   "cell_type": "markdown",
   "id": "1e5bd043",
   "metadata": {
    "papermill": {
     "duration": 0.01723,
     "end_time": "2024-07-27T11:05:05.346609",
     "exception": false,
     "start_time": "2024-07-27T11:05:05.329379",
     "status": "completed"
    },
    "tags": []
   },
   "source": []
  },
  {
   "cell_type": "code",
   "execution_count": 9,
   "id": "e915acc3",
   "metadata": {
    "execution": {
     "iopub.execute_input": "2024-07-27T11:05:05.383369Z",
     "iopub.status.busy": "2024-07-27T11:05:05.382941Z",
     "iopub.status.idle": "2024-07-27T11:05:05.400348Z",
     "shell.execute_reply": "2024-07-27T11:05:05.399244Z"
    },
    "papermill": {
     "duration": 0.038609,
     "end_time": "2024-07-27T11:05:05.402754",
     "exception": false,
     "start_time": "2024-07-27T11:05:05.364145",
     "status": "completed"
    },
    "tags": []
   },
   "outputs": [
    {
     "data": {
      "text/html": [
       "<div>\n",
       "<style scoped>\n",
       "    .dataframe tbody tr th:only-of-type {\n",
       "        vertical-align: middle;\n",
       "    }\n",
       "\n",
       "    .dataframe tbody tr th {\n",
       "        vertical-align: top;\n",
       "    }\n",
       "\n",
       "    .dataframe thead th {\n",
       "        text-align: right;\n",
       "    }\n",
       "</style>\n",
       "<table border=\"1\" class=\"dataframe\">\n",
       "  <thead>\n",
       "    <tr style=\"text-align: right;\">\n",
       "      <th></th>\n",
       "      <th>SalePrice</th>\n",
       "      <th>OverallQual</th>\n",
       "      <th>GrLivArea</th>\n",
       "      <th>GarageCars</th>\n",
       "      <th>TotalBsmtSF</th>\n",
       "      <th>FullBath</th>\n",
       "      <th>YearBuilt</th>\n",
       "      <th>YearRemodAdd</th>\n",
       "      <th>Fireplaces</th>\n",
       "      <th>LotFrontage</th>\n",
       "      <th>WoodDeckSF</th>\n",
       "      <th>OpenPorchSF</th>\n",
       "    </tr>\n",
       "  </thead>\n",
       "  <tbody>\n",
       "    <tr>\n",
       "      <th>0</th>\n",
       "      <td>208500</td>\n",
       "      <td>7</td>\n",
       "      <td>1710</td>\n",
       "      <td>2</td>\n",
       "      <td>856</td>\n",
       "      <td>2</td>\n",
       "      <td>2003</td>\n",
       "      <td>2003</td>\n",
       "      <td>0</td>\n",
       "      <td>65.0</td>\n",
       "      <td>0</td>\n",
       "      <td>61</td>\n",
       "    </tr>\n",
       "    <tr>\n",
       "      <th>1</th>\n",
       "      <td>181500</td>\n",
       "      <td>6</td>\n",
       "      <td>1262</td>\n",
       "      <td>2</td>\n",
       "      <td>1262</td>\n",
       "      <td>2</td>\n",
       "      <td>1976</td>\n",
       "      <td>1976</td>\n",
       "      <td>1</td>\n",
       "      <td>80.0</td>\n",
       "      <td>298</td>\n",
       "      <td>0</td>\n",
       "    </tr>\n",
       "    <tr>\n",
       "      <th>2</th>\n",
       "      <td>223500</td>\n",
       "      <td>7</td>\n",
       "      <td>1786</td>\n",
       "      <td>2</td>\n",
       "      <td>920</td>\n",
       "      <td>2</td>\n",
       "      <td>2001</td>\n",
       "      <td>2002</td>\n",
       "      <td>1</td>\n",
       "      <td>68.0</td>\n",
       "      <td>0</td>\n",
       "      <td>42</td>\n",
       "    </tr>\n",
       "    <tr>\n",
       "      <th>3</th>\n",
       "      <td>140000</td>\n",
       "      <td>7</td>\n",
       "      <td>1717</td>\n",
       "      <td>3</td>\n",
       "      <td>756</td>\n",
       "      <td>1</td>\n",
       "      <td>1915</td>\n",
       "      <td>1970</td>\n",
       "      <td>1</td>\n",
       "      <td>60.0</td>\n",
       "      <td>0</td>\n",
       "      <td>35</td>\n",
       "    </tr>\n",
       "    <tr>\n",
       "      <th>4</th>\n",
       "      <td>250000</td>\n",
       "      <td>8</td>\n",
       "      <td>2198</td>\n",
       "      <td>3</td>\n",
       "      <td>1145</td>\n",
       "      <td>2</td>\n",
       "      <td>2000</td>\n",
       "      <td>2000</td>\n",
       "      <td>1</td>\n",
       "      <td>84.0</td>\n",
       "      <td>192</td>\n",
       "      <td>84</td>\n",
       "    </tr>\n",
       "  </tbody>\n",
       "</table>\n",
       "</div>"
      ],
      "text/plain": [
       "   SalePrice  OverallQual  GrLivArea  GarageCars  TotalBsmtSF  FullBath  \\\n",
       "0     208500            7       1710           2          856         2   \n",
       "1     181500            6       1262           2         1262         2   \n",
       "2     223500            7       1786           2          920         2   \n",
       "3     140000            7       1717           3          756         1   \n",
       "4     250000            8       2198           3         1145         2   \n",
       "\n",
       "   YearBuilt  YearRemodAdd  Fireplaces  LotFrontage  WoodDeckSF  OpenPorchSF  \n",
       "0       2003          2003           0         65.0           0           61  \n",
       "1       1976          1976           1         80.0         298            0  \n",
       "2       2001          2002           1         68.0           0           42  \n",
       "3       1915          1970           1         60.0           0           35  \n",
       "4       2000          2000           1         84.0         192           84  "
      ]
     },
     "execution_count": 9,
     "metadata": {},
     "output_type": "execute_result"
    }
   ],
   "source": [
    "train_attr_num = train_num[select_attr_num]\n",
    "train_attr_num.head()"
   ]
  },
  {
   "cell_type": "markdown",
   "id": "bfa5a606",
   "metadata": {
    "papermill": {
     "duration": 0.017682,
     "end_time": "2024-07-27T11:05:05.438387",
     "exception": false,
     "start_time": "2024-07-27T11:05:05.420705",
     "status": "completed"
    },
    "tags": []
   },
   "source": []
  },
  {
   "cell_type": "code",
   "execution_count": 10,
   "id": "6c70f2fa",
   "metadata": {
    "execution": {
     "iopub.execute_input": "2024-07-27T11:05:05.476086Z",
     "iopub.status.busy": "2024-07-27T11:05:05.475577Z",
     "iopub.status.idle": "2024-07-27T11:05:09.181469Z",
     "shell.execute_reply": "2024-07-27T11:05:09.180262Z"
    },
    "papermill": {
     "duration": 3.733434,
     "end_time": "2024-07-27T11:05:09.189623",
     "exception": false,
     "start_time": "2024-07-27T11:05:05.456189",
     "status": "completed"
    },
    "tags": []
   },
   "outputs": [
    {
     "data": {
      "text/plain": [
       "array([[<Axes: title={'center': 'SalePrice'}>,\n",
       "        <Axes: title={'center': 'OverallQual'}>,\n",
       "        <Axes: title={'center': 'GrLivArea'}>],\n",
       "       [<Axes: title={'center': 'GarageCars'}>,\n",
       "        <Axes: title={'center': 'TotalBsmtSF'}>,\n",
       "        <Axes: title={'center': 'FullBath'}>],\n",
       "       [<Axes: title={'center': 'YearBuilt'}>,\n",
       "        <Axes: title={'center': 'YearRemodAdd'}>,\n",
       "        <Axes: title={'center': 'Fireplaces'}>],\n",
       "       [<Axes: title={'center': 'LotFrontage'}>,\n",
       "        <Axes: title={'center': 'WoodDeckSF'}>,\n",
       "        <Axes: title={'center': 'OpenPorchSF'}>]], dtype=object)"
      ]
     },
     "execution_count": 10,
     "metadata": {},
     "output_type": "execute_result"
    },
    {
     "data": {
      "image/png": "[encoded data removed]",
      "text/plain": [
       "<Figure size 1400x1000 with 12 Axes>"
      ]
     },
     "metadata": {},
     "output_type": "display_data"
    }
   ],
   "source": [
    "train_attr_num.hist(bins=50, figsize=(14,10))"
   ]
  },
  {
   "cell_type": "markdown",
   "id": "0c0d5c90",
   "metadata": {
    "papermill": {
     "duration": 0.020492,
     "end_time": "2024-07-27T11:05:09.238940",
     "exception": false,
     "start_time": "2024-07-27T11:05:09.218448",
     "status": "completed"
    },
    "tags": []
   },
   "source": [
    " - Don't need to convert them to normal distribution.\n",
    " "
   ]
  },
  {
   "cell_type": "markdown",
   "id": "5767600b",
   "metadata": {
    "papermill": {
     "duration": 0.023025,
     "end_time": "2024-07-27T11:05:09.281753",
     "exception": false,
     "start_time": "2024-07-27T11:05:09.258728",
     "status": "completed"
    },
    "tags": []
   },
   "source": [
    "# Clean Data"
   ]
  },
  {
   "cell_type": "code",
   "execution_count": 11,
   "id": "bdbcc5aa",
   "metadata": {
    "execution": {
     "iopub.execute_input": "2024-07-27T11:05:09.330883Z",
     "iopub.status.busy": "2024-07-27T11:05:09.330353Z",
     "iopub.status.idle": "2024-07-27T11:05:09.341685Z",
     "shell.execute_reply": "2024-07-27T11:05:09.340366Z"
    },
    "papermill": {
     "duration": 0.037291,
     "end_time": "2024-07-27T11:05:09.345684",
     "exception": false,
     "start_time": "2024-07-27T11:05:09.308393",
     "status": "completed"
    },
    "tags": []
   },
   "outputs": [
    {
     "data": {
      "text/plain": [
       "SalePrice         0\n",
       "OverallQual       0\n",
       "GrLivArea         0\n",
       "GarageCars        0\n",
       "TotalBsmtSF       0\n",
       "FullBath          0\n",
       "YearBuilt         0\n",
       "YearRemodAdd      0\n",
       "Fireplaces        0\n",
       "LotFrontage     259\n",
       "WoodDeckSF        0\n",
       "OpenPorchSF       0\n",
       "dtype: int64"
      ]
     },
     "execution_count": 11,
     "metadata": {},
     "output_type": "execute_result"
    }
   ],
   "source": [
    "train_attr_num.isna().sum()"
   ]
  },
  {
   "cell_type": "markdown",
   "id": "811afc09",
   "metadata": {
    "papermill": {
     "duration": 0.019583,
     "end_time": "2024-07-27T11:05:09.387188",
     "exception": false,
     "start_time": "2024-07-27T11:05:09.367605",
     "status": "completed"
    },
    "tags": []
   },
   "source": [
    "Fill null with median value to 'LotFrontage' attribute."
   ]
  },
  {
   "cell_type": "code",
   "execution_count": 12,
   "id": "7449c66f",
   "metadata": {
    "execution": {
     "iopub.execute_input": "2024-07-27T11:05:09.429260Z",
     "iopub.status.busy": "2024-07-27T11:05:09.428267Z",
     "iopub.status.idle": "2024-07-27T11:05:09.438140Z",
     "shell.execute_reply": "2024-07-27T11:05:09.436896Z"
    },
    "papermill": {
     "duration": 0.034191,
     "end_time": "2024-07-27T11:05:09.441141",
     "exception": false,
     "start_time": "2024-07-27T11:05:09.406950",
     "status": "completed"
    },
    "tags": []
   },
   "outputs": [
    {
     "name": "stderr",
     "output_type": "stream",
     "text": [
      "/tmp/ipykernel_19/1899149328.py:1: FutureWarning: A value is trying to be set on a copy of a DataFrame or Series through chained assignment using an inplace method.\n",
      "The behavior will change in pandas 3.0. This inplace method will never work because the intermediate object on which we are setting values always behaves as a copy.\n",
      "\n",
      "For example, when doing 'df[col].method(value, inplace=True)', try using 'df.method({col: value}, inplace=True)' or df[col] = df[col].method(value) instead, to perform the operation inplace on the original object.\n",
      "\n",
      "\n",
      "  train_attr_num['LotFrontage'].fillna(train_attr_num['LotFrontage'].median(), inplace=True)\n",
      "/tmp/ipykernel_19/1899149328.py:1: SettingWithCopyWarning: \n",
      "A value is trying to be set on a copy of a slice from a DataFrame\n",
      "\n",
      "See the caveats in the documentation: https://pandas.pydata.org/pandas-docs/stable/user_guide/indexing.html#returning-a-view-versus-a-copy\n",
      "  train_attr_num['LotFrontage'].fillna(train_attr_num['LotFrontage'].median(), inplace=True)\n"
     ]
    }
   ],
   "source": [
    "train_attr_num['LotFrontage'].fillna(train_attr_num['LotFrontage'].median(), inplace=True)"
   ]
  },
  {
   "cell_type": "code",
   "execution_count": 13,
   "id": "6c8345c0",
   "metadata": {
    "execution": {
     "iopub.execute_input": "2024-07-27T11:05:09.483131Z",
     "iopub.status.busy": "2024-07-27T11:05:09.482667Z",
     "iopub.status.idle": "2024-07-27T11:05:09.492359Z",
     "shell.execute_reply": "2024-07-27T11:05:09.491135Z"
    },
    "papermill": {
     "duration": 0.033956,
     "end_time": "2024-07-27T11:05:09.495191",
     "exception": false,
     "start_time": "2024-07-27T11:05:09.461235",
     "status": "completed"
    },
    "tags": []
   },
   "outputs": [
    {
     "data": {
      "text/plain": [
       "SalePrice       0\n",
       "OverallQual     0\n",
       "GrLivArea       0\n",
       "GarageCars      0\n",
       "TotalBsmtSF     0\n",
       "FullBath        0\n",
       "YearBuilt       0\n",
       "YearRemodAdd    0\n",
       "Fireplaces      0\n",
       "LotFrontage     0\n",
       "WoodDeckSF      0\n",
       "OpenPorchSF     0\n",
       "dtype: int64"
      ]
     },
     "execution_count": 13,
     "metadata": {},
     "output_type": "execute_result"
    }
   ],
   "source": [
    "train_attr_num.isna().sum()"
   ]
  },
  {
   "cell_type": "markdown",
   "id": "b276431a",
   "metadata": {
    "papermill": {
     "duration": 0.020746,
     "end_time": "2024-07-27T11:05:09.536321",
     "exception": false,
     "start_time": "2024-07-27T11:05:09.515575",
     "status": "completed"
    },
    "tags": []
   },
   "source": [
    "Check duplicate rows"
   ]
  },
  {
   "cell_type": "code",
   "execution_count": 14,
   "id": "4305a68e",
   "metadata": {
    "execution": {
     "iopub.execute_input": "2024-07-27T11:05:09.641052Z",
     "iopub.status.busy": "2024-07-27T11:05:09.640635Z",
     "iopub.status.idle": "2024-07-27T11:05:09.652337Z",
     "shell.execute_reply": "2024-07-27T11:05:09.651033Z"
    },
    "papermill": {
     "duration": 0.036504,
     "end_time": "2024-07-27T11:05:09.655187",
     "exception": false,
     "start_time": "2024-07-27T11:05:09.618683",
     "status": "completed"
    },
    "tags": []
   },
   "outputs": [
    {
     "data": {
      "text/plain": [
       "0"
      ]
     },
     "execution_count": 14,
     "metadata": {},
     "output_type": "execute_result"
    }
   ],
   "source": [
    "train_attr_num.duplicated().sum()"
   ]
  },
  {
   "cell_type": "markdown",
   "id": "21807ebd",
   "metadata": {
    "papermill": {
     "duration": 0.020509,
     "end_time": "2024-07-27T11:05:09.695976",
     "exception": false,
     "start_time": "2024-07-27T11:05:09.675467",
     "status": "completed"
    },
    "tags": []
   },
   "source": [
    "None of duplicated row"
   ]
  },
  {
   "cell_type": "markdown",
   "id": "34da2dc9",
   "metadata": {
    "papermill": {
     "duration": 0.019857,
     "end_time": "2024-07-27T11:05:09.736107",
     "exception": false,
     "start_time": "2024-07-27T11:05:09.716250",
     "status": "completed"
    },
    "tags": []
   },
   "source": [
    "# Quick train machine learning model"
   ]
  },
  {
   "cell_type": "markdown",
   "id": "74c4e016",
   "metadata": {
    "papermill": {
     "duration": 0.020054,
     "end_time": "2024-07-27T11:05:09.776353",
     "exception": false,
     "start_time": "2024-07-27T11:05:09.756299",
     "status": "completed"
    },
    "tags": []
   },
   "source": []
  },
  {
   "cell_type": "code",
   "execution_count": 15,
   "id": "a6a8523a",
   "metadata": {
    "execution": {
     "iopub.execute_input": "2024-07-27T11:05:09.819304Z",
     "iopub.status.busy": "2024-07-27T11:05:09.818732Z",
     "iopub.status.idle": "2024-07-27T11:05:11.330962Z",
     "shell.execute_reply": "2024-07-27T11:05:11.329912Z"
    },
    "papermill": {
     "duration": 1.53713,
     "end_time": "2024-07-27T11:05:11.333700",
     "exception": false,
     "start_time": "2024-07-27T11:05:09.796570",
     "status": "completed"
    },
    "tags": []
   },
   "outputs": [],
   "source": [
    "from sklearn.linear_model import LinearRegression\n",
    "from sklearn.model_selection import train_test_split\n",
    "\n",
    "X = train_attr_num[['OverallQual', 'GrLivArea', 'GarageCars', 'TotalBsmtSF',\n",
    "       'FullBath', 'YearBuilt', 'YearRemodAdd', 'Fireplaces', 'LotFrontage',\n",
    "       'WoodDeckSF', 'OpenPorchSF']]\n",
    "y = train_attr_num['SalePrice']\n",
    "# train_test_split\n",
    "X_train, X_test, y_train, y_test = train_test_split(X, y, test_size=0.33, random_state=42)"
   ]
  },
  {
   "cell_type": "code",
   "execution_count": 16,
   "id": "aad48045",
   "metadata": {
    "execution": {
     "iopub.execute_input": "2024-07-27T11:05:11.376411Z",
     "iopub.status.busy": "2024-07-27T11:05:11.375990Z",
     "iopub.status.idle": "2024-07-27T11:05:11.418662Z",
     "shell.execute_reply": "2024-07-27T11:05:11.416907Z"
    },
    "papermill": {
     "duration": 0.075977,
     "end_time": "2024-07-27T11:05:11.430186",
     "exception": false,
     "start_time": "2024-07-27T11:05:11.354209",
     "status": "completed"
    },
    "tags": []
   },
   "outputs": [],
   "source": [
    "lin_model = LinearRegression().fit(X_train, y_train)\n",
    "y_pred = lin_model.predict(X_train)"
   ]
  },
  {
   "cell_type": "code",
   "execution_count": 17,
   "id": "4b7844d1",
   "metadata": {
    "execution": {
     "iopub.execute_input": "2024-07-27T11:05:11.549332Z",
     "iopub.status.busy": "2024-07-27T11:05:11.548905Z",
     "iopub.status.idle": "2024-07-27T11:05:11.556153Z",
     "shell.execute_reply": "2024-07-27T11:05:11.555055Z"
    },
    "papermill": {
     "duration": 0.035505,
     "end_time": "2024-07-27T11:05:11.558965",
     "exception": false,
     "start_time": "2024-07-27T11:05:11.523460",
     "status": "completed"
    },
    "tags": []
   },
   "outputs": [
    {
     "name": "stdout",
     "output_type": "stream",
     "text": [
      "RMSE =  36934.27623504811\n"
     ]
    }
   ],
   "source": [
    "# Evaluation\n",
    "from sklearn.metrics import mean_squared_error\n",
    "RMSE = mean_squared_error(y_train, y_pred, squared=False)\n",
    "print('RMSE = ', RMSE)"
   ]
  },
  {
   "cell_type": "code",
   "execution_count": 18,
   "id": "ad0bc0b8",
   "metadata": {
    "execution": {
     "iopub.execute_input": "2024-07-27T11:05:11.601502Z",
     "iopub.status.busy": "2024-07-27T11:05:11.601083Z",
     "iopub.status.idle": "2024-07-27T11:05:11.647294Z",
     "shell.execute_reply": "2024-07-27T11:05:11.646076Z"
    },
    "papermill": {
     "duration": 0.070706,
     "end_time": "2024-07-27T11:05:11.650138",
     "exception": false,
     "start_time": "2024-07-27T11:05:11.579432",
     "status": "completed"
    },
    "tags": []
   },
   "outputs": [
    {
     "data": {
      "text/html": [
       "<div>\n",
       "<style scoped>\n",
       "    .dataframe tbody tr th:only-of-type {\n",
       "        vertical-align: middle;\n",
       "    }\n",
       "\n",
       "    .dataframe tbody tr th {\n",
       "        vertical-align: top;\n",
       "    }\n",
       "\n",
       "    .dataframe thead th {\n",
       "        text-align: right;\n",
       "    }\n",
       "</style>\n",
       "<table border=\"1\" class=\"dataframe\">\n",
       "  <thead>\n",
       "    <tr style=\"text-align: right;\">\n",
       "      <th></th>\n",
       "      <th>SalePrice</th>\n",
       "      <th>OverallQual</th>\n",
       "      <th>GrLivArea</th>\n",
       "      <th>GarageCars</th>\n",
       "      <th>TotalBsmtSF</th>\n",
       "      <th>FullBath</th>\n",
       "      <th>YearBuilt</th>\n",
       "      <th>YearRemodAdd</th>\n",
       "      <th>Fireplaces</th>\n",
       "      <th>LotFrontage</th>\n",
       "      <th>WoodDeckSF</th>\n",
       "      <th>OpenPorchSF</th>\n",
       "    </tr>\n",
       "  </thead>\n",
       "  <tbody>\n",
       "    <tr>\n",
       "      <th>count</th>\n",
       "      <td>1460.000000</td>\n",
       "      <td>1460.000000</td>\n",
       "      <td>1460.000000</td>\n",
       "      <td>1460.000000</td>\n",
       "      <td>1460.000000</td>\n",
       "      <td>1460.000000</td>\n",
       "      <td>1460.000000</td>\n",
       "      <td>1460.000000</td>\n",
       "      <td>1460.000000</td>\n",
       "      <td>1460.000000</td>\n",
       "      <td>1460.000000</td>\n",
       "      <td>1460.000000</td>\n",
       "    </tr>\n",
       "    <tr>\n",
       "      <th>mean</th>\n",
       "      <td>180921.195890</td>\n",
       "      <td>6.099315</td>\n",
       "      <td>1515.463699</td>\n",
       "      <td>1.767123</td>\n",
       "      <td>1057.429452</td>\n",
       "      <td>1.565068</td>\n",
       "      <td>1971.267808</td>\n",
       "      <td>1984.865753</td>\n",
       "      <td>0.613014</td>\n",
       "      <td>69.863699</td>\n",
       "      <td>94.244521</td>\n",
       "      <td>46.660274</td>\n",
       "    </tr>\n",
       "    <tr>\n",
       "      <th>std</th>\n",
       "      <td>79442.502883</td>\n",
       "      <td>1.382997</td>\n",
       "      <td>525.480383</td>\n",
       "      <td>0.747315</td>\n",
       "      <td>438.705324</td>\n",
       "      <td>0.550916</td>\n",
       "      <td>30.202904</td>\n",
       "      <td>20.645407</td>\n",
       "      <td>0.644666</td>\n",
       "      <td>22.027677</td>\n",
       "      <td>125.338794</td>\n",
       "      <td>66.256028</td>\n",
       "    </tr>\n",
       "    <tr>\n",
       "      <th>min</th>\n",
       "      <td>34900.000000</td>\n",
       "      <td>1.000000</td>\n",
       "      <td>334.000000</td>\n",
       "      <td>0.000000</td>\n",
       "      <td>0.000000</td>\n",
       "      <td>0.000000</td>\n",
       "      <td>1872.000000</td>\n",
       "      <td>1950.000000</td>\n",
       "      <td>0.000000</td>\n",
       "      <td>21.000000</td>\n",
       "      <td>0.000000</td>\n",
       "      <td>0.000000</td>\n",
       "    </tr>\n",
       "    <tr>\n",
       "      <th>25%</th>\n",
       "      <td>129975.000000</td>\n",
       "      <td>5.000000</td>\n",
       "      <td>1129.500000</td>\n",
       "      <td>1.000000</td>\n",
       "      <td>795.750000</td>\n",
       "      <td>1.000000</td>\n",
       "      <td>1954.000000</td>\n",
       "      <td>1967.000000</td>\n",
       "      <td>0.000000</td>\n",
       "      <td>60.000000</td>\n",
       "      <td>0.000000</td>\n",
       "      <td>0.000000</td>\n",
       "    </tr>\n",
       "    <tr>\n",
       "      <th>50%</th>\n",
       "      <td>163000.000000</td>\n",
       "      <td>6.000000</td>\n",
       "      <td>1464.000000</td>\n",
       "      <td>2.000000</td>\n",
       "      <td>991.500000</td>\n",
       "      <td>2.000000</td>\n",
       "      <td>1973.000000</td>\n",
       "      <td>1994.000000</td>\n",
       "      <td>1.000000</td>\n",
       "      <td>69.000000</td>\n",
       "      <td>0.000000</td>\n",
       "      <td>25.000000</td>\n",
       "    </tr>\n",
       "    <tr>\n",
       "      <th>75%</th>\n",
       "      <td>214000.000000</td>\n",
       "      <td>7.000000</td>\n",
       "      <td>1776.750000</td>\n",
       "      <td>2.000000</td>\n",
       "      <td>1298.250000</td>\n",
       "      <td>2.000000</td>\n",
       "      <td>2000.000000</td>\n",
       "      <td>2004.000000</td>\n",
       "      <td>1.000000</td>\n",
       "      <td>79.000000</td>\n",
       "      <td>168.000000</td>\n",
       "      <td>68.000000</td>\n",
       "    </tr>\n",
       "    <tr>\n",
       "      <th>max</th>\n",
       "      <td>755000.000000</td>\n",
       "      <td>10.000000</td>\n",
       "      <td>5642.000000</td>\n",
       "      <td>4.000000</td>\n",
       "      <td>6110.000000</td>\n",
       "      <td>3.000000</td>\n",
       "      <td>2010.000000</td>\n",
       "      <td>2010.000000</td>\n",
       "      <td>3.000000</td>\n",
       "      <td>313.000000</td>\n",
       "      <td>857.000000</td>\n",
       "      <td>547.000000</td>\n",
       "    </tr>\n",
       "  </tbody>\n",
       "</table>\n",
       "</div>"
      ],
      "text/plain": [
       "           SalePrice  OverallQual    GrLivArea   GarageCars  TotalBsmtSF  \\\n",
       "count    1460.000000  1460.000000  1460.000000  1460.000000  1460.000000   \n",
       "mean   180921.195890     6.099315  1515.463699     1.767123  1057.429452   \n",
       "std     79442.502883     1.382997   525.480383     0.747315   438.705324   \n",
       "min     34900.000000     1.000000   334.000000     0.000000     0.000000   \n",
       "25%    129975.000000     5.000000  1129.500000     1.000000   795.750000   \n",
       "50%    163000.000000     6.000000  1464.000000     2.000000   991.500000   \n",
       "75%    214000.000000     7.000000  1776.750000     2.000000  1298.250000   \n",
       "max    755000.000000    10.000000  5642.000000     4.000000  6110.000000   \n",
       "\n",
       "          FullBath    YearBuilt  YearRemodAdd   Fireplaces  LotFrontage  \\\n",
       "count  1460.000000  1460.000000   1460.000000  1460.000000  1460.000000   \n",
       "mean      1.565068  1971.267808   1984.865753     0.613014    69.863699   \n",
       "std       0.550916    30.202904     20.645407     0.644666    22.027677   \n",
       "min       0.000000  1872.000000   1950.000000     0.000000    21.000000   \n",
       "25%       1.000000  1954.000000   1967.000000     0.000000    60.000000   \n",
       "50%       2.000000  1973.000000   1994.000000     1.000000    69.000000   \n",
       "75%       2.000000  2000.000000   2004.000000     1.000000    79.000000   \n",
       "max       3.000000  2010.000000   2010.000000     3.000000   313.000000   \n",
       "\n",
       "        WoodDeckSF  OpenPorchSF  \n",
       "count  1460.000000  1460.000000  \n",
       "mean     94.244521    46.660274  \n",
       "std     125.338794    66.256028  \n",
       "min       0.000000     0.000000  \n",
       "25%       0.000000     0.000000  \n",
       "50%       0.000000    25.000000  \n",
       "75%     168.000000    68.000000  \n",
       "max     857.000000   547.000000  "
      ]
     },
     "execution_count": 18,
     "metadata": {},
     "output_type": "execute_result"
    }
   ],
   "source": [
    "# Compared to sd.\n",
    "train_attr_num.describe() # sd. of SalePrice is 79442"
   ]
  },
  {
   "cell_type": "code",
   "execution_count": 19,
   "id": "4e497c15",
   "metadata": {
    "execution": {
     "iopub.execute_input": "2024-07-27T11:05:11.694617Z",
     "iopub.status.busy": "2024-07-27T11:05:11.694211Z",
     "iopub.status.idle": "2024-07-27T11:05:11.705129Z",
     "shell.execute_reply": "2024-07-27T11:05:11.703541Z"
    },
    "papermill": {
     "duration": 0.041695,
     "end_time": "2024-07-27T11:05:11.713198",
     "exception": false,
     "start_time": "2024-07-27T11:05:11.671503",
     "status": "completed"
    },
    "tags": []
   },
   "outputs": [
    {
     "name": "stdout",
     "output_type": "stream",
     "text": [
      "Score =  0.7646752851929541\n"
     ]
    }
   ],
   "source": [
    "print('Score = ', lin_model.score(X_train, y_train))"
   ]
  },
  {
   "cell_type": "markdown",
   "id": "5ccde5f4",
   "metadata": {
    "papermill": {
     "duration": 0.044642,
     "end_time": "2024-07-27T11:05:11.801899",
     "exception": false,
     "start_time": "2024-07-27T11:05:11.757257",
     "status": "completed"
    },
    "tags": []
   },
   "source": [
    "## Improve Model - Clear Outliners, Normalize"
   ]
  },
  {
   "cell_type": "code",
   "execution_count": 20,
   "id": "fc6c9906",
   "metadata": {
    "execution": {
     "iopub.execute_input": "2024-07-27T11:05:11.856981Z",
     "iopub.status.busy": "2024-07-27T11:05:11.856531Z",
     "iopub.status.idle": "2024-07-27T11:05:13.556708Z",
     "shell.execute_reply": "2024-07-27T11:05:13.555299Z"
    },
    "papermill": {
     "duration": 1.72591,
     "end_time": "2024-07-27T11:05:13.559266",
     "exception": false,
     "start_time": "2024-07-27T11:05:11.833356",
     "status": "completed"
    },
    "tags": []
   },
   "outputs": [
    {
     "data": {
      "image/png": "[encoded data removed]",
      "text/plain": [
       "<Figure size 200x200 with 1 Axes>"
      ]
     },
     "metadata": {},
     "output_type": "display_data"
    },
    {
     "data": {
      "image/png": "[encoded data removed]",
      "text/plain": [
       "<Figure size 200x200 with 1 Axes>"
      ]
     },
     "metadata": {},
     "output_type": "display_data"
    },
    {
     "data": {
      "image/png": "[encoded data removed]",
      "text/plain": [
       "<Figure size 200x200 with 1 Axes>"
      ]
     },
     "metadata": {},
     "output_type": "display_data"
    },
    {
     "data": {
      "image/png": "[encoded data removed]",
      "text/plain": [
       "<Figure size 200x200 with 1 Axes>"
      ]
     },
     "metadata": {},
     "output_type": "display_data"
    },
    {
     "data": {
      "image/png": "[encoded data removed]",
      "text/plain": [
       "<Figure size 200x200 with 1 Axes>"
      ]
     },
     "metadata": {},
     "output_type": "display_data"
    },
    {
     "data": {
      "image/png": "[encoded data removed]",
      "text/plain": [
       "<Figure size 200x200 with 1 Axes>"
      ]
     },
     "metadata": {},
     "output_type": "display_data"
    },
    {
     "data": {
      "image/png": "[encoded data removed]",
      "text/plain": [
       "<Figure size 200x200 with 1 Axes>"
      ]
     },
     "metadata": {},
     "output_type": "display_data"
    },
    {
     "data": {
      "image/png": "[encoded data removed]",
      "text/plain": [
       "<Figure size 200x200 with 1 Axes>"
      ]
     },
     "metadata": {},
     "output_type": "display_data"
    },
    {
     "data": {
      "image/png": "[encoded data removed]",
      "text/plain": [
       "<Figure size 200x200 with 1 Axes>"
      ]
     },
     "metadata": {},
     "output_type": "display_data"
    },
    {
     "data": {
      "image/png": "[encoded data removed]",
      "text/plain": [
       "<Figure size 200x200 with 1 Axes>"
      ]
     },
     "metadata": {},
     "output_type": "display_data"
    },
    {
     "data": {
      "image/png": "[encoded data removed]",
      "text/plain": [
       "<Figure size 200x200 with 1 Axes>"
      ]
     },
     "metadata": {},
     "output_type": "display_data"
    },
    {
     "data": {
      "image/png": "[encoded data removed]",
      "text/plain": [
       "<Figure size 200x200 with 1 Axes>"
      ]
     },
     "metadata": {},
     "output_type": "display_data"
    }
   ],
   "source": [
    "# Visualize box plot - Outliners \n",
    "import matplotlib.pyplot as plt\n",
    "for column in train_attr_num:\n",
    "    plt.figure(figsize=(2,2))\n",
    "    train_attr_num.boxplot([column])"
   ]
  },
  {
   "cell_type": "code",
   "execution_count": 21,
   "id": "bbc44c3e",
   "metadata": {
    "execution": {
     "iopub.execute_input": "2024-07-27T11:05:13.609329Z",
     "iopub.status.busy": "2024-07-27T11:05:13.608897Z",
     "iopub.status.idle": "2024-07-27T11:05:13.617223Z",
     "shell.execute_reply": "2024-07-27T11:05:13.615917Z"
    },
    "papermill": {
     "duration": 0.036707,
     "end_time": "2024-07-27T11:05:13.620125",
     "exception": false,
     "start_time": "2024-07-27T11:05:13.583418",
     "status": "completed"
    },
    "tags": []
   },
   "outputs": [],
   "source": [
    "def filterOutliners(data, col):\n",
    "    Q1 = np.quantile(data[col], 0.25)\n",
    "    Q3 = np.quantile(data[col], 0.75)\n",
    "    IQR = Q3-Q1\n",
    "    lower_range = Q1-1.5*IQR\n",
    "    upper_range = Q3+1.5*IQR\n",
    "    #print('Q1 = ', Q1, ' Q3 = ', Q3)\n",
    "    #print('lower_range = ', lower_range, ' upper_range = ', upper_range)\n",
    "    outliner_free_list = [] #list\n",
    "\n",
    "    outliner_free_list = [x for x in data[col] if ((x >= lower_range) & (x <= upper_range))]\n",
    "    #print(len(outliner_free_list))\n",
    "\n",
    "    #print(outliner_free_list)\n",
    "    filtered_data = data[data[col].isin(outliner_free_list)] # True if this data is not an outliner\n",
    "    return filtered_data"
   ]
  },
  {
   "cell_type": "code",
   "execution_count": 22,
   "id": "4ef8e774",
   "metadata": {
    "execution": {
     "iopub.execute_input": "2024-07-27T11:05:13.672971Z",
     "iopub.status.busy": "2024-07-27T11:05:13.672477Z",
     "iopub.status.idle": "2024-07-27T11:05:13.769552Z",
     "shell.execute_reply": "2024-07-27T11:05:13.768358Z"
    },
    "papermill": {
     "duration": 0.127788,
     "end_time": "2024-07-27T11:05:13.773471",
     "exception": false,
     "start_time": "2024-07-27T11:05:13.645683",
     "status": "completed"
    },
    "tags": []
   },
   "outputs": [
    {
     "name": "stdout",
     "output_type": "stream",
     "text": [
      "loop @column =  SalePrice\n",
      "<class 'pandas.core.frame.DataFrame'>\n",
      "Index: 1399 entries, 0 to 1459\n",
      "Data columns (total 12 columns):\n",
      " #   Column        Non-Null Count  Dtype  \n",
      "---  ------        --------------  -----  \n",
      " 0   SalePrice     1399 non-null   int64  \n",
      " 1   OverallQual   1399 non-null   int64  \n",
      " 2   GrLivArea     1399 non-null   int64  \n",
      " 3   GarageCars    1399 non-null   int64  \n",
      " 4   TotalBsmtSF   1399 non-null   int64  \n",
      " 5   FullBath      1399 non-null   int64  \n",
      " 6   YearBuilt     1399 non-null   int64  \n",
      " 7   YearRemodAdd  1399 non-null   int64  \n",
      " 8   Fireplaces    1399 non-null   int64  \n",
      " 9   LotFrontage   1399 non-null   float64\n",
      " 10  WoodDeckSF    1399 non-null   int64  \n",
      " 11  OpenPorchSF   1399 non-null   int64  \n",
      "dtypes: float64(1), int64(11)\n",
      "memory usage: 142.1 KB\n",
      "None\n",
      "loop @column =  OverallQual\n",
      "<class 'pandas.core.frame.DataFrame'>\n",
      "Index: 1397 entries, 0 to 1459\n",
      "Data columns (total 12 columns):\n",
      " #   Column        Non-Null Count  Dtype  \n",
      "---  ------        --------------  -----  \n",
      " 0   SalePrice     1397 non-null   int64  \n",
      " 1   OverallQual   1397 non-null   int64  \n",
      " 2   GrLivArea     1397 non-null   int64  \n",
      " 3   GarageCars    1397 non-null   int64  \n",
      " 4   TotalBsmtSF   1397 non-null   int64  \n",
      " 5   FullBath      1397 non-null   int64  \n",
      " 6   YearBuilt     1397 non-null   int64  \n",
      " 7   YearRemodAdd  1397 non-null   int64  \n",
      " 8   Fireplaces    1397 non-null   int64  \n",
      " 9   LotFrontage   1397 non-null   float64\n",
      " 10  WoodDeckSF    1397 non-null   int64  \n",
      " 11  OpenPorchSF   1397 non-null   int64  \n",
      "dtypes: float64(1), int64(11)\n",
      "memory usage: 141.9 KB\n",
      "None\n",
      "loop @column =  GrLivArea\n",
      "<class 'pandas.core.frame.DataFrame'>\n",
      "Index: 1376 entries, 0 to 1459\n",
      "Data columns (total 12 columns):\n",
      " #   Column        Non-Null Count  Dtype  \n",
      "---  ------        --------------  -----  \n",
      " 0   SalePrice     1376 non-null   int64  \n",
      " 1   OverallQual   1376 non-null   int64  \n",
      " 2   GrLivArea     1376 non-null   int64  \n",
      " 3   GarageCars    1376 non-null   int64  \n",
      " 4   TotalBsmtSF   1376 non-null   int64  \n",
      " 5   FullBath      1376 non-null   int64  \n",
      " 6   YearBuilt     1376 non-null   int64  \n",
      " 7   YearRemodAdd  1376 non-null   int64  \n",
      " 8   Fireplaces    1376 non-null   int64  \n",
      " 9   LotFrontage   1376 non-null   float64\n",
      " 10  WoodDeckSF    1376 non-null   int64  \n",
      " 11  OpenPorchSF   1376 non-null   int64  \n",
      "dtypes: float64(1), int64(11)\n",
      "memory usage: 139.8 KB\n",
      "None\n",
      "loop @column =  GarageCars\n",
      "<class 'pandas.core.frame.DataFrame'>\n",
      "Index: 1371 entries, 0 to 1459\n",
      "Data columns (total 12 columns):\n",
      " #   Column        Non-Null Count  Dtype  \n",
      "---  ------        --------------  -----  \n",
      " 0   SalePrice     1371 non-null   int64  \n",
      " 1   OverallQual   1371 non-null   int64  \n",
      " 2   GrLivArea     1371 non-null   int64  \n",
      " 3   GarageCars    1371 non-null   int64  \n",
      " 4   TotalBsmtSF   1371 non-null   int64  \n",
      " 5   FullBath      1371 non-null   int64  \n",
      " 6   YearBuilt     1371 non-null   int64  \n",
      " 7   YearRemodAdd  1371 non-null   int64  \n",
      " 8   Fireplaces    1371 non-null   int64  \n",
      " 9   LotFrontage   1371 non-null   float64\n",
      " 10  WoodDeckSF    1371 non-null   int64  \n",
      " 11  OpenPorchSF   1371 non-null   int64  \n",
      "dtypes: float64(1), int64(11)\n",
      "memory usage: 139.2 KB\n",
      "None\n",
      "loop @column =  TotalBsmtSF\n",
      "<class 'pandas.core.frame.DataFrame'>\n",
      "Index: 1322 entries, 0 to 1459\n",
      "Data columns (total 12 columns):\n",
      " #   Column        Non-Null Count  Dtype  \n",
      "---  ------        --------------  -----  \n",
      " 0   SalePrice     1322 non-null   int64  \n",
      " 1   OverallQual   1322 non-null   int64  \n",
      " 2   GrLivArea     1322 non-null   int64  \n",
      " 3   GarageCars    1322 non-null   int64  \n",
      " 4   TotalBsmtSF   1322 non-null   int64  \n",
      " 5   FullBath      1322 non-null   int64  \n",
      " 6   YearBuilt     1322 non-null   int64  \n",
      " 7   YearRemodAdd  1322 non-null   int64  \n",
      " 8   Fireplaces    1322 non-null   int64  \n",
      " 9   LotFrontage   1322 non-null   float64\n",
      " 10  WoodDeckSF    1322 non-null   int64  \n",
      " 11  OpenPorchSF   1322 non-null   int64  \n",
      "dtypes: float64(1), int64(11)\n",
      "memory usage: 134.3 KB\n",
      "None\n",
      "loop @column =  FullBath\n",
      "<class 'pandas.core.frame.DataFrame'>\n",
      "Index: 1322 entries, 0 to 1459\n",
      "Data columns (total 12 columns):\n",
      " #   Column        Non-Null Count  Dtype  \n",
      "---  ------        --------------  -----  \n",
      " 0   SalePrice     1322 non-null   int64  \n",
      " 1   OverallQual   1322 non-null   int64  \n",
      " 2   GrLivArea     1322 non-null   int64  \n",
      " 3   GarageCars    1322 non-null   int64  \n",
      " 4   TotalBsmtSF   1322 non-null   int64  \n",
      " 5   FullBath      1322 non-null   int64  \n",
      " 6   YearBuilt     1322 non-null   int64  \n",
      " 7   YearRemodAdd  1322 non-null   int64  \n",
      " 8   Fireplaces    1322 non-null   int64  \n",
      " 9   LotFrontage   1322 non-null   float64\n",
      " 10  WoodDeckSF    1322 non-null   int64  \n",
      " 11  OpenPorchSF   1322 non-null   int64  \n",
      "dtypes: float64(1), int64(11)\n",
      "memory usage: 134.3 KB\n",
      "None\n",
      "loop @column =  YearBuilt\n",
      "<class 'pandas.core.frame.DataFrame'>\n",
      "Index: 1317 entries, 0 to 1459\n",
      "Data columns (total 12 columns):\n",
      " #   Column        Non-Null Count  Dtype  \n",
      "---  ------        --------------  -----  \n",
      " 0   SalePrice     1317 non-null   int64  \n",
      " 1   OverallQual   1317 non-null   int64  \n",
      " 2   GrLivArea     1317 non-null   int64  \n",
      " 3   GarageCars    1317 non-null   int64  \n",
      " 4   TotalBsmtSF   1317 non-null   int64  \n",
      " 5   FullBath      1317 non-null   int64  \n",
      " 6   YearBuilt     1317 non-null   int64  \n",
      " 7   YearRemodAdd  1317 non-null   int64  \n",
      " 8   Fireplaces    1317 non-null   int64  \n",
      " 9   LotFrontage   1317 non-null   float64\n",
      " 10  WoodDeckSF    1317 non-null   int64  \n",
      " 11  OpenPorchSF   1317 non-null   int64  \n",
      "dtypes: float64(1), int64(11)\n",
      "memory usage: 133.8 KB\n",
      "None\n",
      "loop @column =  YearRemodAdd\n",
      "<class 'pandas.core.frame.DataFrame'>\n",
      "Index: 1317 entries, 0 to 1459\n",
      "Data columns (total 12 columns):\n",
      " #   Column        Non-Null Count  Dtype  \n",
      "---  ------        --------------  -----  \n",
      " 0   SalePrice     1317 non-null   int64  \n",
      " 1   OverallQual   1317 non-null   int64  \n",
      " 2   GrLivArea     1317 non-null   int64  \n",
      " 3   GarageCars    1317 non-null   int64  \n",
      " 4   TotalBsmtSF   1317 non-null   int64  \n",
      " 5   FullBath      1317 non-null   int64  \n",
      " 6   YearBuilt     1317 non-null   int64  \n",
      " 7   YearRemodAdd  1317 non-null   int64  \n",
      " 8   Fireplaces    1317 non-null   int64  \n",
      " 9   LotFrontage   1317 non-null   float64\n",
      " 10  WoodDeckSF    1317 non-null   int64  \n",
      " 11  OpenPorchSF   1317 non-null   int64  \n",
      "dtypes: float64(1), int64(11)\n",
      "memory usage: 133.8 KB\n",
      "None\n",
      "loop @column =  Fireplaces\n",
      "<class 'pandas.core.frame.DataFrame'>\n",
      "Index: 1315 entries, 0 to 1459\n",
      "Data columns (total 12 columns):\n",
      " #   Column        Non-Null Count  Dtype  \n",
      "---  ------        --------------  -----  \n",
      " 0   SalePrice     1315 non-null   int64  \n",
      " 1   OverallQual   1315 non-null   int64  \n",
      " 2   GrLivArea     1315 non-null   int64  \n",
      " 3   GarageCars    1315 non-null   int64  \n",
      " 4   TotalBsmtSF   1315 non-null   int64  \n",
      " 5   FullBath      1315 non-null   int64  \n",
      " 6   YearBuilt     1315 non-null   int64  \n",
      " 7   YearRemodAdd  1315 non-null   int64  \n",
      " 8   Fireplaces    1315 non-null   int64  \n",
      " 9   LotFrontage   1315 non-null   float64\n",
      " 10  WoodDeckSF    1315 non-null   int64  \n",
      " 11  OpenPorchSF   1315 non-null   int64  \n",
      "dtypes: float64(1), int64(11)\n",
      "memory usage: 133.6 KB\n",
      "None\n",
      "loop @column =  LotFrontage\n",
      "<class 'pandas.core.frame.DataFrame'>\n",
      "Index: 1197 entries, 0 to 1459\n",
      "Data columns (total 12 columns):\n",
      " #   Column        Non-Null Count  Dtype  \n",
      "---  ------        --------------  -----  \n",
      " 0   SalePrice     1197 non-null   int64  \n",
      " 1   OverallQual   1197 non-null   int64  \n",
      " 2   GrLivArea     1197 non-null   int64  \n",
      " 3   GarageCars    1197 non-null   int64  \n",
      " 4   TotalBsmtSF   1197 non-null   int64  \n",
      " 5   FullBath      1197 non-null   int64  \n",
      " 6   YearBuilt     1197 non-null   int64  \n",
      " 7   YearRemodAdd  1197 non-null   int64  \n",
      " 8   Fireplaces    1197 non-null   int64  \n",
      " 9   LotFrontage   1197 non-null   float64\n",
      " 10  WoodDeckSF    1197 non-null   int64  \n",
      " 11  OpenPorchSF   1197 non-null   int64  \n",
      "dtypes: float64(1), int64(11)\n",
      "memory usage: 121.6 KB\n",
      "None\n",
      "loop @column =  WoodDeckSF\n",
      "<class 'pandas.core.frame.DataFrame'>\n",
      "Index: 1175 entries, 0 to 1458\n",
      "Data columns (total 12 columns):\n",
      " #   Column        Non-Null Count  Dtype  \n",
      "---  ------        --------------  -----  \n",
      " 0   SalePrice     1175 non-null   int64  \n",
      " 1   OverallQual   1175 non-null   int64  \n",
      " 2   GrLivArea     1175 non-null   int64  \n",
      " 3   GarageCars    1175 non-null   int64  \n",
      " 4   TotalBsmtSF   1175 non-null   int64  \n",
      " 5   FullBath      1175 non-null   int64  \n",
      " 6   YearBuilt     1175 non-null   int64  \n",
      " 7   YearRemodAdd  1175 non-null   int64  \n",
      " 8   Fireplaces    1175 non-null   int64  \n",
      " 9   LotFrontage   1175 non-null   float64\n",
      " 10  WoodDeckSF    1175 non-null   int64  \n",
      " 11  OpenPorchSF   1175 non-null   int64  \n",
      "dtypes: float64(1), int64(11)\n",
      "memory usage: 119.3 KB\n",
      "None\n",
      "loop @column =  OpenPorchSF\n",
      "<class 'pandas.core.frame.DataFrame'>\n",
      "Index: 1109 entries, 0 to 1458\n",
      "Data columns (total 12 columns):\n",
      " #   Column        Non-Null Count  Dtype  \n",
      "---  ------        --------------  -----  \n",
      " 0   SalePrice     1109 non-null   int64  \n",
      " 1   OverallQual   1109 non-null   int64  \n",
      " 2   GrLivArea     1109 non-null   int64  \n",
      " 3   GarageCars    1109 non-null   int64  \n",
      " 4   TotalBsmtSF   1109 non-null   int64  \n",
      " 5   FullBath      1109 non-null   int64  \n",
      " 6   YearBuilt     1109 non-null   int64  \n",
      " 7   YearRemodAdd  1109 non-null   int64  \n",
      " 8   Fireplaces    1109 non-null   int64  \n",
      " 9   LotFrontage   1109 non-null   float64\n",
      " 10  WoodDeckSF    1109 non-null   int64  \n",
      " 11  OpenPorchSF   1109 non-null   int64  \n",
      "dtypes: float64(1), int64(11)\n",
      "memory usage: 112.6 KB\n",
      "None\n"
     ]
    }
   ],
   "source": [
    "global filtered_train\n",
    "i = 0\n",
    "for col in train_attr_num.columns:\n",
    "    if i == 0 :\n",
    "        filtered_train = filterOutliners(train_attr_num, col)\n",
    "        i += 1\n",
    "    else :\n",
    "        filtered_train = filterOutliners(filtered_train, col)\n",
    "    print('loop @column = ', col)\n",
    "    print(filtered_train.info())\n",
    "    "
   ]
  },
  {
   "cell_type": "code",
   "execution_count": 23,
   "id": "ae0cc41a",
   "metadata": {
    "execution": {
     "iopub.execute_input": "2024-07-27T11:05:13.824615Z",
     "iopub.status.busy": "2024-07-27T11:05:13.824128Z",
     "iopub.status.idle": "2024-07-27T11:05:13.844407Z",
     "shell.execute_reply": "2024-07-27T11:05:13.843357Z"
    },
    "papermill": {
     "duration": 0.048743,
     "end_time": "2024-07-27T11:05:13.846850",
     "exception": false,
     "start_time": "2024-07-27T11:05:13.798107",
     "status": "completed"
    },
    "tags": []
   },
   "outputs": [
    {
     "data": {
      "text/html": [
       "<div>\n",
       "<style scoped>\n",
       "    .dataframe tbody tr th:only-of-type {\n",
       "        vertical-align: middle;\n",
       "    }\n",
       "\n",
       "    .dataframe tbody tr th {\n",
       "        vertical-align: top;\n",
       "    }\n",
       "\n",
       "    .dataframe thead th {\n",
       "        text-align: right;\n",
       "    }\n",
       "</style>\n",
       "<table border=\"1\" class=\"dataframe\">\n",
       "  <thead>\n",
       "    <tr style=\"text-align: right;\">\n",
       "      <th></th>\n",
       "      <th>SalePrice</th>\n",
       "      <th>OverallQual</th>\n",
       "      <th>GrLivArea</th>\n",
       "      <th>GarageCars</th>\n",
       "      <th>TotalBsmtSF</th>\n",
       "      <th>FullBath</th>\n",
       "      <th>YearBuilt</th>\n",
       "      <th>YearRemodAdd</th>\n",
       "      <th>Fireplaces</th>\n",
       "      <th>LotFrontage</th>\n",
       "      <th>WoodDeckSF</th>\n",
       "      <th>OpenPorchSF</th>\n",
       "    </tr>\n",
       "  </thead>\n",
       "  <tbody>\n",
       "    <tr>\n",
       "      <th>0</th>\n",
       "      <td>208500</td>\n",
       "      <td>7</td>\n",
       "      <td>1710</td>\n",
       "      <td>2</td>\n",
       "      <td>856</td>\n",
       "      <td>2</td>\n",
       "      <td>2003</td>\n",
       "      <td>2003</td>\n",
       "      <td>0</td>\n",
       "      <td>65.0</td>\n",
       "      <td>0</td>\n",
       "      <td>61</td>\n",
       "    </tr>\n",
       "    <tr>\n",
       "      <th>1</th>\n",
       "      <td>181500</td>\n",
       "      <td>6</td>\n",
       "      <td>1262</td>\n",
       "      <td>2</td>\n",
       "      <td>1262</td>\n",
       "      <td>2</td>\n",
       "      <td>1976</td>\n",
       "      <td>1976</td>\n",
       "      <td>1</td>\n",
       "      <td>80.0</td>\n",
       "      <td>298</td>\n",
       "      <td>0</td>\n",
       "    </tr>\n",
       "    <tr>\n",
       "      <th>2</th>\n",
       "      <td>223500</td>\n",
       "      <td>7</td>\n",
       "      <td>1786</td>\n",
       "      <td>2</td>\n",
       "      <td>920</td>\n",
       "      <td>2</td>\n",
       "      <td>2001</td>\n",
       "      <td>2002</td>\n",
       "      <td>1</td>\n",
       "      <td>68.0</td>\n",
       "      <td>0</td>\n",
       "      <td>42</td>\n",
       "    </tr>\n",
       "    <tr>\n",
       "      <th>3</th>\n",
       "      <td>140000</td>\n",
       "      <td>7</td>\n",
       "      <td>1717</td>\n",
       "      <td>3</td>\n",
       "      <td>756</td>\n",
       "      <td>1</td>\n",
       "      <td>1915</td>\n",
       "      <td>1970</td>\n",
       "      <td>1</td>\n",
       "      <td>60.0</td>\n",
       "      <td>0</td>\n",
       "      <td>35</td>\n",
       "    </tr>\n",
       "    <tr>\n",
       "      <th>4</th>\n",
       "      <td>250000</td>\n",
       "      <td>8</td>\n",
       "      <td>2198</td>\n",
       "      <td>3</td>\n",
       "      <td>1145</td>\n",
       "      <td>2</td>\n",
       "      <td>2000</td>\n",
       "      <td>2000</td>\n",
       "      <td>1</td>\n",
       "      <td>84.0</td>\n",
       "      <td>192</td>\n",
       "      <td>84</td>\n",
       "    </tr>\n",
       "    <tr>\n",
       "      <th>...</th>\n",
       "      <td>...</td>\n",
       "      <td>...</td>\n",
       "      <td>...</td>\n",
       "      <td>...</td>\n",
       "      <td>...</td>\n",
       "      <td>...</td>\n",
       "      <td>...</td>\n",
       "      <td>...</td>\n",
       "      <td>...</td>\n",
       "      <td>...</td>\n",
       "      <td>...</td>\n",
       "      <td>...</td>\n",
       "    </tr>\n",
       "    <tr>\n",
       "      <th>1454</th>\n",
       "      <td>185000</td>\n",
       "      <td>7</td>\n",
       "      <td>1221</td>\n",
       "      <td>2</td>\n",
       "      <td>1221</td>\n",
       "      <td>2</td>\n",
       "      <td>2004</td>\n",
       "      <td>2005</td>\n",
       "      <td>0</td>\n",
       "      <td>62.0</td>\n",
       "      <td>0</td>\n",
       "      <td>113</td>\n",
       "    </tr>\n",
       "    <tr>\n",
       "      <th>1455</th>\n",
       "      <td>175000</td>\n",
       "      <td>6</td>\n",
       "      <td>1647</td>\n",
       "      <td>2</td>\n",
       "      <td>953</td>\n",
       "      <td>2</td>\n",
       "      <td>1999</td>\n",
       "      <td>2000</td>\n",
       "      <td>1</td>\n",
       "      <td>62.0</td>\n",
       "      <td>0</td>\n",
       "      <td>40</td>\n",
       "    </tr>\n",
       "    <tr>\n",
       "      <th>1456</th>\n",
       "      <td>210000</td>\n",
       "      <td>6</td>\n",
       "      <td>2073</td>\n",
       "      <td>2</td>\n",
       "      <td>1542</td>\n",
       "      <td>2</td>\n",
       "      <td>1978</td>\n",
       "      <td>1988</td>\n",
       "      <td>2</td>\n",
       "      <td>85.0</td>\n",
       "      <td>349</td>\n",
       "      <td>0</td>\n",
       "    </tr>\n",
       "    <tr>\n",
       "      <th>1457</th>\n",
       "      <td>266500</td>\n",
       "      <td>7</td>\n",
       "      <td>2340</td>\n",
       "      <td>1</td>\n",
       "      <td>1152</td>\n",
       "      <td>2</td>\n",
       "      <td>1941</td>\n",
       "      <td>2006</td>\n",
       "      <td>2</td>\n",
       "      <td>66.0</td>\n",
       "      <td>0</td>\n",
       "      <td>60</td>\n",
       "    </tr>\n",
       "    <tr>\n",
       "      <th>1458</th>\n",
       "      <td>142125</td>\n",
       "      <td>5</td>\n",
       "      <td>1078</td>\n",
       "      <td>1</td>\n",
       "      <td>1078</td>\n",
       "      <td>1</td>\n",
       "      <td>1950</td>\n",
       "      <td>1996</td>\n",
       "      <td>0</td>\n",
       "      <td>68.0</td>\n",
       "      <td>366</td>\n",
       "      <td>0</td>\n",
       "    </tr>\n",
       "  </tbody>\n",
       "</table>\n",
       "<p>1109 rows × 12 columns</p>\n",
       "</div>"
      ],
      "text/plain": [
       "      SalePrice  OverallQual  GrLivArea  GarageCars  TotalBsmtSF  FullBath  \\\n",
       "0        208500            7       1710           2          856         2   \n",
       "1        181500            6       1262           2         1262         2   \n",
       "2        223500            7       1786           2          920         2   \n",
       "3        140000            7       1717           3          756         1   \n",
       "4        250000            8       2198           3         1145         2   \n",
       "...         ...          ...        ...         ...          ...       ...   \n",
       "1454     185000            7       1221           2         1221         2   \n",
       "1455     175000            6       1647           2          953         2   \n",
       "1456     210000            6       2073           2         1542         2   \n",
       "1457     266500            7       2340           1         1152         2   \n",
       "1458     142125            5       1078           1         1078         1   \n",
       "\n",
       "      YearBuilt  YearRemodAdd  Fireplaces  LotFrontage  WoodDeckSF  \\\n",
       "0          2003          2003           0         65.0           0   \n",
       "1          1976          1976           1         80.0         298   \n",
       "2          2001          2002           1         68.0           0   \n",
       "3          1915          1970           1         60.0           0   \n",
       "4          2000          2000           1         84.0         192   \n",
       "...         ...           ...         ...          ...         ...   \n",
       "1454       2004          2005           0         62.0           0   \n",
       "1455       1999          2000           1         62.0           0   \n",
       "1456       1978          1988           2         85.0         349   \n",
       "1457       1941          2006           2         66.0           0   \n",
       "1458       1950          1996           0         68.0         366   \n",
       "\n",
       "      OpenPorchSF  \n",
       "0              61  \n",
       "1               0  \n",
       "2              42  \n",
       "3              35  \n",
       "4              84  \n",
       "...           ...  \n",
       "1454          113  \n",
       "1455           40  \n",
       "1456            0  \n",
       "1457           60  \n",
       "1458            0  \n",
       "\n",
       "[1109 rows x 12 columns]"
      ]
     },
     "execution_count": 23,
     "metadata": {},
     "output_type": "execute_result"
    }
   ],
   "source": [
    "filtered_train"
   ]
  },
  {
   "cell_type": "code",
   "execution_count": 24,
   "id": "08e85d5a",
   "metadata": {
    "execution": {
     "iopub.execute_input": "2024-07-27T11:05:13.899727Z",
     "iopub.status.busy": "2024-07-27T11:05:13.899311Z",
     "iopub.status.idle": "2024-07-27T11:05:15.788957Z",
     "shell.execute_reply": "2024-07-27T11:05:15.787773Z"
    },
    "papermill": {
     "duration": 1.91912,
     "end_time": "2024-07-27T11:05:15.791764",
     "exception": false,
     "start_time": "2024-07-27T11:05:13.872644",
     "status": "completed"
    },
    "tags": []
   },
   "outputs": [
    {
     "data": {
      "image/png": "[encoded data removed]",
      "text/plain": [
       "<Figure size 200x200 with 1 Axes>"
      ]
     },
     "metadata": {},
     "output_type": "display_data"
    },
    {
     "data": {
      "image/png": "[encoded data removed]",
      "text/plain": [
       "<Figure size 200x200 with 1 Axes>"
      ]
     },
     "metadata": {},
     "output_type": "display_data"
    },
    {
     "data": {
      "image/png": "[encoded data removed]",
      "text/plain": [
       "<Figure size 200x200 with 1 Axes>"
      ]
     },
     "metadata": {},
     "output_type": "display_data"
    },
    {
     "data": {
      "image/png": "[encoded data removed]",
      "text/plain": [
       "<Figure size 200x200 with 1 Axes>"
      ]
     },
     "metadata": {},
     "output_type": "display_data"
    },
    {
     "data": {
      "image/png": "[encoded data removed]",
      "text/plain": [
       "<Figure size 200x200 with 1 Axes>"
      ]
     },
     "metadata": {},
     "output_type": "display_data"
    },
    {
     "data": {
      "image/png": "[encoded data removed]",
      "text/plain": [
       "<Figure size 200x200 with 1 Axes>"
      ]
     },
     "metadata": {},
     "output_type": "display_data"
    },
    {
     "data": {
      "image/png": "[encoded data removed]",
      "text/plain": [
       "<Figure size 200x200 with 1 Axes>"
      ]
     },
     "metadata": {},
     "output_type": "display_data"
    },
    {
     "data": {
      "image/png": "[encoded data removed]",
      "text/plain": [
       "<Figure size 200x200 with 1 Axes>"
      ]
     },
     "metadata": {},
     "output_type": "display_data"
    },
    {
     "data": {
      "image/png": "[encoded data removed]",
      "text/plain": [
       "<Figure size 200x200 with 1 Axes>"
      ]
     },
     "metadata": {},
     "output_type": "display_data"
    },
    {
     "data": {
      "image/png": "[encoded data removed]",
      "text/plain": [
       "<Figure size 200x200 with 1 Axes>"
      ]
     },
     "metadata": {},
     "output_type": "display_data"
    },
    {
     "data": {
      "image/png": "[encoded data removed]",
      "text/plain": [
       "<Figure size 200x200 with 1 Axes>"
      ]
     },
     "metadata": {},
     "output_type": "display_data"
    },
    {
     "data": {
      "image/png": "[encoded data removed]",
      "text/plain": [
       "<Figure size 200x200 with 1 Axes>"
      ]
     },
     "metadata": {},
     "output_type": "display_data"
    }
   ],
   "source": [
    "# Visualize box plot - Outliners \n",
    "import matplotlib.pyplot as plt\n",
    "for column in filtered_train.columns:\n",
    "    plt.figure(figsize=(2,2))\n",
    "    filtered_train.boxplot([column])"
   ]
  },
  {
   "cell_type": "markdown",
   "id": "b3b418ed",
   "metadata": {
    "papermill": {
     "duration": 0.029008,
     "end_time": "2024-07-27T11:05:15.849946",
     "exception": false,
     "start_time": "2024-07-27T11:05:15.820938",
     "status": "completed"
    },
    "tags": []
   },
   "source": [
    "## Scaler (Normalization)"
   ]
  },
  {
   "cell_type": "code",
   "execution_count": 25,
   "id": "4f51a73e",
   "metadata": {
    "execution": {
     "iopub.execute_input": "2024-07-27T11:05:15.908976Z",
     "iopub.status.busy": "2024-07-27T11:05:15.908510Z",
     "iopub.status.idle": "2024-07-27T11:05:15.921051Z",
     "shell.execute_reply": "2024-07-27T11:05:15.919872Z"
    },
    "papermill": {
     "duration": 0.045003,
     "end_time": "2024-07-27T11:05:15.923759",
     "exception": false,
     "start_time": "2024-07-27T11:05:15.878756",
     "status": "completed"
    },
    "tags": []
   },
   "outputs": [],
   "source": [
    "from sklearn import preprocessing\n",
    "\n",
    "min_max_scaler = preprocessing.MinMaxScaler(feature_range=(-1,1))\n",
    "X = filtered_train.iloc[:,1:]\n",
    "y = filtered_train.iloc[:, 0]\n",
    "\n",
    "min_max_scaler.fit(X)\n",
    "#print(min_max_scaler.transform(X))\n",
    "X_scaled = pd.DataFrame(min_max_scaler.transform(X), columns=X.columns)"
   ]
  },
  {
   "cell_type": "code",
   "execution_count": 26,
   "id": "9034a288",
   "metadata": {
    "execution": {
     "iopub.execute_input": "2024-07-27T11:05:15.981842Z",
     "iopub.status.busy": "2024-07-27T11:05:15.981404Z",
     "iopub.status.idle": "2024-07-27T11:05:16.002360Z",
     "shell.execute_reply": "2024-07-27T11:05:16.001151Z"
    },
    "papermill": {
     "duration": 0.05273,
     "end_time": "2024-07-27T11:05:16.004618",
     "exception": false,
     "start_time": "2024-07-27T11:05:15.951888",
     "status": "completed"
    },
    "tags": []
   },
   "outputs": [
    {
     "data": {
      "text/html": [
       "<div>\n",
       "<style scoped>\n",
       "    .dataframe tbody tr th:only-of-type {\n",
       "        vertical-align: middle;\n",
       "    }\n",
       "\n",
       "    .dataframe tbody tr th {\n",
       "        vertical-align: top;\n",
       "    }\n",
       "\n",
       "    .dataframe thead th {\n",
       "        text-align: right;\n",
       "    }\n",
       "</style>\n",
       "<table border=\"1\" class=\"dataframe\">\n",
       "  <thead>\n",
       "    <tr style=\"text-align: right;\">\n",
       "      <th></th>\n",
       "      <th>OverallQual</th>\n",
       "      <th>GrLivArea</th>\n",
       "      <th>GarageCars</th>\n",
       "      <th>TotalBsmtSF</th>\n",
       "      <th>FullBath</th>\n",
       "      <th>YearBuilt</th>\n",
       "      <th>YearRemodAdd</th>\n",
       "      <th>Fireplaces</th>\n",
       "      <th>LotFrontage</th>\n",
       "      <th>WoodDeckSF</th>\n",
       "      <th>OpenPorchSF</th>\n",
       "    </tr>\n",
       "  </thead>\n",
       "  <tbody>\n",
       "    <tr>\n",
       "      <th>0</th>\n",
       "      <td>0.25</td>\n",
       "      <td>0.160584</td>\n",
       "      <td>0.333333</td>\n",
       "      <td>-0.166482</td>\n",
       "      <td>0.333333</td>\n",
       "      <td>0.903226</td>\n",
       "      <td>0.766667</td>\n",
       "      <td>-1.0</td>\n",
       "      <td>-0.104478</td>\n",
       "      <td>-1.000000</td>\n",
       "      <td>-0.227848</td>\n",
       "    </tr>\n",
       "    <tr>\n",
       "      <th>1</th>\n",
       "      <td>0.00</td>\n",
       "      <td>-0.248175</td>\n",
       "      <td>0.333333</td>\n",
       "      <td>0.284129</td>\n",
       "      <td>0.333333</td>\n",
       "      <td>0.467742</td>\n",
       "      <td>-0.133333</td>\n",
       "      <td>0.0</td>\n",
       "      <td>0.343284</td>\n",
       "      <td>0.425837</td>\n",
       "      <td>-1.000000</td>\n",
       "    </tr>\n",
       "    <tr>\n",
       "      <th>2</th>\n",
       "      <td>0.25</td>\n",
       "      <td>0.229927</td>\n",
       "      <td>0.333333</td>\n",
       "      <td>-0.095450</td>\n",
       "      <td>0.333333</td>\n",
       "      <td>0.870968</td>\n",
       "      <td>0.733333</td>\n",
       "      <td>0.0</td>\n",
       "      <td>-0.014925</td>\n",
       "      <td>-1.000000</td>\n",
       "      <td>-0.468354</td>\n",
       "    </tr>\n",
       "    <tr>\n",
       "      <th>3</th>\n",
       "      <td>0.25</td>\n",
       "      <td>0.166971</td>\n",
       "      <td>1.000000</td>\n",
       "      <td>-0.277469</td>\n",
       "      <td>-0.333333</td>\n",
       "      <td>-0.516129</td>\n",
       "      <td>-0.333333</td>\n",
       "      <td>0.0</td>\n",
       "      <td>-0.253731</td>\n",
       "      <td>-1.000000</td>\n",
       "      <td>-0.556962</td>\n",
       "    </tr>\n",
       "    <tr>\n",
       "      <th>4</th>\n",
       "      <td>0.50</td>\n",
       "      <td>0.605839</td>\n",
       "      <td>1.000000</td>\n",
       "      <td>0.154273</td>\n",
       "      <td>0.333333</td>\n",
       "      <td>0.854839</td>\n",
       "      <td>0.666667</td>\n",
       "      <td>0.0</td>\n",
       "      <td>0.462687</td>\n",
       "      <td>-0.081340</td>\n",
       "      <td>0.063291</td>\n",
       "    </tr>\n",
       "  </tbody>\n",
       "</table>\n",
       "</div>"
      ],
      "text/plain": [
       "   OverallQual  GrLivArea  GarageCars  TotalBsmtSF  FullBath  YearBuilt  \\\n",
       "0         0.25   0.160584    0.333333    -0.166482  0.333333   0.903226   \n",
       "1         0.00  -0.248175    0.333333     0.284129  0.333333   0.467742   \n",
       "2         0.25   0.229927    0.333333    -0.095450  0.333333   0.870968   \n",
       "3         0.25   0.166971    1.000000    -0.277469 -0.333333  -0.516129   \n",
       "4         0.50   0.605839    1.000000     0.154273  0.333333   0.854839   \n",
       "\n",
       "   YearRemodAdd  Fireplaces  LotFrontage  WoodDeckSF  OpenPorchSF  \n",
       "0      0.766667        -1.0    -0.104478   -1.000000    -0.227848  \n",
       "1     -0.133333         0.0     0.343284    0.425837    -1.000000  \n",
       "2      0.733333         0.0    -0.014925   -1.000000    -0.468354  \n",
       "3     -0.333333         0.0    -0.253731   -1.000000    -0.556962  \n",
       "4      0.666667         0.0     0.462687   -0.081340     0.063291  "
      ]
     },
     "execution_count": 26,
     "metadata": {},
     "output_type": "execute_result"
    }
   ],
   "source": [
    "X_scaled.head()"
   ]
  },
  {
   "cell_type": "markdown",
   "id": "8e1dbbc7",
   "metadata": {
    "papermill": {
     "duration": 0.027799,
     "end_time": "2024-07-27T11:05:16.060811",
     "exception": false,
     "start_time": "2024-07-27T11:05:16.033012",
     "status": "completed"
    },
    "tags": []
   },
   "source": [
    "## Train & Evaluate (After Removing Outliners, Normalizing)"
   ]
  },
  {
   "cell_type": "code",
   "execution_count": 27,
   "id": "280fe646",
   "metadata": {
    "execution": {
     "iopub.execute_input": "2024-07-27T11:05:16.119574Z",
     "iopub.status.busy": "2024-07-27T11:05:16.119124Z",
     "iopub.status.idle": "2024-07-27T11:05:16.139570Z",
     "shell.execute_reply": "2024-07-27T11:05:16.137888Z"
    },
    "papermill": {
     "duration": 0.05293,
     "end_time": "2024-07-27T11:05:16.142414",
     "exception": false,
     "start_time": "2024-07-27T11:05:16.089484",
     "status": "completed"
    },
    "tags": []
   },
   "outputs": [
    {
     "name": "stdout",
     "output_type": "stream",
     "text": [
      "Score =  0.8368490653012441\n",
      "RMSE =  23058.18267606375\n"
     ]
    }
   ],
   "source": [
    "X_train, X_test, y_train, y_test = train_test_split(X_scaled, y, test_size=0.33, random_state=42)\n",
    "lin_model2 = LinearRegression().fit(X_train, y_train)\n",
    "y_pred2 = lin_model2.predict(X_train)\n",
    "print('Score = ', lin_model2.score(X_train,y_train))\n",
    "print('RMSE = ', mean_squared_error(y_train, y_pred2, squared=False))"
   ]
  },
  {
   "cell_type": "code",
   "execution_count": 28,
   "id": "677adb43",
   "metadata": {
    "execution": {
     "iopub.execute_input": "2024-07-27T11:05:16.201080Z",
     "iopub.status.busy": "2024-07-27T11:05:16.200649Z",
     "iopub.status.idle": "2024-07-27T11:05:16.213052Z",
     "shell.execute_reply": "2024-07-27T11:05:16.211804Z"
    },
    "papermill": {
     "duration": 0.044524,
     "end_time": "2024-07-27T11:05:16.215460",
     "exception": false,
     "start_time": "2024-07-27T11:05:16.170936",
     "status": "completed"
    },
    "tags": []
   },
   "outputs": [
    {
     "data": {
      "text/html": [
       "<div>\n",
       "<style scoped>\n",
       "    .dataframe tbody tr th:only-of-type {\n",
       "        vertical-align: middle;\n",
       "    }\n",
       "\n",
       "    .dataframe tbody tr th {\n",
       "        vertical-align: top;\n",
       "    }\n",
       "\n",
       "    .dataframe thead th {\n",
       "        text-align: right;\n",
       "    }\n",
       "</style>\n",
       "<table border=\"1\" class=\"dataframe\">\n",
       "  <thead>\n",
       "    <tr style=\"text-align: right;\">\n",
       "      <th></th>\n",
       "      <th>y_train</th>\n",
       "      <th>y_pred2</th>\n",
       "    </tr>\n",
       "  </thead>\n",
       "  <tbody>\n",
       "    <tr>\n",
       "      <th>716</th>\n",
       "      <td>159500</td>\n",
       "      <td>205463.598226</td>\n",
       "    </tr>\n",
       "    <tr>\n",
       "      <th>467</th>\n",
       "      <td>146500</td>\n",
       "      <td>162603.074315</td>\n",
       "    </tr>\n",
       "    <tr>\n",
       "      <th>925</th>\n",
       "      <td>175000</td>\n",
       "      <td>137733.503531</td>\n",
       "    </tr>\n",
       "    <tr>\n",
       "      <th>5</th>\n",
       "      <td>143000</td>\n",
       "      <td>159526.596436</td>\n",
       "    </tr>\n",
       "    <tr>\n",
       "      <th>418</th>\n",
       "      <td>126000</td>\n",
       "      <td>101102.135960</td>\n",
       "    </tr>\n",
       "    <tr>\n",
       "      <th>730</th>\n",
       "      <td>236500</td>\n",
       "      <td>242867.088474</td>\n",
       "    </tr>\n",
       "    <tr>\n",
       "      <th>137</th>\n",
       "      <td>171000</td>\n",
       "      <td>233784.831886</td>\n",
       "    </tr>\n",
       "    <tr>\n",
       "      <th>130</th>\n",
       "      <td>226000</td>\n",
       "      <td>223026.244435</td>\n",
       "    </tr>\n",
       "    <tr>\n",
       "      <th>737</th>\n",
       "      <td>239900</td>\n",
       "      <td>241628.737862</td>\n",
       "    </tr>\n",
       "    <tr>\n",
       "      <th>1015</th>\n",
       "      <td>227000</td>\n",
       "      <td>209674.314585</td>\n",
       "    </tr>\n",
       "  </tbody>\n",
       "</table>\n",
       "</div>"
      ],
      "text/plain": [
       "      y_train        y_pred2\n",
       "716    159500  205463.598226\n",
       "467    146500  162603.074315\n",
       "925    175000  137733.503531\n",
       "5      143000  159526.596436\n",
       "418    126000  101102.135960\n",
       "730    236500  242867.088474\n",
       "137    171000  233784.831886\n",
       "130    226000  223026.244435\n",
       "737    239900  241628.737862\n",
       "1015   227000  209674.314585"
      ]
     },
     "execution_count": 28,
     "metadata": {},
     "output_type": "execute_result"
    }
   ],
   "source": [
    "Y_pred = pd.DataFrame({'y_train':y_train, 'y_pred2':y_pred2})\n",
    "Y_pred.head(10)"
   ]
  },
  {
   "cell_type": "markdown",
   "id": "a61cc4dd",
   "metadata": {
    "papermill": {
     "duration": 0.028483,
     "end_time": "2024-07-27T11:05:16.272613",
     "exception": false,
     "start_time": "2024-07-27T11:05:16.244130",
     "status": "completed"
    },
    "tags": []
   },
   "source": [
    "Results from 2 models \n",
    "* model 1 -> fill na value with median : Score =  0.7647 RMSE =  36934.28\n",
    "\n",
    "* model 2 -> remove outliners and normalize data with -1 to 1 range : Score = 0.8368 RMSE = 23058.18\n",
    "\n",
    "* **So, we choose the model 2 for testing.**"
   ]
  },
  {
   "cell_type": "markdown",
   "id": "35234553",
   "metadata": {
    "papermill": {
     "duration": 0.029323,
     "end_time": "2024-07-27T11:05:16.330484",
     "exception": false,
     "start_time": "2024-07-27T11:05:16.301161",
     "status": "completed"
    },
    "tags": []
   },
   "source": [
    "## Test"
   ]
  },
  {
   "cell_type": "code",
   "execution_count": 29,
   "id": "ce62fa3e",
   "metadata": {
    "execution": {
     "iopub.execute_input": "2024-07-27T11:05:16.390091Z",
     "iopub.status.busy": "2024-07-27T11:05:16.389636Z",
     "iopub.status.idle": "2024-07-27T11:05:16.401177Z",
     "shell.execute_reply": "2024-07-27T11:05:16.400074Z"
    },
    "papermill": {
     "duration": 0.044044,
     "end_time": "2024-07-27T11:05:16.403506",
     "exception": false,
     "start_time": "2024-07-27T11:05:16.359462",
     "status": "completed"
    },
    "tags": []
   },
   "outputs": [
    {
     "name": "stdout",
     "output_type": "stream",
     "text": [
      "Score = 0.8334189291014072\n",
      "RMSE =  21874.0632799743\n"
     ]
    }
   ],
   "source": [
    "y_pred_test = lin_model2.predict(X_test)\n",
    "print('Score =', lin_model2.score(X_test, y_test))\n",
    "print('RMSE = ', mean_squared_error(y_test, y_pred_test, squared=False))"
   ]
  },
  {
   "cell_type": "markdown",
   "id": "a2897541",
   "metadata": {
    "papermill": {
     "duration": 0.028705,
     "end_time": "2024-07-27T11:05:16.460906",
     "exception": false,
     "start_time": "2024-07-27T11:05:16.432201",
     "status": "completed"
    },
    "tags": []
   },
   "source": [
    "## For Submission"
   ]
  },
  {
   "cell_type": "code",
   "execution_count": 30,
   "id": "57cdfcbe",
   "metadata": {
    "execution": {
     "iopub.execute_input": "2024-07-27T11:05:16.520517Z",
     "iopub.status.busy": "2024-07-27T11:05:16.520075Z",
     "iopub.status.idle": "2024-07-27T11:05:16.545795Z",
     "shell.execute_reply": "2024-07-27T11:05:16.544512Z"
    },
    "papermill": {
     "duration": 0.058833,
     "end_time": "2024-07-27T11:05:16.548522",
     "exception": false,
     "start_time": "2024-07-27T11:05:16.489689",
     "status": "completed"
    },
    "tags": []
   },
   "outputs": [
    {
     "data": {
      "text/html": [
       "<div>\n",
       "<style scoped>\n",
       "    .dataframe tbody tr th:only-of-type {\n",
       "        vertical-align: middle;\n",
       "    }\n",
       "\n",
       "    .dataframe tbody tr th {\n",
       "        vertical-align: top;\n",
       "    }\n",
       "\n",
       "    .dataframe thead th {\n",
       "        text-align: right;\n",
       "    }\n",
       "</style>\n",
       "<table border=\"1\" class=\"dataframe\">\n",
       "  <thead>\n",
       "    <tr style=\"text-align: right;\">\n",
       "      <th></th>\n",
       "      <th>Id</th>\n",
       "      <th>MSSubClass</th>\n",
       "      <th>MSZoning</th>\n",
       "      <th>LotFrontage</th>\n",
       "      <th>LotArea</th>\n",
       "      <th>Street</th>\n",
       "      <th>Alley</th>\n",
       "      <th>LotShape</th>\n",
       "      <th>LandContour</th>\n",
       "      <th>Utilities</th>\n",
       "      <th>...</th>\n",
       "      <th>ScreenPorch</th>\n",
       "      <th>PoolArea</th>\n",
       "      <th>PoolQC</th>\n",
       "      <th>Fence</th>\n",
       "      <th>MiscFeature</th>\n",
       "      <th>MiscVal</th>\n",
       "      <th>MoSold</th>\n",
       "      <th>YrSold</th>\n",
       "      <th>SaleType</th>\n",
       "      <th>SaleCondition</th>\n",
       "    </tr>\n",
       "  </thead>\n",
       "  <tbody>\n",
       "    <tr>\n",
       "      <th>0</th>\n",
       "      <td>1461</td>\n",
       "      <td>20</td>\n",
       "      <td>RH</td>\n",
       "      <td>80.0</td>\n",
       "      <td>11622</td>\n",
       "      <td>Pave</td>\n",
       "      <td>NaN</td>\n",
       "      <td>Reg</td>\n",
       "      <td>Lvl</td>\n",
       "      <td>AllPub</td>\n",
       "      <td>...</td>\n",
       "      <td>120</td>\n",
       "      <td>0</td>\n",
       "      <td>NaN</td>\n",
       "      <td>MnPrv</td>\n",
       "      <td>NaN</td>\n",
       "      <td>0</td>\n",
       "      <td>6</td>\n",
       "      <td>2010</td>\n",
       "      <td>WD</td>\n",
       "      <td>Normal</td>\n",
       "    </tr>\n",
       "    <tr>\n",
       "      <th>1</th>\n",
       "      <td>1462</td>\n",
       "      <td>20</td>\n",
       "      <td>RL</td>\n",
       "      <td>81.0</td>\n",
       "      <td>14267</td>\n",
       "      <td>Pave</td>\n",
       "      <td>NaN</td>\n",
       "      <td>IR1</td>\n",
       "      <td>Lvl</td>\n",
       "      <td>AllPub</td>\n",
       "      <td>...</td>\n",
       "      <td>0</td>\n",
       "      <td>0</td>\n",
       "      <td>NaN</td>\n",
       "      <td>NaN</td>\n",
       "      <td>Gar2</td>\n",
       "      <td>12500</td>\n",
       "      <td>6</td>\n",
       "      <td>2010</td>\n",
       "      <td>WD</td>\n",
       "      <td>Normal</td>\n",
       "    </tr>\n",
       "    <tr>\n",
       "      <th>2</th>\n",
       "      <td>1463</td>\n",
       "      <td>60</td>\n",
       "      <td>RL</td>\n",
       "      <td>74.0</td>\n",
       "      <td>13830</td>\n",
       "      <td>Pave</td>\n",
       "      <td>NaN</td>\n",
       "      <td>IR1</td>\n",
       "      <td>Lvl</td>\n",
       "      <td>AllPub</td>\n",
       "      <td>...</td>\n",
       "      <td>0</td>\n",
       "      <td>0</td>\n",
       "      <td>NaN</td>\n",
       "      <td>MnPrv</td>\n",
       "      <td>NaN</td>\n",
       "      <td>0</td>\n",
       "      <td>3</td>\n",
       "      <td>2010</td>\n",
       "      <td>WD</td>\n",
       "      <td>Normal</td>\n",
       "    </tr>\n",
       "    <tr>\n",
       "      <th>3</th>\n",
       "      <td>1464</td>\n",
       "      <td>60</td>\n",
       "      <td>RL</td>\n",
       "      <td>78.0</td>\n",
       "      <td>9978</td>\n",
       "      <td>Pave</td>\n",
       "      <td>NaN</td>\n",
       "      <td>IR1</td>\n",
       "      <td>Lvl</td>\n",
       "      <td>AllPub</td>\n",
       "      <td>...</td>\n",
       "      <td>0</td>\n",
       "      <td>0</td>\n",
       "      <td>NaN</td>\n",
       "      <td>NaN</td>\n",
       "      <td>NaN</td>\n",
       "      <td>0</td>\n",
       "      <td>6</td>\n",
       "      <td>2010</td>\n",
       "      <td>WD</td>\n",
       "      <td>Normal</td>\n",
       "    </tr>\n",
       "    <tr>\n",
       "      <th>4</th>\n",
       "      <td>1465</td>\n",
       "      <td>120</td>\n",
       "      <td>RL</td>\n",
       "      <td>43.0</td>\n",
       "      <td>5005</td>\n",
       "      <td>Pave</td>\n",
       "      <td>NaN</td>\n",
       "      <td>IR1</td>\n",
       "      <td>HLS</td>\n",
       "      <td>AllPub</td>\n",
       "      <td>...</td>\n",
       "      <td>144</td>\n",
       "      <td>0</td>\n",
       "      <td>NaN</td>\n",
       "      <td>NaN</td>\n",
       "      <td>NaN</td>\n",
       "      <td>0</td>\n",
       "      <td>1</td>\n",
       "      <td>2010</td>\n",
       "      <td>WD</td>\n",
       "      <td>Normal</td>\n",
       "    </tr>\n",
       "  </tbody>\n",
       "</table>\n",
       "<p>5 rows × 80 columns</p>\n",
       "</div>"
      ],
      "text/plain": [
       "     Id  MSSubClass MSZoning  LotFrontage  LotArea Street Alley LotShape  \\\n",
       "0  1461          20       RH         80.0    11622   Pave   NaN      Reg   \n",
       "1  1462          20       RL         81.0    14267   Pave   NaN      IR1   \n",
       "2  1463          60       RL         74.0    13830   Pave   NaN      IR1   \n",
       "3  1464          60       RL         78.0     9978   Pave   NaN      IR1   \n",
       "4  1465         120       RL         43.0     5005   Pave   NaN      IR1   \n",
       "\n",
       "  LandContour Utilities  ... ScreenPorch PoolArea PoolQC  Fence MiscFeature  \\\n",
       "0         Lvl    AllPub  ...         120        0    NaN  MnPrv         NaN   \n",
       "1         Lvl    AllPub  ...           0        0    NaN    NaN        Gar2   \n",
       "2         Lvl    AllPub  ...           0        0    NaN  MnPrv         NaN   \n",
       "3         Lvl    AllPub  ...           0        0    NaN    NaN         NaN   \n",
       "4         HLS    AllPub  ...         144        0    NaN    NaN         NaN   \n",
       "\n",
       "  MiscVal MoSold  YrSold  SaleType  SaleCondition  \n",
       "0       0      6    2010        WD         Normal  \n",
       "1   12500      6    2010        WD         Normal  \n",
       "2       0      3    2010        WD         Normal  \n",
       "3       0      6    2010        WD         Normal  \n",
       "4       0      1    2010        WD         Normal  \n",
       "\n",
       "[5 rows x 80 columns]"
      ]
     },
     "execution_count": 30,
     "metadata": {},
     "output_type": "execute_result"
    }
   ],
   "source": [
    "ID = test_data['Id']\n",
    "test_data.head()\n"
   ]
  },
  {
   "cell_type": "code",
   "execution_count": 31,
   "id": "a5a24d99",
   "metadata": {
    "execution": {
     "iopub.execute_input": "2024-07-27T11:05:16.609803Z",
     "iopub.status.busy": "2024-07-27T11:05:16.609392Z",
     "iopub.status.idle": "2024-07-27T11:05:16.618162Z",
     "shell.execute_reply": "2024-07-27T11:05:16.616887Z"
    },
    "papermill": {
     "duration": 0.04246,
     "end_time": "2024-07-27T11:05:16.620864",
     "exception": false,
     "start_time": "2024-07-27T11:05:16.578404",
     "status": "completed"
    },
    "tags": []
   },
   "outputs": [],
   "source": [
    "# Choosing only attributes that we will use\n",
    "X_test_actual = test_data[['OverallQual', 'GrLivArea', 'GarageCars', 'TotalBsmtSF', 'FullBath',\n",
    "       'YearBuilt', 'YearRemodAdd', 'Fireplaces', 'LotFrontage', 'WoodDeckSF',\n",
    "       'OpenPorchSF']]"
   ]
  },
  {
   "cell_type": "code",
   "execution_count": 32,
   "id": "30430f38",
   "metadata": {
    "execution": {
     "iopub.execute_input": "2024-07-27T11:05:16.681198Z",
     "iopub.status.busy": "2024-07-27T11:05:16.680741Z",
     "iopub.status.idle": "2024-07-27T11:05:16.698756Z",
     "shell.execute_reply": "2024-07-27T11:05:16.697714Z"
    },
    "papermill": {
     "duration": 0.051086,
     "end_time": "2024-07-27T11:05:16.701238",
     "exception": false,
     "start_time": "2024-07-27T11:05:16.650152",
     "status": "completed"
    },
    "tags": []
   },
   "outputs": [
    {
     "data": {
      "text/html": [
       "<div>\n",
       "<style scoped>\n",
       "    .dataframe tbody tr th:only-of-type {\n",
       "        vertical-align: middle;\n",
       "    }\n",
       "\n",
       "    .dataframe tbody tr th {\n",
       "        vertical-align: top;\n",
       "    }\n",
       "\n",
       "    .dataframe thead th {\n",
       "        text-align: right;\n",
       "    }\n",
       "</style>\n",
       "<table border=\"1\" class=\"dataframe\">\n",
       "  <thead>\n",
       "    <tr style=\"text-align: right;\">\n",
       "      <th></th>\n",
       "      <th>OverallQual</th>\n",
       "      <th>GrLivArea</th>\n",
       "      <th>GarageCars</th>\n",
       "      <th>TotalBsmtSF</th>\n",
       "      <th>FullBath</th>\n",
       "      <th>YearBuilt</th>\n",
       "      <th>YearRemodAdd</th>\n",
       "      <th>Fireplaces</th>\n",
       "      <th>LotFrontage</th>\n",
       "      <th>WoodDeckSF</th>\n",
       "      <th>OpenPorchSF</th>\n",
       "    </tr>\n",
       "  </thead>\n",
       "  <tbody>\n",
       "    <tr>\n",
       "      <th>0</th>\n",
       "      <td>5</td>\n",
       "      <td>896</td>\n",
       "      <td>1.0</td>\n",
       "      <td>882.0</td>\n",
       "      <td>1</td>\n",
       "      <td>1961</td>\n",
       "      <td>1961</td>\n",
       "      <td>0</td>\n",
       "      <td>80.0</td>\n",
       "      <td>140</td>\n",
       "      <td>0</td>\n",
       "    </tr>\n",
       "    <tr>\n",
       "      <th>1</th>\n",
       "      <td>6</td>\n",
       "      <td>1329</td>\n",
       "      <td>1.0</td>\n",
       "      <td>1329.0</td>\n",
       "      <td>1</td>\n",
       "      <td>1958</td>\n",
       "      <td>1958</td>\n",
       "      <td>0</td>\n",
       "      <td>81.0</td>\n",
       "      <td>393</td>\n",
       "      <td>36</td>\n",
       "    </tr>\n",
       "    <tr>\n",
       "      <th>2</th>\n",
       "      <td>5</td>\n",
       "      <td>1629</td>\n",
       "      <td>2.0</td>\n",
       "      <td>928.0</td>\n",
       "      <td>2</td>\n",
       "      <td>1997</td>\n",
       "      <td>1998</td>\n",
       "      <td>1</td>\n",
       "      <td>74.0</td>\n",
       "      <td>212</td>\n",
       "      <td>34</td>\n",
       "    </tr>\n",
       "    <tr>\n",
       "      <th>3</th>\n",
       "      <td>6</td>\n",
       "      <td>1604</td>\n",
       "      <td>2.0</td>\n",
       "      <td>926.0</td>\n",
       "      <td>2</td>\n",
       "      <td>1998</td>\n",
       "      <td>1998</td>\n",
       "      <td>1</td>\n",
       "      <td>78.0</td>\n",
       "      <td>360</td>\n",
       "      <td>36</td>\n",
       "    </tr>\n",
       "    <tr>\n",
       "      <th>4</th>\n",
       "      <td>8</td>\n",
       "      <td>1280</td>\n",
       "      <td>2.0</td>\n",
       "      <td>1280.0</td>\n",
       "      <td>2</td>\n",
       "      <td>1992</td>\n",
       "      <td>1992</td>\n",
       "      <td>0</td>\n",
       "      <td>43.0</td>\n",
       "      <td>0</td>\n",
       "      <td>82</td>\n",
       "    </tr>\n",
       "  </tbody>\n",
       "</table>\n",
       "</div>"
      ],
      "text/plain": [
       "   OverallQual  GrLivArea  GarageCars  TotalBsmtSF  FullBath  YearBuilt  \\\n",
       "0            5        896         1.0        882.0         1       1961   \n",
       "1            6       1329         1.0       1329.0         1       1958   \n",
       "2            5       1629         2.0        928.0         2       1997   \n",
       "3            6       1604         2.0        926.0         2       1998   \n",
       "4            8       1280         2.0       1280.0         2       1992   \n",
       "\n",
       "   YearRemodAdd  Fireplaces  LotFrontage  WoodDeckSF  OpenPorchSF  \n",
       "0          1961           0         80.0         140            0  \n",
       "1          1958           0         81.0         393           36  \n",
       "2          1998           1         74.0         212           34  \n",
       "3          1998           1         78.0         360           36  \n",
       "4          1992           0         43.0           0           82  "
      ]
     },
     "execution_count": 32,
     "metadata": {},
     "output_type": "execute_result"
    }
   ],
   "source": [
    "X_test_actual.head()"
   ]
  },
  {
   "cell_type": "code",
   "execution_count": 33,
   "id": "344961c3",
   "metadata": {
    "execution": {
     "iopub.execute_input": "2024-07-27T11:05:16.763441Z",
     "iopub.status.busy": "2024-07-27T11:05:16.762200Z",
     "iopub.status.idle": "2024-07-27T11:05:16.774040Z",
     "shell.execute_reply": "2024-07-27T11:05:16.772880Z"
    },
    "papermill": {
     "duration": 0.045978,
     "end_time": "2024-07-27T11:05:16.776727",
     "exception": false,
     "start_time": "2024-07-27T11:05:16.730749",
     "status": "completed"
    },
    "tags": []
   },
   "outputs": [],
   "source": [
    "#scaling test data\n",
    "scaler_test = preprocessing.MinMaxScaler(feature_range=(-1,1))\n",
    "scaler_test.fit(X_test_actual)\n",
    "X_test_actual_scaled = pd.DataFrame(scaler_test.transform(X_test_actual), columns=X_test_actual.columns)"
   ]
  },
  {
   "cell_type": "code",
   "execution_count": 34,
   "id": "d1e8ccce",
   "metadata": {
    "execution": {
     "iopub.execute_input": "2024-07-27T11:05:16.838338Z",
     "iopub.status.busy": "2024-07-27T11:05:16.837927Z",
     "iopub.status.idle": "2024-07-27T11:05:16.847735Z",
     "shell.execute_reply": "2024-07-27T11:05:16.846533Z"
    },
    "papermill": {
     "duration": 0.043697,
     "end_time": "2024-07-27T11:05:16.850269",
     "exception": false,
     "start_time": "2024-07-27T11:05:16.806572",
     "status": "completed"
    },
    "tags": []
   },
   "outputs": [
    {
     "data": {
      "text/plain": [
       "OverallQual       0\n",
       "GrLivArea         0\n",
       "GarageCars        1\n",
       "TotalBsmtSF       1\n",
       "FullBath          0\n",
       "YearBuilt         0\n",
       "YearRemodAdd      0\n",
       "Fireplaces        0\n",
       "LotFrontage     227\n",
       "WoodDeckSF        0\n",
       "OpenPorchSF       0\n",
       "dtype: int64"
      ]
     },
     "execution_count": 34,
     "metadata": {},
     "output_type": "execute_result"
    }
   ],
   "source": [
    "X_test_actual_scaled.isna().sum()"
   ]
  },
  {
   "cell_type": "markdown",
   "id": "f05defbf",
   "metadata": {
    "papermill": {
     "duration": 0.030669,
     "end_time": "2024-07-27T11:05:16.912704",
     "exception": false,
     "start_time": "2024-07-27T11:05:16.882035",
     "status": "completed"
    },
    "tags": []
   },
   "source": []
  },
  {
   "cell_type": "code",
   "execution_count": 35,
   "id": "c673145b",
   "metadata": {
    "execution": {
     "iopub.execute_input": "2024-07-27T11:05:16.974979Z",
     "iopub.status.busy": "2024-07-27T11:05:16.974483Z",
     "iopub.status.idle": "2024-07-27T11:05:16.984732Z",
     "shell.execute_reply": "2024-07-27T11:05:16.983504Z"
    },
    "papermill": {
     "duration": 0.045114,
     "end_time": "2024-07-27T11:05:16.987731",
     "exception": false,
     "start_time": "2024-07-27T11:05:16.942617",
     "status": "completed"
    },
    "tags": []
   },
   "outputs": [
    {
     "name": "stderr",
     "output_type": "stream",
     "text": [
      "/tmp/ipykernel_19/3723279220.py:1: FutureWarning: A value is trying to be set on a copy of a DataFrame or Series through chained assignment using an inplace method.\n",
      "The behavior will change in pandas 3.0. This inplace method will never work because the intermediate object on which we are setting values always behaves as a copy.\n",
      "\n",
      "For example, when doing 'df[col].method(value, inplace=True)', try using 'df.method({col: value}, inplace=True)' or df[col] = df[col].method(value) instead, to perform the operation inplace on the original object.\n",
      "\n",
      "\n",
      "  X_test_actual_scaled['LotFrontage'].fillna(X_test_actual_scaled['LotFrontage'].median(), inplace=True)\n",
      "/tmp/ipykernel_19/3723279220.py:2: FutureWarning: A value is trying to be set on a copy of a DataFrame or Series through chained assignment using an inplace method.\n",
      "The behavior will change in pandas 3.0. This inplace method will never work because the intermediate object on which we are setting values always behaves as a copy.\n",
      "\n",
      "For example, when doing 'df[col].method(value, inplace=True)', try using 'df.method({col: value}, inplace=True)' or df[col] = df[col].method(value) instead, to perform the operation inplace on the original object.\n",
      "\n",
      "\n",
      "  X_test_actual_scaled['GarageCars'].fillna(X_test_actual_scaled['GarageCars'].median(), inplace=True)\n",
      "/tmp/ipykernel_19/3723279220.py:3: FutureWarning: A value is trying to be set on a copy of a DataFrame or Series through chained assignment using an inplace method.\n",
      "The behavior will change in pandas 3.0. This inplace method will never work because the intermediate object on which we are setting values always behaves as a copy.\n",
      "\n",
      "For example, when doing 'df[col].method(value, inplace=True)', try using 'df.method({col: value}, inplace=True)' or df[col] = df[col].method(value) instead, to perform the operation inplace on the original object.\n",
      "\n",
      "\n",
      "  X_test_actual_scaled['TotalBsmtSF'].fillna(X_test_actual_scaled['TotalBsmtSF'].median(), inplace=True)\n"
     ]
    }
   ],
   "source": [
    "X_test_actual_scaled['LotFrontage'].fillna(X_test_actual_scaled['LotFrontage'].median(), inplace=True)\n",
    "X_test_actual_scaled['GarageCars'].fillna(X_test_actual_scaled['GarageCars'].median(), inplace=True)\n",
    "X_test_actual_scaled['TotalBsmtSF'].fillna(X_test_actual_scaled['TotalBsmtSF'].median(), inplace=True)"
   ]
  },
  {
   "cell_type": "code",
   "execution_count": 36,
   "id": "a3a58fb1",
   "metadata": {
    "execution": {
     "iopub.execute_input": "2024-07-27T11:05:17.050759Z",
     "iopub.status.busy": "2024-07-27T11:05:17.050353Z",
     "iopub.status.idle": "2024-07-27T11:05:17.059781Z",
     "shell.execute_reply": "2024-07-27T11:05:17.058735Z"
    },
    "papermill": {
     "duration": 0.04288,
     "end_time": "2024-07-27T11:05:17.062194",
     "exception": false,
     "start_time": "2024-07-27T11:05:17.019314",
     "status": "completed"
    },
    "tags": []
   },
   "outputs": [
    {
     "data": {
      "text/plain": [
       "OverallQual     0\n",
       "GrLivArea       0\n",
       "GarageCars      0\n",
       "TotalBsmtSF     0\n",
       "FullBath        0\n",
       "YearBuilt       0\n",
       "YearRemodAdd    0\n",
       "Fireplaces      0\n",
       "LotFrontage     0\n",
       "WoodDeckSF      0\n",
       "OpenPorchSF     0\n",
       "dtype: int64"
      ]
     },
     "execution_count": 36,
     "metadata": {},
     "output_type": "execute_result"
    }
   ],
   "source": [
    "X_test_actual_scaled.isna().sum()"
   ]
  },
  {
   "cell_type": "code",
   "execution_count": 37,
   "id": "b159c64e",
   "metadata": {
    "execution": {
     "iopub.execute_input": "2024-07-27T11:05:17.125642Z",
     "iopub.status.busy": "2024-07-27T11:05:17.125247Z",
     "iopub.status.idle": "2024-07-27T11:05:17.136756Z",
     "shell.execute_reply": "2024-07-27T11:05:17.135062Z"
    },
    "papermill": {
     "duration": 0.049181,
     "end_time": "2024-07-27T11:05:17.141285",
     "exception": false,
     "start_time": "2024-07-27T11:05:17.092104",
     "status": "completed"
    },
    "tags": []
   },
   "outputs": [],
   "source": [
    "y_actual_pred = lin_model2.predict(X_test_actual_scaled)"
   ]
  },
  {
   "cell_type": "code",
   "execution_count": 38,
   "id": "76189c70",
   "metadata": {
    "execution": {
     "iopub.execute_input": "2024-07-27T11:05:17.261027Z",
     "iopub.status.busy": "2024-07-27T11:05:17.260611Z",
     "iopub.status.idle": "2024-07-27T11:05:17.274082Z",
     "shell.execute_reply": "2024-07-27T11:05:17.272793Z"
    },
    "papermill": {
     "duration": 0.071245,
     "end_time": "2024-07-27T11:05:17.276662",
     "exception": false,
     "start_time": "2024-07-27T11:05:17.205417",
     "status": "completed"
    },
    "tags": []
   },
   "outputs": [
    {
     "data": {
      "text/html": [
       "<div>\n",
       "<style scoped>\n",
       "    .dataframe tbody tr th:only-of-type {\n",
       "        vertical-align: middle;\n",
       "    }\n",
       "\n",
       "    .dataframe tbody tr th {\n",
       "        vertical-align: top;\n",
       "    }\n",
       "\n",
       "    .dataframe thead th {\n",
       "        text-align: right;\n",
       "    }\n",
       "</style>\n",
       "<table border=\"1\" class=\"dataframe\">\n",
       "  <thead>\n",
       "    <tr style=\"text-align: right;\">\n",
       "      <th></th>\n",
       "      <th>Id</th>\n",
       "      <th>SalePrice</th>\n",
       "    </tr>\n",
       "  </thead>\n",
       "  <tbody>\n",
       "    <tr>\n",
       "      <th>0</th>\n",
       "      <td>1461</td>\n",
       "      <td>86587.886467</td>\n",
       "    </tr>\n",
       "    <tr>\n",
       "      <th>1</th>\n",
       "      <td>1462</td>\n",
       "      <td>114217.677075</td>\n",
       "    </tr>\n",
       "    <tr>\n",
       "      <th>2</th>\n",
       "      <td>1463</td>\n",
       "      <td>128731.172399</td>\n",
       "    </tr>\n",
       "    <tr>\n",
       "      <th>3</th>\n",
       "      <td>1464</td>\n",
       "      <td>142395.765218</td>\n",
       "    </tr>\n",
       "    <tr>\n",
       "      <th>4</th>\n",
       "      <td>1465</td>\n",
       "      <td>152078.488825</td>\n",
       "    </tr>\n",
       "    <tr>\n",
       "      <th>...</th>\n",
       "      <td>...</td>\n",
       "      <td>...</td>\n",
       "    </tr>\n",
       "    <tr>\n",
       "      <th>1454</th>\n",
       "      <td>2915</td>\n",
       "      <td>70768.335274</td>\n",
       "    </tr>\n",
       "    <tr>\n",
       "      <th>1455</th>\n",
       "      <td>2916</td>\n",
       "      <td>75836.133107</td>\n",
       "    </tr>\n",
       "    <tr>\n",
       "      <th>1456</th>\n",
       "      <td>2917</td>\n",
       "      <td>124553.021398</td>\n",
       "    </tr>\n",
       "    <tr>\n",
       "      <th>1457</th>\n",
       "      <td>2918</td>\n",
       "      <td>101830.145590</td>\n",
       "    </tr>\n",
       "    <tr>\n",
       "      <th>1458</th>\n",
       "      <td>2919</td>\n",
       "      <td>165157.115213</td>\n",
       "    </tr>\n",
       "  </tbody>\n",
       "</table>\n",
       "<p>1459 rows × 2 columns</p>\n",
       "</div>"
      ],
      "text/plain": [
       "        Id      SalePrice\n",
       "0     1461   86587.886467\n",
       "1     1462  114217.677075\n",
       "2     1463  128731.172399\n",
       "3     1464  142395.765218\n",
       "4     1465  152078.488825\n",
       "...    ...            ...\n",
       "1454  2915   70768.335274\n",
       "1455  2916   75836.133107\n",
       "1456  2917  124553.021398\n",
       "1457  2918  101830.145590\n",
       "1458  2919  165157.115213\n",
       "\n",
       "[1459 rows x 2 columns]"
      ]
     },
     "execution_count": 38,
     "metadata": {},
     "output_type": "execute_result"
    }
   ],
   "source": [
    "result = pd.DataFrame({'Id':ID, 'SalePrice':y_actual_pred})\n",
    "result"
   ]
  },
  {
   "cell_type": "code",
   "execution_count": 39,
   "id": "4aa03cdf",
   "metadata": {
    "execution": {
     "iopub.execute_input": "2024-07-27T11:05:17.339220Z",
     "iopub.status.busy": "2024-07-27T11:05:17.338795Z",
     "iopub.status.idle": "2024-07-27T11:05:17.352595Z",
     "shell.execute_reply": "2024-07-27T11:05:17.351525Z"
    },
    "papermill": {
     "duration": 0.048123,
     "end_time": "2024-07-27T11:05:17.355360",
     "exception": false,
     "start_time": "2024-07-27T11:05:17.307237",
     "status": "completed"
    },
    "tags": []
   },
   "outputs": [],
   "source": [
    "result.to_csv('/kaggle/working/result.csv', index=False)"
   ]
  },
  {
   "cell_type": "code",
   "execution_count": null,
   "id": "4c66d01d",
   "metadata": {
    "papermill": {
     "duration": 0.029759,
     "end_time": "2024-07-27T11:05:17.415505",
     "exception": false,
     "start_time": "2024-07-27T11:05:17.385746",
     "status": "completed"
    },
    "tags": []
   },
   "outputs": [],
   "source": []
  }
 ],
 "metadata": {
  "kaggle": {
   "accelerator": "none",
   "dataSources": [
    {
     "databundleVersionId": 868283,
     "sourceId": 5407,
     "sourceType": "competition"
    }
   ],
   "dockerImageVersionId": 30746,
   "isGpuEnabled": false,
   "isInternetEnabled": false,
   "language": "python",
   "sourceType": "notebook"
  },
  "kernelspec": {
   "display_name": "Python 3",
   "language": "python",
   "name": "python3"
  },
  "language_info": {
   "codemirror_mode": {
    "name": "ipython",
    "version": 3
   },
   "file_extension": ".py",
   "mimetype": "text/x-python",
   "name": "python",
   "nbconvert_exporter": "python",
   "pygments_lexer": "ipython3",
   "version": "3.10.13"
  },
  "papermill": {
   "default_parameters": {},
   "duration": 17.487953,
   "end_time": "2024-07-27T11:05:18.168275",
   "environment_variables": {},
   "exception": null,
   "input_path": "__notebook__.ipynb",
   "output_path": "__notebook__.ipynb",
   "parameters": {},
   "start_time": "2024-07-27T11:05:00.680322",
   "version": "2.5.0"
  }
 },
 "nbformat": 4,
 "nbformat_minor": 5
}
